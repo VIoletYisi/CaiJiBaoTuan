{
 "cells": [
  {
   "cell_type": "markdown",
   "metadata": {},
   "source": [
    "# <center>Computational Physics</center>\n",
    "\n",
    "# <center>Midterm Exam 2019-2020-2</center>\n",
    "\n",
    "## Instructions:\n",
    "- Please downloand the `CP_midexam_2019-2020-2.pdf` and `CP_name_ID_midexam.ipynb`. \n",
    "- You shall include the **code** of the selected problems in the file and submit it before the due time.\n",
    "- You are required to write your name and student ID in the **filename**.\n",
    "- Please read the problems carefully and follow the instructions before you start to solve them. \n",
    "- Please write your solutions on the exam paper and submit the copy of it before the due time. You are required to **write your name and student ID on each piece of exam paper**.\n",
    "- You are required to turn on your video throughout the exam."
   ]
  },
  {
   "cell_type": "markdown",
   "metadata": {},
   "source": [
    "### Problem 1   (20 points) \n",
    "\n",
    "The value of $\\pi$ can be calculated with the series: \n",
    "$$\n",
    "    \\pi = 4 \\sum\\limits_{n=1}^{\\infty}\\left(-1\\right)^{n-1}\\frac{1}{2n - 1}=4\\left(\n",
    "    1-\\frac{1}{ 3}+\\frac{1}{ 5}-\\frac{1}{ 7}+\\frac{1}{9}-\\frac{1}{11}+\\cdots\\right)\n",
    "$$\n",
    "    (1) Describe your algorithm that calculates the value of  $\\pi$ . Discuss the possible  sources of errors. How can you minimize the errors when you design your algorithm?      \n",
    "    (2) Write a program to implement your algorithm and calculate the value of $\\pi$ with five decimal points.      \n",
    "    (3) Use the program to calculate $\\pi$ and the true relative error for: $n = 10, 20, 40,100, 200$.     \n",
    "    (4) Make a $\\log-\\log$ plot of the results from part (3).     \n",
    "    **You need to submit your code for part (2) - (4)!**"
   ]
  },
  {
   "cell_type": "code",
   "execution_count": 1,
   "metadata": {},
   "outputs": [],
   "source": [
    "import numpy as np\n",
    "import math\n",
    "from matplotlib import pyplot as plt\n",
    "from scipy.linalg import solve"
   ]
  },
  {
   "cell_type": "code",
   "execution_count": 2,
   "metadata": {},
   "outputs": [
    {
     "output_type": "stream",
     "name": "stdout",
     "text": "pi = 3.1416\n"
    }
   ],
   "source": [
    "# Question (2)\n",
    "eps = 10 ** (-10)\n",
    "pi = np.array((1.1,0))\n",
    "i = 1\n",
    "while abs(pi[0] - pi[1]) > eps:\n",
    "    pi[0] = pi[1]\n",
    "    pi [1] += 8 / (4 * i ** (2) - 1)\n",
    "    i += 2\n",
    "print(f'pi = {pi[1]:0.4f}')"
   ]
  },
  {
   "cell_type": "code",
   "execution_count": 3,
   "metadata": {},
   "outputs": [
    {
     "output_type": "stream",
     "name": "stdout",
     "text": "When n = 10 true_relative_error is 3.1752%\nWhen n = 20 true_relative_error is 1.5906%\nWhen n = 40 true_relative_error is 0.7957%\nWhen n = 100 true_relative_error is 0.3183%\nWhen n = 200 true_relative_error is 0.1592%\n"
    }
   ],
   "source": [
    "# Question (3)\n",
    "def true_relative_error(n):\n",
    "    eps = 10 ** (-10)\n",
    "    pi = np.array((1.1,0))\n",
    "    true_pi = np.pi\n",
    "    i = 1\n",
    "    while i <= n  :\n",
    "        pi[0] = pi[1]\n",
    "        pi [1] += 8 / (4 * i ** (2) - 1)\n",
    "        i += 2\n",
    "    tre = abs(pi[1] - true_pi) / true_pi  * 100\n",
    "    return tre\n",
    "print(f'When n = 10 true_relative_error is {true_relative_error(10):.4f}%')\n",
    "print(f'When n = 20 true_relative_error is {true_relative_error(20):.4f}%')\n",
    "print(f'When n = 40 true_relative_error is {true_relative_error(40):.4f}%')\n",
    "print(f'When n = 100 true_relative_error is {true_relative_error(100):.4f}%')\n",
    "print(f'When n = 200 true_relative_error is {true_relative_error(200):.4f}%')"
   ]
  },
  {
   "cell_type": "code",
   "execution_count": 4,
   "metadata": {},
   "outputs": [
    {
     "output_type": "display_data",
     "data": {
      "text/plain": "<Figure size 432x288 with 1 Axes>",
      "image/svg+xml": "<?xml version=\"1.0\" encoding=\"utf-8\" standalone=\"no\"?>\r\n<!DOCTYPE svg PUBLIC \"-//W3C//DTD SVG 1.1//EN\"\r\n  \"http://www.w3.org/Graphics/SVG/1.1/DTD/svg11.dtd\">\r\n<!-- Created with matplotlib (https://matplotlib.org/) -->\r\n<svg height=\"262.19625pt\" version=\"1.1\" viewBox=\"0 0 387.478125 262.19625\" width=\"387.478125pt\" xmlns=\"http://www.w3.org/2000/svg\" xmlns:xlink=\"http://www.w3.org/1999/xlink\">\r\n <defs>\r\n  <style type=\"text/css\">\r\n*{stroke-linecap:butt;stroke-linejoin:round;}\r\n  </style>\r\n </defs>\r\n <g id=\"figure_1\">\r\n  <g id=\"patch_1\">\r\n   <path d=\"M 0 262.19625 \r\nL 387.478125 262.19625 \r\nL 387.478125 0 \r\nL 0 0 \r\nz\r\n\" style=\"fill:none;\"/>\r\n  </g>\r\n  <g id=\"axes_1\">\r\n   <g id=\"patch_2\">\r\n    <path d=\"M 45.478125 224.64 \r\nL 380.278125 224.64 \r\nL 380.278125 7.2 \r\nL 45.478125 7.2 \r\nz\r\n\" style=\"fill:#ffffff;\"/>\r\n   </g>\r\n   <g id=\"matplotlib.axis_1\">\r\n    <g id=\"xtick_1\">\r\n     <g id=\"line2d_1\">\r\n      <defs>\r\n       <path d=\"M 0 0 \r\nL 0 3.5 \r\n\" id=\"mc22e124c25\" style=\"stroke:#000000;stroke-width:0.8;\"/>\r\n      </defs>\r\n      <g>\r\n       <use style=\"stroke:#000000;stroke-width:0.8;\" x=\"60.696307\" xlink:href=\"#mc22e124c25\" y=\"224.64\"/>\r\n      </g>\r\n     </g>\r\n     <g id=\"text_1\">\r\n      <!-- $\\mathdefault{10^{1}}$ -->\r\n      <defs>\r\n       <path d=\"M 12.40625 8.296875 \r\nL 28.515625 8.296875 \r\nL 28.515625 63.921875 \r\nL 10.984375 60.40625 \r\nL 10.984375 69.390625 \r\nL 28.421875 72.90625 \r\nL 38.28125 72.90625 \r\nL 38.28125 8.296875 \r\nL 54.390625 8.296875 \r\nL 54.390625 0 \r\nL 12.40625 0 \r\nz\r\n\" id=\"DejaVuSans-49\"/>\r\n       <path d=\"M 31.78125 66.40625 \r\nQ 24.171875 66.40625 20.328125 58.90625 \r\nQ 16.5 51.421875 16.5 36.375 \r\nQ 16.5 21.390625 20.328125 13.890625 \r\nQ 24.171875 6.390625 31.78125 6.390625 \r\nQ 39.453125 6.390625 43.28125 13.890625 \r\nQ 47.125 21.390625 47.125 36.375 \r\nQ 47.125 51.421875 43.28125 58.90625 \r\nQ 39.453125 66.40625 31.78125 66.40625 \r\nz\r\nM 31.78125 74.21875 \r\nQ 44.046875 74.21875 50.515625 64.515625 \r\nQ 56.984375 54.828125 56.984375 36.375 \r\nQ 56.984375 17.96875 50.515625 8.265625 \r\nQ 44.046875 -1.421875 31.78125 -1.421875 \r\nQ 19.53125 -1.421875 13.0625 8.265625 \r\nQ 6.59375 17.96875 6.59375 36.375 \r\nQ 6.59375 54.828125 13.0625 64.515625 \r\nQ 19.53125 74.21875 31.78125 74.21875 \r\nz\r\n\" id=\"DejaVuSans-48\"/>\r\n      </defs>\r\n      <g transform=\"translate(51.896307 239.238437)scale(0.1 -0.1)\">\r\n       <use transform=\"translate(0 0.684375)\" xlink:href=\"#DejaVuSans-49\"/>\r\n       <use transform=\"translate(63.623047 0.684375)\" xlink:href=\"#DejaVuSans-48\"/>\r\n       <use transform=\"translate(128.203125 38.965625)scale(0.7)\" xlink:href=\"#DejaVuSans-49\"/>\r\n      </g>\r\n     </g>\r\n    </g>\r\n    <g id=\"xtick_2\">\r\n     <g id=\"line2d_2\">\r\n      <g>\r\n       <use style=\"stroke:#000000;stroke-width:0.8;\" x=\"294.636829\" xlink:href=\"#mc22e124c25\" y=\"224.64\"/>\r\n      </g>\r\n     </g>\r\n     <g id=\"text_2\">\r\n      <!-- $\\mathdefault{10^{2}}$ -->\r\n      <defs>\r\n       <path d=\"M 19.1875 8.296875 \r\nL 53.609375 8.296875 \r\nL 53.609375 0 \r\nL 7.328125 0 \r\nL 7.328125 8.296875 \r\nQ 12.9375 14.109375 22.625 23.890625 \r\nQ 32.328125 33.6875 34.8125 36.53125 \r\nQ 39.546875 41.84375 41.421875 45.53125 \r\nQ 43.3125 49.21875 43.3125 52.78125 \r\nQ 43.3125 58.59375 39.234375 62.25 \r\nQ 35.15625 65.921875 28.609375 65.921875 \r\nQ 23.96875 65.921875 18.8125 64.3125 \r\nQ 13.671875 62.703125 7.8125 59.421875 \r\nL 7.8125 69.390625 \r\nQ 13.765625 71.78125 18.9375 73 \r\nQ 24.125 74.21875 28.421875 74.21875 \r\nQ 39.75 74.21875 46.484375 68.546875 \r\nQ 53.21875 62.890625 53.21875 53.421875 \r\nQ 53.21875 48.921875 51.53125 44.890625 \r\nQ 49.859375 40.875 45.40625 35.40625 \r\nQ 44.1875 33.984375 37.640625 27.21875 \r\nQ 31.109375 20.453125 19.1875 8.296875 \r\nz\r\n\" id=\"DejaVuSans-50\"/>\r\n      </defs>\r\n      <g transform=\"translate(285.836829 239.238437)scale(0.1 -0.1)\">\r\n       <use transform=\"translate(0 0.765625)\" xlink:href=\"#DejaVuSans-49\"/>\r\n       <use transform=\"translate(63.623047 0.765625)\" xlink:href=\"#DejaVuSans-48\"/>\r\n       <use transform=\"translate(128.203125 39.046875)scale(0.7)\" xlink:href=\"#DejaVuSans-50\"/>\r\n      </g>\r\n     </g>\r\n    </g>\r\n    <g id=\"xtick_3\">\r\n     <g id=\"line2d_3\">\r\n      <defs>\r\n       <path d=\"M 0 0 \r\nL 0 2 \r\n\" id=\"m4a8d9d3457\" style=\"stroke:#000000;stroke-width:0.6;\"/>\r\n      </defs>\r\n      <g>\r\n       <use style=\"stroke:#000000;stroke-width:0.6;\" x=\"49.991776\" xlink:href=\"#m4a8d9d3457\" y=\"224.64\"/>\r\n      </g>\r\n     </g>\r\n    </g>\r\n    <g id=\"xtick_4\">\r\n     <g id=\"line2d_4\">\r\n      <g>\r\n       <use style=\"stroke:#000000;stroke-width:0.6;\" x=\"131.119421\" xlink:href=\"#m4a8d9d3457\" y=\"224.64\"/>\r\n      </g>\r\n     </g>\r\n    </g>\r\n    <g id=\"xtick_5\">\r\n     <g id=\"line2d_5\">\r\n      <g>\r\n       <use style=\"stroke:#000000;stroke-width:0.6;\" x=\"172.314302\" xlink:href=\"#m4a8d9d3457\" y=\"224.64\"/>\r\n      </g>\r\n     </g>\r\n    </g>\r\n    <g id=\"xtick_6\">\r\n     <g id=\"line2d_6\">\r\n      <g>\r\n       <use style=\"stroke:#000000;stroke-width:0.6;\" x=\"201.542535\" xlink:href=\"#m4a8d9d3457\" y=\"224.64\"/>\r\n      </g>\r\n     </g>\r\n    </g>\r\n    <g id=\"xtick_7\">\r\n     <g id=\"line2d_7\">\r\n      <g>\r\n       <use style=\"stroke:#000000;stroke-width:0.6;\" x=\"224.213715\" xlink:href=\"#m4a8d9d3457\" y=\"224.64\"/>\r\n      </g>\r\n     </g>\r\n    </g>\r\n    <g id=\"xtick_8\">\r\n     <g id=\"line2d_8\">\r\n      <g>\r\n       <use style=\"stroke:#000000;stroke-width:0.6;\" x=\"242.737417\" xlink:href=\"#m4a8d9d3457\" y=\"224.64\"/>\r\n      </g>\r\n     </g>\r\n    </g>\r\n    <g id=\"xtick_9\">\r\n     <g id=\"line2d_9\">\r\n      <g>\r\n       <use style=\"stroke:#000000;stroke-width:0.6;\" x=\"258.398983\" xlink:href=\"#m4a8d9d3457\" y=\"224.64\"/>\r\n      </g>\r\n     </g>\r\n    </g>\r\n    <g id=\"xtick_10\">\r\n     <g id=\"line2d_10\">\r\n      <g>\r\n       <use style=\"stroke:#000000;stroke-width:0.6;\" x=\"271.96565\" xlink:href=\"#m4a8d9d3457\" y=\"224.64\"/>\r\n      </g>\r\n     </g>\r\n    </g>\r\n    <g id=\"xtick_11\">\r\n     <g id=\"line2d_11\">\r\n      <g>\r\n       <use style=\"stroke:#000000;stroke-width:0.6;\" x=\"283.932298\" xlink:href=\"#m4a8d9d3457\" y=\"224.64\"/>\r\n      </g>\r\n     </g>\r\n    </g>\r\n    <g id=\"xtick_12\">\r\n     <g id=\"line2d_12\">\r\n      <g>\r\n       <use style=\"stroke:#000000;stroke-width:0.6;\" x=\"365.059943\" xlink:href=\"#m4a8d9d3457\" y=\"224.64\"/>\r\n      </g>\r\n     </g>\r\n    </g>\r\n    <g id=\"text_3\">\r\n     <!-- log(n) -->\r\n     <defs>\r\n      <path d=\"M 9.421875 75.984375 \r\nL 18.40625 75.984375 \r\nL 18.40625 0 \r\nL 9.421875 0 \r\nz\r\n\" id=\"DejaVuSans-108\"/>\r\n      <path d=\"M 30.609375 48.390625 \r\nQ 23.390625 48.390625 19.1875 42.75 \r\nQ 14.984375 37.109375 14.984375 27.296875 \r\nQ 14.984375 17.484375 19.15625 11.84375 \r\nQ 23.34375 6.203125 30.609375 6.203125 \r\nQ 37.796875 6.203125 41.984375 11.859375 \r\nQ 46.1875 17.53125 46.1875 27.296875 \r\nQ 46.1875 37.015625 41.984375 42.703125 \r\nQ 37.796875 48.390625 30.609375 48.390625 \r\nz\r\nM 30.609375 56 \r\nQ 42.328125 56 49.015625 48.375 \r\nQ 55.71875 40.765625 55.71875 27.296875 \r\nQ 55.71875 13.875 49.015625 6.21875 \r\nQ 42.328125 -1.421875 30.609375 -1.421875 \r\nQ 18.84375 -1.421875 12.171875 6.21875 \r\nQ 5.515625 13.875 5.515625 27.296875 \r\nQ 5.515625 40.765625 12.171875 48.375 \r\nQ 18.84375 56 30.609375 56 \r\nz\r\n\" id=\"DejaVuSans-111\"/>\r\n      <path d=\"M 45.40625 27.984375 \r\nQ 45.40625 37.75 41.375 43.109375 \r\nQ 37.359375 48.484375 30.078125 48.484375 \r\nQ 22.859375 48.484375 18.828125 43.109375 \r\nQ 14.796875 37.75 14.796875 27.984375 \r\nQ 14.796875 18.265625 18.828125 12.890625 \r\nQ 22.859375 7.515625 30.078125 7.515625 \r\nQ 37.359375 7.515625 41.375 12.890625 \r\nQ 45.40625 18.265625 45.40625 27.984375 \r\nz\r\nM 54.390625 6.78125 \r\nQ 54.390625 -7.171875 48.1875 -13.984375 \r\nQ 42 -20.796875 29.203125 -20.796875 \r\nQ 24.46875 -20.796875 20.265625 -20.09375 \r\nQ 16.0625 -19.390625 12.109375 -17.921875 \r\nL 12.109375 -9.1875 \r\nQ 16.0625 -11.328125 19.921875 -12.34375 \r\nQ 23.78125 -13.375 27.78125 -13.375 \r\nQ 36.625 -13.375 41.015625 -8.765625 \r\nQ 45.40625 -4.15625 45.40625 5.171875 \r\nL 45.40625 9.625 \r\nQ 42.625 4.78125 38.28125 2.390625 \r\nQ 33.9375 0 27.875 0 \r\nQ 17.828125 0 11.671875 7.65625 \r\nQ 5.515625 15.328125 5.515625 27.984375 \r\nQ 5.515625 40.671875 11.671875 48.328125 \r\nQ 17.828125 56 27.875 56 \r\nQ 33.9375 56 38.28125 53.609375 \r\nQ 42.625 51.21875 45.40625 46.390625 \r\nL 45.40625 54.6875 \r\nL 54.390625 54.6875 \r\nz\r\n\" id=\"DejaVuSans-103\"/>\r\n      <path d=\"M 31 75.875 \r\nQ 24.46875 64.65625 21.28125 53.65625 \r\nQ 18.109375 42.671875 18.109375 31.390625 \r\nQ 18.109375 20.125 21.3125 9.0625 \r\nQ 24.515625 -2 31 -13.1875 \r\nL 23.1875 -13.1875 \r\nQ 15.875 -1.703125 12.234375 9.375 \r\nQ 8.59375 20.453125 8.59375 31.390625 \r\nQ 8.59375 42.28125 12.203125 53.3125 \r\nQ 15.828125 64.359375 23.1875 75.875 \r\nz\r\n\" id=\"DejaVuSans-40\"/>\r\n      <path d=\"M 54.890625 33.015625 \r\nL 54.890625 0 \r\nL 45.90625 0 \r\nL 45.90625 32.71875 \r\nQ 45.90625 40.484375 42.875 44.328125 \r\nQ 39.84375 48.1875 33.796875 48.1875 \r\nQ 26.515625 48.1875 22.3125 43.546875 \r\nQ 18.109375 38.921875 18.109375 30.90625 \r\nL 18.109375 0 \r\nL 9.078125 0 \r\nL 9.078125 54.6875 \r\nL 18.109375 54.6875 \r\nL 18.109375 46.1875 \r\nQ 21.34375 51.125 25.703125 53.5625 \r\nQ 30.078125 56 35.796875 56 \r\nQ 45.21875 56 50.046875 50.171875 \r\nQ 54.890625 44.34375 54.890625 33.015625 \r\nz\r\n\" id=\"DejaVuSans-110\"/>\r\n      <path d=\"M 8.015625 75.875 \r\nL 15.828125 75.875 \r\nQ 23.140625 64.359375 26.78125 53.3125 \r\nQ 30.421875 42.28125 30.421875 31.390625 \r\nQ 30.421875 20.453125 26.78125 9.375 \r\nQ 23.140625 -1.703125 15.828125 -13.1875 \r\nL 8.015625 -13.1875 \r\nQ 14.5 -2 17.703125 9.0625 \r\nQ 20.90625 20.125 20.90625 31.390625 \r\nQ 20.90625 42.671875 17.703125 53.65625 \r\nQ 14.5 64.65625 8.015625 75.875 \r\nz\r\n\" id=\"DejaVuSans-41\"/>\r\n     </defs>\r\n     <g transform=\"translate(198.185156 252.916562)scale(0.1 -0.1)\">\r\n      <use xlink:href=\"#DejaVuSans-108\"/>\r\n      <use x=\"27.783203\" xlink:href=\"#DejaVuSans-111\"/>\r\n      <use x=\"88.964844\" xlink:href=\"#DejaVuSans-103\"/>\r\n      <use x=\"152.441406\" xlink:href=\"#DejaVuSans-40\"/>\r\n      <use x=\"191.455078\" xlink:href=\"#DejaVuSans-110\"/>\r\n      <use x=\"254.833984\" xlink:href=\"#DejaVuSans-41\"/>\r\n     </g>\r\n    </g>\r\n   </g>\r\n   <g id=\"matplotlib.axis_2\">\r\n    <g id=\"ytick_1\">\r\n     <g id=\"line2d_13\">\r\n      <defs>\r\n       <path d=\"M 0 0 \r\nL -3.5 0 \r\n\" id=\"m6fe3e5b9ca\" style=\"stroke:#000000;stroke-width:0.8;\"/>\r\n      </defs>\r\n      <g>\r\n       <use style=\"stroke:#000000;stroke-width:0.8;\" x=\"45.478125\" xlink:href=\"#m6fe3e5b9ca\" y=\"93.384113\"/>\r\n      </g>\r\n     </g>\r\n     <g id=\"text_4\">\r\n      <!-- $\\mathdefault{10^{0}}$ -->\r\n      <g transform=\"translate(20.878125 97.183332)scale(0.1 -0.1)\">\r\n       <use transform=\"translate(0 0.765625)\" xlink:href=\"#DejaVuSans-49\"/>\r\n       <use transform=\"translate(63.623047 0.765625)\" xlink:href=\"#DejaVuSans-48\"/>\r\n       <use transform=\"translate(128.203125 39.046875)scale(0.7)\" xlink:href=\"#DejaVuSans-48\"/>\r\n      </g>\r\n     </g>\r\n    </g>\r\n    <g id=\"ytick_2\">\r\n     <g id=\"line2d_14\">\r\n      <defs>\r\n       <path d=\"M 0 0 \r\nL -2 0 \r\n\" id=\"m58aad8d258\" style=\"stroke:#000000;stroke-width:0.6;\"/>\r\n      </defs>\r\n      <g>\r\n       <use style=\"stroke:#000000;stroke-width:0.6;\" x=\"45.478125\" xlink:href=\"#m58aad8d258\" y=\"199.670024\"/>\r\n      </g>\r\n     </g>\r\n    </g>\r\n    <g id=\"ytick_3\">\r\n     <g id=\"line2d_15\">\r\n      <g>\r\n       <use style=\"stroke:#000000;stroke-width:0.6;\" x=\"45.478125\" xlink:href=\"#m58aad8d258\" y=\"172.893453\"/>\r\n      </g>\r\n     </g>\r\n    </g>\r\n    <g id=\"ytick_4\">\r\n     <g id=\"line2d_16\">\r\n      <g>\r\n       <use style=\"stroke:#000000;stroke-width:0.6;\" x=\"45.478125\" xlink:href=\"#m58aad8d258\" y=\"153.895174\"/>\r\n      </g>\r\n     </g>\r\n    </g>\r\n    <g id=\"ytick_5\">\r\n     <g id=\"line2d_17\">\r\n      <g>\r\n       <use style=\"stroke:#000000;stroke-width:0.6;\" x=\"45.478125\" xlink:href=\"#m58aad8d258\" y=\"139.158963\"/>\r\n      </g>\r\n     </g>\r\n    </g>\r\n    <g id=\"ytick_6\">\r\n     <g id=\"line2d_18\">\r\n      <g>\r\n       <use style=\"stroke:#000000;stroke-width:0.6;\" x=\"45.478125\" xlink:href=\"#m58aad8d258\" y=\"127.118603\"/>\r\n      </g>\r\n     </g>\r\n    </g>\r\n    <g id=\"ytick_7\">\r\n     <g id=\"line2d_19\">\r\n      <g>\r\n       <use style=\"stroke:#000000;stroke-width:0.6;\" x=\"45.478125\" xlink:href=\"#m58aad8d258\" y=\"116.938623\"/>\r\n      </g>\r\n     </g>\r\n    </g>\r\n    <g id=\"ytick_8\">\r\n     <g id=\"line2d_20\">\r\n      <g>\r\n       <use style=\"stroke:#000000;stroke-width:0.6;\" x=\"45.478125\" xlink:href=\"#m58aad8d258\" y=\"108.120324\"/>\r\n      </g>\r\n     </g>\r\n    </g>\r\n    <g id=\"ytick_9\">\r\n     <g id=\"line2d_21\">\r\n      <g>\r\n       <use style=\"stroke:#000000;stroke-width:0.6;\" x=\"45.478125\" xlink:href=\"#m58aad8d258\" y=\"100.342032\"/>\r\n      </g>\r\n     </g>\r\n    </g>\r\n    <g id=\"ytick_10\">\r\n     <g id=\"line2d_22\">\r\n      <g>\r\n       <use style=\"stroke:#000000;stroke-width:0.6;\" x=\"45.478125\" xlink:href=\"#m58aad8d258\" y=\"47.609263\"/>\r\n      </g>\r\n     </g>\r\n    </g>\r\n    <g id=\"ytick_11\">\r\n     <g id=\"line2d_23\">\r\n      <g>\r\n       <use style=\"stroke:#000000;stroke-width:0.6;\" x=\"45.478125\" xlink:href=\"#m58aad8d258\" y=\"20.832693\"/>\r\n      </g>\r\n     </g>\r\n    </g>\r\n    <g id=\"text_5\">\r\n     <!-- log(error) -->\r\n     <defs>\r\n      <path d=\"M 56.203125 29.59375 \r\nL 56.203125 25.203125 \r\nL 14.890625 25.203125 \r\nQ 15.484375 15.921875 20.484375 11.0625 \r\nQ 25.484375 6.203125 34.421875 6.203125 \r\nQ 39.59375 6.203125 44.453125 7.46875 \r\nQ 49.3125 8.734375 54.109375 11.28125 \r\nL 54.109375 2.78125 \r\nQ 49.265625 0.734375 44.1875 -0.34375 \r\nQ 39.109375 -1.421875 33.890625 -1.421875 \r\nQ 20.796875 -1.421875 13.15625 6.1875 \r\nQ 5.515625 13.8125 5.515625 26.8125 \r\nQ 5.515625 40.234375 12.765625 48.109375 \r\nQ 20.015625 56 32.328125 56 \r\nQ 43.359375 56 49.78125 48.890625 \r\nQ 56.203125 41.796875 56.203125 29.59375 \r\nz\r\nM 47.21875 32.234375 \r\nQ 47.125 39.59375 43.09375 43.984375 \r\nQ 39.0625 48.390625 32.421875 48.390625 \r\nQ 24.90625 48.390625 20.390625 44.140625 \r\nQ 15.875 39.890625 15.1875 32.171875 \r\nz\r\n\" id=\"DejaVuSans-101\"/>\r\n      <path d=\"M 41.109375 46.296875 \r\nQ 39.59375 47.171875 37.8125 47.578125 \r\nQ 36.03125 48 33.890625 48 \r\nQ 26.265625 48 22.1875 43.046875 \r\nQ 18.109375 38.09375 18.109375 28.8125 \r\nL 18.109375 0 \r\nL 9.078125 0 \r\nL 9.078125 54.6875 \r\nL 18.109375 54.6875 \r\nL 18.109375 46.1875 \r\nQ 20.953125 51.171875 25.484375 53.578125 \r\nQ 30.03125 56 36.53125 56 \r\nQ 37.453125 56 38.578125 55.875 \r\nQ 39.703125 55.765625 41.0625 55.515625 \r\nz\r\n\" id=\"DejaVuSans-114\"/>\r\n     </defs>\r\n     <g transform=\"translate(14.798438 139.744219)rotate(-90)scale(0.1 -0.1)\">\r\n      <use xlink:href=\"#DejaVuSans-108\"/>\r\n      <use x=\"27.783203\" xlink:href=\"#DejaVuSans-111\"/>\r\n      <use x=\"88.964844\" xlink:href=\"#DejaVuSans-103\"/>\r\n      <use x=\"152.441406\" xlink:href=\"#DejaVuSans-40\"/>\r\n      <use x=\"191.455078\" xlink:href=\"#DejaVuSans-101\"/>\r\n      <use x=\"252.978516\" xlink:href=\"#DejaVuSans-114\"/>\r\n      <use x=\"294.076172\" xlink:href=\"#DejaVuSans-114\"/>\r\n      <use x=\"335.158203\" xlink:href=\"#DejaVuSans-111\"/>\r\n      <use x=\"396.339844\" xlink:href=\"#DejaVuSans-114\"/>\r\n      <use x=\"437.453125\" xlink:href=\"#DejaVuSans-41\"/>\r\n     </g>\r\n    </g>\r\n   </g>\r\n   <g id=\"line2d_24\">\r\n    <path clip-path=\"url(#p61c90e0c11)\" d=\"M 60.696307 17.083636 \r\nL 131.119421 62.73635 \r\nL 201.542535 108.480352 \r\nL 294.636829 168.982752 \r\nL 365.059943 214.756364 \r\n\" style=\"fill:none;stroke:#1f77b4;stroke-linecap:square;stroke-width:1.5;\"/>\r\n    <defs>\r\n     <path d=\"M 0 3 \r\nC 0.795609 3 1.55874 2.683901 2.12132 2.12132 \r\nC 2.683901 1.55874 3 0.795609 3 0 \r\nC 3 -0.795609 2.683901 -1.55874 2.12132 -2.12132 \r\nC 1.55874 -2.683901 0.795609 -3 0 -3 \r\nC -0.795609 -3 -1.55874 -2.683901 -2.12132 -2.12132 \r\nC -2.683901 -1.55874 -3 -0.795609 -3 0 \r\nC -3 0.795609 -2.683901 1.55874 -2.12132 2.12132 \r\nC -1.55874 2.683901 -0.795609 3 0 3 \r\nz\r\n\" id=\"me24cedcded\" style=\"stroke:#1f77b4;\"/>\r\n    </defs>\r\n    <g clip-path=\"url(#p61c90e0c11)\">\r\n     <use style=\"fill:#1f77b4;stroke:#1f77b4;\" x=\"60.696307\" xlink:href=\"#me24cedcded\" y=\"17.083636\"/>\r\n     <use style=\"fill:#1f77b4;stroke:#1f77b4;\" x=\"131.119421\" xlink:href=\"#me24cedcded\" y=\"62.73635\"/>\r\n     <use style=\"fill:#1f77b4;stroke:#1f77b4;\" x=\"201.542535\" xlink:href=\"#me24cedcded\" y=\"108.480352\"/>\r\n     <use style=\"fill:#1f77b4;stroke:#1f77b4;\" x=\"294.636829\" xlink:href=\"#me24cedcded\" y=\"168.982752\"/>\r\n     <use style=\"fill:#1f77b4;stroke:#1f77b4;\" x=\"365.059943\" xlink:href=\"#me24cedcded\" y=\"214.756364\"/>\r\n    </g>\r\n   </g>\r\n   <g id=\"patch_3\">\r\n    <path d=\"M 45.478125 224.64 \r\nL 45.478125 7.2 \r\n\" style=\"fill:none;stroke:#000000;stroke-linecap:square;stroke-linejoin:miter;stroke-width:0.8;\"/>\r\n   </g>\r\n   <g id=\"patch_4\">\r\n    <path d=\"M 380.278125 224.64 \r\nL 380.278125 7.2 \r\n\" style=\"fill:none;stroke:#000000;stroke-linecap:square;stroke-linejoin:miter;stroke-width:0.8;\"/>\r\n   </g>\r\n   <g id=\"patch_5\">\r\n    <path d=\"M 45.478125 224.64 \r\nL 380.278125 224.64 \r\n\" style=\"fill:none;stroke:#000000;stroke-linecap:square;stroke-linejoin:miter;stroke-width:0.8;\"/>\r\n   </g>\r\n   <g id=\"patch_6\">\r\n    <path d=\"M 45.478125 7.2 \r\nL 380.278125 7.2 \r\n\" style=\"fill:none;stroke:#000000;stroke-linecap:square;stroke-linejoin:miter;stroke-width:0.8;\"/>\r\n   </g>\r\n   <g id=\"legend_1\">\r\n    <g id=\"patch_7\">\r\n     <path d=\"M 267.295313 29.878125 \r\nL 373.278125 29.878125 \r\nQ 375.278125 29.878125 375.278125 27.878125 \r\nL 375.278125 14.2 \r\nQ 375.278125 12.2 373.278125 12.2 \r\nL 267.295313 12.2 \r\nQ 265.295313 12.2 265.295313 14.2 \r\nL 265.295313 27.878125 \r\nQ 265.295313 29.878125 267.295313 29.878125 \r\nz\r\n\" style=\"fill:#ffffff;opacity:0.8;stroke:#cccccc;stroke-linejoin:miter;\"/>\r\n    </g>\r\n    <g id=\"line2d_25\">\r\n     <path d=\"M 269.295313 20.298437 \r\nL 289.295313 20.298437 \r\n\" style=\"fill:none;stroke:#1f77b4;stroke-linecap:square;stroke-width:1.5;\"/>\r\n    </g>\r\n    <g id=\"line2d_26\">\r\n     <g>\r\n      <use style=\"fill:#1f77b4;stroke:#1f77b4;\" x=\"279.295313\" xlink:href=\"#me24cedcded\" y=\"20.298437\"/>\r\n     </g>\r\n    </g>\r\n    <g id=\"text_6\">\r\n     <!-- logN-log(error) -->\r\n     <defs>\r\n      <path d=\"M 9.8125 72.90625 \r\nL 23.09375 72.90625 \r\nL 55.421875 11.921875 \r\nL 55.421875 72.90625 \r\nL 64.984375 72.90625 \r\nL 64.984375 0 \r\nL 51.703125 0 \r\nL 19.390625 60.984375 \r\nL 19.390625 0 \r\nL 9.8125 0 \r\nz\r\n\" id=\"DejaVuSans-78\"/>\r\n      <path d=\"M 4.890625 31.390625 \r\nL 31.203125 31.390625 \r\nL 31.203125 23.390625 \r\nL 4.890625 23.390625 \r\nz\r\n\" id=\"DejaVuSans-45\"/>\r\n     </defs>\r\n     <g transform=\"translate(297.295313 23.798437)scale(0.1 -0.1)\">\r\n      <use xlink:href=\"#DejaVuSans-108\"/>\r\n      <use x=\"27.783203\" xlink:href=\"#DejaVuSans-111\"/>\r\n      <use x=\"88.964844\" xlink:href=\"#DejaVuSans-103\"/>\r\n      <use x=\"152.441406\" xlink:href=\"#DejaVuSans-78\"/>\r\n      <use x=\"227.246094\" xlink:href=\"#DejaVuSans-45\"/>\r\n      <use x=\"263.330078\" xlink:href=\"#DejaVuSans-108\"/>\r\n      <use x=\"291.113281\" xlink:href=\"#DejaVuSans-111\"/>\r\n      <use x=\"352.294922\" xlink:href=\"#DejaVuSans-103\"/>\r\n      <use x=\"415.771484\" xlink:href=\"#DejaVuSans-40\"/>\r\n      <use x=\"454.785156\" xlink:href=\"#DejaVuSans-101\"/>\r\n      <use x=\"516.308594\" xlink:href=\"#DejaVuSans-114\"/>\r\n      <use x=\"557.40625\" xlink:href=\"#DejaVuSans-114\"/>\r\n      <use x=\"598.488281\" xlink:href=\"#DejaVuSans-111\"/>\r\n      <use x=\"659.669922\" xlink:href=\"#DejaVuSans-114\"/>\r\n      <use x=\"700.783203\" xlink:href=\"#DejaVuSans-41\"/>\r\n     </g>\r\n    </g>\r\n   </g>\r\n  </g>\r\n </g>\r\n <defs>\r\n  <clipPath id=\"p61c90e0c11\">\r\n   <rect height=\"217.44\" width=\"334.8\" x=\"45.478125\" y=\"7.2\"/>\r\n  </clipPath>\r\n </defs>\r\n</svg>\r\n",
      "image/png": "[encoded data removed]"
     },
     "metadata": {
      "needs_background": "light"
     }
    }
   ],
   "source": [
    "# Question (4)\n",
    "n = np.array(([10,20,40,100,200]))\n",
    "tre = np.zeros((5,))\n",
    "for i in range(5):\n",
    "    tre[i] = true_relative_error(n[i])\n",
    "plt.loglog(n,tre,'-o',label='logN-log(error)')\n",
    "plt.xlabel('log(n)')\n",
    "plt.ylabel('log(error)')\n",
    "plt.legend()\n",
    "plt.show()"
   ]
  },
  {
   "cell_type": "markdown",
   "metadata": {},
   "source": [
    "### Problem 2 (10 points) \n",
    "Consider a linear $2\\times 2$ system (with unknowns $x_1$ and $x_2$) described by\n",
    "$$\n",
    "    \\begin{pmatrix}\n",
    "    \\varepsilon & 1\\\\\n",
    "    1 & 1\n",
    "    \\end{pmatrix}\n",
    "    \\begin{pmatrix}\n",
    "    x_1\\\\x_2\\end{pmatrix}\n",
    "    =\\begin{pmatrix}\n",
    "    2\\\\\n",
    "    1\n",
    "    \\end{pmatrix}\n",
    "$$\n",
    "    where $\\epsilon > 0$ is a very small constant.   \n",
    "    (1) Solve by Gauss elimination without partial pivoting by hand.   \n",
    "    (2) Solve by Gauss elimination with partial pivoting by hand.    \n",
    "    (3) Compare the results and discuss their validity.  "
   ]
  },
  {
   "cell_type": "markdown",
   "metadata": {},
   "source": [
    "#### Question (1)\n",
    "Here we have \n",
    "$$\n",
    "\\epsilon x_1 + x_2 = 2\\\\\n",
    "x_1 + x_2 = 1\n",
    "$$\n",
    "Then we can get\n",
    "$$\n",
    "(1 - \\frac{1}{\\epsilon})x_2 = 1 - \\frac{2}{\\epsilon}\\\\\n",
    "x_2 = 1 + \\frac{1}{1 - \\epsilon}\\\\\n",
    "x_1 = \\frac{2 - x_2}{\\epsilon}\n",
    "$$\n",
    "Then we will use code to test the answer."
   ]
  },
  {
   "cell_type": "code",
   "execution_count": 5,
   "metadata": {},
   "outputs": [],
   "source": [
    "# define the test values (for epsilon)\n",
    "test_values = np.ones((10,))\n",
    "for i in range(10):\n",
    "    test_values[i] = 1. * 10 ** (-i - 1)"
   ]
  },
  {
   "cell_type": "code",
   "execution_count": 6,
   "metadata": {},
   "outputs": [
    {
     "output_type": "stream",
     "name": "stdout",
     "text": "x1\t\t\tx2\n-1.1111111111111116 \t2.111111111111111   \n-1.0101010101010388 \t2.0101010101010104  \n-1.0010010010010895 \t2.001001001001001   \n-1.0001000099979507 \t2.000100010001      \n-1.0000100000961964 \t2.000010000100001   \n-1.0000010002286785 \t2.0000010000010002  \n-1.0000001005039394 \t2.00000010000001    \n-0.999999993922529  \t2.00000001          \n-1.000000082740371  \t2.000000001         \n-1.000000082740371  \t2.0000000001        \n"
    }
   ],
   "source": [
    "x1 = np.ones((10,))\n",
    "x2 = np.ones((10,))\n",
    "print('x1\\t\\t\\tx2')\n",
    "for i in range(10):\n",
    "    x2[i] = 1 + 1 / (1 - test_values[i])\n",
    "    x1[i] = (2 - x2[i]) / test_values[i]\n",
    "    print(f'{x1[i]:<20}\\t{x2[i]:<20}')"
   ]
  },
  {
   "cell_type": "markdown",
   "metadata": {},
   "source": [
    "#### Question (2)\n",
    "<font size = 4 color = black face = \"Times New Roman\">Here we have \n",
    "$$\n",
    "x_1 + x_2 = 1\\\\\n",
    "\n",
    "\\epsilon x_1 + x_2 = 2\\\\\n",
    "$$\n",
    "Then we can get\n",
    "$$\n",
    "(1 - \\epsilon)x_2 = 2 - \\epsilon\\\\\n",
    "x_2 = 1 + \\frac{1}{1 - \\epsilon}\\\\\n",
    "x_1 = 1 - x_2\n",
    "$$\n",
    "<font size = 4 color = black face = \"Times New Roman\">Then we will use code to test the answer."
   ]
  },
  {
   "cell_type": "code",
   "execution_count": 7,
   "metadata": {},
   "outputs": [
    {
     "output_type": "stream",
     "name": "stdout",
     "text": "x1\t\t\tx2\n-1.1111111111111112 \t2.111111111111111   \n-1.0101010101010104 \t2.0101010101010104  \n-1.001001001001001  \t2.001001001001001   \n-1.0001000100009998 \t2.000100010001      \n-1.000010000100001  \t2.000010000100001   \n-1.0000010000010002 \t2.0000010000010002  \n-1.00000010000001   \t2.00000010000001    \n-1.00000001         \t2.00000001          \n-1.000000001        \t2.000000001         \n-1.0000000001       \t2.0000000001        \n"
    }
   ],
   "source": [
    "print('x1\\t\\t\\tx2')\n",
    "for i in range(10):\n",
    "    x2[i] = 1 + 1 / (1 - test_values[i])\n",
    "    x1[i] = 1 - x2[i]\n",
    "    print(f'{x1[i]:<20}\\t{x2[i]:<20}')"
   ]
  },
  {
   "cell_type": "markdown",
   "metadata": {},
   "source": [
    "#### Question 3\n",
    "<font size = 3 color = black face = \"Times New Roman\">Comparing the two methods, it is not difficult to see that the results of the second method are more accurate. In addition, the use of the second method can avoid the error caused by the very small value of epsilon. Because it doesn't have to divide into epsilon in the calculation."
   ]
  },
  {
   "cell_type": "markdown",
   "metadata": {},
   "source": [
    "### Problem 3 (20 points)   \n",
    "Halley's method to find the solution to a equation of single variable is given as\n",
    "$$\n",
    "    x_{n+1}=x_{n}-\\frac{2f(x_n)f^\\prime(x_n)}{2(f^\\prime(x_n))^2-f(x_n)f^{\\prime\\prime}(x_n)}\n",
    "$$\n",
    "    Apply Halley's method to solve $f(x)=e^{x-3}+x-2$.   \n",
    "    (1) Show that Halley's method has an order of convergence 3 for simple zero.    \n",
    "    (2) Make a sketch of the function $f(x)$ on paper.    \n",
    "    (3) Write the code to determine the root numerically and count the steps of iterations. The predefined tolerance is given as $\\left\\vert x_{i+1}-x_i\\right\\vert\\leq 0.5e-8$.      \n",
    "    (4) Write your results of part (3) on paper.     \n",
    "    (5) What are the advantages and disadvantages of Halley's method, when you compare it to the Newton's method and the bisection method?    \n",
    "    **You need to submit your code of part (3)!**"
   ]
  },
  {
   "cell_type": "code",
   "execution_count": 8,
   "metadata": {},
   "outputs": [],
   "source": [
    "### Question (3)"
   ]
  },
  {
   "cell_type": "code",
   "execution_count": 9,
   "metadata": {},
   "outputs": [],
   "source": [
    "def f(x):\n",
    "    return np.exp(x-3) + x - 2\n",
    "\n",
    "def f_1(x):\n",
    "    return np.exp(x-3) + 1\n",
    "\n",
    "def f_2(x):\n",
    "    return np.exp(x-3)"
   ]
  },
  {
   "cell_type": "code",
   "execution_count": 10,
   "metadata": {},
   "outputs": [],
   "source": [
    "def Halley_method(f,f_1,f_2,x0,eps = 0.5e-8):\n",
    "    count = 0\n",
    "    x1 = x0 + 1. \n",
    "    while abs(x1 - x0)>eps:\n",
    "        count += 1\n",
    "        x0 = x1\n",
    "        x1 = x0 - 2 * f(x0) * f_1(x0) / (2 * f_1(x0) ** 2 - f(x0) * f_2(x0) )\n",
    "    return x1, count"
   ]
  },
  {
   "cell_type": "code",
   "execution_count": 11,
   "metadata": {},
   "outputs": [
    {
     "output_type": "display_data",
     "data": {
      "text/plain": "<Figure size 432x288 with 1 Axes>",
      "image/svg+xml": "<?xml version=\"1.0\" encoding=\"utf-8\" standalone=\"no\"?>\r\n<!DOCTYPE svg PUBLIC \"-//W3C//DTD SVG 1.1//EN\"\r\n  \"http://www.w3.org/Graphics/SVG/1.1/DTD/svg11.dtd\">\r\n<!-- Created with matplotlib (https://matplotlib.org/) -->\r\n<svg height=\"262.19625pt\" version=\"1.1\" viewBox=\"0 0 394.160937 262.19625\" width=\"394.160937pt\" xmlns=\"http://www.w3.org/2000/svg\" xmlns:xlink=\"http://www.w3.org/1999/xlink\">\r\n <defs>\r\n  <style type=\"text/css\">\r\n*{stroke-linecap:butt;stroke-linejoin:round;}\r\n  </style>\r\n </defs>\r\n <g id=\"figure_1\">\r\n  <g id=\"patch_1\">\r\n   <path d=\"M 0 262.19625 \r\nL 394.160937 262.19625 \r\nL 394.160937 0 \r\nL 0 0 \r\nz\r\n\" style=\"fill:none;\"/>\r\n  </g>\r\n  <g id=\"axes_1\">\r\n   <g id=\"patch_2\">\r\n    <path d=\"M 52.160938 224.64 \r\nL 386.960938 224.64 \r\nL 386.960938 7.2 \r\nL 52.160938 7.2 \r\nz\r\n\" style=\"fill:#ffffff;\"/>\r\n   </g>\r\n   <g id=\"matplotlib.axis_1\">\r\n    <g id=\"xtick_1\">\r\n     <g id=\"line2d_1\">\r\n      <defs>\r\n       <path d=\"M 0 0 \r\nL 0 3.5 \r\n\" id=\"m1f320f6079\" style=\"stroke:#000000;stroke-width:0.8;\"/>\r\n      </defs>\r\n      <g>\r\n       <use style=\"stroke:#000000;stroke-width:0.8;\" x=\"97.818527\" xlink:href=\"#m1f320f6079\" y=\"224.64\"/>\r\n      </g>\r\n     </g>\r\n     <g id=\"text_1\">\r\n      <!-- −4 -->\r\n      <defs>\r\n       <path d=\"M 10.59375 35.5 \r\nL 73.1875 35.5 \r\nL 73.1875 27.203125 \r\nL 10.59375 27.203125 \r\nz\r\n\" id=\"DejaVuSans-8722\"/>\r\n       <path d=\"M 37.796875 64.3125 \r\nL 12.890625 25.390625 \r\nL 37.796875 25.390625 \r\nz\r\nM 35.203125 72.90625 \r\nL 47.609375 72.90625 \r\nL 47.609375 25.390625 \r\nL 58.015625 25.390625 \r\nL 58.015625 17.1875 \r\nL 47.609375 17.1875 \r\nL 47.609375 0 \r\nL 37.796875 0 \r\nL 37.796875 17.1875 \r\nL 4.890625 17.1875 \r\nL 4.890625 26.703125 \r\nz\r\n\" id=\"DejaVuSans-52\"/>\r\n      </defs>\r\n      <g transform=\"translate(90.447433 239.238437)scale(0.1 -0.1)\">\r\n       <use xlink:href=\"#DejaVuSans-8722\"/>\r\n       <use x=\"83.789062\" xlink:href=\"#DejaVuSans-52\"/>\r\n      </g>\r\n     </g>\r\n    </g>\r\n    <g id=\"xtick_2\">\r\n     <g id=\"line2d_2\">\r\n      <g>\r\n       <use style=\"stroke:#000000;stroke-width:0.8;\" x=\"158.697342\" xlink:href=\"#m1f320f6079\" y=\"224.64\"/>\r\n      </g>\r\n     </g>\r\n     <g id=\"text_2\">\r\n      <!-- −2 -->\r\n      <defs>\r\n       <path d=\"M 19.1875 8.296875 \r\nL 53.609375 8.296875 \r\nL 53.609375 0 \r\nL 7.328125 0 \r\nL 7.328125 8.296875 \r\nQ 12.9375 14.109375 22.625 23.890625 \r\nQ 32.328125 33.6875 34.8125 36.53125 \r\nQ 39.546875 41.84375 41.421875 45.53125 \r\nQ 43.3125 49.21875 43.3125 52.78125 \r\nQ 43.3125 58.59375 39.234375 62.25 \r\nQ 35.15625 65.921875 28.609375 65.921875 \r\nQ 23.96875 65.921875 18.8125 64.3125 \r\nQ 13.671875 62.703125 7.8125 59.421875 \r\nL 7.8125 69.390625 \r\nQ 13.765625 71.78125 18.9375 73 \r\nQ 24.125 74.21875 28.421875 74.21875 \r\nQ 39.75 74.21875 46.484375 68.546875 \r\nQ 53.21875 62.890625 53.21875 53.421875 \r\nQ 53.21875 48.921875 51.53125 44.890625 \r\nQ 49.859375 40.875 45.40625 35.40625 \r\nQ 44.1875 33.984375 37.640625 27.21875 \r\nQ 31.109375 20.453125 19.1875 8.296875 \r\nz\r\n\" id=\"DejaVuSans-50\"/>\r\n      </defs>\r\n      <g transform=\"translate(151.326248 239.238437)scale(0.1 -0.1)\">\r\n       <use xlink:href=\"#DejaVuSans-8722\"/>\r\n       <use x=\"83.789062\" xlink:href=\"#DejaVuSans-50\"/>\r\n      </g>\r\n     </g>\r\n    </g>\r\n    <g id=\"xtick_3\">\r\n     <g id=\"line2d_3\">\r\n      <g>\r\n       <use style=\"stroke:#000000;stroke-width:0.8;\" x=\"219.576157\" xlink:href=\"#m1f320f6079\" y=\"224.64\"/>\r\n      </g>\r\n     </g>\r\n     <g id=\"text_3\">\r\n      <!-- 0 -->\r\n      <defs>\r\n       <path d=\"M 31.78125 66.40625 \r\nQ 24.171875 66.40625 20.328125 58.90625 \r\nQ 16.5 51.421875 16.5 36.375 \r\nQ 16.5 21.390625 20.328125 13.890625 \r\nQ 24.171875 6.390625 31.78125 6.390625 \r\nQ 39.453125 6.390625 43.28125 13.890625 \r\nQ 47.125 21.390625 47.125 36.375 \r\nQ 47.125 51.421875 43.28125 58.90625 \r\nQ 39.453125 66.40625 31.78125 66.40625 \r\nz\r\nM 31.78125 74.21875 \r\nQ 44.046875 74.21875 50.515625 64.515625 \r\nQ 56.984375 54.828125 56.984375 36.375 \r\nQ 56.984375 17.96875 50.515625 8.265625 \r\nQ 44.046875 -1.421875 31.78125 -1.421875 \r\nQ 19.53125 -1.421875 13.0625 8.265625 \r\nQ 6.59375 17.96875 6.59375 36.375 \r\nQ 6.59375 54.828125 13.0625 64.515625 \r\nQ 19.53125 74.21875 31.78125 74.21875 \r\nz\r\n\" id=\"DejaVuSans-48\"/>\r\n      </defs>\r\n      <g transform=\"translate(216.394907 239.238437)scale(0.1 -0.1)\">\r\n       <use xlink:href=\"#DejaVuSans-48\"/>\r\n      </g>\r\n     </g>\r\n    </g>\r\n    <g id=\"xtick_4\">\r\n     <g id=\"line2d_4\">\r\n      <g>\r\n       <use style=\"stroke:#000000;stroke-width:0.8;\" x=\"280.454972\" xlink:href=\"#m1f320f6079\" y=\"224.64\"/>\r\n      </g>\r\n     </g>\r\n     <g id=\"text_4\">\r\n      <!-- 2 -->\r\n      <g transform=\"translate(277.273722 239.238437)scale(0.1 -0.1)\">\r\n       <use xlink:href=\"#DejaVuSans-50\"/>\r\n      </g>\r\n     </g>\r\n    </g>\r\n    <g id=\"xtick_5\">\r\n     <g id=\"line2d_5\">\r\n      <g>\r\n       <use style=\"stroke:#000000;stroke-width:0.8;\" x=\"341.333788\" xlink:href=\"#m1f320f6079\" y=\"224.64\"/>\r\n      </g>\r\n     </g>\r\n     <g id=\"text_5\">\r\n      <!-- 4 -->\r\n      <g transform=\"translate(338.152538 239.238437)scale(0.1 -0.1)\">\r\n       <use xlink:href=\"#DejaVuSans-52\"/>\r\n      </g>\r\n     </g>\r\n    </g>\r\n    <g id=\"text_6\">\r\n     <!-- x -->\r\n     <defs>\r\n      <path d=\"M 54.890625 54.6875 \r\nL 35.109375 28.078125 \r\nL 55.90625 0 \r\nL 45.3125 0 \r\nL 29.390625 21.484375 \r\nL 13.484375 0 \r\nL 2.875 0 \r\nL 24.125 28.609375 \r\nL 4.6875 54.6875 \r\nL 15.28125 54.6875 \r\nL 29.78125 35.203125 \r\nL 44.28125 54.6875 \r\nz\r\n\" id=\"DejaVuSans-120\"/>\r\n     </defs>\r\n     <g transform=\"translate(216.601563 252.916562)scale(0.1 -0.1)\">\r\n      <use xlink:href=\"#DejaVuSans-120\"/>\r\n     </g>\r\n    </g>\r\n   </g>\r\n   <g id=\"matplotlib.axis_2\">\r\n    <g id=\"ytick_1\">\r\n     <g id=\"line2d_6\">\r\n      <defs>\r\n       <path d=\"M 0 0 \r\nL -3.5 0 \r\n\" id=\"mf0266a9c16\" style=\"stroke:#000000;stroke-width:0.8;\"/>\r\n      </defs>\r\n      <g>\r\n       <use style=\"stroke:#000000;stroke-width:0.8;\" x=\"52.160938\" xlink:href=\"#mf0266a9c16\" y=\"220.446857\"/>\r\n      </g>\r\n     </g>\r\n     <g id=\"text_7\">\r\n      <!-- −7.5 -->\r\n      <defs>\r\n       <path d=\"M 8.203125 72.90625 \r\nL 55.078125 72.90625 \r\nL 55.078125 68.703125 \r\nL 28.609375 0 \r\nL 18.3125 0 \r\nL 43.21875 64.59375 \r\nL 8.203125 64.59375 \r\nz\r\n\" id=\"DejaVuSans-55\"/>\r\n       <path d=\"M 10.6875 12.40625 \r\nL 21 12.40625 \r\nL 21 0 \r\nL 10.6875 0 \r\nz\r\n\" id=\"DejaVuSans-46\"/>\r\n       <path d=\"M 10.796875 72.90625 \r\nL 49.515625 72.90625 \r\nL 49.515625 64.59375 \r\nL 19.828125 64.59375 \r\nL 19.828125 46.734375 \r\nQ 21.96875 47.46875 24.109375 47.828125 \r\nQ 26.265625 48.1875 28.421875 48.1875 \r\nQ 40.625 48.1875 47.75 41.5 \r\nQ 54.890625 34.8125 54.890625 23.390625 \r\nQ 54.890625 11.625 47.5625 5.09375 \r\nQ 40.234375 -1.421875 26.90625 -1.421875 \r\nQ 22.3125 -1.421875 17.546875 -0.640625 \r\nQ 12.796875 0.140625 7.71875 1.703125 \r\nL 7.71875 11.625 \r\nQ 12.109375 9.234375 16.796875 8.0625 \r\nQ 21.484375 6.890625 26.703125 6.890625 \r\nQ 35.15625 6.890625 40.078125 11.328125 \r\nQ 45.015625 15.765625 45.015625 23.390625 \r\nQ 45.015625 31 40.078125 35.4375 \r\nQ 35.15625 39.890625 26.703125 39.890625 \r\nQ 22.75 39.890625 18.8125 39.015625 \r\nQ 14.890625 38.140625 10.796875 36.28125 \r\nz\r\n\" id=\"DejaVuSans-53\"/>\r\n      </defs>\r\n      <g transform=\"translate(20.878125 224.246075)scale(0.1 -0.1)\">\r\n       <use xlink:href=\"#DejaVuSans-8722\"/>\r\n       <use x=\"83.789062\" xlink:href=\"#DejaVuSans-55\"/>\r\n       <use x=\"147.412109\" xlink:href=\"#DejaVuSans-46\"/>\r\n       <use x=\"179.199219\" xlink:href=\"#DejaVuSans-53\"/>\r\n      </g>\r\n     </g>\r\n    </g>\r\n    <g id=\"ytick_2\">\r\n     <g id=\"line2d_7\">\r\n      <g>\r\n       <use style=\"stroke:#000000;stroke-width:0.8;\" x=\"52.160938\" xlink:href=\"#mf0266a9c16\" y=\"192.013468\"/>\r\n      </g>\r\n     </g>\r\n     <g id=\"text_8\">\r\n      <!-- −5.0 -->\r\n      <g transform=\"translate(20.878125 195.812687)scale(0.1 -0.1)\">\r\n       <use xlink:href=\"#DejaVuSans-8722\"/>\r\n       <use x=\"83.789062\" xlink:href=\"#DejaVuSans-53\"/>\r\n       <use x=\"147.412109\" xlink:href=\"#DejaVuSans-46\"/>\r\n       <use x=\"179.199219\" xlink:href=\"#DejaVuSans-48\"/>\r\n      </g>\r\n     </g>\r\n    </g>\r\n    <g id=\"ytick_3\">\r\n     <g id=\"line2d_8\">\r\n      <g>\r\n       <use style=\"stroke:#000000;stroke-width:0.8;\" x=\"52.160938\" xlink:href=\"#mf0266a9c16\" y=\"163.58008\"/>\r\n      </g>\r\n     </g>\r\n     <g id=\"text_9\">\r\n      <!-- −2.5 -->\r\n      <g transform=\"translate(20.878125 167.379299)scale(0.1 -0.1)\">\r\n       <use xlink:href=\"#DejaVuSans-8722\"/>\r\n       <use x=\"83.789062\" xlink:href=\"#DejaVuSans-50\"/>\r\n       <use x=\"147.412109\" xlink:href=\"#DejaVuSans-46\"/>\r\n       <use x=\"179.199219\" xlink:href=\"#DejaVuSans-53\"/>\r\n      </g>\r\n     </g>\r\n    </g>\r\n    <g id=\"ytick_4\">\r\n     <g id=\"line2d_9\">\r\n      <g>\r\n       <use style=\"stroke:#000000;stroke-width:0.8;\" x=\"52.160938\" xlink:href=\"#mf0266a9c16\" y=\"135.146692\"/>\r\n      </g>\r\n     </g>\r\n     <g id=\"text_10\">\r\n      <!-- 0.0 -->\r\n      <g transform=\"translate(29.257812 138.945911)scale(0.1 -0.1)\">\r\n       <use xlink:href=\"#DejaVuSans-48\"/>\r\n       <use x=\"63.623047\" xlink:href=\"#DejaVuSans-46\"/>\r\n       <use x=\"95.410156\" xlink:href=\"#DejaVuSans-48\"/>\r\n      </g>\r\n     </g>\r\n    </g>\r\n    <g id=\"ytick_5\">\r\n     <g id=\"line2d_10\">\r\n      <g>\r\n       <use style=\"stroke:#000000;stroke-width:0.8;\" x=\"52.160938\" xlink:href=\"#mf0266a9c16\" y=\"106.713304\"/>\r\n      </g>\r\n     </g>\r\n     <g id=\"text_11\">\r\n      <!-- 2.5 -->\r\n      <g transform=\"translate(29.257812 110.512523)scale(0.1 -0.1)\">\r\n       <use xlink:href=\"#DejaVuSans-50\"/>\r\n       <use x=\"63.623047\" xlink:href=\"#DejaVuSans-46\"/>\r\n       <use x=\"95.410156\" xlink:href=\"#DejaVuSans-53\"/>\r\n      </g>\r\n     </g>\r\n    </g>\r\n    <g id=\"ytick_6\">\r\n     <g id=\"line2d_11\">\r\n      <g>\r\n       <use style=\"stroke:#000000;stroke-width:0.8;\" x=\"52.160938\" xlink:href=\"#mf0266a9c16\" y=\"78.279916\"/>\r\n      </g>\r\n     </g>\r\n     <g id=\"text_12\">\r\n      <!-- 5.0 -->\r\n      <g transform=\"translate(29.257812 82.079135)scale(0.1 -0.1)\">\r\n       <use xlink:href=\"#DejaVuSans-53\"/>\r\n       <use x=\"63.623047\" xlink:href=\"#DejaVuSans-46\"/>\r\n       <use x=\"95.410156\" xlink:href=\"#DejaVuSans-48\"/>\r\n      </g>\r\n     </g>\r\n    </g>\r\n    <g id=\"ytick_7\">\r\n     <g id=\"line2d_12\">\r\n      <g>\r\n       <use style=\"stroke:#000000;stroke-width:0.8;\" x=\"52.160938\" xlink:href=\"#mf0266a9c16\" y=\"49.846528\"/>\r\n      </g>\r\n     </g>\r\n     <g id=\"text_13\">\r\n      <!-- 7.5 -->\r\n      <g transform=\"translate(29.257812 53.645747)scale(0.1 -0.1)\">\r\n       <use xlink:href=\"#DejaVuSans-55\"/>\r\n       <use x=\"63.623047\" xlink:href=\"#DejaVuSans-46\"/>\r\n       <use x=\"95.410156\" xlink:href=\"#DejaVuSans-53\"/>\r\n      </g>\r\n     </g>\r\n    </g>\r\n    <g id=\"ytick_8\">\r\n     <g id=\"line2d_13\">\r\n      <g>\r\n       <use style=\"stroke:#000000;stroke-width:0.8;\" x=\"52.160938\" xlink:href=\"#mf0266a9c16\" y=\"21.41314\"/>\r\n      </g>\r\n     </g>\r\n     <g id=\"text_14\">\r\n      <!-- 10.0 -->\r\n      <defs>\r\n       <path d=\"M 12.40625 8.296875 \r\nL 28.515625 8.296875 \r\nL 28.515625 63.921875 \r\nL 10.984375 60.40625 \r\nL 10.984375 69.390625 \r\nL 28.421875 72.90625 \r\nL 38.28125 72.90625 \r\nL 38.28125 8.296875 \r\nL 54.390625 8.296875 \r\nL 54.390625 0 \r\nL 12.40625 0 \r\nz\r\n\" id=\"DejaVuSans-49\"/>\r\n      </defs>\r\n      <g transform=\"translate(22.895313 25.212359)scale(0.1 -0.1)\">\r\n       <use xlink:href=\"#DejaVuSans-49\"/>\r\n       <use x=\"63.623047\" xlink:href=\"#DejaVuSans-48\"/>\r\n       <use x=\"127.246094\" xlink:href=\"#DejaVuSans-46\"/>\r\n       <use x=\"159.033203\" xlink:href=\"#DejaVuSans-48\"/>\r\n      </g>\r\n     </g>\r\n    </g>\r\n    <g id=\"text_15\">\r\n     <!-- f(x) -->\r\n     <defs>\r\n      <path d=\"M 37.109375 75.984375 \r\nL 37.109375 68.5 \r\nL 28.515625 68.5 \r\nQ 23.6875 68.5 21.796875 66.546875 \r\nQ 19.921875 64.59375 19.921875 59.515625 \r\nL 19.921875 54.6875 \r\nL 34.71875 54.6875 \r\nL 34.71875 47.703125 \r\nL 19.921875 47.703125 \r\nL 19.921875 0 \r\nL 10.890625 0 \r\nL 10.890625 47.703125 \r\nL 2.296875 47.703125 \r\nL 2.296875 54.6875 \r\nL 10.890625 54.6875 \r\nL 10.890625 58.5 \r\nQ 10.890625 67.625 15.140625 71.796875 \r\nQ 19.390625 75.984375 28.609375 75.984375 \r\nz\r\n\" id=\"DejaVuSans-102\"/>\r\n      <path d=\"M 31 75.875 \r\nQ 24.46875 64.65625 21.28125 53.65625 \r\nQ 18.109375 42.671875 18.109375 31.390625 \r\nQ 18.109375 20.125 21.3125 9.0625 \r\nQ 24.515625 -2 31 -13.1875 \r\nL 23.1875 -13.1875 \r\nQ 15.875 -1.703125 12.234375 9.375 \r\nQ 8.59375 20.453125 8.59375 31.390625 \r\nQ 8.59375 42.28125 12.203125 53.3125 \r\nQ 15.828125 64.359375 23.1875 75.875 \r\nz\r\n\" id=\"DejaVuSans-40\"/>\r\n      <path d=\"M 8.015625 75.875 \r\nL 15.828125 75.875 \r\nQ 23.140625 64.359375 26.78125 53.3125 \r\nQ 30.421875 42.28125 30.421875 31.390625 \r\nQ 30.421875 20.453125 26.78125 9.375 \r\nQ 23.140625 -1.703125 15.828125 -13.1875 \r\nL 8.015625 -13.1875 \r\nQ 14.5 -2 17.703125 9.0625 \r\nQ 20.90625 20.125 20.90625 31.390625 \r\nQ 20.90625 42.671875 17.703125 53.65625 \r\nQ 14.5 64.65625 8.015625 75.875 \r\nz\r\n\" id=\"DejaVuSans-41\"/>\r\n     </defs>\r\n     <g transform=\"translate(14.798438 124.541094)rotate(-90)scale(0.1 -0.1)\">\r\n      <use xlink:href=\"#DejaVuSans-102\"/>\r\n      <use x=\"35.205078\" xlink:href=\"#DejaVuSans-40\"/>\r\n      <use x=\"74.21875\" xlink:href=\"#DejaVuSans-120\"/>\r\n      <use x=\"133.398438\" xlink:href=\"#DejaVuSans-41\"/>\r\n     </g>\r\n    </g>\r\n   </g>\r\n   <g id=\"line2d_14\">\r\n    <path clip-path=\"url(#pb287192b1e)\" d=\"M 67.379119 214.756364 \r\nL 176.169562 173.975757 \r\nL 209.16588 161.380858 \r\nL 229.925556 153.230916 \r\nL 245.206138 147.002778 \r\nL 257.351462 141.820384 \r\nL 267.457345 137.273192 \r\nL 276.132576 133.131561 \r\nL 283.742428 129.257168 \r\nL 290.530416 125.556446 \r\nL 296.679177 121.954964 \r\nL 302.310467 118.402001 \r\nL 307.515606 114.857323 \r\nL 312.355471 111.294825 \r\nL 316.890943 107.68295 \r\nL 321.1829 103.982101 \r\nL 325.26178 100.17138 \r\nL 329.158024 96.225719 \r\nL 332.871632 92.149197 \r\nL 336.463482 87.874854 \r\nL 339.933575 83.397093 \r\nL 343.28191 78.712791 \r\nL 346.538926 73.773608 \r\nL 349.735064 68.518371 \r\nL 352.839884 62.983211 \r\nL 355.883824 57.100811 \r\nL 358.866886 50.852219 \r\nL 361.819509 44.147019 \r\nL 364.711253 37.027353 \r\nL 367.572557 29.390444 \r\nL 370.403422 21.197967 \r\nL 371.742756 17.083636 \r\nL 371.742756 17.083636 \r\n\" style=\"fill:none;stroke:#1f77b4;stroke-linecap:square;stroke-width:1.5;\"/>\r\n   </g>\r\n   <g id=\"line2d_15\">\r\n    <path clip-path=\"url(#pb287192b1e)\" d=\"M 52.160938 135.146692 \r\nL 386.960938 135.146692 \r\n\" style=\"fill:none;stroke:#ff0000;stroke-linecap:square;stroke-width:1.5;\"/>\r\n   </g>\r\n   <g id=\"patch_3\">\r\n    <path d=\"M 52.160938 224.64 \r\nL 52.160938 7.2 \r\n\" style=\"fill:none;stroke:#000000;stroke-linecap:square;stroke-linejoin:miter;stroke-width:0.8;\"/>\r\n   </g>\r\n   <g id=\"patch_4\">\r\n    <path d=\"M 386.960938 224.64 \r\nL 386.960938 7.2 \r\n\" style=\"fill:none;stroke:#000000;stroke-linecap:square;stroke-linejoin:miter;stroke-width:0.8;\"/>\r\n   </g>\r\n   <g id=\"patch_5\">\r\n    <path d=\"M 52.160937 224.64 \r\nL 386.960938 224.64 \r\n\" style=\"fill:none;stroke:#000000;stroke-linecap:square;stroke-linejoin:miter;stroke-width:0.8;\"/>\r\n   </g>\r\n   <g id=\"patch_6\">\r\n    <path d=\"M 52.160937 7.2 \r\nL 386.960938 7.2 \r\n\" style=\"fill:none;stroke:#000000;stroke-linecap:square;stroke-linejoin:miter;stroke-width:0.8;\"/>\r\n   </g>\r\n   <g id=\"legend_1\">\r\n    <g id=\"patch_7\">\r\n     <path d=\"M 59.160938 29.878125 \r\nL 152.160937 29.878125 \r\nQ 154.160937 29.878125 154.160937 27.878125 \r\nL 154.160937 14.2 \r\nQ 154.160937 12.2 152.160937 12.2 \r\nL 59.160938 12.2 \r\nQ 57.160938 12.2 57.160938 14.2 \r\nL 57.160938 27.878125 \r\nQ 57.160938 29.878125 59.160938 29.878125 \r\nz\r\n\" style=\"fill:#ffffff;opacity:0.8;stroke:#cccccc;stroke-linejoin:miter;\"/>\r\n    </g>\r\n    <g id=\"line2d_16\">\r\n     <path d=\"M 61.160938 20.298437 \r\nL 81.160938 20.298437 \r\n\" style=\"fill:none;stroke:#1f77b4;stroke-linecap:square;stroke-width:1.5;\"/>\r\n    </g>\r\n    <g id=\"line2d_17\"/>\r\n    <g id=\"text_16\">\r\n     <!-- $e^{x-3}+x-2$ -->\r\n     <defs>\r\n      <path d=\"M 48.09375 32.234375 \r\nQ 48.25 33.015625 48.3125 33.84375 \r\nQ 48.390625 34.671875 48.390625 35.5 \r\nQ 48.390625 41.453125 44.890625 44.921875 \r\nQ 41.40625 48.390625 35.40625 48.390625 \r\nQ 28.71875 48.390625 23.578125 44.15625 \r\nQ 18.453125 39.9375 15.828125 32.171875 \r\nz\r\nM 55.90625 25.203125 \r\nL 14.109375 25.203125 \r\nQ 13.8125 23.34375 13.71875 22.265625 \r\nQ 13.625 21.1875 13.625 20.40625 \r\nQ 13.625 13.625 17.796875 9.90625 \r\nQ 21.96875 6.203125 29.59375 6.203125 \r\nQ 35.453125 6.203125 40.671875 7.515625 \r\nQ 45.90625 8.84375 50.390625 11.375 \r\nL 48.6875 2.484375 \r\nQ 43.84375 0.53125 38.6875 -0.4375 \r\nQ 33.546875 -1.421875 28.21875 -1.421875 \r\nQ 16.84375 -1.421875 10.71875 4.015625 \r\nQ 4.59375 9.46875 4.59375 19.484375 \r\nQ 4.59375 28.03125 7.640625 35.375 \r\nQ 10.6875 42.71875 16.609375 48.484375 \r\nQ 20.40625 52.09375 25.65625 54.046875 \r\nQ 30.90625 56 36.8125 56 \r\nQ 46.09375 56 51.578125 50.4375 \r\nQ 57.078125 44.875 57.078125 35.5 \r\nQ 57.078125 33.25 56.78125 30.6875 \r\nQ 56.5 28.125 55.90625 25.203125 \r\nz\r\n\" id=\"DejaVuSans-Oblique-101\"/>\r\n      <path d=\"M 60.015625 54.6875 \r\nL 34.90625 27.875 \r\nL 50.296875 0 \r\nL 39.984375 0 \r\nL 28.421875 21.6875 \r\nL 8.296875 0 \r\nL -2.59375 0 \r\nL 24.3125 28.8125 \r\nL 10.015625 54.6875 \r\nL 20.3125 54.6875 \r\nL 30.8125 34.90625 \r\nL 49.125 54.6875 \r\nz\r\n\" id=\"DejaVuSans-Oblique-120\"/>\r\n      <path d=\"M 40.578125 39.3125 \r\nQ 47.65625 37.796875 51.625 33 \r\nQ 55.609375 28.21875 55.609375 21.1875 \r\nQ 55.609375 10.40625 48.1875 4.484375 \r\nQ 40.765625 -1.421875 27.09375 -1.421875 \r\nQ 22.515625 -1.421875 17.65625 -0.515625 \r\nQ 12.796875 0.390625 7.625 2.203125 \r\nL 7.625 11.71875 \r\nQ 11.71875 9.328125 16.59375 8.109375 \r\nQ 21.484375 6.890625 26.8125 6.890625 \r\nQ 36.078125 6.890625 40.9375 10.546875 \r\nQ 45.796875 14.203125 45.796875 21.1875 \r\nQ 45.796875 27.640625 41.28125 31.265625 \r\nQ 36.765625 34.90625 28.71875 34.90625 \r\nL 20.21875 34.90625 \r\nL 20.21875 43.015625 \r\nL 29.109375 43.015625 \r\nQ 36.375 43.015625 40.234375 45.921875 \r\nQ 44.09375 48.828125 44.09375 54.296875 \r\nQ 44.09375 59.90625 40.109375 62.90625 \r\nQ 36.140625 65.921875 28.71875 65.921875 \r\nQ 24.65625 65.921875 20.015625 65.03125 \r\nQ 15.375 64.15625 9.8125 62.3125 \r\nL 9.8125 71.09375 \r\nQ 15.4375 72.65625 20.34375 73.4375 \r\nQ 25.25 74.21875 29.59375 74.21875 \r\nQ 40.828125 74.21875 47.359375 69.109375 \r\nQ 53.90625 64.015625 53.90625 55.328125 \r\nQ 53.90625 49.265625 50.4375 45.09375 \r\nQ 46.96875 40.921875 40.578125 39.3125 \r\nz\r\n\" id=\"DejaVuSans-51\"/>\r\n      <path d=\"M 46 62.703125 \r\nL 46 35.5 \r\nL 73.1875 35.5 \r\nL 73.1875 27.203125 \r\nL 46 27.203125 \r\nL 46 0 \r\nL 37.796875 0 \r\nL 37.796875 27.203125 \r\nL 10.59375 27.203125 \r\nL 10.59375 35.5 \r\nL 37.796875 35.5 \r\nL 37.796875 62.703125 \r\nz\r\n\" id=\"DejaVuSans-43\"/>\r\n     </defs>\r\n     <g transform=\"translate(89.160938 23.798437)scale(0.1 -0.1)\">\r\n      <use transform=\"translate(0 0.765625)\" xlink:href=\"#DejaVuSans-Oblique-101\"/>\r\n      <use transform=\"translate(66.173333 39.046875)scale(0.7)\" xlink:href=\"#DejaVuSans-Oblique-120\"/>\r\n      <use transform=\"translate(121.23681 39.046875)scale(0.7)\" xlink:href=\"#DejaVuSans-8722\"/>\r\n      <use transform=\"translate(193.526849 39.046875)scale(0.7)\" xlink:href=\"#DejaVuSans-51\"/>\r\n      <use transform=\"translate(260.279779 0.765625)\" xlink:href=\"#DejaVuSans-43\"/>\r\n      <use transform=\"translate(363.551263 0.765625)\" xlink:href=\"#DejaVuSans-Oblique-120\"/>\r\n      <use transform=\"translate(442.213372 0.765625)\" xlink:href=\"#DejaVuSans-8722\"/>\r\n      <use transform=\"translate(545.484857 0.765625)\" xlink:href=\"#DejaVuSans-50\"/>\r\n     </g>\r\n    </g>\r\n   </g>\r\n  </g>\r\n </g>\r\n <defs>\r\n  <clipPath id=\"pb287192b1e\">\r\n   <rect height=\"217.44\" width=\"334.8\" x=\"52.160938\" y=\"7.2\"/>\r\n  </clipPath>\r\n </defs>\r\n</svg>\r\n",
      "image/png": "[encoded data removed]"
     },
     "metadata": {
      "needs_background": "light"
     }
    }
   ],
   "source": [
    "x = np.arange(-5,5,0.001)\n",
    "y = f(x)\n",
    "plt.plot(x,y,label=r'$e^{x-3}+x-2$')\n",
    "plt.xlabel('x')\n",
    "plt.ylabel('f(x)')\n",
    "plt.axhline(y = 0,color = 'red')\n",
    "plt.legend()\n",
    "plt.show()"
   ]
  },
  {
   "cell_type": "code",
   "execution_count": 12,
   "metadata": {},
   "outputs": [
    {
     "output_type": "stream",
     "name": "stdout",
     "text": "root = 1.721535457238926\ncount = 3\n"
    }
   ],
   "source": [
    "x0 = 1.0\n",
    "root,count = Halley_method(f,f_1,f_2,x0)\n",
    "print(f'root = {root}\\ncount = {count}')"
   ]
  },
  {
   "cell_type": "markdown",
   "metadata": {},
   "source": [
    "Question 5"
   ]
  },
  {
   "cell_type": "markdown",
   "metadata": {},
   "source": [
    "Halley's method converges faster than Newton's method and bisection method, however, when we use Halley's method, we need to know the first and second derivatives, which is a little tricky to calculate"
   ]
  },
  {
   "cell_type": "markdown",
   "metadata": {},
   "source": [
    "### Problem 4 (20 points)\n",
    "Consider the following equations corresponding to measurements of two unknown quantities $(x_1,x_2)$\n",
    "$$\n",
    "    \\begin{aligned}\n",
    "        7x_1 −3x_2& = 5\\\\\n",
    "    −2x_1 + 5x_2 &= −10\\\\\n",
    "        3x_1 &= 8\n",
    "    \\end{aligned}\n",
    "$$\n",
    "    where $x_1$ and $x_2$ are scalars.   \n",
    "    (1) Write these equations as a single matrix-vector equation.       \n",
    "    (2) What `python` package will you apply to determine the least-squares solution?  Please write your code and the results on the paper.   \n",
    "    (3) What numerical method will you apply to determine the least-squares solution? Please describe your method briefly and write the corresponding pseudocode on the paper.   \n",
    "    (4) When you plug your solution into the equations, are any of the equalities satisfied? Why or why not?  "
   ]
  },
  {
   "cell_type": "code",
   "execution_count": 13,
   "metadata": {},
   "outputs": [
    {
     "output_type": "stream",
     "name": "stdout",
     "text": "x1 = 0.5850043591979078\nx2 = -1.3783783783783778\n"
    }
   ],
   "source": [
    "# question 2\n",
    "import numpy as np\n",
    "A = np.array(([7,-3],[-2,5],[3,0]))\n",
    "b = np.array(([5],[-10],[8]))\n",
    "q,r = np.linalg.qr(A)\n",
    "p = np.dot(q.T,b)\n",
    "x = np.dot(np.linalg.inv(r),p)\n",
    "print(f'x1 = {x[0][0]}\\nx2 = {x[1][0]}')"
   ]
  },
  {
   "cell_type": "code",
   "execution_count": 14,
   "metadata": {},
   "outputs": [
    {
     "output_type": "execute_result",
     "data": {
      "text/plain": "array([[ 8.23016565],\n       [-8.06190061],\n       [ 1.75501308]])"
     },
     "metadata": {},
     "execution_count": 14
    }
   ],
   "source": [
    "# question 4\n",
    "test_b = np.dot(A,x)\n",
    "test_b"
   ]
  },
  {
   "cell_type": "markdown",
   "metadata": {},
   "source": [
    "### Problem 5 (15 points)    \n",
    "It is required to fit a regression model of the form $z =f (x,y)$ to the following data:\n",
    "  \n",
    "   |   |   |   |   |   |  |  |  |  |   |\n",
    "   | ---- | ----- | ----- | ----- | ---- | ---- | ---- | ---- | ---- | ---- |\n",
    "     | $x$  | 0.5   | 1.0   | 1.0   | 2.0  | 2.5  | 2.0  | 3.0  | 3.5  | 4.0  |\n",
    "   | $y$  | 2.0   | 4.0   | 5.0   | 2.0  | 4.0  | 5.0  | 2.0  | 4.0  | 5.0  |\n",
    "   | $z$  | -0.19 | -0.32 | -1.00 | 3.71 | 4.49 | 2.48 | 6.31 | 7.71 | 9.51 |\n",
    "   (1) Describe the algorithm of normal equations to generate a model of the form $z =a+bx+cy$\n",
    "   (2) Derive the symmetrical matrix $A$ and the vector $b$ based on part (1) and write the results.\n",
    "   (3) Use `python` package to determine the numerical solutions of the parameters $a$, $b$ and $c$.  Write your code on paper.  \n",
    "   (4) Determine the reduced $\\chi^2$. Do you consider the model a good fit to the data? Why and why not?"
   ]
  },
  {
   "cell_type": "markdown",
   "metadata": {},
   "source": [
    "$f(x,y)= a + bx + cy$\n",
    "\n",
    "<font size = 3 color = black face = \"Times New Roman\">Then the minimizing $S$ yields is:\n",
    "$$\n",
    "S = \\sum[z_i - (a + bx_i+cy_i)]^2\\\\\n",
    "\\frac{\\partial S}{\\partial a}= - 2 \\sum[z_i - (a + bx_i+cy_i)] = 0\\\\\n",
    "\\frac{\\partial S}{\\partial b}= - 2 \\sum[z_i - (a + bx_i+cy_i)] x_i = 0\\\\\n",
    "\\frac{\\partial S}{\\partial c}= - 2 \\sum[z_i - (a + bx_i+cy_i)] y_i= 0\n",
    "$$\n",
    "<font size = 3 color = black face = \"Times New Roman\">Hence we are easy to know that\n",
    "$$\n",
    "\\begin{pmatrix}\n",
    "n && \\sum x_i && \\sum y_i\\\\\n",
    "\\sum x_i && \\sum x_i^2 && \\sum x_i y_i\\\\\n",
    "\\sum y_i && \\sum x_i y_i && \\sum y_i^2\\\\\n",
    "\\end{pmatrix}\n",
    "\\begin{pmatrix}\n",
    "a\\\\\n",
    "b\\\\\n",
    "c\\\\\n",
    "\\end{pmatrix}\n",
    "=\n",
    "\\begin{pmatrix}\n",
    "\\sum z_i\\\\\n",
    "\\sum x_i z_i\\\\\n",
    "\\sum y_i z_i\\\\\n",
    "\\end{pmatrix}\n",
    "$$"
   ]
  },
  {
   "cell_type": "code",
   "execution_count": 15,
   "metadata": {},
   "outputs": [],
   "source": [
    "import numpy as np\n",
    "x = np.array([0.5, 1.0, 1.0, 2.0, 2.5, 2.0, 3.0, 3.5, 4.0])\n",
    "y = np.array([2.0, 4.0, 5.0, 2.0, 4.0, 5.0, 2.0, 4.0, 5.0])\n",
    "z = np.array([-0.19, -0.32, -1.00, 3.71, 4.49, 2.48, 6.31, 7.71, 9.51])"
   ]
  },
  {
   "cell_type": "code",
   "execution_count": 16,
   "metadata": {},
   "outputs": [],
   "source": [
    "# Define matrix A.\n",
    "A = np.zeros((3,3))\n",
    "A[0][0] = len(x)\n",
    "A[1][1] = (x**2).sum()\n",
    "A[2][2] = (y**2).sum()\n",
    "A[0][1] = A[1][0] = x.sum()\n",
    "A[0][2] = A[2][0] = y.sum()\n",
    "A[1][2] = A[2][1] = (x*y).sum()"
   ]
  },
  {
   "cell_type": "code",
   "execution_count": 17,
   "metadata": {},
   "outputs": [],
   "source": [
    "# Define matrix b\n",
    "b_matrix = np.array([z.sum(), (x*z).sum(), (y*z).sum()])"
   ]
  },
  {
   "cell_type": "code",
   "execution_count": 18,
   "metadata": {},
   "outputs": [
    {
     "output_type": "stream",
     "name": "stdout",
     "text": "a = -1.7238879913839504\nb = 3.157059773828758\nc = -0.40447495961227986\n"
    }
   ],
   "source": [
    "a_matrix = np.dot(np.linalg.inv(A),b_matrix)\n",
    "print(f'a = {a_matrix[0]}\\nb = {a_matrix[1]}\\nc = {a_matrix[2]}')"
   ]
  },
  {
   "cell_type": "code",
   "execution_count": 19,
   "metadata": {},
   "outputs": [
    {
     "output_type": "stream",
     "name": "stdout",
     "text": "reduced chis_quare is 0.2628257404415725\n"
    }
   ],
   "source": [
    "fitting_value = a_matrix[0] + a_matrix[1] * x + a_matrix[2] * y\n",
    "freedom = len(z) - 3\n",
    "reduced_chi_square = ((z - fitting_value)**2).sum() / freedom\n",
    "print(f'reduced chis_quare is {reduced_chi_square}')"
   ]
  },
  {
   "cell_type": "markdown",
   "metadata": {},
   "source": [
    "### Problem 6 (15 points)    \n",
    "Apply the Newton' method to solve the following nonlinear equations\n",
    "   $$\n",
    "   \\begin{cases}\n",
    "   3x_1-\\cos(x_2x_3)-3/2=0\\\\\n",
    "   4x_1^2 -625 x_2^2+2x_3-1=0\\\\\n",
    "   20x_3+e^{-x_1x_1} + 9=0\n",
    "   \\end{cases}\n",
    "   $$  \n",
    "   starting with trial values $x_0=(1, 1,1)^T$.       \n",
    "   (1) Describe the Newton's method for multivariate systems briefly.    \n",
    "   (2) Determine the analytical expression of the Jacobian matrix.    \n",
    "   (3) We now start with the first iteration. You are required to calculate the next trial value of $x_1$. Read the following code and find out what numerical method is used here? What would you suggest to make the script more readable?     "
   ]
  },
  {
   "cell_type": "code",
   "execution_count": 20,
   "metadata": {},
   "outputs": [],
   "source": [
    "def my_function(A):\n",
    "    l = len(A)\n",
    "    P = [[0.0] * n for i in xrange(n)]\n",
    "    Q = [[0.0] * n for i in xrange(n)]\n",
    "    S = pivot_matrix(A)\n",
    "    SA = mult_matrix(S, A)\n",
    "    for j in xrange(n):\n",
    "        P[j][j] = 1.0\n",
    "        for i in xrange(j+1):\n",
    "            s1 = sum(Q[k][j] * P[i][k] for k in xrange(i))\n",
    "            Q[i][j] = PA[i][j] - s1\n",
    "        for i in xrange(j, n):\n",
    "            s2 = sum(Q[k][j] * P[i][k] for k in xrange(j))\n",
    "            P[i][j] = (SA[i][j] - s2) / Q[j][j]\n",
    "    return (S, P, Q)"
   ]
  },
  {
   "cell_type": "markdown",
   "metadata": {},
   "source": [
    "The code is LU decomposition."
   ]
  },
  {
   "cell_type": "code",
   "execution_count": 21,
   "metadata": {},
   "outputs": [],
   "source": [
    "def my_function(A):\n",
    "    n = len(A)\n",
    "    L = [[0.0] * n for i in range(n)]\n",
    "    Q = [[0.0] * n for i in range(n)]\n",
    "    S = pivot_matrix(A)\n",
    "    SA = mult_matrix(S, A)\n",
    "    for j in range(n):\n",
    "        P[j][j] = 1.0\n",
    "        for i in range(j+1):\n",
    "            s1 = sum(Q[k][j] * P[i][k] for k in xrange(i))\n",
    "            Q[i][j] = PA[i][j] - s1\n",
    "        for i in range(j, n):\n",
    "            s2 = sum(Q[k][j] * P[i][k] for k in xrange(j))\n",
    "            P[i][j] = (SA[i][j] - s2) / Q[j][j]\n",
    "    return (S, L, Q)"
   ]
  },
  {
   "cell_type": "markdown",
   "metadata": {},
   "source": [
    "I think this code is more readable."
   ]
  }
 ],
 "metadata": {
  "kernelspec": {
   "display_name": "Python 3",
   "language": "python",
   "name": "python3"
  },
  "language_info": {
   "codemirror_mode": {
    "name": "ipython",
    "version": 3
   },
   "file_extension": ".py",
   "mimetype": "text/x-python",
   "name": "python",
   "nbconvert_exporter": "python",
   "pygments_lexer": "ipython3",
   "version": "3.7.4-final"
  }
 },
 "nbformat": 4,
 "nbformat_minor": 4
}