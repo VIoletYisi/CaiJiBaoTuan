{
 "nbformat": 4,
 "nbformat_minor": 2,
 "metadata": {
  "language_info": {
   "name": "python",
   "codemirror_mode": {
    "name": "ipython",
    "version": 3
   },
   "version": "3.7.4-final"
  },
  "orig_nbformat": 2,
  "file_extension": ".py",
  "mimetype": "text/x-python",
  "name": "python",
  "npconvert_exporter": "python",
  "pygments_lexer": "ipython3",
  "version": 3,
  "kernelspec": {
   "name": "python3",
   "display_name": "Python 3"
  }
 },
 "cells": [
  {
   "cell_type": "markdown",
   "metadata": {},
   "source": [
    "# Individual Assignment Week 3\n",
    "--------\n",
    "By 黄家乐 518070910071\n",
    "--------"
   ]
  },
  {
   "cell_type": "code",
   "execution_count": 4,
   "metadata": {},
   "outputs": [],
   "source": [
    "import sys"
   ]
  },
  {
   "cell_type": "markdown",
   "metadata": {},
   "source": [
    "--------\n",
    "### Problem 1"
   ]
  },
  {
   "cell_type": "code",
   "execution_count": 3,
   "metadata": {},
   "outputs": [
    {
     "output_type": "stream",
     "name": "stdout",
     "text": "1.5648180798146291e-34\n"
    }
   ],
   "source": [
    "s = 0\n",
    "e = 14 \n",
    "f = 1.625\n",
    "p = e - 127\n",
    "A = (-1) ** s * f * 2 ** p\n",
    "print(A)"
   ]
  },
  {
   "cell_type": "markdown",
   "metadata": {},
   "source": [
    "--------\n",
    "### Problem 2"
   ]
  },
  {
   "cell_type": "markdown",
   "metadata": {},
   "source": [
    "Before writing this program, I verified that multiplying its maximum value by 1.0001 on the computer would give me the result'inf' , and dividing its minimum value by 2 would give me the result '0' . That is why I use 'inf' and '0' in 'if'."
   ]
  },
  {
   "cell_type": "code",
   "execution_count": 1,
   "metadata": {},
   "outputs": [
    {
     "output_type": "stream",
     "name": "stdout",
     "text": "1.797690550538393e+308\n5e-324\n"
    }
   ],
   "source": [
    "under, over, under_last, over_last = 1. , 1. , 1. , 1.\n",
    "\n",
    "for i in range(1000000000):\n",
    "    over = over_last\n",
    "    over_last *= 1.0001\n",
    "    if over_last == float('inf'):\n",
    "        print(over)\n",
    "        break\n",
    "for i in range(1000000000):\n",
    "    under = under_last\n",
    "    under_last /= 2\n",
    "    if under_last == 0:\n",
    "        print(under)\n",
    "        break"
   ]
  },
  {
   "cell_type": "markdown",
   "metadata": {},
   "source": [
    "--------\n",
    "### Problem 3"
   ]
  },
  {
   "cell_type": "markdown",
   "metadata": {},
   "source": [
    "If $\\epsilon + 1 == 1 $ is 'True' in my computer, then the $\\epsilon$ should be equal or less than my machine precision. Using this method I write down my code "
   ]
  },
  {
   "cell_type": "code",
   "execution_count": 2,
   "metadata": {},
   "outputs": [
    {
     "output_type": "stream",
     "name": "stdout",
     "text": "1.1102230246251565e-16\n"
    }
   ],
   "source": [
    "eps = 1.\n",
    "one = 1\n",
    "while one + eps != 1:\n",
    "    eps = eps / 2.\n",
    "    one = 1\n",
    "print(eps)"
   ]
  },
  {
   "cell_type": "code",
   "execution_count": null,
   "metadata": {},
   "outputs": [],
   "source": []
  }
 ]
}