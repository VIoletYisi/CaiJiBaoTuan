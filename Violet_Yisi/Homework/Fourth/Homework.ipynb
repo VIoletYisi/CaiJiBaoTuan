{
 "nbformat": 4,
 "nbformat_minor": 2,
 "metadata": {
  "language_info": {
   "name": "python",
   "codemirror_mode": {
    "name": "ipython",
    "version": 3
   },
   "version": "3.7.4-final"
  },
  "orig_nbformat": 2,
  "file_extension": ".py",
  "mimetype": "text/x-python",
  "name": "python",
  "npconvert_exporter": "python",
  "pygments_lexer": "ipython3",
  "version": 3,
  "kernelspec": {
   "name": "python3",
   "display_name": "Python 3"
  }
 },
 "cells": [
  {
   "cell_type": "markdown",
   "metadata": {},
   "source": [
    "# <font size = 4 color = black face = \"Times New Roman\">Individual Assignment Week 3\n",
    "--------\n",
    "<font size = 4 color = black face = \"Times New Roman\">By 黄家乐 518070910071\n",
    "--------"
   ]
  },
  {
   "cell_type": "code",
   "execution_count": 1,
   "metadata": {},
   "outputs": [],
   "source": [
    "import numpy as np\n",
    "from sympy import *"
   ]
  },
  {
   "cell_type": "markdown",
   "metadata": {},
   "source": [
    "#### <font size = 4 color = black face = \"Times New Roman\">Problem 1"
   ]
  },
  {
   "cell_type": "markdown",
   "metadata": {},
   "source": [
    "<font size = 4 color = black face = \"Times New Roman\">Fom this problem, I wil write them as:\n",
    "\n",
    "a) ${ln(x + 1) - ln(x) = ln(1+\\frac{1}{x}) }$\n",
    "\n",
    "b) ${\\sqrt{x^2 +1}-x = {\\frac {1} {\\sqrt{x^2 + 1} + x}}}$\n",
    "\n",
    "c) ${cos^2(x) - sin^2(x) = cos(2x)}$\n",
    "\n",
    "d) ${\\sqrt{\\frac{1+cos(x)} {2}} = cos({\\frac{x}{2}})}$"
   ]
  },
  {
   "cell_type": "markdown",
   "metadata": {},
   "source": [
    "#### <font size = 4 color = black face = \"Times New Roman\">Problem 2"
   ]
  },
  {
   "cell_type": "markdown",
   "metadata": {},
   "source": [
    "<font size = 4 color = black face = \"Times New Roman\">To solve this problem we need to know the double-precision of my computer. To make it more easier, I will use it from  my last homework, where $\\epsilon = 1.0 \\times 10^{-16}$\n",
    "\n",
    "The formula what I use to solve the problem is \n",
    "\n",
    "a) $\\epsilon_{tot}=\\epsilon_{approx}+\\epsilon_{ro}={\\frac{1}{N^2}+\\sqrt{N}\\epsilon_{m}}$\n",
    "\n",
    "b) $\\epsilon_{tot}=\\epsilon_{approx}+\\epsilon_{ro}={\\frac{2}{N^4}+\\sqrt{N}\\epsilon_{m}}$ \n"
   ]
  },
  {
   "cell_type": "markdown",
   "metadata": {},
   "source": [
    "<font size = 4 color = black face = \"Times New Roman\">My answers:\n",
    "\n",
    "a) ${\\frac{d\\epsilon_{tot}}{dN}}=0 \\Rightarrow N^{5/2} = {\\frac{4}{10^{-16}}}\\Rightarrow N = 4373448 \\Rightarrow \\epsilon_{tot} = 2.6 \\times 10^{-13} $ "
   ]
  },
  {
   "cell_type": "code",
   "execution_count": 2,
   "metadata": {},
   "outputs": [
    {
     "output_type": "stream",
     "name": "stdout",
     "text": "4373448.295773116\n"
    }
   ],
   "source": [
    "eps_m = 10 ** (-16)\n",
    "N = (4 / eps_m) ** (2 / 5)\n",
    "print(N)"
   ]
  },
  {
   "cell_type": "code",
   "execution_count": 3,
   "metadata": {},
   "outputs": [
    {
     "output_type": "stream",
     "name": "stdout",
     "text": "2.6140988814781887e-13\n"
    }
   ],
   "source": [
    "N = 4373448\n",
    "eps_tot = 1 / ((N) ** 2) + np.sqrt(N) * eps_m\n",
    "print(eps_tot)"
   ]
  },
  {
   "cell_type": "markdown",
   "metadata": {},
   "source": [
    "b) ${\\frac{d\\epsilon_{tot}}{dN}}=0 \\Rightarrow N^{9/2} = {\\frac{16}{10^{-16}}}\\Rightarrow N = 6655 \\Rightarrow \\epsilon_{tot} = 9.2 \\times 10^{-15} $ "
   ]
  },
  {
   "cell_type": "code",
   "execution_count": 4,
   "metadata": {},
   "outputs": [
    {
     "output_type": "stream",
     "name": "stdout",
     "text": "6654.842383978482\n"
    }
   ],
   "source": [
    "eps_m = 10 ** (-16)\n",
    "N = (16 / eps_m) ** (2 / 9)\n",
    "print(N)"
   ]
  },
  {
   "cell_type": "code",
   "execution_count": 5,
   "metadata": {},
   "outputs": [
    {
     "output_type": "stream",
     "name": "stdout",
     "text": "9.177436952478371e-15\n"
    }
   ],
   "source": [
    "N = 6655\n",
    "eps_tot = 2 / ((N) ** 4) + np.sqrt(N) * eps_m\n",
    "print(eps_tot)"
   ]
  },
  {
   "cell_type": "markdown",
   "metadata": {},
   "source": [
    "#### <font size = 4 color = black face = \"Times New Roman\">Problem 3"
   ]
  },
  {
   "cell_type": "markdown",
   "metadata": {},
   "source": [
    "<font size = 4 color = black face = \"Times New Roman\">We can think of this problem as solving a system of quadrilaterals. So the problem becomes more easier.\n",
    "\n",
    "Here, we have:\n",
    "\n",
    "${\\pi_8 = \\pi_{\\infty} + \\frac{c_1}{8} + \\frac {c_2}{8^2} + \\frac{c_3}{8^3}=3.061467}$\n",
    "\n",
    "${\\pi_{16} = \\pi_{\\infty} + \\frac{c_1}{16} + \\frac {c_2}{16^2} + \\frac{c_3}{16^3}=3.121445}$\n",
    "\n",
    "${\\pi_{32} = \\pi_{\\infty} + \\frac{c_1}{32} + \\frac {c_2}{32^2} + \\frac{c_3}{32^3}=3.136548}$\n",
    "\n",
    "${\\pi_{64} = \\pi_{\\infty} + \\frac{c_1}{64} + \\frac {c_2}{64^2} + \\frac{c_3}{64^3}=3.140331}$"
   ]
  },
  {
   "cell_type": "code",
   "execution_count": 6,
   "metadata": {},
   "outputs": [
    {
     "output_type": "execute_result",
     "data": {
      "text/plain": "{x: 3.14158376190476,\n y: 0.00107733333333333,\n z: -5.20942933333333,\n f: 0.586703238095238}"
     },
     "metadata": {},
     "execution_count": 6
    }
   ],
   "source": [
    "pi_inf = symbols('x')\n",
    "c_1 = symbols('y')\n",
    "c_2 = symbols('z')\n",
    "c_3 = symbols('f')\n",
    "pi_8 = pi_inf + c_1 / 8 + c_2 / (8 ** 2) + c_3 /(8 ** 3) - 3.061467\n",
    "pi_16 = pi_inf + c_1 / 16 + c_2 / (16 ** 2) + c_3 /(16 ** 3) - 3.121445\n",
    "pi_32 = pi_inf + c_1 / 32 + c_2 / (32 ** 2) + c_3 /(32 ** 3) - 3.136548\n",
    "pi_64 = pi_inf + c_1 / 64 + c_2 / (64 ** 2) + c_3 /(64 ** 3) - 3.140331\n",
    "solve([pi_8,pi_16,pi_32,pi_64],[pi_inf,c_1,c_2,c_3])"
   ]
  },
  {
   "cell_type": "markdown",
   "metadata": {},
   "source": [
    "From it, we get $\\pi_{\\infty}=3.14158376190476$, and obviously $c_1$ is most significant when $k$ is big enough. Because when $k$ is large, $|\\frac{c_1}{k}|>>|\\frac{c_2}{k^2}|>>|\\frac{c_3}{k^3}|$."
   ]
  },
  {
   "cell_type": "markdown",
   "metadata": {},
   "source": [
    "#### <font size = 4 color = black face = \"Times New Roman\">Problem 4"
   ]
  },
  {
   "cell_type": "markdown",
   "metadata": {},
   "source": [
    "By using my knowledge, I know that to make $g(x)$ approximate $\\sqrt5$ I should choose $a=5$."
   ]
  },
  {
   "cell_type": "code",
   "execution_count": 7,
   "metadata": {},
   "outputs": [
    {
     "output_type": "stream",
     "name": "stdout",
     "text": "2.23606797749979\n2.23606797749979\n"
    }
   ],
   "source": [
    "x = 2\n",
    "for i in range (1,1000000):\n",
    "    x = 1 / 2 * (x + 5 / x)\n",
    "print(x)\n",
    "print(np.sqrt(5))"
   ]
  },
  {
   "cell_type": "markdown",
   "metadata": {},
   "source": [
    "<font size = 4 color = black face = \"Times New Roman\">The answer is right!"
   ]
  }
 ]
}