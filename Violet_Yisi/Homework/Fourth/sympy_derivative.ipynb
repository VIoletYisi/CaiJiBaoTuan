{
 "cells": [
  {
   "cell_type": "code",
   "execution_count": null,
   "metadata": {},
   "outputs": [],
   "source": [
    "\"\"\"\n",
    "Svein Linge, Hans Petter Langtangen, (Texts In Computational Science And Engineering v. 15)  \n",
    "- Programming For Computations - Python, A Gentle Introduction To Numerical Simulations With Python 3.6\n",
    "7.2.2 Newton's methodMaking aMore Efficient and Robust Implementation, p. 187\n",
    "\"\"\""
   ]
  },
  {
   "cell_type": "code",
   "execution_count": 5,
   "metadata": {},
   "outputs": [
    {
     "name": "stdout",
     "output_type": "stream",
     "text": [
      "0 6\n"
     ]
    }
   ],
   "source": [
    "import sympy\n",
    "\n",
    "x = sym.symbols('x')\n",
    "\n",
    "f_expr = x**2 - 9 # symbolic expression for f(x)\n",
    "dfdx_expr = sympy.diff(f_expr, x) # compute f’(x) symbolically\n",
    "\n",
    "# turn f_expr and dfdx_expr into plain Python functions\n",
    "f = sympy.lambdify([x], f_expr) # symbolic expression to be evaluated\n",
    "dfdx = sympy.lambdify([x], dfdx_expr)\n",
    "\n",
    "print(f(3), dfdx(3)) # will print 0 and 6"
   ]
  },
  {
   "cell_type": "code",
   "execution_count": null,
   "metadata": {},
   "outputs": [],
   "source": []
  }
 ],
 "metadata": {
  "kernelspec": {
   "display_name": "Python 3",
   "language": "python",
   "name": "python3"
  },
  "language_info": {
   "codemirror_mode": {
    "name": "ipython",
    "version": 3
   },
   "file_extension": ".py",
   "mimetype": "text/x-python",
   "name": "python",
   "nbconvert_exporter": "python",
   "pygments_lexer": "ipython3",
   "version": "3.7.4"
  }
 },
 "nbformat": 4,
 "nbformat_minor": 4
}
