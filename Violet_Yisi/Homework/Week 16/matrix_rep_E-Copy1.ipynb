{
 "cells": [
  {
   "cell_type": "markdown",
   "metadata": {},
   "source": [
    "**Computing quantum eigenvalues made easy**         \n",
    "by H.J. Korsch and M.Glueck\n",
    "Eur. J. Phys. 23 (2002) 413–426"
   ]
  },
  {
   "cell_type": "code",
   "execution_count": 1,
   "metadata": {},
   "outputs": [],
   "source": [
    "import numpy as np\n",
    "import scipy.linalg as la"
   ]
  },
  {
   "cell_type": "markdown",
   "metadata": {},
   "source": [
    "**harmonic oscillator**"
   ]
  },
  {
   "cell_type": "code",
   "execution_count": 2,
   "metadata": {},
   "outputs": [],
   "source": [
    "def harmonic_oscillator_eigenvalues(omega0=1,lowest=5,N=10):\n",
    "    \n",
    "    mass = 1\n",
    "    s = 1/np.sqrt(mass*omega0)\n",
    "    \n",
    "    n = np.arange(1,N)\n",
    "    m = np.sqrt(n)\n",
    "    \n",
    "    x = s/np.sqrt(2) * (np.diag(m,-1) + np.diag(m,1))\n",
    "    p = 1j/s/np.sqrt(2) * (np.diag(m,-1) - np.diag(m,1))\n",
    "    \n",
    "    # V(x)=mw^2x^2/2, harmonic oscillator\n",
    "    H = np.dot(p,p)/2/mass + mass*omega0*omega0*np.dot(x,x)/2\n",
    "    \n",
    "    E = la.eigh(H, eigvals_only=True)\n",
    "    \n",
    "    ns = np.arange(0,lowest)\n",
    "    E_exact =  omega0 * (ns + 0.5)\n",
    "    print('harmonic oscillator, max error = {:}'.format(max(abs(E[ns] - E_exact))))\n",
    "    \n",
    "    return E[0:lowest]"
   ]
  },
  {
   "cell_type": "markdown",
   "metadata": {},
   "source": [
    "**aharmonic oscillator**"
   ]
  },
  {
   "cell_type": "code",
   "execution_count": 3,
   "metadata": {},
   "outputs": [],
   "source": [
    "def aharmonic_oscillator_eigenvalues(mass=1,omega0=1,lowest=5,N=50):\n",
    "    \n",
    "    s = 1/np.sqrt(mass*omega0)\n",
    "    \n",
    "    n = np.arange(1,N)\n",
    "    m = np.sqrt(n)\n",
    "    \n",
    "    x = s/np.sqrt(2) * (np.diag(m,-1) + np.diag(m,1))\n",
    "    p = 1j/s/np.sqrt(2) * (np.diag(m,-1) - np.diag(m,1))\n",
    "    \n",
    "    # V(x)=mw^2x^4/2\n",
    "    H = np.dot(p,p)/2/mass + mass*omega0*omega0*np.dot(np.dot(x,x),np.dot(x,x))/2\n",
    "    \n",
    "    E = la.eigh(H, eigvals_only=True)\n",
    "    return E[0:lowest]"
   ]
  },
  {
   "cell_type": "markdown",
   "metadata": {},
   "source": [
    "**Morse oscillator**\n",
    "$$\\begin{aligned}\n",
    "V(x) &= D(1 − e^{−\\beta x})^2\\\\\n",
    "E_n & = \\hbar\\omega_0\\left(n+\\frac{1}{2}\\right)-\\frac{\\hbar^2\\omega_0^2}{4D}\\left(n+\\frac{1\n",
    "}{2}\\right)^2\\\\\n",
    "\\omega_0^2&=\\frac{2D\\beta^2}{m}\n",
    "\\end{aligned}$$"
   ]
  },
  {
   "cell_type": "code",
   "execution_count": 4,
   "metadata": {},
   "outputs": [],
   "source": [
    "def Morse_oscillator_eigenvalues(mass=1,D=1,beta=0.3,lowest=5,N=50):\n",
    "    # V(x) = D(1 − e^−bx)^2, Morse oscillator\n",
    "    \n",
    "    pass"
   ]
  },
  {
   "cell_type": "code",
   "execution_count": 5,
   "metadata": {},
   "outputs": [],
   "source": [
    "def matrix_rep_E_eigenvalues():\n",
    "    harmonic_oscillator_eigenvalues(omega0=1,lowest=10,N=10)\n",
    "    aharmonic_oscillator_eigenvalues(mass=1,omega0=1,lowest=5,N=50)\n",
    "    #Morse_oscillator_eigenvalues(mass=2,D=2,beta=0.3,lowest=5,N=50)    "
   ]
  },
  {
   "cell_type": "code",
   "execution_count": 6,
   "metadata": {},
   "outputs": [
    {
     "name": "stdout",
     "output_type": "stream",
     "text": [
      "harmonic oscillator, max error = 1.0000000000000018\n"
     ]
    }
   ],
   "source": [
    "if __name__ == '__main__':\n",
    "    matrix_rep_E_eigenvalues()"
   ]
  },
  {
   "cell_type": "code",
   "execution_count": null,
   "metadata": {},
   "outputs": [],
   "source": []
  },
  {
   "cell_type": "code",
   "execution_count": null,
   "metadata": {},
   "outputs": [],
   "source": []
  }
 ],
 "metadata": {
  "kernelspec": {
   "display_name": "Python 3",
   "language": "python",
   "name": "python3"
  },
  "language_info": {
   "codemirror_mode": {
    "name": "ipython",
    "version": 3
   },
   "file_extension": ".py",
   "mimetype": "text/x-python",
   "name": "python",
   "nbconvert_exporter": "python",
   "pygments_lexer": "ipython3",
   "version": "3.7.4"
  }
 },
 "nbformat": 4,
 "nbformat_minor": 4
}
