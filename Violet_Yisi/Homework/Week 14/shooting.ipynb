{
 "cells": [
  {
   "cell_type": "markdown",
   "metadata": {},
   "source": [
    "Computational Quantum Mechanics  \n",
    "by Joshua Izaac, Jingbo Wang  \n",
    "Example 9.1 Solve the following differential equation using the bisection shooting method  \n",
    "$y^{\\prime\\prime}+5y^\\prime= 5x$, $x\\in[0,1]$, $y(0) = 1$, $y(1) = 0$.  \n",
    "\n",
    "Transform the second-order differential equation into the dynamic form of 1st-order differntial equations:  \n",
    "$$\n",
    "\\frac{d}{dt}\\begin{pmatrix}\n",
    "y\\\\\n",
    "y^\\prime\n",
    "\\end{pmatrix}\n",
    "=\\begin{pmatrix}\n",
    "y^\\prime\\\\\n",
    "5x - 5y^\\prime\n",
    "\\end{pmatrix}\n",
    "$$\n",
    "thus\n",
    "$$\n",
    "\\frac{d}{dt}\\begin{pmatrix}\n",
    "y_0\\\\\n",
    "y_1\n",
    "\\end{pmatrix}\n",
    "=\\begin{pmatrix}\n",
    "y_1\\\\\n",
    "5x - 5y_1\n",
    "\\end{pmatrix}\n",
    "$$\n",
    "\n",
    "**The solution doesn't agree with the text.**"
   ]
  },
  {
   "cell_type": "code",
   "execution_count": 1,
   "metadata": {},
   "outputs": [],
   "source": [
    "import numpy as np\n",
    "import matplotlib.pyplot as plt\n",
    "import sys\n",
    "%matplotlib inline"
   ]
  },
  {
   "cell_type": "code",
   "execution_count": 2,
   "metadata": {},
   "outputs": [],
   "source": [
    "from root_solver import bisection\n",
    "from ode_solver import heun, rk4"
   ]
  },
  {
   "cell_type": "code",
   "execution_count": 3,
   "metadata": {},
   "outputs": [],
   "source": [
    "dx = 0.01\n",
    "xlow = 0\n",
    "xhigh = 1\n",
    "x = np.arange(xlow,xhigh+dx,dx)"
   ]
  },
  {
   "cell_type": "code",
   "execution_count": 4,
   "metadata": {},
   "outputs": [],
   "source": [
    "def drive_func(y,x,args=None):\n",
    "    dydx = [y[1], 5*x - 5*y[1]]\n",
    "    return dydx"
   ]
  },
  {
   "cell_type": "code",
   "execution_count": 5,
   "metadata": {},
   "outputs": [],
   "source": [
    "def solve_ode(alpha):\n",
    "    y0 = 1\n",
    "    y0 = np.array([y0,alpha])   \n",
    "    #y = heun(drive_func,y0,x)\n",
    "    y = rk4(drive_func,y0,x)\n",
    "    return y"
   ]
  },
  {
   "cell_type": "code",
   "execution_count": 6,
   "metadata": {},
   "outputs": [],
   "source": [
    "def root_func(alpha): # alpha: y'(0)\n",
    "    yL = 0\n",
    "    y = solve_ode(alpha)\n",
    "    res = y[-1,0] - yL\n",
    "    return res "
   ]
  },
  {
   "cell_type": "code",
   "execution_count": 7,
   "metadata": {},
   "outputs": [],
   "source": [
    "def plot_root_func(ax):\n",
    "    alphas = np.linspace(-10,10,20)\n",
    "    root_func_values = np.zeros(len(alphas))\n",
    "    \n",
    "    for idx,alpha in enumerate(alphas):\n",
    "        root_func_values[idx] = root_func(alpha)\n",
    "    \n",
    "    ax.plot(alphas, root_func_values,'ro-')\n",
    "    ax.grid('on')\n",
    "    ax.axhline()"
   ]
  },
  {
   "cell_type": "code",
   "execution_count": 8,
   "metadata": {},
   "outputs": [],
   "source": [
    "def shoot_bisection():\n",
    "    # plot the function to seek the inital interval\n",
    "    fig,ax = plt.subplots(1,2,figsize=(10,7))\n",
    "    plot_root_func(ax[0])\n",
    "    \n",
    "    tol = 0.5e-4\n",
    "    alpha, iteration_counter = bisection(root_func,-8,0,tol)\n",
    "    print(alpha)\n",
    "    \n",
    "    y = solve_ode(alpha)\n",
    "    \n",
    "    ax[1].plot(x, y[:,0],'b.-')\n",
    "    ax[1].grid('on')    \n",
    "    ax[1].set_xlabel('x')\n",
    "    ax[1].set_ylabel('y')\n",
    "    ax[1].set_title('$y^{\\prime\\prime}+5y^\\prime= 5x, y(0) = 1, y(1) = 0$')"
   ]
  },
  {
   "cell_type": "code",
   "execution_count": 9,
   "metadata": {},
   "outputs": [
    {
     "name": "stdout",
     "output_type": "stream",
     "text": [
      "-6.7440948486328125\n"
     ]
    },
    {
     "data": {
      "image/png": "[encoded data removed]",
      "text/plain": [
       "<Figure size 720x504 with 2 Axes>"
      ]
     },
     "metadata": {
      "needs_background": "light"
     },
     "output_type": "display_data"
    }
   ],
   "source": [
    "if __name__ == '__main__':\n",
    "    shoot_bisection()"
   ]
  },
  {
   "cell_type": "code",
   "execution_count": null,
   "metadata": {},
   "outputs": [],
   "source": []
  },
  {
   "cell_type": "code",
   "execution_count": null,
   "metadata": {},
   "outputs": [],
   "source": []
  }
 ],
 "metadata": {
  "kernelspec": {
   "display_name": "Python 3",
   "language": "python",
   "name": "python3"
  },
  "language_info": {
   "codemirror_mode": {
    "name": "ipython",
    "version": 3
   },
   "file_extension": ".py",
   "mimetype": "text/x-python",
   "name": "python",
   "nbconvert_exporter": "python",
   "pygments_lexer": "ipython3",
   "version": "3.7.4"
  }
 },
 "nbformat": 4,
 "nbformat_minor": 4
}
