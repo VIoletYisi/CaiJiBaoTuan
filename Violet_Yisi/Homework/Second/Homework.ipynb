{
 "nbformat": 4,
 "nbformat_minor": 2,
 "metadata": {
  "language_info": {
   "name": "python",
   "codemirror_mode": {
    "name": "ipython",
    "version": 3
   },
   "version": "3.7.4-final"
  },
  "orig_nbformat": 2,
  "file_extension": ".py",
  "mimetype": "text/x-python",
  "name": "python",
  "npconvert_exporter": "python",
  "pygments_lexer": "ipython3",
  "version": 3,
  "kernelspec": {
   "name": "python3",
   "display_name": "Python 3"
  }
 },
 "cells": [
  {
   "cell_type": "markdown",
   "metadata": {},
   "source": [
    "# Individual Assignment"
   ]
  },
  {
   "cell_type": "markdown",
   "metadata": {},
   "source": [
    "### Problem 1\n",
    "#### Question (a)\n",
    " "
   ]
  },
  {
   "cell_type": "code",
   "execution_count": 2,
   "metadata": {},
   "outputs": [
    {
     "name": "stdout",
     "output_type": "stream",
     "text": "[3, 6, 9]\n"
    }
   ],
   "source": [
    "matrix_list=[[1,2,3],[4,5,6],[7,8,9]]\n",
    "matrix_1=[matrix_list[i][-1] for i in range (3)]\n",
    "print(matrix_1)"
   ]
  },
  {
   "cell_type": "markdown",
   "metadata": {},
   "source": [
    "#### Question(b)"
   ]
  },
  {
   "cell_type": "code",
   "execution_count": 3,
   "metadata": {},
   "outputs": [
    {
     "name": "stdout",
     "output_type": "stream",
     "text": "[8, 50, 128]\n"
    }
   ],
   "source": [
    "matrix_2=[2 * matrix_list[i][1] ** 2 for i in range (3)] \n",
    "print(matrix_2)"
   ]
  },
  {
   "cell_type": "markdown",
   "metadata": {},
   "source": [
    "### Problem 2\n",
    "#### Question (a)"
   ]
  },
  {
   "cell_type": "code",
   "execution_count": 4,
   "metadata": {},
   "outputs": [
    {
     "name": "stdout",
     "output_type": "stream",
     "text": "[[1. 1. 1. 1. 1. 1. 1. 1.]\n [1. 0. 0. 0. 0. 0. 0. 1.]\n [1. 0. 0. 0. 0. 0. 0. 1.]\n [1. 0. 0. 0. 0. 0. 0. 1.]\n [1. 0. 0. 0. 0. 0. 0. 1.]\n [1. 0. 0. 0. 0. 0. 0. 1.]\n [1. 0. 0. 0. 0. 0. 0. 1.]\n [1. 1. 1. 1. 1. 1. 1. 1.]]\n"
    }
   ],
   "source": [
    "import numpy as np\n",
    "\n",
    "x = np.ones((8,8))\n",
    "x[1:-1,1:-1] = 0\n",
    "print(x)"
   ]
  },
  {
   "cell_type": "markdown",
   "metadata": {},
   "source": [
    "#### Question (b)"
   ]
  },
  {
   "cell_type": "code",
   "execution_count": 6,
   "metadata": {},
   "outputs": [
    {
     "name": "stdout",
     "output_type": "stream",
     "text": "[[1. 0. 1. 0. 1. 0. 1. 0.]\n [0. 1. 0. 1. 0. 1. 0. 1.]\n [1. 0. 1. 0. 1. 0. 1. 0.]\n [0. 1. 0. 1. 0. 1. 0. 1.]\n [1. 0. 1. 0. 1. 0. 1. 0.]\n [0. 1. 0. 1. 0. 1. 0. 1.]\n [1. 0. 1. 0. 1. 0. 1. 0.]\n [0. 1. 0. 1. 0. 1. 0. 1.]]\n"
    }
   ],
   "source": [
    "y = np.ones((8,8))\n",
    "y[::2,1::2] = 0\n",
    "y[1::2,::2] = 0\n",
    "print(y)\n"
   ]
  },
  {
   "cell_type": "markdown",
   "metadata": {},
   "source": [
    "#### Question (c)"
   ]
  },
  {
   "cell_type": "code",
   "execution_count": 7,
   "metadata": {},
   "outputs": [
    {
     "name": "stdout",
     "output_type": "stream",
     "text": "[ -2  -7  12 -17 -22  27 -32 -37  42 -47]\n"
    }
   ],
   "source": [
    "c = np.arange(2,50,5)\n",
    "c[c%3!=0] = -c[c%3!=0]\n",
    "print(c)"
   ]
  },
  {
   "cell_type": "markdown",
   "metadata": {},
   "source": [
    "#### Question (d)"
   ]
  },
  {
   "cell_type": "code",
   "execution_count": 8,
   "metadata": {},
   "outputs": [
    {
     "name": "stdout",
     "output_type": "stream",
     "text": "matrix name is : x\n\n    size:\t64\n\n    shape:\t(8, 8)\n\n    mean:\t[1.   0.25 0.25 0.25 0.25 0.25 0.25 1.  ]\n\n    std:\t[0.   0.43 0.43 0.43 0.43 0.43 0.43 0.  ]\n\nmatrix name is : y\n\n    size:\t64\n\n    shape:\t(8, 8)\n\n    mean:\t[0.5 0.5 0.5 0.5 0.5 0.5 0.5 0.5]\n\n    std:\t[0.5 0.5 0.5 0.5 0.5 0.5 0.5 0.5]\n\nmatrix name is : c\n\n    size:\t10\n\n    shape:\t(10,)\n\n    mean:\t-8.3\n\n    std:\t27.158976416647224\n\n"
    }
   ],
   "source": [
    "total = {'x' : x,'y' : y,'c' : c}\n",
    "np.set_printoptions(precision=2)\n",
    "for i, k in total.items():\n",
    "    print(f'''matrix name is : {i}\\n\n",
    "    size:\\t{k.size}\\n\n",
    "    shape:\\t{k.shape}\\n\n",
    "    mean:\\t{k.mean(0)}\\n\n",
    "    std:\\t{k.std(0)}\\n''')"
   ]
  },
  {
   "cell_type": "markdown",
   "metadata": {},
   "source": [
    "### Problem 3\n",
    "#### Question (a)"
   ]
  },
  {
   "cell_type": "code",
   "execution_count": 9,
   "metadata": {},
   "outputs": [
    {
     "name": "stdout",
     "output_type": "stream",
     "text": "n\tp\t\t\tn p\n3\t2.59807621135         100 3.14107590781\n4\t2.82842712475       10000 3.14159260224\n5\t2.93892626146     1000000 3.14159277010\n"
    }
   ],
   "source": [
    "import math as mt\n",
    "a = [3, 4, 5, 100, 10000, 1000000]\n",
    "print('n\\tp\\t\\t\\t' + 'n p')\n",
    "for j in range(3):\n",
    "    p_1 = a[j] * mt.sqrt((0.25 + 0.25 - 2 * 0.5 * 0.5 * mt.cos(2 * mt.pi / a[j])))\n",
    "    p_2 = a[3 + j] * mt.sqrt((0.25 + 0.25 - 2 * 0.5 * 0.5 * mt.cos(2 * mt.pi / a[3+j])))\n",
    "    print('{:}\\t{:.11f}'.format(a[j],p_1) + '{:>12} {:<.11f}'.format(a[j + 3],p_2))\n"
   ]
  },
  {
   "cell_type": "code",
   "execution_count": null,
   "metadata": {},
   "outputs": [],
   "source": []
  }
 ]
}