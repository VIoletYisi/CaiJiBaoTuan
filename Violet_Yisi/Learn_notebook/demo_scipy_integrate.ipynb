{
 "cells": [
  {
   "cell_type": "markdown",
   "metadata": {},
   "source": [
    "Reference: David Pine, Introduction to Python for Science and Engineering  \n",
    "Section 9.5 numerical integration\n",
    "p. 221-227"
   ]
  },
  {
   "cell_type": "markdown",
   "metadata": {},
   "source": [
    "Integrate a Gaussian function over the range from 0 to 1:    \n",
    "$\\displaystyle \\int_0^1 e^{-x^2}dx$"
   ]
  },
  {
   "cell_type": "code",
   "execution_count": 1,
   "metadata": {},
   "outputs": [
    {
     "data": {
      "text/plain": [
       "'\\nprint (0.7468241328124271, 8.291413475940725e-15)\\nThe first is 0.7468..., which is the value of the integral, \\nand the second is 8.29...e-15, which is an estimate of the absolute error in the value of the integral\\n'"
      ]
     },
     "execution_count": 1,
     "metadata": {},
     "output_type": "execute_result"
    }
   ],
   "source": [
    "from numpy import exp\n",
    "from scipy.integrate import quad\n",
    "f = lambda x : exp(-x**2)\n",
    "quad(f, 0, 1)\n",
    "'''\n",
    "print (0.7468241328124271, 8.291413475940725e-15)\n",
    "The first is 0.7468..., which is the value of the integral, \n",
    "and the second is 8.29...e-15, which is an estimate of the absolute error in the value of the integral\n",
    "'''"
   ]
  },
  {
   "cell_type": "code",
   "execution_count": 2,
   "metadata": {},
   "outputs": [
    {
     "data": {
      "text/plain": [
       "(0.7468241328124271, 8.291413475940725e-15)"
      ]
     },
     "execution_count": 2,
     "metadata": {},
     "output_type": "execute_result"
    }
   ],
   "source": [
    "quad(lambda x : exp(-x**2), 0, 1)  # use lambda"
   ]
  },
  {
   "cell_type": "code",
   "execution_count": 3,
   "metadata": {},
   "outputs": [
    {
     "data": {
      "text/plain": [
       "(1.6330510582651852, 3.6696187632280345e-11)"
      ]
     },
     "execution_count": 3,
     "metadata": {},
     "output_type": "execute_result"
    }
   ],
   "source": [
    "from numpy import exp, inf\n",
    "from scipy.integrate import quad\n",
    "quad(lambda x : exp(-x**2), -inf, 1) # usage of inf, -inf"
   ]
  },
  {
   "cell_type": "code",
   "execution_count": 22,
   "metadata": {},
   "outputs": [
    {
     "data": {
      "text/plain": [
       "(2.5066268375731307, 2.1728257867977207e-09)"
      ]
     },
     "execution_count": 22,
     "metadata": {},
     "output_type": "execute_result"
    }
   ],
   "source": [
    "# integrate a function with parameters\n",
    "\n",
    "def gauss(x, A, c):\n",
    "    return A * np.exp(-c*x**2)\n",
    "\n",
    "A, c = 2.0, 0.5\n",
    "\n",
    "from scipy.integrate import quad\n",
    "intgrl2 = quad(lambda x: gauss(x, A, c), 0.0, 5.0)\n",
    "intgrl2"
   ]
  },
  {
   "cell_type": "code",
   "execution_count": 23,
   "metadata": {},
   "outputs": [],
   "source": [
    "# Integrate special functions\n",
    "\n",
    "import scipy.special\n",
    "quad(lambda x: scipy.special.jn(1,x), 0, 5)"
   ]
  },
  {
   "cell_type": "markdown",
   "metadata": {},
   "source": [
    "Integrate polynomials  \n",
    "$q = \\displaystyle\\int_a^b p(x)dx = P(b) - P (a)$"
   ]
  },
  {
   "cell_type": "code",
   "execution_count": 27,
   "metadata": {},
   "outputs": [
    {
     "data": {
      "text/plain": [
       "146.66666666666666"
      ]
     },
     "execution_count": 27,
     "metadata": {},
     "output_type": "execute_result"
    }
   ],
   "source": [
    "import numpy as np\n",
    "\n",
    "p = np.poly1d([2, 5, 1])\n",
    "P = np.polyint(p)\n",
    "q = P(5)-P(1)\n",
    "q"
   ]
  },
  {
   "cell_type": "markdown",
   "metadata": {},
   "source": [
    "Double integrals  \n",
    "$\\displaystyle\\int_a^b dx\\int_{g(x)}^{h(x)}F(x,y)dy$"
   ]
  },
  {
   "cell_type": "code",
   "execution_count": 31,
   "metadata": {},
   "outputs": [
    {
     "data": {
      "text/plain": [
       "(0.33333333333333326, 1.3125184411111567e-14)"
      ]
     },
     "execution_count": 31,
     "metadata": {},
     "output_type": "execute_result"
    }
   ],
   "source": [
    "from scipy.integrate import dblquad\n",
    "f = lambda x, y : 16*x*y\n",
    "g = lambda x : 1 - 2*x\n",
    "h = lambda x : sqrt(1 - 4*x**2)\n",
    "dblquad(f, 0, 0.5, g, h)"
   ]
  },
  {
   "cell_type": "code",
   "execution_count": null,
   "metadata": {},
   "outputs": [],
   "source": []
  }
 ],
 "metadata": {
  "kernelspec": {
   "display_name": "Python 3",
   "language": "python",
   "name": "python3"
  },
  "language_info": {
   "codemirror_mode": {
    "name": "ipython",
    "version": 3
   },
   "file_extension": ".py",
   "mimetype": "text/x-python",
   "name": "python",
   "nbconvert_exporter": "python",
   "pygments_lexer": "ipython3",
   "version": "3.7.4"
  }
 },
 "nbformat": 4,
 "nbformat_minor": 4
}
