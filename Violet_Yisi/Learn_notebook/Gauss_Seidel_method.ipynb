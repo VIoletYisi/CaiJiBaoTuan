{
 "cells": [
  {
   "cell_type": "markdown",
   "metadata": {},
   "source": [
    "Reference:   \n",
    "1. https://en.wikipedia.org/wiki/Gauss%E2%80%93Seidel_method\n",
    "2. https://www.quantstart.com/articles/Jacobi-Method-in-Python-and-NumPy/"
   ]
  },
  {
   "cell_type": "code",
   "execution_count": 3,
   "metadata": {},
   "outputs": [],
   "source": [
    "from pprint import pprint\n",
    "from numpy import array, zeros, zeros_like, dot, allclose\n",
    "\n",
    "def gauss_seidel(A, b, N=25, x=None):\n",
    "    \"\"\"Solves the equation Ax=b via the Jacobi iterative method.\"\"\"\n",
    "    # Create an initial guess if needed                                                                                                                                                            \n",
    "    if x is None:\n",
    "        x = zeros_like(b)\n",
    "\n",
    "    # Iterate for N times  \n",
    "    for it_count in range(N):\n",
    "        x_new = zeros_like(x)\n",
    "        print(\"Iteration {0}: {1}\".format(it_count, x))\n",
    "        for i in range(A.shape[0]):\n",
    "            s1 = dot(A[i, :i], x_new[:i])\n",
    "            s2 = dot(A[i, i + 1:], x[i + 1:])\n",
    "            x_new[i] = (b[i] - s1 - s2) / A[i, i]\n",
    "        if allclose(x, x_new, rtol=1e-8):\n",
    "            break\n",
    "        x = x_new\n",
    "    return x\n",
    "\n",
    "def test_gauss_seidel():\n",
    "    A = array([[2.0,1.0],[5.0,7.0]])\n",
    "    b = array([11.0,13.0])\n",
    "    guess = array([1.0,1.0])\n",
    "\n",
    "    sol = gauss_seidel(A,b,N=25,x=guess)\n",
    "\n",
    "    print('A:'); pprint(A)\n",
    "    \n",
    "    print(\"b:\"); pprint(b)\n",
    "\n",
    "    print(\"x:\"); pprint(sol)"
   ]
  },
  {
   "cell_type": "code",
   "execution_count": 4,
   "metadata": {},
   "outputs": [
    {
     "name": "stdout",
     "output_type": "stream",
     "text": [
      "Iteration 0: [1. 1.]\n",
      "Iteration 1: [ 5.         -1.71428571]\n",
      "Iteration 2: [ 6.35714286 -2.68367347]\n",
      "Iteration 3: [ 6.84183673 -3.02988338]\n",
      "Iteration 4: [ 7.01494169 -3.15352978]\n",
      "Iteration 5: [ 7.07676489 -3.19768921]\n",
      "Iteration 6: [ 7.0988446  -3.21346043]\n",
      "Iteration 7: [ 7.10673022 -3.21909301]\n",
      "Iteration 8: [ 7.10954651 -3.22110465]\n",
      "Iteration 9: [ 7.11055232 -3.22182309]\n",
      "Iteration 10: [ 7.11091154 -3.22207967]\n",
      "Iteration 11: [ 7.11103984 -3.22217131]\n",
      "Iteration 12: [ 7.11108566 -3.22220404]\n",
      "Iteration 13: [ 7.11110202 -3.22221573]\n",
      "Iteration 14: [ 7.11110786 -3.2222199 ]\n",
      "Iteration 15: [ 7.11110995 -3.22222139]\n",
      "Iteration 16: [ 7.1111107  -3.22222193]\n",
      "Iteration 17: [ 7.11111096 -3.22222212]\n",
      "Iteration 18: [ 7.11111106 -3.22222218]\n",
      "A:\n",
      "array([[2., 1.],\n",
      "       [5., 7.]])\n",
      "b:\n",
      "array([11., 13.])\n",
      "x:\n",
      "array([ 7.11111106, -3.22222218])\n"
     ]
    }
   ],
   "source": [
    "if __name__ == '__main__':\n",
    "    test_gauss_seidel()"
   ]
  },
  {
   "cell_type": "code",
   "execution_count": null,
   "metadata": {},
   "outputs": [],
   "source": []
  },
  {
   "cell_type": "code",
   "execution_count": null,
   "metadata": {},
   "outputs": [],
   "source": []
  }
 ],
 "metadata": {
  "kernelspec": {
   "display_name": "Python 3",
   "language": "python",
   "name": "python3"
  },
  "language_info": {
   "codemirror_mode": {
    "name": "ipython",
    "version": 3
   },
   "file_extension": ".py",
   "mimetype": "text/x-python",
   "name": "python",
   "nbconvert_exporter": "python",
   "pygments_lexer": "ipython3",
   "version": "3.7.4"
  }
 },
 "nbformat": 4,
 "nbformat_minor": 4
}
