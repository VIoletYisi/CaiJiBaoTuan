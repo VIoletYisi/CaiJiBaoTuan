{
 "nbformat": 4,
 "nbformat_minor": 2,
 "metadata": {
  "language_info": {
   "name": "python",
   "codemirror_mode": {
    "name": "ipython",
    "version": 3
   },
   "version": "3.7.4-final"
  },
  "orig_nbformat": 2,
  "file_extension": ".py",
  "mimetype": "text/x-python",
  "name": "python",
  "npconvert_exporter": "python",
  "pygments_lexer": "ipython3",
  "version": 3,
  "kernelspec": {
   "name": "python3",
   "display_name": "Python 3"
  }
 },
 "cells": [
  {
   "cell_type": "code",
   "execution_count": 2,
   "metadata": {},
   "outputs": [
    {
     "name": "stdout",
     "output_type": "stream",
     "text": "Mosh likes blue\n"
    }
   ],
   "source": [
    "name=input('What is your name? ')\n",
    "favorite_color=input('What is your favorite color? ')\n",
    "print(name+' likes '+favorite_color)"
   ]
  },
  {
   "cell_type": "code",
   "execution_count": 4,
   "metadata": {},
   "outputs": [
    {
     "name": "stdout",
     "output_type": "stream",
     "text": "4.5\n"
    }
   ],
   "source": [
    "weight_pounds=input('What is your weight in pounds? ')\n",
    "weight_kg=0.45*int(weight_pounds)\n",
    "print(weight_kg)"
   ]
  },
  {
   "cell_type": "code",
   "execution_count": 5,
   "metadata": {},
   "outputs": [
    {
     "name": "stdout",
     "output_type": "stream",
     "text": "\nHi Jonh\n\nHere is our first email to you.\n\nThank you\nThe support team\n\n\n"
    }
   ],
   "source": [
    "course='''\n",
    "Hi Jonh\n",
    "\n",
    "Here is our first email to you.\n",
    "\n",
    "Thank you\n",
    "The support team\n",
    "\n",
    "'''\n",
    "print(course)"
   ]
  },
  {
   "cell_type": "code",
   "execution_count": 6,
   "metadata": {},
   "outputs": [
    {
     "name": "stdout",
     "output_type": "stream",
     "text": "459.57142857142856\n"
    }
   ],
   "source": [
    "print((14*14+15*15+3*16**2+2*22*22+2*24*24+5*25*25)/14)"
   ]
  },
  {
   "cell_type": "code",
   "execution_count": 3,
   "metadata": {},
   "outputs": [
    {
     "name": "stdout",
     "output_type": "stream",
     "text": "18.571428571428573\n"
    }
   ],
   "source": [
    "print((7**2+6**2+3*5**2+2+2*3**2+5*4**2)/14)"
   ]
  },
  {
   "cell_type": "code",
   "execution_count": 4,
   "metadata": {},
   "outputs": [
    {
     "name": "stdout",
     "output_type": "stream",
     "text": "4.312771730569565\n2.4741867350707385\n"
    }
   ],
   "source": [
    "import math\n",
    "print(math.sqrt(18.6))\n",
    "print(math.sqrt(28.4-4.72*4.72))"
   ]
  },
  {
   "cell_type": "code",
   "execution_count": 2,
   "metadata": {},
   "outputs": [
    {
     "name": "stdout",
     "output_type": "stream",
     "text": "4.72\n"
    }
   ],
   "source": [
    "print((2+6+15+12+15+18+7+16+27)/25)"
   ]
  },
  {
   "cell_type": "code",
   "execution_count": 3,
   "metadata": {},
   "outputs": [
    {
     "name": "stdout",
     "output_type": "stream",
     "text": "28.4\n"
    }
   ],
   "source": [
    "print((2+12+45+48+75+108+49+128+243)/25)"
   ]
  },
  {
   "cell_type": "code",
   "execution_count": null,
   "metadata": {},
   "outputs": [],
   "source": []
  }
 ]
}