{
 "cells": [
  {
   "cell_type": "code",
   "execution_count": 1,
   "metadata": {},
   "outputs": [],
   "source": [
    "import numpy as np"
   ]
  },
  {
   "cell_type": "markdown",
   "metadata": {},
   "source": [
    "### Problem 3"
   ]
  },
  {
   "cell_type": "code",
   "execution_count": 2,
   "metadata": {},
   "outputs": [],
   "source": [
    "# Import the initial data.\n",
    "x_k = np.array([1, 2, 3, 4, 6])\n",
    "f_k = np.array([0.69, 1.10, 1.39, 1.61, 1.95])"
   ]
  },
  {
   "cell_type": "code",
   "execution_count": 3,
   "metadata": {},
   "outputs": [
    {
     "output_type": "stream",
     "name": "stdout",
     "text": "The divided difference table is:\n  f_k\t\t1st\t\t2nd\t\t3rd\t\t4th\n[[ 6.900000e-01  0.000000e+00  0.000000e+00  0.000000e+00  0.000000e+00]\n [ 1.100000e+00  4.100000e-01  0.000000e+00  0.000000e+00  0.000000e+00]\n [ 1.390000e+00  2.900000e-01 -6.000000e-02  0.000000e+00  0.000000e+00]\n [ 1.610000e+00  2.200000e-01 -3.500000e-02  8.333330e-03  0.000000e+00]\n [ 1.950000e+00  1.700000e-01 -1.666667e-02  4.583330e-03 -7.500000e-04]]\n"
    }
   ],
   "source": [
    "# Construct the divided differences table.\n",
    "n = len(f_k)\n",
    "table = np.zeros((n,n))\n",
    "table[0] = f_k\n",
    "table = table.T\n",
    "for k in range(1,n):\n",
    "    for i in range(k,n):\n",
    "        table[i][k] = (table[i][k-1] - table[i-1][k-1])/(x_k[i] - x_k[i-k])\n",
    "table = np.around(table, decimals= 8)\n",
    "print(f'The divided difference table is:')\n",
    "print(f'  f_k\\t\\t1st\\t\\t2nd\\t\\t3rd\\t\\t4th\\n{table}')"
   ]
  },
  {
   "cell_type": "code",
   "execution_count": 4,
   "metadata": {},
   "outputs": [],
   "source": [
    "# determine the coefficients of Newton polynomials\n",
    "a = f_k.copy()\n",
    "for i in range(n):\n",
    "    a[i] = table[i][i]"
   ]
  },
  {
   "cell_type": "code",
   "execution_count": 5,
   "metadata": {},
   "outputs": [],
   "source": [
    "def newton_eval(a, xData, x):\n",
    "    # determine the interpolation value at x\n",
    "    m = len(xData)\n",
    "    n = m - 1\n",
    "    p = a[n]\n",
    "    for k in range(1,m):\n",
    "        p = a[n-k] + (x - xData[n-k])*p\n",
    "    return p"
   ]
  },
  {
   "cell_type": "code",
   "execution_count": 6,
   "metadata": {},
   "outputs": [
    {
     "output_type": "stream",
     "name": "stdout",
     "text": "When x = 2.4, newton interpolating get 1.2271968011199998\nWhen x = 4.2, newton interpolating get 1.6487327718399998\n"
    }
   ],
   "source": [
    "#interpolate at x = 2.4 and 4.2\n",
    "x_1 = 2.4\n",
    "f_1 = newton_eval(a, x_k, x_1)\n",
    "x_2 = 4.2\n",
    "f_2 = newton_eval(a, x_k, x_2)\n",
    "print(f'When x = {x_1}, newton interpolating get {f_1}')\n",
    "print(f'When x = {x_2}, newton interpolating get {f_2}')"
   ]
  },
  {
   "cell_type": "markdown",
   "metadata": {},
   "source": [
    "### Problem 5"
   ]
  },
  {
   "cell_type": "code",
   "execution_count": 7,
   "metadata": {},
   "outputs": [],
   "source": [
    "# Import the initial data.\n",
    "alpha_data = np.array([0,5,10,15,20,25])\n",
    "I_data = np.array([1.57080,1.57379,1.58284,1.59814,1.62003,1.64900])"
   ]
  },
  {
   "cell_type": "markdown",
   "metadata": {},
   "source": [
    "#### Question 1"
   ]
  },
  {
   "cell_type": "markdown",
   "metadata": {},
   "source": [
    "<font size = 3 color = black face = \"Times New Roman\">Uing Newton interpolating polynomial to get the soulution."
   ]
  },
  {
   "cell_type": "code",
   "execution_count": 8,
   "metadata": {},
   "outputs": [],
   "source": [
    "def newton_coeff(xData, yData):\n",
    "    # determine the coefficients of Newton polynomials\n",
    "    a = yData.copy()\n",
    "    m = len(xData)\n",
    "    for k in range(1,m):  # m=n+1: number of data points\n",
    "        for i in range(k,m):\n",
    "            a[i] = (a[i] - a[k-1])/(xData[i] - xData[k-1])\n",
    "    return a\n",
    "\n",
    "def newton_eval(a,xData, x):\n",
    "    # determine the interpolation value at x\n",
    "    m = len(xData)\n",
    "    n = m - 1\n",
    "    p = a[n]\n",
    "    for k in range(1,m):\n",
    "        p = a[n-k] + (x - xData[n-k])*p\n",
    "    return p"
   ]
  },
  {
   "cell_type": "code",
   "execution_count": 9,
   "metadata": {},
   "outputs": [
    {
     "output_type": "stream",
     "name": "stdout",
     "text": "When Alpha = 2, I = 1.57127472 \n"
    }
   ],
   "source": [
    "a =  newton_coeff(alpha_data, I_data)\n",
    "alpha = 2\n",
    "I = newton_eval(a,alpha_data,alpha)\n",
    "print(f'When Alpha = 2, I = {I} ')"
   ]
  },
  {
   "cell_type": "markdown",
   "metadata": {},
   "source": [
    "#### Question 2"
   ]
  },
  {
   "cell_type": "code",
   "execution_count": 10,
   "metadata": {},
   "outputs": [],
   "source": [
    "# Define theoretical values and allowable errors\n",
    "I_0 = 1.58\n",
    "eps = 10 ** (-8)"
   ]
  },
  {
   "cell_type": "markdown",
   "metadata": {},
   "source": [
    "<font size = 3 color = black face = \"Times New Roman\">First we do some easy tests."
   ]
  },
  {
   "cell_type": "code",
   "execution_count": 11,
   "metadata": {},
   "outputs": [
    {
     "output_type": "stream",
     "name": "stdout",
     "text": "1.579480295625\n1.58053824\n"
    }
   ],
   "source": [
    "print(newton_eval(a,alpha_data,8.5))\n",
    "print(newton_eval(a,alpha_data,9))"
   ]
  },
  {
   "cell_type": "markdown",
   "metadata": {},
   "source": [
    "<font size = 3 color = black face = \"Times New Roman\">Hence we know that the right value should locate in range(8.5,9)."
   ]
  },
  {
   "cell_type": "code",
   "execution_count": 12,
   "metadata": {},
   "outputs": [
    {
     "output_type": "stream",
     "name": "stdout",
     "text": "When Alpha = 8.74926399981345, I = 1.58\n"
    }
   ],
   "source": [
    "test_value = np.arange(8.5,9,0.000001)\n",
    "for i in test_value:\n",
    "    if abs(newton_eval(a,alpha_data,i)-I_0) < eps:\n",
    "        print(f'When Alpha = {i}, I = 1.58')\n",
    "        break\n",
    "    else:\n",
    "        continue"
   ]
  },
  {
   "cell_type": "code",
   "execution_count": null,
   "metadata": {},
   "outputs": [],
   "source": []
  }
 ],
 "metadata": {
  "language_info": {
   "codemirror_mode": {
    "name": "ipython",
    "version": 3
   },
   "file_extension": ".py",
   "mimetype": "text/x-python",
   "name": "python",
   "nbconvert_exporter": "python",
   "pygments_lexer": "ipython3",
   "version": "3.7.4-final"
  },
  "orig_nbformat": 2,
  "kernelspec": {
   "name": "python3",
   "display_name": "Python 3"
  }
 },
 "nbformat": 4,
 "nbformat_minor": 2
}