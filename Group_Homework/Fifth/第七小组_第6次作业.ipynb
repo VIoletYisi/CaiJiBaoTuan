{
 "cells": [
  {
   "cell_type": "markdown",
   "metadata": {},
   "source": [
    "### Problem 3"
   ]
  },
  {
   "cell_type": "markdown",
   "metadata": {},
   "source": [
    "#### a) \n",
    "<font size = 3 color = black face = \"Times New Roman\"> In this problem, we're required to solve the following linear system with the SOR method.\n",
    "$$\n",
    "\\begin{cases}\n",
    "3x_1 - x_2+ x_3 = -1\\\\\n",
    "-x_1 +3x_2 -x_3 = 7\\\\\n",
    "x_1 - x_2 +3x_3 = -7\\\\\n",
    "\\end{cases}\n",
    "$$"
   ]
  },
  {
   "cell_type": "markdown",
   "metadata": {},
   "source": [
    "<font size = 3 color = black face = \"Times New Roman\"> First of all, let's rewrite the linear system in the matrix form and input related matrices. define \n",
    "$\n",
    "A = \\begin{pmatrix} \n",
    "3 & -1 & 1\\\\\n",
    "-1 & 3 & -1\\\\\n",
    "1 & -1 & 3\\\\\n",
    "\\end{pmatrix}\n",
    "$, $\n",
    "b = \\begin{pmatrix} \n",
    "-1\\\\\n",
    "7\\\\\n",
    "-7\\\\\n",
    "\\end{pmatrix}\n",
    "$\n",
    ", then the system can be written as\n",
    "$$\n",
    "Ax = \n",
    "\\begin{pmatrix} \n",
    "3 & -1 & 1\\\\\n",
    "-1 & 3 & -1\\\\\n",
    "1 & -1 & 3\\\\\n",
    "\\end{pmatrix}\n",
    "\\begin{pmatrix} \n",
    "x_1\\\\\n",
    "x_2\\\\\n",
    "x_3\\\\\n",
    "\\end{pmatrix}\n",
    "= \n",
    "\\begin{pmatrix} \n",
    "-1\\\\\n",
    "7\\\\\n",
    "-7\\\\\n",
    "\\end{pmatrix}\n",
    "= b\n",
    "$$"
   ]
  },
  {
   "cell_type": "code",
   "execution_count": 130,
   "metadata": {},
   "outputs": [],
   "source": [
    "import numpy as np # Input matrices A and b\n",
    "A = np.array([[3, -1, 1],\n",
    "              [-1, 3, -1],\n",
    "              [1, -1, 3]])\n",
    "b = np.array([-1, 7, -7])"
   ]
  },
  {
   "cell_type": "markdown",
   "metadata": {},
   "source": [
    "<font size = 3 color = black face = \"Times New Roman\"> After that, we define a function to use the SOR method to solve linear systems."
   ]
  },
  {
   "cell_type": "code",
   "execution_count": 133,
   "metadata": {},
   "outputs": [],
   "source": [
    "eps = 1e-10 # Set the accuracy (epsilon)."
   ]
  },
  {
   "cell_type": "code",
   "execution_count": 131,
   "metadata": {},
   "outputs": [],
   "source": [
    "from numpy import array, zeros, zeros_like, dot, allclose\n",
    "def SOR(A, b, omega, N=25, x=None):\n",
    "# omega is the relaxation parameter,N is the maximum iteration number, x is the initial guess, eps is the accuracy.\n",
    "    if x is None:\n",
    "        x = zeros_like(b)\n",
    "    for it_count in range(N): \n",
    "        x_new = zeros_like(x)\n",
    "        print(\"Iteration {0}: {1}\".format(it_count, x))\n",
    "        for i in range(A.shape[0]):\n",
    "            s1 = dot(A[i, :i], x_new[:i])\n",
    "            s2 = dot(A[i, i + 1:], x[i + 1:])\n",
    "            x_new[i] = (1 - omega) * x[i] + omega * (b[i] - s1 - s2) / A[i, i] # SOR interation\n",
    "        if allclose(x, x_new, rtol=1e-10):\n",
    "            break\n",
    "        x = x_new\n",
    "    return x"
   ]
  },
  {
   "cell_type": "code",
   "execution_count": 132,
   "metadata": {},
   "outputs": [
    {
     "name": "stdout",
     "output_type": "stream",
     "text": [
      "Iteration 0: [2, 2, 2]\n",
      "Iteration 1: [ 0  3 -1]\n",
      "Iteration 2: [ 1  2 -2]\n"
     ]
    },
    {
     "data": {
      "text/plain": [
       "array([ 1,  2, -2])"
      ]
     },
     "execution_count": 132,
     "metadata": {},
     "output_type": "execute_result"
    }
   ],
   "source": [
    "SOR(A, b, omega = 1.1, N =25, x= [2, 2, 2])"
   ]
  },
  {
   "cell_type": "markdown",
   "metadata": {},
   "source": [
    "<font size = 3 color = black face = \"Times New Roman\">Finally, we get the solution \n",
    "$$\n",
    "\\begin{cases}\n",
    "x_1 = 1\\\\\n",
    "x_2 = 2\\\\\n",
    "x_3 = -2\\\\\n",
    "\\end{cases}\n",
    "$$\n",
    "#### b)\n",
    "<font size = 3 color = black face = \"Times New Roman\">Empirically, we guess the optimal $\\omega = $\n",
    "Then, let's use the formula below to calculate the theoretical prediction of the optimal relaxation parameter $\\omega$\n",
    "$$\n",
    "\\omega_\\text{opt} = 1+\\left(\\frac{\\lambda_J}{1+\\sqrt{1-\\lambda_J^2}}\\right)^2 \n",
    "$$\n",
    "$\\lambda_J$ is the spectral radius calculated  in the Jacobi method.  \n",
    "Therefore, we should find $\\lambda_J$ first, and here we introduce the power method."
   ]
  },
  {
   "cell_type": "code",
   "execution_count": 133,
   "metadata": {},
   "outputs": [
    {
     "data": {
      "text/plain": [
       "(array([ 0.57735047, -0.57734987,  0.57735047]), 17, 4.999999999995573)"
      ]
     },
     "execution_count": 133,
     "metadata": {},
     "output_type": "execute_result"
    }
   ],
   "source": [
    "def power(A, x0, epsilon = 1e-10):\n",
    "    i = 0\n",
    "    x1 = x0\n",
    "    a0 = 0\n",
    "    a1 = 1\n",
    "    while abs(a1 - a0) > epsilon:\n",
    "        x0 = x1\n",
    "        x1 = np.dot(A, x0)\n",
    "        a0 = a1\n",
    "        a1 = np.dot(x0, x1)/np.dot(x0,x0)\n",
    "        x1 = normalise(x1)\n",
    "        i = i + 1\n",
    "    return x1 ,i, a1\n",
    "x = normalise(np.array([1, 1, 1]))\n",
    "power(A, x, epsilon = 1e-10)"
   ]
  },
  {
   "cell_type": "markdown",
   "metadata": {},
   "source": [
    "<font size = 3 color = black face = \"Times New Roman\"> Now we have $\\lambda_J \\approx 0.57746778$"
   ]
  },
  {
   "cell_type": "code",
   "execution_count": 4,
   "metadata": {},
   "outputs": [
    {
     "data": {
      "text/plain": [
       "(0.07999999999999985-0.3919183588453087j)"
      ]
     },
     "execution_count": 4,
     "metadata": {},
     "output_type": "execute_result"
    }
   ],
   "source": [
    "lamda_j = 5\n",
    "omega_op =1 + (lamda_j / (1 + (1 - lamda_j  ** 2)**0.5))**2\n",
    "omega_op"
   ]
  },
  {
   "cell_type": "markdown",
   "metadata": {},
   "source": [
    "<font size = 3 color = black face = \"Times New Roman\"> Finally, we have $\\omega_\\text{opt} \\approx 1.101000671653077$"
   ]
  },
  {
   "cell_type": "code",
   "execution_count": 22,
   "metadata": {},
   "outputs": [],
   "source": [
    "from pprint import pprint\n",
    "\n",
    "\n",
    "def gauss_seidel(A, b, N=25, x=None):\n",
    "    \"\"\"Solves the equation Ax=b via the Jacobi iterative method.\"\"\"\n",
    "    # Create an initial guess if needed                                                                                                                                                            \n",
    "    if x is None:\n",
    "        x = zeros_like(b)\n",
    "\n",
    "    # Iterate for N times  \n",
    "    for it_count in range(N):\n",
    "        x_new = zeros_like(x)\n",
    "        print(\"Iteration {0}: {1}\".format(it_count, x))\n",
    "        for i in range(A.shape[0]):\n",
    "            s1 = dot(A[i, :i], x_new[:i])\n",
    "            s2 = dot(A[i, i + 1:], x[i + 1:])\n",
    "            x_new[i] = (b[i] - s1 - s2) / A[i, i]\n",
    "        if allclose(x, x_new, rtol=1e-8):\n",
    "            break\n",
    "            \n",
    "            \n",
    "        x = x_new\n",
    "    return x"
   ]
  },
  {
   "cell_type": "code",
   "execution_count": 179,
   "metadata": {},
   "outputs": [
    {
     "name": "stdout",
     "output_type": "stream",
     "text": [
      "Iteration 0: [-5, 8, 10]\n",
      "Iteration 1: [-1  5  0]\n",
      "Iteration 2: [ 1  2 -2]\n"
     ]
    },
    {
     "data": {
      "text/plain": [
       "array([ 1,  2, -2])"
      ]
     },
     "execution_count": 179,
     "metadata": {},
     "output_type": "execute_result"
    }
   ],
   "source": [
    "gauss_seidel(A, b, N=25, x= [-5,8,10])"
   ]
  },
  {
   "cell_type": "markdown",
   "metadata": {},
   "source": [
    "### Problem 4"
   ]
  },
  {
   "cell_type": "markdown",
   "metadata": {},
   "source": [
    "<font size = 3 color = black face = \"Times New Roman\"> Once again, we're going to solve the Problem $Ax = b$, but using the conjugate gradient method. In this problem $A$ is shown below and $b$ is generated by the normal distributed random numbers. \n",
    "$$\n",
    "A = \\begin{pmatrix}\n",
    "2 &-1  &  & &\\\\\n",
    "-1 & 2 &-1  & \\\\\n",
    "& -1 & 2 &-1  \\\\\n",
    "& & -1  &2 &-1 \\\\\n",
    "& & & -1 & 2\n",
    "\\end{pmatrix}\n",
    "$$"
   ]
  },
  {
   "cell_type": "markdown",
   "metadata": {},
   "source": [
    "<font size = 3 color = black face = \"Times New Roman\"> First of all, let's input $A$ and generate $b$. Sinc  $A$ is already a positive symmetric matrix, we don't need to addtional operations."
   ]
  },
  {
   "cell_type": "code",
   "execution_count": 137,
   "metadata": {},
   "outputs": [],
   "source": [
    "def matrix_A(N):\n",
    "    A = np.zeros((N,N))\n",
    "    for i in range(N):\n",
    "        for j in range(N):\n",
    "            if i==j:\n",
    "                A[i][j] = 2\n",
    "            elif i == j - 1 or i == j + 1:\n",
    "                A[i][j] = -1\n",
    "    return A\n",
    "A = matrix_a(5) # Create the matrix A\n",
    "b = np.random.normal(size = (5)) # Create b with the normal distributed random numbers."
   ]
  },
  {
   "cell_type": "markdown",
   "metadata": {},
   "source": [
    "<font size = 3 color = black face = \"Times New Roman\"> Then we define a function to solve problems with conjugate gradient method."
   ]
  },
  {
   "cell_type": "code",
   "execution_count": 135,
   "metadata": {},
   "outputs": [],
   "source": [
    "def conjugate_grad(A, b, x=None):\n",
    "    n = len(b)\n",
    "    if not x:\n",
    "        x = np.ones(n)\n",
    "    r = b - np.dot(A, x)\n",
    "    p = r\n",
    "    r_k_norm = np.dot(r, r)\n",
    "    for i in range(2*n):\n",
    "        Ap = np.dot(A, p)\n",
    "        alpha = r_k_norm / np.dot(p, Ap)\n",
    "        x += alpha * p\n",
    "        r -= alpha * Ap\n",
    "        r_kplus1_norm = np.dot(r, r)\n",
    "        beta = r_kplus1_norm / r_k_norm\n",
    "        r_k_norm = r_kplus1_norm\n",
    "        if r_kplus1_norm < 1e-5:\n",
    "            print('Itr:{}'.format(i))\n",
    "            break\n",
    "        p = r + beta * p\n",
    "    return x"
   ]
  },
  {
   "cell_type": "code",
   "execution_count": 136,
   "metadata": {},
   "outputs": [
    {
     "name": "stdout",
     "output_type": "stream",
     "text": [
      "Itr:9\n"
     ]
    },
    {
     "data": {
      "text/plain": [
       "array([ 0.85010704,  0.60079985,  0.53916831, -0.2716156 , -0.57425564])"
      ]
     },
     "execution_count": 136,
     "metadata": {},
     "output_type": "execute_result"
    }
   ],
   "source": [
    "conjugate_grad(A, b, x=None)"
   ]
  },
  {
   "cell_type": "markdown",
   "metadata": {},
   "source": [
    "### Problem 6"
   ]
  },
  {
   "cell_type": "markdown",
   "metadata": {},
   "source": [
    "<font size = 3 color = black face = \"Times New Roman\"> Firstly, enter the matrix we're going to deal with"
   ]
  },
  {
   "cell_type": "code",
   "execution_count": 124,
   "metadata": {},
   "outputs": [],
   "source": [
    "A = np.array([[4, -1j, 2], [1j, 2, 2 + 7j], [2, 2 - 7j, -2]])"
   ]
  },
  {
   "cell_type": "code",
   "execution_count": null,
   "metadata": {},
   "outputs": [],
   "source": []
  },
  {
   "cell_type": "code",
   "execution_count": 127,
   "metadata": {},
   "outputs": [],
   "source": [
    "import numpy as np\n",
    "def minimum_eigen_finder(A, N = 25, x = None):\n",
    "    if not x:\n",
    "        x = normalise(np.array([1, 1, 1]))\n",
    "    else:\n",
    "        x = normalise(np.array(x)) # Step1: Choose a normalised vector x0   \n",
    "    for i in range(N):    \n",
    "        x_new = np.linalg.solve(A,x) # Step2: Get the next x\n",
    "        x_new = normalise(x_new)\n",
    "        if np.linalg.norm(x_new - x, ord=2) < 10**(-8):\n",
    "            break\n",
    "        x = x_new\n",
    "    return x\n",
    "\n",
    "def rayleigh_quotient(A,x):\n",
    "    return np.dot(x, np.dot(A, x))"
   ]
  },
  {
   "cell_type": "code",
   "execution_count": 129,
   "metadata": {},
   "outputs": [
    {
     "data": {
      "text/plain": [
       "(3.1896027772323547-2.9426682307850324e-09j)"
      ]
     },
     "execution_count": 129,
     "metadata": {},
     "output_type": "execute_result"
    }
   ],
   "source": [
    "solution = minimum_eigen_finder(A, N = 25, x = None)\n",
    "rayleigh_quotient(A, solution)"
   ]
  },
  {
   "cell_type": "code",
   "execution_count": null,
   "metadata": {},
   "outputs": [],
   "source": []
  }
 ],
 "metadata": {
  "kernelspec": {
   "display_name": "Python 3",
   "language": "python",
   "name": "python3"
  },
  "language_info": {
   "codemirror_mode": {
    "name": "ipython",
    "version": 3
   },
   "file_extension": ".py",
   "mimetype": "text/x-python",
   "name": "python",
   "nbconvert_exporter": "python",
   "pygments_lexer": "ipython3",
   "version": "3.7.4"
  }
 },
 "nbformat": 4,
 "nbformat_minor": 4
}
