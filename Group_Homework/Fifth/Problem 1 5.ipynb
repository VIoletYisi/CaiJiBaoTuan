{
 "cells": [
  {
   "cell_type": "code",
   "execution_count": 98,
   "metadata": {},
   "outputs": [],
   "source": [
    "import numpy as np\n",
    "import matplotlib.pyplot as plt"
   ]
  },
  {
   "cell_type": "markdown",
   "metadata": {},
   "source": [
    "First we want to generate the matrix A, we define a function to generate it"
   ]
  },
  {
   "cell_type": "code",
   "execution_count": 107,
   "metadata": {},
   "outputs": [],
   "source": [
    "def matrix_a(N):\n",
    "    A = np.zeros((N,N))\n",
    "    for i in range(N):\n",
    "        for j in range(N):\n",
    "            if i==j:\n",
    "                A[i][j] = 2\n",
    "            elif i == j - 1 or i == j + 1:\n",
    "                A[i][j] = -1\n",
    "    return A\n",
    "\n",
    "\n",
    "def jacobi(A, b, x_init, epsilon = 1e-10, max_iterations = 10000):\n",
    "    iteration = 0\n",
    "    D = np.diag(np.diag(A))\n",
    "    LU = A - D\n",
    "    x = x_init\n",
    "    for i in range(max_iterations):\n",
    "        iteration = iteration + 1\n",
    "        D_inv = np.diag(1/np.diag(D))\n",
    "        x_new = np.dot(D_inv, b - np.dot(LU, x))\n",
    "        if np.linalg.norm(x_new - x) < epsilon:\n",
    "            break\n",
    "            return x_new, iteration\n",
    "        x = x_new\n",
    "    return x_new, iteration"
   ]
  },
  {
   "cell_type": "code",
   "execution_count": 108,
   "metadata": {},
   "outputs": [
    {
     "name": "stdout",
     "output_type": "stream",
     "text": [
      "[[ 0.12858428]\n",
      " [-0.18368701]\n",
      " [-1.07486265]\n",
      " [ 0.93126061]\n",
      " [-0.45162685]]\n",
      "[[ 0.12858428  0.12858428  0.12858428  0.12858428  0.12858428]\n",
      " [-0.18368701 -0.18368701 -0.18368701 -0.18368701 -0.18368701]\n",
      " [-1.07486265 -1.07486265 -1.07486265 -1.07486265 -1.07486265]\n",
      " [ 0.93126061  0.93126061  0.93126061  0.93126061  0.93126061]\n",
      " [-0.45162685 -0.45162685 -0.45162685 -0.45162685 -0.45162685]]\n",
      "172\n"
     ]
    }
   ],
   "source": [
    "N = 5\n",
    "A = matrix_a(N)\n",
    "x_a = np.random.normal(size = (N,1))\n",
    "b = np.dot(A, x_a)\n",
    "x_init = np.zeros(len(b))\n",
    "x, iteration = jacobi(A, b, x_init)\n",
    "print(x_a)\n",
    "print(x)\n",
    "print(iteration)"
   ]
  },
  {
   "cell_type": "code",
   "execution_count": 113,
   "metadata": {},
   "outputs": [
    {
     "name": "stdout",
     "output_type": "stream",
     "text": [
      "[ 5  6  7  8  9 10 11 12 13 14 15 16 17 18 19 20 21 22 23 24 25 26 27 28\n",
      " 29 30 31 32 33 34 35 36 37 38 39]\n",
      "[ 174.  230.  297.  394.  479.  559.  647.  816.  989. 1150. 1193. 1464.\n",
      " 1558. 1798. 1985. 2265. 2451. 2559. 2827. 3232. 3234. 3752. 3971. 4375.\n",
      " 4692. 5034. 5415. 5288. 5836. 6141. 6089. 6287. 7413. 7987. 7976.]\n"
     ]
    },
    {
     "data": {
      "text/plain": [
       "Text(0.5, 1.0, 'n-iteration')"
      ]
     },
     "execution_count": 113,
     "metadata": {},
     "output_type": "execute_result"
    },
    {
     "data": {
      "image/png": "[encoded data removed]",
      "text/plain": [
       "<Figure size 432x288 with 1 Axes>"
      ]
     },
     "metadata": {
      "needs_background": "light"
     },
     "output_type": "display_data"
    }
   ],
   "source": [
    "n_test = np.array([i for i in range(5, 40)])\n",
    "print(n_test)\n",
    "iteration_test = np.zeros(len(n_test))\n",
    "for n in n_test:\n",
    "    A = matrix_a(n)\n",
    "    x_a = np.random.normal(size = (n,1))\n",
    "    b = np.dot(A, x_a)\n",
    "    x_init = np.zeros(len(b))\n",
    "    x, iteration = jacobi(A, b, x_init)\n",
    "    iteration_test[n-5] = iteration\n",
    "print(iteration_test)\n",
    "plt.plot(n_test, iteration_test)\n",
    "plt.xlabel('n')\n",
    "plt.ylabel('iteration')\n",
    "plt.title('n-iteration')"
   ]
  },
  {
   "cell_type": "code",
   "execution_count": null,
   "metadata": {},
   "outputs": [],
   "source": []
  }
 ],
 "metadata": {
  "kernelspec": {
   "display_name": "Python 3",
   "language": "python",
   "name": "python3"
  },
  "language_info": {
   "codemirror_mode": {
    "name": "ipython",
    "version": 3
   },
   "file_extension": ".py",
   "mimetype": "text/x-python",
   "name": "python",
   "nbconvert_exporter": "python",
   "pygments_lexer": "ipython3",
   "version": "3.7.4"
  }
 },
 "nbformat": 4,
 "nbformat_minor": 4
}
