{
 "cells": [
  {
   "cell_type": "code",
   "execution_count": 2,
   "metadata": {},
   "outputs": [],
   "source": []
  },
  {
   "cell_type": "code",
   "execution_count": 10,
   "metadata": {},
   "outputs": [],
   "source": [
    "import numpy as np\n",
    "import datetime "
   ]
  },
  {
   "cell_type": "code",
   "execution_count": 17,
   "metadata": {},
   "outputs": [],
   "source": [
    "def which_day(day_number):\n",
    "    week = ['Monday','Tuesday','Wednesday','Thursday','Friday','Saturday','Sunday']\n",
    "    if type(day_number) == str:\n",
    "        if day_number == '0:00:00': \n",
    "            return('Monday')\n",
    "        else:\n",
    "            remain_day = int(day_number.split()[0]) % 7  \n",
    "    elif type(day_number) == int:\n",
    "        remain_day = day_number % 7\n",
    "    return(week[remain_day])    \n",
    "# This function is used to transform a number of days difference into the day of the week.\n",
    "# For convenience, we pass a string \"day_number\" to this function because all of method 1, 2 and 3 can use it."
   ]
  },
  {
   "cell_type": "code",
   "execution_count": 9,
   "metadata": {},
   "outputs": [],
   "source": [
    "def which_month(month_number):\n",
    "    month = ['January','February','March','April','May','June','July','Augest','September','October','November','December']\n",
    "    return(month[month_number])\n",
    "\n",
    "# For convenience, we also use this function to tranform the number of month into the word of this month."
   ]
  },
  {
   "cell_type": "code",
   "execution_count": 6,
   "metadata": {},
   "outputs": [],
   "source": [
    "date = ['1900-01-01', '1919-06-28', '1928-01-30', '1933-12-05', '1948-02-29', '1948-03-01', \n",
    "        '1953-01-15','1963-11-22', '1993-06-23', '2005-08-28','2111-05-16']"
   ]
  },
  {
   "cell_type": "markdown",
   "metadata": {},
   "source": [
    "---------"
   ]
  },
  {
   "cell_type": "markdown",
   "metadata": {},
   "source": [
    "Method 1"
   ]
  },
  {
   "cell_type": "code",
   "execution_count": 19,
   "metadata": {},
   "outputs": [],
   "source": [
    "def date_cal(year, month, day):\n",
    "    year_difference = year - 1900\n",
    "    if year == 1900:\n",
    "        leap_year = 0\n",
    "    else:\n",
    "        leap_year = (year_difference - 1) // 4 - (year_difference - 1) // 100 \n",
    "        if year_difference - 1 >= 100: # This \n",
    "            leap_year = leap_year + (year_difference - 1) // 400 + 1\n",
    "    '''\n",
    "    This part makes use of the difference between the year entered and 1900 to calculate the leap years between them.\n",
    "    And the line below directly uses this result to calculate the days between them.\n",
    "    '''\n",
    "    days_for_year = leap_year * 366 + (year_difference - leap_year) * 365\n",
    "    days_for_month = 0\n",
    "    for i in range(1, month):\n",
    "        if i == 1 or i == 3 or i == 5 or i == 7 or i == 8 or i == 10 or i == 12:\n",
    "            j = 31\n",
    "        elif i == 2:\n",
    "            if year % 4 == 0:\n",
    "                if year % 100 == 0 and year % 400 != 0:\n",
    "                    j = 28\n",
    "                else:\n",
    "                    j = 29\n",
    "            else:\n",
    "                j = 28\n",
    "        elif i == 4 or i == 6 or i == 9 or i == 11:\n",
    "            j = 30\n",
    "        else:\n",
    "            print('Invalid entering')\n",
    "            exit(0)\n",
    "        days_for_month = days_for_month + j\n",
    "    return days_for_year + days_for_month + day - 1 # The calculation here includes both the staring and ending days, '-1' here is to eliminate this problem."
   ]
  },
  {
   "cell_type": "code",
   "execution_count": 20,
   "metadata": {},
   "outputs": [
    {
     "name": "stdout",
     "output_type": "stream",
     "text": [
      "Date                           Weekday\n",
      "January 1, 1900                Monday\n",
      "June 28, 1919                  Saturday\n",
      "January 30, 1928               Monday\n",
      "December 5, 1933               Tuesday\n",
      "February 29, 1948              Sunday\n",
      "March 1, 1948                  Monday\n",
      "January 15, 1953               Thursday\n",
      "November 22, 1963              Friday\n",
      "June 23, 1993                  Wednesday\n",
      "Augest 28, 2005                Sunday\n",
      "May 16, 2111                   Saturday\n"
     ]
    }
   ],
   "source": [
    "print('{:<30} {}'.format('Date', 'Weekday'))\n",
    "for day in date:\n",
    "    numbers = day.split('-')\n",
    "    numbers = [int(numbers[i]) for i in range(3)] # Convert the strings into integers.\n",
    "    year, month, day = numbers\n",
    "    weekday = which_day(date_cal(year, month, day))\n",
    "    month = which_month(month - 1)\n",
    "    print('{:<30} {}'.format(month + ' ' + str(day) + ', ' + str(year) , weekday))"
   ]
  },
  {
   "cell_type": "markdown",
   "metadata": {},
   "source": [
    "Method 2"
   ]
  },
  {
   "cell_type": "code",
   "execution_count": 146,
   "metadata": {},
   "outputs": [],
   "source": [
    "origin_time = datetime.date(1900,1,1)"
   ]
  },
  {
   "cell_type": "code",
   "execution_count": 148,
   "metadata": {},
   "outputs": [
    {
     "name": "stdout",
     "output_type": "stream",
     "text": [
      "Date                           Weekday\n",
      "January 1, 1900                Monday\n",
      "June 28, 1919                  Saturday\n",
      "January 30, 1928               Monday\n",
      "December 5, 1933               Tuesday\n",
      "February 29, 1948              Sunday\n",
      "March 1, 1948                  Monday\n",
      "January 15, 1953               Thursday\n",
      "November 22, 1963              Friday\n",
      "June 23, 1993                  Wednesday\n",
      "Augest 28, 2005                Sunday\n",
      "May 16, 2111                   Saturday\n"
     ]
    }
   ],
   "source": [
    "print('{:<30} {}'.format('Date', 'Weekday'))\n",
    "for day in date:\n",
    "\n",
    "    switch_input = [1900,1,1]\n",
    "    for i in range(3):\n",
    "        switch_input[i] = int(day.split('-')[i])\n",
    "# This part is used to transform a string 'day' to a number list switch_input: [year, month, date]\n",
    "    \n",
    "    given_time = datetime.date(switch_input[0], switch_input[1], switch_input[-1])\n",
    "    passed_days = str(given_time - origin_time)\n",
    "    \n",
    "    weekday = which_day(passed_days)\n",
    "    month = which_month(switch_input[1] - 1)\n",
    "    \n",
    "    print('{:<30} {}'.format(month + ' ' + str(switch_input[-1]) + ', ' + str(switch_input[0]) , weekday))"
   ]
  },
  {
   "cell_type": "markdown",
   "metadata": {},
   "source": [
    "--------"
   ]
  },
  {
   "cell_type": "markdown",
   "metadata": {},
   "source": [
    "Method 3"
   ]
  },
  {
   "cell_type": "code",
   "execution_count": 140,
   "metadata": {},
   "outputs": [],
   "source": [
    "origin_time = np.datetime64('1900-01-01')"
   ]
  },
  {
   "cell_type": "code",
   "execution_count": 141,
   "metadata": {},
   "outputs": [
    {
     "name": "stdout",
     "output_type": "stream",
     "text": [
      "Date                           Weekday\n",
      "January 1, 1900                Monday\n",
      "June 28, 1919                  Saturday\n",
      "January 30, 1928               Monday\n",
      "December 5, 1933               Tuesday\n",
      "February 29, 1948              Sunday\n",
      "March 1, 1948                  Monday\n",
      "January 15, 1953               Thursday\n",
      "November 22, 1963              Friday\n",
      "June 23, 1993                  Wednesday\n",
      "Augest 28, 2005                Sunday\n",
      "May 16, 2111                   Saturday\n"
     ]
    }
   ],
   "source": [
    "print('{:<30} {}'.format('Date', 'Weekday'))\n",
    "for day in date:\n",
    "\n",
    "    given_time = np.datetime64(day)\n",
    "    switch_input = [1900,1,1]\n",
    "\n",
    "    for i in range(3):\n",
    "        switch_input[i] = int(raw_input.split('-')[i])\n",
    "        \n",
    "    passed_days = str(given_time - origin_time)\n",
    "    days = int(passed_days.split()[0])\n",
    "    \n",
    "    weekday = which_day(passed_days)\n",
    "    month = which_month(switch_input[1] - 1)\n",
    "    \n",
    "    print('{:<30} {}'.format(month + ' ' + str(switch_input[-1]) + ', ' + str(switch_input[0]) , weekday))\n",
    "# This is very similar to method 2."
   ]
  },
  {
   "cell_type": "code",
   "execution_count": null,
   "metadata": {},
   "outputs": [],
   "source": []
  },
  {
   "cell_type": "code",
   "execution_count": null,
   "metadata": {},
   "outputs": [],
   "source": []
  },
  {
   "cell_type": "code",
   "execution_count": null,
   "metadata": {},
   "outputs": [],
   "source": []
  },
  {
   "cell_type": "code",
   "execution_count": null,
   "metadata": {},
   "outputs": [],
   "source": []
  },
  {
   "cell_type": "code",
   "execution_count": null,
   "metadata": {},
   "outputs": [],
   "source": []
  }
 ],
 "metadata": {
  "kernelspec": {
   "display_name": "Python 3",
   "language": "python",
   "name": "python3"
  },
  "language_info": {
   "codemirror_mode": {
    "name": "ipython",
    "version": 3
   },
   "file_extension": ".py",
   "mimetype": "text/x-python",
   "name": "python",
   "nbconvert_exporter": "python",
   "pygments_lexer": "ipython3",
   "version": "3.7.4"
  }
 },
 "nbformat": 4,
 "nbformat_minor": 4
}
