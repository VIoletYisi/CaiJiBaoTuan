{
 "cells": [
  {
   "cell_type": "markdown",
   "metadata": {},
   "source": [
    "## Group Assignment for Week2"
   ]
  },
  {
   "cell_type": "markdown",
   "metadata": {},
   "source": [
    "### 1. Introduction\n",
    "<font size = 4 color = black face = \"Times New Roman\"> In our daily life, we often use date to remind ourselves when something wil take place. By contrast, the use of weekday is much less, since it can only cover 7 days. However, in some cases, weekday is more useful. For instance, it's more convenient to show our school timetable with weekday than date. What's more, if someone wants to figure out some difference between Monday and Friday, weekday here will be necessary.\n",
    "    \n",
    "<font size = 4 color = black face = \"Times New Roman\">    \n",
    "In many database, data are often stored in the form of date, seldom will the form of weekday occur at the same time. Therefore, a project to convert the date into the corresponding weekday can be some what important."
   ]
  },
  {
   "cell_type": "markdown",
   "metadata": {},
   "source": [
    "### 2. The Development of the Project\n",
    "<font size = 4 color = black face = \"Times New Roman\"> This project mainly focuses on the date from 1900-1-1 and it can be found that 1900-1-1 is Monday. Since weekday is periodic, if we get the number of days between the date we want and 1900-1-1, we can use the remainder of the number of days divided by 7. It should be noted that the calculation should exclude 1900-1-1 itself. (e.g. The number of days between 1900-1-1 and 1900-1-2 is 1)     \n",
    "\n",
    "<font size = 4 color = black face = \"Times New Roman\"> Then the problem is decomposed into two parts:<br>\n",
    "**1. Calculate the number of days between the date we want and 1900-1-1.**<br>\n",
    "**2. Convert the number of days into the weekday.**\n",
    "\n",
    "<font size = 4 color = black face = \"Times New Roman\"> \n",
    "For the first problem, we introduce three methods:<br>\n",
    "(1) First we consider the difference of years, which should distinguish the leap years. This should exclude the year required.<br>\n",
    "    Then, adding them up by multiplying 365 for the number of ordinary years and 366 for the number of leap years.<br>\n",
    "    Finally, adding the days for months and days in the year required.<br>\n",
    "(2) Introduce the module datetime to do the substraction directly.<br>\n",
    "(3) Introduce the data structure datetime64 from the module Numpy to do the substraction directly. <br>    \n",
    "<font size = 4 color = black face = \"Times New Roman\"> \n",
    "For the second problem, we take the remaider of number of days calculated and use a list to do the correspondence shown below.\n",
    "<table class=\"table table-bordered table-striped table-condensed\">   \n",
    "    <tr>  \n",
    "        <td>Remainder</td>  \n",
    "    <td>Weekday</td>  \n",
    "    </tr>  \n",
    "    <tr>  \n",
    "        <td>0</td>  \n",
    "    <td>Monday</td>  \n",
    "    </tr>  \n",
    "    <tr>  \n",
    "        <td>1</td>  \n",
    "    <td>Tuesday</td>  \n",
    "    </tr> \n",
    "    <tr>  \n",
    "        <td>2</td>  \n",
    "    <td>Wednesday</td>  \n",
    "    </tr> \n",
    "    <tr>  \n",
    "        <td>3</td>  \n",
    "    <td>Thursday</td>  \n",
    "    </tr> \n",
    "    <tr>  \n",
    "        <td>4</td>  \n",
    "    <td>Friday</td>  \n",
    "    </tr> \n",
    "    <tr>  \n",
    "        <td>5</td>  \n",
    "    <td>Saturday</td>  \n",
    "    </tr>     \n",
    "    <tr>  \n",
    "        <td>6</td>  \n",
    "    <td>Sunday</td>  \n",
    "    </tr>     \n",
    "</table>      "
   ]
  },
  {
   "cell_type": "markdown",
   "metadata": {},
   "source": [
    "### 3. Code"
   ]
  },
  {
   "cell_type": "code",
   "execution_count": 64,
   "metadata": {},
   "outputs": [],
   "source": [
    "import numpy as np\n",
    "import datetime "
   ]
  },
  {
   "cell_type": "code",
   "execution_count": 65,
   "metadata": {},
   "outputs": [],
   "source": [
    "def which_day(day_number): # We first establish the function to decide the weekday, since it's in common use for all three methods.\n",
    "    week = ['Monday','Tuesday','Wednesday','Thursday','Friday','Saturday','Sunday']\n",
    "    if type(day_number) == str: \n",
    "        if day_number == '0:00:00': \n",
    "            return('Monday')\n",
    "        else:\n",
    "            remain_day = int(day_number.split()[0]) % 7  \n",
    "    elif type(day_number) == int:\n",
    "        remain_day = day_number % 7\n",
    "    return(week[remain_day])    \n",
    "# This function is used to transform a number of days difference into the day of the week.\n",
    "# For convenience, we pass a string \"day_number\" to this function because all of method 1, 2 and 3 can use it."
   ]
  },
  {
   "cell_type": "code",
   "execution_count": 66,
   "metadata": {},
   "outputs": [],
   "source": [
    "def which_month(month_number):\n",
    "    month = ['January','February','March','April','May','June','July','Augest','September','October','November','December']\n",
    "    return(month[month_number])\n",
    "\n",
    "# For convenience, we also use this function to tranform the number of month into the word of this month."
   ]
  },
  {
   "cell_type": "code",
   "execution_count": 67,
   "metadata": {},
   "outputs": [],
   "source": [
    "dates = ['1900-01-01', '1919-06-28', '1928-01-30', '1933-12-05', '1948-02-29', '1948-03-01', \n",
    "        '1953-01-15','1963-11-22', '1993-06-23', '2005-08-28','2111-05-16']"
   ]
  },
  {
   "cell_type": "markdown",
   "metadata": {},
   "source": [
    "---------"
   ]
  },
  {
   "cell_type": "markdown",
   "metadata": {},
   "source": [
    "Method 1"
   ]
  },
  {
   "cell_type": "code",
   "execution_count": 68,
   "metadata": {},
   "outputs": [],
   "source": [
    "def date_cal(year, month, day):\n",
    "    '''\n",
    "    This function can directly calculate the difference of days between the year, month, day entered and 1900-1-1,\n",
    "    but the separation for varibles should be done in advance.\n",
    "    '''\n",
    "    year_difference = year - 1900\n",
    "    if year == 1900:\n",
    "        leap_year = 0\n",
    "    else:\n",
    "        leap_year = (year_difference - 1) // 4 - (year_difference - 1) // 100 \n",
    "        '''\n",
    "        \"-1\" excludes the year entered. For instance,entering 2020-3-17, with \"-1\", we will only include the year before, which is 2019.\n",
    "        This part first consider the years divisable by 4 and then exclude the years divisable by 100.\n",
    "        '''\n",
    "        if year_difference - 1 >= 100:  \n",
    "            leap_year = leap_year + (year_difference - 1) // 400 + 1 # This part compensates for the years divisable by 400.\n",
    "    days_for_year = leap_year * 366 + (year_difference - leap_year) * 365\n",
    "    days_for_month = 0\n",
    "    for i in range(1, month): # Use the for loop to decide the total days for month\n",
    "        if i == 1 or i == 3 or i == 5 or i == 7 or i == 8 or i == 10 or i == 12:\n",
    "            j = 31\n",
    "        elif i == 2:\n",
    "            if year % 4 == 0: # A judgement for the leap year to decide the days for February.\n",
    "                if year % 100 == 0 and year % 400 != 0:\n",
    "                    j = 28\n",
    "                else:\n",
    "                    j = 29\n",
    "            else:\n",
    "                j = 28\n",
    "        elif i == 4 or i == 6 or i == 9 or i == 11:\n",
    "            j = 30\n",
    "        else:\n",
    "            print('Invalid entering')\n",
    "            exit(0)\n",
    "        days_for_month = days_for_month + j\n",
    "    return days_for_year + days_for_month + day - 1 \n",
    "# The calculation here includes both the staring and ending days, '-1' here is to eliminate this problem."
   ]
  },
  {
   "cell_type": "code",
   "execution_count": 69,
   "metadata": {},
   "outputs": [
    {
     "name": "stdout",
     "output_type": "stream",
     "text": [
      "Date                           Weekday\n",
      "January 1, 1900                Monday\n",
      "June 28, 1919                  Saturday\n",
      "January 30, 1928               Monday\n",
      "December 5, 1933               Tuesday\n",
      "February 29, 1948              Sunday\n",
      "March 1, 1948                  Monday\n",
      "January 15, 1953               Thursday\n",
      "November 22, 1963              Friday\n",
      "June 23, 1993                  Wednesday\n",
      "Augest 28, 2005                Sunday\n",
      "May 16, 2111                   Saturday\n"
     ]
    }
   ],
   "source": [
    "print('{:<30} {}'.format('Date', 'Weekday'))\n",
    "for date in dates:\n",
    "    numbers = date.split('-')\n",
    "    numbers = [int(numbers[i]) for i in range(3)] # Convert the strings into integers.\n",
    "    year, month, day = numbers\n",
    "    weekday = which_day(date_cal(year, month, day)) # Use the function to decide the number of days.\n",
    "    month = which_month(month - 1) # To convert the month into its corresponding name.(e.g. 1 -> January)\n",
    "    print('{:<30} {}'.format(month + ' ' + str(day) + ', ' + str(year) , weekday))"
   ]
  },
  {
   "cell_type": "markdown",
   "metadata": {},
   "source": [
    "--------"
   ]
  },
  {
   "cell_type": "markdown",
   "metadata": {},
   "source": [
    "Method 2"
   ]
  },
  {
   "cell_type": "code",
   "execution_count": 70,
   "metadata": {},
   "outputs": [],
   "source": [
    "origin_time = datetime.date(1900,1,1)"
   ]
  },
  {
   "cell_type": "code",
   "execution_count": 71,
   "metadata": {},
   "outputs": [
    {
     "name": "stdout",
     "output_type": "stream",
     "text": [
      "Date                           Weekday\n",
      "January 1, 1900                Monday\n",
      "June 28, 1919                  Saturday\n",
      "January 30, 1928               Monday\n",
      "December 5, 1933               Tuesday\n",
      "February 29, 1948              Sunday\n",
      "March 1, 1948                  Monday\n",
      "January 15, 1953               Thursday\n",
      "November 22, 1963              Friday\n",
      "June 23, 1993                  Wednesday\n",
      "Augest 28, 2005                Sunday\n",
      "May 16, 2111                   Saturday\n"
     ]
    }
   ],
   "source": [
    "print('{:<30} {}'.format('Date', 'Weekday'))\n",
    "for date in dates:\n",
    "    switch_input = [1900,1,1]\n",
    "    for i in range(3):\n",
    "        switch_input[i] = int(date.split('-')[i])\n",
    "# This part is used to transform a string 'day' to a number list switch_input: [year, month, day]\n",
    "    year, month, day = switch_input\n",
    "    given_time = datetime.date(year, month, day)\n",
    "    passed_days = str(given_time - origin_time)\n",
    "    weekday = which_day(passed_days)\n",
    "    month = which_month(month - 1)\n",
    "    print('{:<30} {}'.format(month + ' ' + str(day) + ', ' + str(year) , weekday))"
   ]
  },
  {
   "cell_type": "markdown",
   "metadata": {},
   "source": [
    "--------"
   ]
  },
  {
   "cell_type": "markdown",
   "metadata": {},
   "source": [
    "Method 3"
   ]
  },
  {
   "cell_type": "code",
   "execution_count": 72,
   "metadata": {},
   "outputs": [],
   "source": [
    "origin_time = np.datetime64('1900-01-01')"
   ]
  },
  {
   "cell_type": "code",
   "execution_count": 73,
   "metadata": {},
   "outputs": [
    {
     "name": "stdout",
     "output_type": "stream",
     "text": [
      "Date                           Weekday\n",
      "January 1, 1900                Monday\n",
      "June 28, 1919                  Saturday\n",
      "January 30, 1928               Monday\n",
      "December 5, 1933               Tuesday\n",
      "February 29, 1948              Sunday\n",
      "March 1, 1948                  Monday\n",
      "January 15, 1953               Thursday\n",
      "November 22, 1963              Friday\n",
      "June 23, 1993                  Wednesday\n",
      "Augest 28, 2005                Sunday\n",
      "May 16, 2111                   Saturday\n"
     ]
    }
   ],
   "source": [
    "print('{:<30} {}'.format('Date', 'Weekday'))\n",
    "for date in dates:\n",
    "\n",
    "    given_time = np.datetime64(date)\n",
    "    switch_input = [1900,1,1]\n",
    "\n",
    "    for i in range(3):\n",
    "        switch_input[i] = int(date.split('-')[i])\n",
    "        \n",
    "    year, month, day = switch_input\n",
    "    passed_days = str(given_time - origin_time)\n",
    "    days = int(passed_days.split()[0])\n",
    "    \n",
    "    weekday = which_day(passed_days)\n",
    "    month = which_month(month - 1)\n",
    "    \n",
    "    print('{:<30} {}'.format(month + ' ' + str(day) + ', ' + str(year) , weekday))\n",
    "# This is very similar to method 2."
   ]
  }
 ],
 "metadata": {
  "kernelspec": {
   "display_name": "Python 3",
   "language": "python",
   "name": "python3"
  },
  "language_info": {
   "codemirror_mode": {
    "name": "ipython",
    "version": 3
   },
   "file_extension": ".py",
   "mimetype": "text/x-python",
   "name": "python",
   "nbconvert_exporter": "python",
   "pygments_lexer": "ipython3",
   "version": "3.7.4"
  }
 },
 "nbformat": 4,
 "nbformat_minor": 4
}
