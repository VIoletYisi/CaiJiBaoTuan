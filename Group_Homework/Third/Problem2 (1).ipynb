{
 "cells": [
  {
   "cell_type": "code",
   "execution_count": 20,
   "metadata": {},
   "outputs": [],
   "source": [
    "import sys\n",
    "import matplotlib.pyplot as plt\n",
    "import numpy as np\n",
    "import math"
   ]
  },
  {
   "cell_type": "markdown",
   "metadata": {},
   "source": [
    "<font size = 4 color = black face = \"Times New Roman\">First I want to draw the picture of y(t), it can help us fund the region where the root located."
   ]
  },
  {
   "cell_type": "code",
   "execution_count": 21,
   "metadata": {},
   "outputs": [
    {
     "data": {
      "image/png": "[encoded data removed]",
      "text/plain": [
       "<Figure size 432x288 with 1 Axes>"
      ]
     },
     "metadata": {
      "needs_background": "light"
     },
     "output_type": "display_data"
    }
   ],
   "source": [
    "def f(t):\n",
    "    return 9600 * (1 - np.exp(-t/15)) - 480 * t\n",
    "def r(t):\n",
    "    return 2400 * (1 - np.exp(-t/15))\n",
    "t = np.linspace(0,10,10000)\n",
    "y = f(t)\n",
    "plt.plot(t, y, label = 'zero of f(x)')\n",
    "plt.xlabel('t')\n",
    "plt.ylabel('y(t)')\n",
    "plt.title('y-t')\n",
    "plt.axhline(y=0)\n",
    "plt.show()"
   ]
  },
  {
   "cell_type": "markdown",
   "metadata": {},
   "source": [
    "<font size = 4 color = black face = \"Times New Roman\">Easily to find that the root is in the region (8, 10). Please pay attention that we have another solution $t=0$, we will meet and discuss it later."
   ]
  },
  {
   "cell_type": "markdown",
   "metadata": {},
   "source": [
    "<font size = 4 color = black face = \"Times New Roman\">Method 1: bisection method"
   ]
  },
  {
   "cell_type": "code",
   "execution_count": 22,
   "metadata": {},
   "outputs": [],
   "source": [
    "def bisection(f, x_L, x_R, eps):\n",
    "    f_L = f(x_L)\n",
    "    f_R = f(x_R)\n",
    "    x_M = (x_L + x_R) / 2.0\n",
    "    f_M = f(x_M)\n",
    "    iteration_counter = 0\n",
    "    if f_L*f_R > 0:\n",
    "        print(\"\"\"Error! Function does not have opposite \n",
    "                signs at interval endpoints!\"\"\")\n",
    "    while abs(f_M) > eps: \n",
    "        if f_L*f_M < 0:\n",
    "            x_R = x_M\n",
    "            f_R = f_M\n",
    "        else:\n",
    "            x_L = x_M\n",
    "        x_M = (x_L + x_R)/2\n",
    "        f_M = f(x_M)\n",
    "        iteration_counter = iteration_counter + 1\n",
    "    return x_M, iteration_counter"
   ]
  },
  {
   "cell_type": "code",
   "execution_count": 23,
   "metadata": {},
   "outputs": [
    {
     "name": "stdout",
     "output_type": "stream",
     "text": [
      "The elapsed time is 9.0878996688\n",
      "The range is 1090.5479602541\n",
      "This program runs 39 times\n"
     ]
    }
   ],
   "source": [
    "t_elapsed, counter = bisection(f, 10, 8, 10**(-10))\n",
    "x_elapsed = r(t_elapsed)\n",
    "print('The elapsed time is {:.10f}'.format(t_elapsed))\n",
    "print('The range is {:.10f}'.format(x_elapsed))\n",
    "print('This program runs {:d} times'.format(counter))"
   ]
  },
  {
   "cell_type": "markdown",
   "metadata": {},
   "source": [
    "<font size = 4 color = black face = \"Times New Roman\">Method 2: the inverse interpolation method"
   ]
  },
  {
   "cell_type": "code",
   "execution_count": 28,
   "metadata": {},
   "outputs": [],
   "source": [
    "def inverse(f, x1, x2, eps):\n",
    "    f_x1 = f(x1)\n",
    "    f_x2 = f(x2)\n",
    "    iteration_counter = 0\n",
    "    while abs(f_x2) > eps:\n",
    "        try:\n",
    "            denominator = (f_x1 - f_x2)/(x1 - x2)\n",
    "            x2 = x1 - f_x1 / denominator\n",
    "        except ZeroDivisionError:\n",
    "            print('Error! - denominator zero for x = ', x)\n",
    "            sys.exit(1)\n",
    "        f_x2 = f(x2)\n",
    "        iteration_counter = iteration_counter + 1\n",
    "    return x2, iteration_counter"
   ]
  },
  {
   "cell_type": "code",
   "execution_count": 29,
   "metadata": {},
   "outputs": [
    {
     "name": "stdout",
     "output_type": "stream",
     "text": [
      "The elapsed time is 9.0878996688\n",
      "The range is 1090.5479602542\n",
      "This program runs 11 times\n"
     ]
    }
   ],
   "source": [
    "t_elapsed, counter = inverse(f, 10, 8, 10**(-10))\n",
    "x_elapsed = r(t_elapsed)\n",
    "print('The elapsed time is {:.10f}'.format(t_elapsed))\n",
    "print('The range is {:.10f}'.format(x_elapsed))\n",
    "print('This program runs {:d} times'.format(counter))"
   ]
  },
  {
   "cell_type": "markdown",
   "metadata": {},
   "source": [
    "<font size = 4 color = black face = \"Times New Roman\">Method 3: the sacant method"
   ]
  },
  {
   "cell_type": "code",
   "execution_count": 32,
   "metadata": {},
   "outputs": [],
   "source": [
    "def secant(f, x2, x1, eps):\n",
    "    f_x2 = f(x2)\n",
    "    f_x1 = f(x1)\n",
    "    iteration_counter = 0\n",
    "    while abs(f_x2) > eps and iteration_counter < 100:\n",
    "        try:\n",
    "            denominator = (f_x1 - f_x2)/(x1 - x2)\n",
    "            x = x1 - f_x1/denominator\n",
    "        except ZeroDivisionError:\n",
    "            print('Error! - denominator zero for x = ', x2)\n",
    "            sys.exit(1)\n",
    "        x2 = x1\n",
    "        x1 = x\n",
    "        f_x2 = f(x2)\n",
    "        f_x1 = f(x1)\n",
    "        iteration_counter = iteration_counter + 1\n",
    "    if abs(f_x1) > eps:\n",
    "        iteration_counter = -1\n",
    "    return x, iteration_counter"
   ]
  },
  {
   "cell_type": "code",
   "execution_count": 40,
   "metadata": {},
   "outputs": [
    {
     "name": "stdout",
     "output_type": "stream",
     "text": [
      "The elapsed time is 9.0878996688\n",
      "The range is 1090.5479602542\n",
      "This program runs 7 times\n"
     ]
    }
   ],
   "source": [
    "t_elapsed, counter = secant(f, 5, 10, 10**(-10))\n",
    "x_elapsed = r(t_elapsed)\n",
    "if counter < 0:\n",
    "    print('Root Not Found.')\n",
    "elif t_elapsed < 8:\n",
    "    print('We Get An Error Solution. Please Choose Another Interval.')\n",
    "else:\n",
    "    print('The elapsed time is {:.10f}'.format(t_elapsed))\n",
    "    print('The range is {:.10f}'.format(x_elapsed))\n",
    "    print('This program runs {:d} times'.format(counter))"
   ]
  },
  {
   "cell_type": "markdown",
   "metadata": {},
   "source": [
    "<font size = 4 color = black face = \"Times New Roman\">Now we have calculated the elapsed time by using all three methods. Comparing the results, we can find that the bisection run the max number of times while the secant method just run 5 times. So for this problem, the secant method seems to be the best method."
   ]
  },
  {
   "cell_type": "markdown",
   "metadata": {},
   "source": [
    "<font size = 4 color = black face = \"Times New Roman\">But there is still one problem for secant method. We can easily find that $t = 0$ is also a solution for $y(t) = 0$, and we can see it directly from the picture of y-t above. So if we choose interval randomly, we may get the solution t = 0. Unluckily, we can't avoid this case in principle. In this situation, we must choose another interval."
   ]
  },
  {
   "cell_type": "code",
   "execution_count": null,
   "metadata": {},
   "outputs": [],
   "source": []
  }
 ],
 "metadata": {
  "kernelspec": {
   "display_name": "Python 3",
   "language": "python",
   "name": "python3"
  },
  "language_info": {
   "codemirror_mode": {
    "name": "ipython",
    "version": 3
   },
   "file_extension": ".py",
   "mimetype": "text/x-python",
   "name": "python",
   "nbconvert_exporter": "python",
   "pygments_lexer": "ipython3",
   "version": "3.7.4"
  }
 },
 "nbformat": 4,
 "nbformat_minor": 4
}
