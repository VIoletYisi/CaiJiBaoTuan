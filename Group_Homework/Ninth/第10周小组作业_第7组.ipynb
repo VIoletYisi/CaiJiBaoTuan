{
 "cells": [
  {
   "cell_type": "markdown",
   "metadata": {},
   "source": [
    "### Group Assaignment Week 11"
   ]
  },
  {
   "cell_type": "code",
   "execution_count": 1,
   "metadata": {},
   "outputs": [],
   "source": [
    "import numpy as np"
   ]
  },
  {
   "cell_type": "markdown",
   "metadata": {},
   "source": [
    "### **Problem1**"
   ]
  },
  {
   "cell_type": "code",
   "execution_count": 2,
   "metadata": {},
   "outputs": [
    {
     "ename": "SyntaxError",
     "evalue": "invalid syntax (<ipython-input-2-019febda1024>, line 1)",
     "output_type": "error",
     "traceback": [
      "\u001b[1;36m  File \u001b[1;32m\"<ipython-input-2-019febda1024>\"\u001b[1;36m, line \u001b[1;32m1\u001b[0m\n\u001b[1;33m    <font size = 4 color = black face = \"Times New Roman\">\u001b[0m\n\u001b[1;37m    ^\u001b[0m\n\u001b[1;31mSyntaxError\u001b[0m\u001b[1;31m:\u001b[0m invalid syntax\n"
     ]
    }
   ],
   "source": [
    "<font size = 4 color = black face = \"Times New Roman\">"
   ]
  },
  {
   "cell_type": "markdown",
   "metadata": {},
   "source": [
    "### **Problem2**"
   ]
  },
  {
   "cell_type": "code",
   "execution_count": null,
   "metadata": {},
   "outputs": [],
   "source": []
  },
  {
   "cell_type": "markdown",
   "metadata": {},
   "source": [
    "### **Problem3**"
   ]
  },
  {
   "cell_type": "code",
   "execution_count": null,
   "metadata": {},
   "outputs": [],
   "source": []
  },
  {
   "cell_type": "markdown",
   "metadata": {},
   "source": [
    "### **Problem4**"
   ]
  },
  {
   "cell_type": "markdown",
   "metadata": {},
   "source": [
    "<font size = 4 color = black face = \"Times New Roman\"> To obtain a eight-order approximation to an integral by Romberg intergration, we require that the step size should cover $h$, $\\dfrac{h}{2}$, $\\dfrac{h}{4}$ and $\\dfrac{h}{4}$, the correspongding number of points is $N$, $2N-1$, $4N-3$, $8N-7$The iteration relation is shown below:\n",
    "$$\\begin{aligned}\n",
    "A_{1} &  \\quad \\mathbf{I=A_1 +O(h^{2})}\\\\\n",
    "A_{2} &  =\\frac{4}{3}A_{1}\\left(  \\dfrac{h}{2}\\right)  -\\frac{1}{3}%\n",
    "A_{1}(h)=\\frac{2^{2}A_{1}\\left(  \\dfrac{h}{2}\\right)  -A_{1}\\left(  h\\right)\n",
    "}{2^{2}-1}\\\\\n",
    "A_{2} &  \\quad \\mathbf{I=A_2+O(h^{4})}\\\\\n",
    "A_{3} &  =\\frac{4^{2}A_{2}\\left(  \\dfrac{h}{2}\\right)  -A_{2}\\left(  h\\right)\n",
    "}{4^{2}-1}\\\\\n",
    "A_{3} &  \\quad \\mathbf{I=A_3+O(h^{6})}\\\\\n",
    "A_{4} &  =\\frac{4^{3}A_{3}\\left(  \\dfrac{h}{2}\\right)  -A_{3}\\left(  h\\right)\n",
    "}{4^{3}-1}\\\\\n",
    "A_{4} &  \\quad \\mathbf{I=A_4+O(h^{8})}\\\\\n",
    "\\end{aligned}$$\n",
    "Here we choose Simpson's method to finish Romberg integration.   "
   ]
  },
  {
   "cell_type": "code",
   "execution_count": 4,
   "metadata": {},
   "outputs": [],
   "source": [
    "def Simpson(f, a, b, N = 101): # f the function, [a,b] the integration area(b>a), N number of points(odd).\n",
    "    step = (b-a)/(N-1)\n",
    "    x = np.arange(a,b+step/2,step) # define a set of x\n",
    "    h = []\n",
    "    for i in range(N): # Set the weight \n",
    "        if i == 0 or i == N-1:\n",
    "            h.append(step/3)\n",
    "        elif i%2 == 1:\n",
    "            h.append(4*step/3)\n",
    "        else:\n",
    "            h.append(2*step/3)\n",
    "    integ = (f(x)*h).sum()\n",
    "    return integ\n",
    "\n",
    "def Romberg(f,a,b,order,N=101):  # f the function, [a,b] the integration area(b>a), order is the order for approximation, N number of points(odd).\n",
    "    l = int(np.log2(order))\n",
    "    N_set = [(2**i)*N-2**i+1 for i in range(l+1)] # Here we use N instead of h to meet the function of Simpson's method.\n",
    "    A_set = []\n",
    "    for N in N_set:\n",
    "        A = Simpson(f, a, b, N) # Calculate the first integration\n",
    "        A_set.append(A)\n",
    "    for i in range(l):\n",
    "        A_last = A_set\n",
    "        A_set = []\n",
    "        for j in range(l-i):\n",
    "            A = (4**(i+1) *A_last[j+1]-A_last[j])/(4**(i+1)-1)\n",
    "            A_set.append(A)\n",
    "    return A "
   ]
  },
  {
   "cell_type": "markdown",
   "metadata": {},
   "source": [
    "<font size = 4 color = black face = \"Times New Roman\">(1)$$\n",
    "    \\int_{-1}^1 \\frac{dx}{1+x^2}=\\frac{\\pi}{2}\n",
    "    $$ "
   ]
  },
  {
   "cell_type": "code",
   "execution_count": 5,
   "metadata": {},
   "outputs": [
    {
     "name": "stdout",
     "output_type": "stream",
     "text": [
      "1.5707963267949148\n",
      "1.8207657603852567e-14\n"
     ]
    }
   ],
   "source": [
    "def f(x):\n",
    "    return 1/(1+x**2)\n",
    "\n",
    "print(Romberg(f,-1,1,8,N=101))\n",
    "print(Romberg(f,-1,1,8,N=101) - np.pi/2)"
   ]
  },
  {
   "cell_type": "markdown",
   "metadata": {},
   "source": [
    "<font size = 4 color = black face = \"Times New Roman\">(2) $$\n",
    "    \\int_{-\\infty}^{\\infty}\\frac{dx}{(e^x+x+1)^2+\\pi^2}=\\frac{2}{3}$$"
   ]
  },
  {
   "cell_type": "code",
   "execution_count": 9,
   "metadata": {},
   "outputs": [
    {
     "data": {
      "text/plain": [
       "0.6656656689811445"
      ]
     },
     "execution_count": 9,
     "metadata": {},
     "output_type": "execute_result"
    }
   ],
   "source": [
    "def g(x):\n",
    "    return 1/((np.exp(x)+x+1)**2 + (np.pi)**2)\n",
    "Simpson(g, -1000,1000,1000001)"
   ]
  },
  {
   "cell_type": "markdown",
   "metadata": {},
   "source": [
    "### **Problem5**"
   ]
  },
  {
   "cell_type": "markdown",
   "metadata": {},
   "source": [
    "<font size = 4 color = black face = \"Times New Roman\"> From Guass-Legendre formula, we've known that\n",
    "$$\n",
    "\\int_{-1}^{1}w\\left(  x\\right)  f\\left(  x\\right)  dx\\approx\n",
    "{\\displaystyle\\sum\\limits_{k=1}^{n}}\n",
    "w_{k}f\\left(  x_{k}\\right)\n",
    "$$\n",
    "$x_{k}$: roots of Legendre polynomial $P_{n}$.\n",
    "The weights:\n",
    "$$\\begin{aligned}\n",
    "w_{k}  &  =-\\frac{A_{n+1}\\gamma_{n}}{A_{n}P_{n}^{\\prime}\\left(  x_{k}\\right)\n",
    "P_{n+1}\\left(  x_{k}\\right)  }\\\\\n",
    "A_{n}  &  =\\frac{\\left(  2n\\right)  !}{2^{n}\\left(  n!\\right)  ^{2}}\\; (\\text{coefficient of }x^n)\\\\\n",
    "\\gamma_{n}  &  =\\int_{-1}^{1}\\left[  P_{n}\\left(  x\\right)  \\right]\n",
    "^{2}dx=\\frac{2}{2n+1}%\n",
    "\\end{aligned}$$\n",
    "\n",
    "$$\n",
    "w_{k}=\\frac{2}{\\left(  1-x_{k}^{2}\\right)  \\left[  P_{n}^{\\prime}\\left(\n",
    "x_{k}\\right)  \\right]  ^{2}}=-\\frac{2\\left(  1-x_{k}^{2}\\right)  }{\\left(\n",
    "n+1\\right)  ^{2}\\left[  P_{n+1}\\left(  x_{k}\\right)  \\right]  ^{2}}%\n",
    "$$\n",
    "<font size = 4 color = black face = \"Times New Roman\">Firstly, let's directly record the weights and nodes(from https://dlmf.nist.gov/) for the 5-point, 10-point and 20-point Guass-Legendre formula."
   ]
  },
  {
   "cell_type": "code",
   "execution_count": 21,
   "metadata": {},
   "outputs": [],
   "source": [
    "xk_5=np.array([0, 0.538469310105683,-0.538469310105683,0.906179845938664,-0.906179845938664])\n",
    "wk_5=np.array([0.568888888888889,0.478628670499366,0.478628670499366,0.236926885056189,0.236926885056189])\n",
    "xk_10 = [0.148874338981631211,-0.148874338981631211,0.433395394129247191,-0.433395394129247191,0.679409568299024406,-0.679409568299024406,0.865063366688984511,-0.865063366688984511,0.973906528517171720,-0.973906528517171720]\n",
    "wk_10 = [0.295524224714752870,0.295524224714752870,0.269266719309996355,0.269266719309996355,0.219086362515982044,0.219086362515982044,0.149451349150580593,0.149451349150580593,0.066671344308688138,0.066671344308688138]\n",
    "xk_20 = [0.076526521133497333755,-0.076526521133497333755,0.227785851141645078080,-0.227785851141645078080,0.373706088715419560673,-0.373706088715419560673,0.510867001950827098004,-0.510867001950827098004,0.636053680726515025453,-0.636053680726515025453,0.746331906460150792614,-0.746331906460150792614,0.839116971822218823395,-0.839116971822218823395,0.912234428251325905868,-0.912234428251325905868,0.963971927277913791268,-0.963971927277913791268,0.993128599185094924786,-0.993128599185094924786]\n",
    "wk_20 = [0.152753387130725850698,0.152753387130725850698,0.149172986472603746788 ,0.149172986472603746788,0.142096109318382051329,0.142096109318382051329, 0.131688638449176626898, 0.131688638449176626898,0.118194531961518417312,0.118194531961518417312,0.101930119817240435037,0.101930119817240435037,0.083276741576704748725,0.083276741576704748725,0.062672048334109063570,0.062672048334109063570,0.040601429800386941331,0.040601429800386941331, 0.017614007139152118312, 0.017614007139152118312]"
   ]
  },
  {
   "cell_type": "markdown",
   "metadata": {},
   "source": [
    "<font size = 4 color = black face = \"Times New Roman\"> Due to the Guass-Legendre formula\n",
    " $$\n",
    "   I = \\int_0^1 \\frac{\\sin t}{t}dt = \\dfrac{1}{2}\\int_{-1}^1 \\frac{\\sin t}{t}dt\\approx \\dfrac{1}{2}{\\displaystyle\\sum\\limits_{k=1}^{n}}\n",
    "w_{k}\\dfrac{\\sin x_k}{x_k}\n",
    "   $$\n"
   ]
  },
  {
   "cell_type": "code",
   "execution_count": 30,
   "metadata": {},
   "outputs": [
    {
     "data": {
      "text/plain": [
       "0.9460830704032701"
      ]
     },
     "execution_count": 30,
     "metadata": {},
     "output_type": "execute_result"
    }
   ],
   "source": [
    "0.5*(1*wk_5[0]+(np.sin(xk_5[1:])/xk_5[1:]*wk_5[1:]).sum())"
   ]
  },
  {
   "cell_type": "code",
   "execution_count": 31,
   "metadata": {},
   "outputs": [
    {
     "data": {
      "text/plain": [
       "0.9460830703671831"
      ]
     },
     "execution_count": 31,
     "metadata": {},
     "output_type": "execute_result"
    }
   ],
   "source": [
    "0.5*(np.sin(xk_10)/xk_10*wk_10).sum()"
   ]
  },
  {
   "cell_type": "code",
   "execution_count": 26,
   "metadata": {},
   "outputs": [
    {
     "data": {
      "text/plain": [
       "0.946083070367183"
      ]
     },
     "execution_count": 26,
     "metadata": {},
     "output_type": "execute_result"
    }
   ],
   "source": [
    "0.5*(np.sin(xk_20)/xk_20*wk_20).sum()"
   ]
  },
  {
   "cell_type": "code",
   "execution_count": null,
   "metadata": {},
   "outputs": [],
   "source": []
  }
 ],
 "metadata": {
  "kernelspec": {
   "display_name": "Python 3",
   "language": "python",
   "name": "python3"
  },
  "language_info": {
   "codemirror_mode": {
    "name": "ipython",
    "version": 3
   },
   "file_extension": ".py",
   "mimetype": "text/x-python",
   "name": "python",
   "nbconvert_exporter": "python",
   "pygments_lexer": "ipython3",
   "version": "3.7.4"
  }
 },
 "nbformat": 4,
 "nbformat_minor": 4
}
