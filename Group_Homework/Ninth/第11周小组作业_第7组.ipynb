{
 "cells": [
  {
   "cell_type": "markdown",
   "metadata": {},
   "source": [
    "### Group Assaignment Week 11"
   ]
  },
  {
   "cell_type": "code",
   "execution_count": 1,
   "metadata": {},
   "outputs": [],
   "source": [
    "import numpy as np"
   ]
  },
  {
   "cell_type": "markdown",
   "metadata": {},
   "source": [
    "### **Problem1**"
   ]
  },
  {
   "cell_type": "markdown",
   "metadata": {},
   "source": [
    "<font size = 4 color = black face = \"Times New Roman\">The main program demo_midpoint.py:"
   ]
  },
  {
   "cell_type": "code",
   "execution_count": 2,
   "metadata": {},
   "outputs": [
    {
     "name": "stdout",
     "output_type": "stream",
     "text": [
      "Time, midpoint: 16.2277 seconds\n",
      "Time, midpoint vec: 0.663577 seconds\n",
      "Efficiency factor: 24.4549\n"
     ]
    }
   ],
   "source": [
    "import timeit\n",
    "from integration_methods_vec import midpoint as midpoint_vec\n",
    "from midpoint import midpoint\n",
    "from numpy import exp\n",
    "\n",
    "\n",
    "v = lambda t: 3*t**2*exp(t**3)\n",
    "t = timeit.Timer('midpoint(v, 0, 1, 1000000)', \\\n",
    "    setup='from __main__ import midpoint, v')\n",
    "time_midpoint = t.timeit(10)\n",
    "print('Time, midpoint: {:g} seconds'.format(time_midpoint))\n",
    "\n",
    "\n",
    "t = timeit.Timer('midpoint_vec(v, 0, 1, 1000000)', \\\n",
    "    setup = 'from __main__ import midpoint_vec, v')\n",
    "time_midpoint_vec = t.timeit(10)\n",
    "print('Time, midpoint vec: {:g} seconds'.format(time_midpoint_vec))\n",
    "print('Efficiency factor: {:g}'.format(time_midpoint/time_midpoint_vec))"
   ]
  },
  {
   "cell_type": "markdown",
   "metadata": {},
   "source": [
    "<font size = 4 color = black face = \"Times New Roman\">midpoint_vec() and midpoint are() two functions we have defined to calculate the integration by using midpoint method. The difference between them is that we use many inner function like sum() and linspace() in midpoint_vec() but using a for-loop in midpoint to replace them.   \n",
    "    \n",
    "<font size = 4 color = black face = \"Times New Roman\">timeit.Timer() and timeit() is used to calculate the running time. The expression in timeit.Timer() is the object we will calculate and the number in timeit() is the repeated time.   \n",
    "    \n",
    "<font size = 4 color = black face = \"Times New Roman\">So this program is used to calculate the running time of midpoint_vec() and midpoint() when we calculate a specific integration, here we use an efficiency factor to quantify the difference.\n",
    "    \n",
    "<font size = 4 color = black face = \"Times New Roman\">Conclusion: From the running result, we can surprisingly find that midpoint_vec() is much quicker than midpoint(). It inspires us that using the inner function properly can drastically reduce the running time."
   ]
  },
  {
   "cell_type": "markdown",
   "metadata": {},
   "source": [
    "### **Problem2**"
   ]
  },
  {
   "cell_type": "code",
   "execution_count": 3,
   "metadata": {},
   "outputs": [],
   "source": [
    "def trapezoid(f, a, b, eps):\n",
    "    A0 = 0.5 * (f(a) + f(b))\n",
    "    h = (b - a) / 2.0\n",
    "    A1 = 0.5 * A0 + h * f(a + h)\n",
    "    i = 1\n",
    "    while abs((A1 - A0) / A1) > eps:\n",
    "        A0 = A1\n",
    "        h = h / 2.0\n",
    "        i = 2 * i\n",
    "        x = np.linspace(a + h, b - h, i)\n",
    "        A1 = 0.5 * A0 + h * sum(f(x))\n",
    "    return A1"
   ]
  },
  {
   "cell_type": "code",
   "execution_count": 4,
   "metadata": {},
   "outputs": [],
   "source": [
    "def f1(x):\n",
    "    return x**2\n",
    "\n",
    "def f2(x):\n",
    "    return np.sin(x)\n",
    "\n",
    "def f3(x):\n",
    "    return np.exp(-x**2)"
   ]
  },
  {
   "cell_type": "code",
   "execution_count": 5,
   "metadata": {},
   "outputs": [
    {
     "name": "stdout",
     "output_type": "stream",
     "text": [
      "38.999996542932124\n",
      "-8.864276606182568e-08\n"
     ]
    }
   ],
   "source": [
    "I = trapezoid(f1, 2, 5, 1e-7)\n",
    "error = (I - 39) / 39\n",
    "print(I)\n",
    "print(error)"
   ]
  },
  {
   "cell_type": "code",
   "execution_count": 6,
   "metadata": {},
   "outputs": [
    {
     "name": "stdout",
     "output_type": "stream",
     "text": [
      "1.9999999754885724\n",
      "-1.2255713777165056e-08\n"
     ]
    }
   ],
   "source": [
    "I = trapezoid(f2, 0, np.pi, 1e-7)\n",
    "error = (I - 2) / 2\n",
    "print(I)\n",
    "print(error)"
   ]
  },
  {
   "cell_type": "code",
   "execution_count": 7,
   "metadata": {},
   "outputs": [
    {
     "name": "stdout",
     "output_type": "stream",
     "text": [
      "0.8862261923927467\n",
      "-8.407133504652773e-08\n"
     ]
    }
   ],
   "source": [
    "I = trapezoid(f3, 0, 3.5, 1e-7)\n",
    "error = (I - 0.8862262668989721) / 0.8862262668989721\n",
    "print(I)\n",
    "print(error)"
   ]
  },
  {
   "cell_type": "markdown",
   "metadata": {},
   "source": [
    "<font size = 4 color = black face = \"Times New Roman\">Here I use $\\epsilon = 10^{-7}$ because this number is small enough. If the number is more smaller, the running time is long and may cause MemoryError. We can see that the error is in the tolerance, it seems that our code is right."
   ]
  },
  {
   "cell_type": "markdown",
   "metadata": {},
   "source": [
    "### **Problem3**"
   ]
  },
  {
   "cell_type": "markdown",
   "metadata": {},
   "source": [
    "<font size = 4 color = black face = \"Times New Roman\"> (1)"
   ]
  },
  {
   "cell_type": "markdown",
   "metadata": {},
   "source": [
    "<font size = 4 color = black face = \"Times New Roman\"> Using the midpoint rule we have\n",
    "<font size = 4 color = black face = \"Times New Roman\"> \n",
    "$$\n",
    "\\begin{align}\n",
    "\\int_a^b\\int_c^d{f(x,y)}dydx\\approx &\\int_a^b(\\sum_{j = 0}^{n_y - 1}f(x,y_j)h_y)dx\\\\\n",
    "= & h_y\\sum_{j = 0}^{n_y - 1}\\int_a^bf(x,y_j)dx\\\\\n",
    "= & h_y\\sum_{j = 0}^{n_y - 1}(h_x\\sum_{i = 0}^{n_x - 1}f(x_i,y_j))\\\\\n",
    "Hence\n",
    "\\int_a^b\\int_c^d{f(x,y)}dyfx\\approx& h_x\\sum_{i = 0}^{n_x - 1}h_y\\sum_{j = 0}^{n_y - 1}f(x_i,y_j)\\\\\n",
    "= & h_xh_y\\sum_{i = 0}^{n_x - 1}\\sum_{j = 0}^{n_y - 1}f(a+\\frac{h_x}{2}+ih_x,c+\\frac{h_y}{2}+jh_y)\n",
    "\\end{align}\n",
    "$$\n"
   ]
  },
  {
   "cell_type": "markdown",
   "metadata": {},
   "source": [
    "<font size = 4 color = black face = \"Times New Roman\"> (2)"
   ]
  },
  {
   "cell_type": "code",
   "execution_count": 8,
   "metadata": {},
   "outputs": [],
   "source": [
    "# Define the double integral function.\n",
    "def double_integral(f,a,b,c,d,N=1001):\n",
    "    # define weights h_x,h_y\n",
    "    h_x = (b - a) / (N - 1)\n",
    "    h_y = (d - c) / (N - 1)\n",
    "    # define the initial value\n",
    "    int = 0 \n",
    "    x_i = 0\n",
    "    y_j = 0\n",
    "    for i in range(N-1):\n",
    "        x_i = a + (i + 1 / 2) * h_x\n",
    "        for j in range(N-1):\n",
    "            y_j = c + (j + 1 / 2) * h_y \n",
    "            int += f(x_i,y_j)\n",
    "    int *= h_x * h_y\n",
    "    return int"
   ]
  },
  {
   "cell_type": "markdown",
   "metadata": {},
   "source": [
    "<font size = 4 color = black face = \"Times New Roman\"> 2.a"
   ]
  },
  {
   "cell_type": "markdown",
   "metadata": {},
   "source": [
    "<font size = 4 color = black face = \"Times New Roman\"> I'd like to choose a test $f(x,y) = x + y^3$, with $a = c = 0, b = d =1$ .\n",
    "\n",
    "<font size = 4 color = black face = \"Times New Roman\"> Hand calculation:\n",
    "$$\n",
    "\\int_a^b\\int_c^d{f(x,y)}dydx  = 0.75\n",
    "$$\n",
    "<font size = 4 color = black face = \"Times New Roman\"> Then we do it by using python."
   ]
  },
  {
   "cell_type": "code",
   "execution_count": 9,
   "metadata": {},
   "outputs": [],
   "source": [
    "# Define the test function\n",
    "def f(x,y):\n",
    "    return x + y ** (3)"
   ]
  },
  {
   "cell_type": "code",
   "execution_count": 10,
   "metadata": {},
   "outputs": [],
   "source": [
    "# Define the end points` values\n",
    "a = 0\n",
    "b = 1\n",
    "c = 0\n",
    "d = 1"
   ]
  },
  {
   "cell_type": "code",
   "execution_count": 11,
   "metadata": {},
   "outputs": [
    {
     "name": "stdout",
     "output_type": "stream",
     "text": [
      "Integral = 0.7499998750000022\n"
     ]
    }
   ],
   "source": [
    "print(f'Integral = {double_integral(f,a,b,c,d)}')"
   ]
  },
  {
   "cell_type": "markdown",
   "metadata": {},
   "source": [
    "<font size = 4 color = black face = \"Times New Roman\"> The answer is very close to the right soultion. This shows that the program we wrote is correct."
   ]
  },
  {
   "cell_type": "markdown",
   "metadata": {},
   "source": [
    "<font size = 4 color = black face = \"Times New Roman\"> 2.b"
   ]
  },
  {
   "cell_type": "code",
   "execution_count": 12,
   "metadata": {},
   "outputs": [],
   "source": [
    "def f(x,y):\n",
    "    return 2 * x + y"
   ]
  },
  {
   "cell_type": "code",
   "execution_count": 13,
   "metadata": {},
   "outputs": [],
   "source": [
    "# Define the end points` values\n",
    "a = 0\n",
    "b = 2\n",
    "c = 2\n",
    "d = 3"
   ]
  },
  {
   "cell_type": "code",
   "execution_count": 14,
   "metadata": {},
   "outputs": [
    {
     "name": "stdout",
     "output_type": "stream",
     "text": [
      "Integral = 9.0\n"
     ]
    }
   ],
   "source": [
    "print(f'Integral = {double_integral(f,a,b,c,d)}')"
   ]
  },
  {
   "cell_type": "markdown",
   "metadata": {},
   "source": [
    "<font size = 4 color = black face = \"Times New Roman\"> Hence we solve the problem without numerical errors"
   ]
  },
  {
   "cell_type": "markdown",
   "metadata": {},
   "source": [
    "### **Problem4**"
   ]
  },
  {
   "cell_type": "markdown",
   "metadata": {},
   "source": [
    "<font size = 4 color = black face = \"Times New Roman\"> To obtain a eight-order approximation to an integral by Romberg intergration, we require that the step size should cover $h$, $\\dfrac{h}{2}$, $\\dfrac{h}{4}$ and $\\dfrac{h}{8}$, the correspongding number of points is $N$, $2N-1$, $4N-3$, $8N-7$($\\dfrac{h}{2^i}$ corresponds to ${2^i}N-2^i+1$)The iteration relation is shown below:\n",
    "$$\\begin{aligned}\n",
    "A_{1} &  \\quad \\mathbf{I=A_1 +O(h^{2})}\\\\\n",
    "A_{2} &  =\\frac{4}{3}A_{1}\\left(  \\dfrac{h}{2}\\right)  -\\frac{1}{3}%\n",
    "A_{1}(h)=\\frac{2^{2}A_{1}\\left(  \\dfrac{h}{2}\\right)  -A_{1}\\left(  h\\right)\n",
    "}{2^{2}-1}\\\\\n",
    "A_{2} &  \\quad \\mathbf{I=A_2+O(h^{4})}\\\\\n",
    "A_{3} &  =\\frac{4^{2}A_{2}\\left(  \\dfrac{h}{2}\\right)  -A_{2}\\left(  h\\right)\n",
    "}{4^{2}-1}\\\\\n",
    "A_{3} &  \\quad \\mathbf{I=A_3+O(h^{6})}\\\\\n",
    "A_{4} &  =\\frac{4^{3}A_{3}\\left(  \\dfrac{h}{2}\\right)  -A_{3}\\left(  h\\right)\n",
    "}{4^{3}-1}\\\\\n",
    "A_{4} &  \\quad \\mathbf{I=A_4+O(h^{8})}\\\\\n",
    "\\end{aligned}$$\n",
    "Here we choose Simpson's method to finish Romberg integration.   "
   ]
  },
  {
   "cell_type": "code",
   "execution_count": 15,
   "metadata": {},
   "outputs": [],
   "source": [
    "def Simpson(f, a, b, N = 101): # f the function, [a,b] the integration area(b>a), N number of points(odd).\n",
    "    step = (b-a)/(N-1)\n",
    "    x = np.arange(a,b+step/2,step) # define a set of x\n",
    "    h = []\n",
    "    for i in range(N): # Set the weight \n",
    "        if i == 0 or i == N-1:\n",
    "            h.append(step/3)\n",
    "        elif i%2 == 1:\n",
    "            h.append(4*step/3)\n",
    "        else:\n",
    "            h.append(2*step/3)\n",
    "    integ = (f(x)*h).sum()\n",
    "    return integ\n",
    "\n",
    "def Romberg(f,a,b,order,N=101):  # f the function, [a,b] the integration area(b>a), order is the order for approximation, N number of points(odd).\n",
    "    l = int(np.log2(order))\n",
    "    N_set = [(2**i)*N-2**i+1 for i in range(l+1)] # Here we use N instead of h to meet the function of Simpson's method.\n",
    "    A_set = []\n",
    "    for N in N_set:\n",
    "        A = Simpson(f, a, b, N) # Calculate the first integration\n",
    "        A_set.append(A)\n",
    "    for i in range(l):\n",
    "        A_last = A_set\n",
    "        A_set = []\n",
    "        for j in range(l-i):\n",
    "            A = (4**(i+1) *A_last[j+1]-A_last[j])/(4**(i+1)-1)\n",
    "            A_set.append(A)\n",
    "    return A "
   ]
  },
  {
   "cell_type": "markdown",
   "metadata": {},
   "source": [
    "<font size = 4 color = black face = \"Times New Roman\">(1)$$\n",
    "    \\int_{-1}^1 \\frac{dx}{1+x^2}=\\frac{\\pi}{2}\n",
    "    $$ "
   ]
  },
  {
   "cell_type": "code",
   "execution_count": 16,
   "metadata": {},
   "outputs": [
    {
     "name": "stdout",
     "output_type": "stream",
     "text": [
      "1.5707963267949148\n",
      "1.8207657603852567e-14\n"
     ]
    }
   ],
   "source": [
    "def f(x):\n",
    "    return 1/(1+x**2)\n",
    "\n",
    "print(Romberg(f,-1,1,8,N=101))\n",
    "print(Romberg(f,-1,1,8,N=101) - np.pi/2)"
   ]
  },
  {
   "cell_type": "markdown",
   "metadata": {},
   "source": [
    "<font size = 4 color = black face = \"Times New Roman\"> $h$ in this problem is $\\dfrac{1+1}{101-1} = 0.02$, and therefore, $h^8 = 2.56\\times10^{-14}$. From the value above, we can find that our value meet this requirement."
   ]
  },
  {
   "cell_type": "markdown",
   "metadata": {},
   "source": [
    "<font size = 4 color = black face = \"Times New Roman\">(2) $$\n",
    "    \\int_{-\\infty}^{\\infty}\\frac{dx}{(e^x+x+1)^2+\\pi^2}=\\frac{2}{3}$$\n",
    "Since this integration goes from $-\\infty$ to $\\infty$ and it's hard to apply the Romberg integration at infinity region, so we separate it into three parts:$[-\\infty,-1]$,$[-1,1]$,$[1,+\\infty]$. For $[-1,1]$ we just do the integration. As for the other two parts, we change the variable with $x = \\dfrac{1}{y}$, then \n",
    "$$\n",
    "\\int_{1}^{\\infty}\\frac{dx}{(e^x+x+1)^2+\\pi^2}= \\int_{0}^{1}\\frac{dy}{(ye^{\\frac{1}{y}}+y+1)^2+(y\\pi)^2}\n",
    "$$\n",
    "Therefore, the entire integration becomes \n",
    "$$\n",
    "\\int_{-\\infty}^{\\infty}\\frac{dx}{(e^x+x+1)^2+\\pi^2}=\\int_{-1}^{0}\\frac{dy}{(ye^{\\frac{1}{y}}+y+1)^2+(y\\pi)^2}+\\int_{-1}^{1}\\frac{dx}{(e^x+x+1)^2+\\pi^2}+\\int_{0}^{1}\\frac{dy}{(ye^{\\frac{1}{y}}+y+1)^2+(y\\pi)^2}\n",
    "$$"
   ]
  },
  {
   "cell_type": "code",
   "execution_count": 17,
   "metadata": {},
   "outputs": [
    {
     "name": "stdout",
     "output_type": "stream",
     "text": [
      "0.6666666666667174\n",
      "5.0737192225369654e-14\n"
     ]
    }
   ],
   "source": [
    "def g(x):\n",
    "    return 1/((np.exp(x)+x+1)**2 + (np.pi)**2)\n",
    "\n",
    "def h(y): # Replace function g(x) with y = 1/x\n",
    "    return 1/(((y*np.exp(1/y)+y+1)**2+(y*np.pi)**2))\n",
    "\n",
    "# Here we choose smaller N since the the calculation relates to very small number, if N is large, overflow may occurs.\n",
    "part1 = Romberg(g,-1,1,8,N = 89) # The length of this region twice of thoss below, so different N is used to keep the step size same.\n",
    "part2 = Romberg(h,0.5e-13,1,8,N = 45) # 0 can't be reached,so we use very small number to approximate it.\n",
    "part3 = Romberg(h, -1,-0.5e-13,8,N = 45)\n",
    "print((part1+part2+part3))\n",
    "print((part1+part2+part3)-2/3)"
   ]
  },
  {
   "cell_type": "markdown",
   "metadata": {},
   "source": [
    "<font size = 4 color = black face = \"Times New Roman\"> $h$ in this problem is $\\dfrac{1+1}{89-1} \\approx 0.02273$, and therefore, $h^8 \\approx 7.125\\times10^{-14}$. From the value above, we can find that our value meet this requirement."
   ]
  },
  {
   "cell_type": "markdown",
   "metadata": {},
   "source": [
    "### **Problem5**"
   ]
  },
  {
   "cell_type": "markdown",
   "metadata": {},
   "source": [
    "<font size = 4 color = black face = \"Times New Roman\"> From Guass-Legendre formula, we've known that\n",
    "$$\n",
    "\\int_{-1}^{1}w\\left(  x\\right)  f\\left(  x\\right)  dx\\approx\n",
    "{\\displaystyle\\sum\\limits_{k=1}^{n}}\n",
    "w_{k}f\\left(  x_{k}\\right)\n",
    "$$\n",
    "$x_{k}$: roots of Legendre polynomial $P_{n}$.\n",
    "The weights:\n",
    "$$\\begin{aligned}\n",
    "w_{k}  &  =-\\frac{A_{n+1}\\gamma_{n}}{A_{n}P_{n}^{\\prime}\\left(  x_{k}\\right)\n",
    "P_{n+1}\\left(  x_{k}\\right)  }\\\\\n",
    "A_{n}  &  =\\frac{\\left(  2n\\right)  !}{2^{n}\\left(  n!\\right)  ^{2}}\\; (\\text{coefficient of }x^n)\\\\\n",
    "\\gamma_{n}  &  =\\int_{-1}^{1}\\left[  P_{n}\\left(  x\\right)  \\right]\n",
    "^{2}dx=\\frac{2}{2n+1}%\n",
    "\\end{aligned}$$\n",
    "\n",
    "$$\n",
    "w_{k}=\\frac{2}{\\left(  1-x_{k}^{2}\\right)  \\left[  P_{n}^{\\prime}\\left(\n",
    "x_{k}\\right)  \\right]  ^{2}}=-\\frac{2\\left(  1-x_{k}^{2}\\right)  }{\\left(\n",
    "n+1\\right)  ^{2}\\left[  P_{n+1}\\left(  x_{k}\\right)  \\right]  ^{2}}%\n",
    "$$\n",
    "<font size = 4 color = black face = \"Times New Roman\">Firstly, let's directly record the weights and nodes(from https://dlmf.nist.gov/) for the 5-point, 10-point and 20-point Guass-Legendre formula."
   ]
  },
  {
   "cell_type": "code",
   "execution_count": 18,
   "metadata": {},
   "outputs": [],
   "source": [
    "xk_5=np.array([0, 0.538469310105683,-0.538469310105683,0.906179845938664,-0.906179845938664])\n",
    "wk_5=np.array([0.568888888888889,0.478628670499366,0.478628670499366,0.236926885056189,0.236926885056189])\n",
    "xk_10 = [0.148874338981631211,-0.148874338981631211,0.433395394129247191,-0.433395394129247191,0.679409568299024406,-0.679409568299024406,0.865063366688984511,-0.865063366688984511,0.973906528517171720,-0.973906528517171720]\n",
    "wk_10 = [0.295524224714752870,0.295524224714752870,0.269266719309996355,0.269266719309996355,0.219086362515982044,0.219086362515982044,0.149451349150580593,0.149451349150580593,0.066671344308688138,0.066671344308688138]\n",
    "xk_20 = [0.076526521133497333755,-0.076526521133497333755,0.227785851141645078080,-0.227785851141645078080,0.373706088715419560673,-0.373706088715419560673,0.510867001950827098004,-0.510867001950827098004,0.636053680726515025453,-0.636053680726515025453,0.746331906460150792614,-0.746331906460150792614,0.839116971822218823395,-0.839116971822218823395,0.912234428251325905868,-0.912234428251325905868,0.963971927277913791268,-0.963971927277913791268,0.993128599185094924786,-0.993128599185094924786]\n",
    "wk_20 = [0.152753387130725850698,0.152753387130725850698,0.149172986472603746788 ,0.149172986472603746788,0.142096109318382051329,0.142096109318382051329, 0.131688638449176626898, 0.131688638449176626898,0.118194531961518417312,0.118194531961518417312,0.101930119817240435037,0.101930119817240435037,0.083276741576704748725,0.083276741576704748725,0.062672048334109063570,0.062672048334109063570,0.040601429800386941331,0.040601429800386941331, 0.017614007139152118312, 0.017614007139152118312]"
   ]
  },
  {
   "cell_type": "markdown",
   "metadata": {},
   "source": [
    "<font size = 4 color = black face = \"Times New Roman\"> Due to the Guass-Legendre formula\n",
    " $$\n",
    "   I = \\int_0^1 \\frac{\\sin t}{t}dt = \\dfrac{1}{2}\\int_{-1}^1 \\frac{\\sin t}{t}dt\\approx \\dfrac{1}{2}{\\displaystyle\\sum\\limits_{k=1}^{n}}\n",
    "w_{k}\\dfrac{\\sin x_k}{x_k}\n",
    "   $$\n",
    "As for the five-point formula, the nodes include the singular point for $\\dfrac{sint}{t}$, during the calculation for this point, we use the value of the limitation instead of just inputting the data $$\\lim\\limits_{t{\\rightarrow}0^+}\\frac{sint}{t} = 1$$"
   ]
  },
  {
   "cell_type": "code",
   "execution_count": 19,
   "metadata": {},
   "outputs": [
    {
     "data": {
      "text/plain": [
       "0.9460830704032701"
      ]
     },
     "execution_count": 19,
     "metadata": {},
     "output_type": "execute_result"
    }
   ],
   "source": [
    "0.5*(1*wk_5[0]+(np.sin(xk_5[1:])/xk_5[1:]*wk_5[1:]).sum())"
   ]
  },
  {
   "cell_type": "code",
   "execution_count": 20,
   "metadata": {},
   "outputs": [
    {
     "data": {
      "text/plain": [
       "0.9460830703671831"
      ]
     },
     "execution_count": 20,
     "metadata": {},
     "output_type": "execute_result"
    }
   ],
   "source": [
    "0.5*(np.sin(xk_10)/xk_10*wk_10).sum()"
   ]
  },
  {
   "cell_type": "code",
   "execution_count": 21,
   "metadata": {},
   "outputs": [
    {
     "data": {
      "text/plain": [
       "0.946083070367183"
      ]
     },
     "execution_count": 21,
     "metadata": {},
     "output_type": "execute_result"
    }
   ],
   "source": [
    "0.5*(np.sin(xk_20)/xk_20*wk_20).sum()"
   ]
  },
  {
   "cell_type": "markdown",
   "metadata": {},
   "source": [
    "<font size = 4 color = black face = \"Times New Roman\"> In conclusion\n",
    "$$\n",
    "I = \\int_0^1 \\frac{\\sin t}{t}dt \\approx 0.946083070367183\n",
    "$$"
   ]
  },
  {
   "cell_type": "code",
   "execution_count": null,
   "metadata": {},
   "outputs": [],
   "source": []
  }
 ],
 "metadata": {
  "kernelspec": {
   "display_name": "Python 3",
   "language": "python",
   "name": "python3"
  },
  "language_info": {
   "codemirror_mode": {
    "name": "ipython",
    "version": 3
   },
   "file_extension": ".py",
   "mimetype": "text/x-python",
   "name": "python",
   "nbconvert_exporter": "python",
   "pygments_lexer": "ipython3",
   "version": "3.7.4"
  }
 },
 "nbformat": 4,
 "nbformat_minor": 4
}
