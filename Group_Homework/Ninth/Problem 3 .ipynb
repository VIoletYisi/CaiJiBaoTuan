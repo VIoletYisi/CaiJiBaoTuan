{
 "cells": [
  {
   "cell_type": "code",
   "execution_count": 1,
   "metadata": {},
   "outputs": [],
   "source": [
    "import numpy as np"
   ]
  },
  {
   "cell_type": "markdown",
   "metadata": {},
   "source": [
    "#### Problem 3"
   ]
  },
  {
   "cell_type": "markdown",
   "metadata": {},
   "source": [
    "#### Question 1"
   ]
  },
  {
   "cell_type": "markdown",
   "metadata": {},
   "source": [
    "Using the midpoint rule we have\n",
    "\n",
    "$$\n",
    "\\begin{align}\n",
    "\\int_a^b\\int_c^d{f(x,y)}dydx\\approx &\\int_a^b(\\sum_{j = 0}^{n_y - 1}f(x,y_j)h_y)dx\\\\\n",
    "= & h_y\\sum_{j = 0}^{n_y - 1}\\int_a^bf(x,y_j)dx\\\\\n",
    "= & h_y\\sum_{j = 0}^{n_y - 1}(h_x\\sum_{i = 0}^{n_x - 1}f(x_i,y_j))\\\\\n",
    "Hence\n",
    "\\int_a^b\\int_c^d{f(x,y)}dyfx\\approx& h_x\\sum_{i = 0}^{n_x - 1}h_y\\sum_{j = 0}^{n_y - 1}f(x_i,y_j)\\\\\n",
    "= & h_xh_y\\sum_{i = 0}^{n_x - 1}\\sum_{j = 0}^{n_y - 1}f(a+\\frac{h_x}{2}+ih_x,c+\\frac{h_y}{2}+jh_y)\n",
    "\\end{align}\n",
    "$$\n"
   ]
  },
  {
   "cell_type": "markdown",
   "metadata": {},
   "source": [
    "#### Question 2"
   ]
  },
  {
   "cell_type": "code",
   "execution_count": 2,
   "metadata": {},
   "outputs": [],
   "source": [
    "# Define the double integral function.\n",
    "def double_integral(f,a,b,c,d,N=1001):\n",
    "    # define weights h_x,h_y\n",
    "    h_x = (b - a) / (N - 1)\n",
    "    h_y = (d - c) / (N - 1)\n",
    "    # define the initial value\n",
    "    int = 0 \n",
    "    x_i = 0\n",
    "    y_j = 0\n",
    "    for i in range(N-1):\n",
    "        x_i = a + (i + 1 / 2) * h_x\n",
    "        for j in range(N-1):\n",
    "            y_j = c + (j + 1 / 2) * h_y \n",
    "            int += f(x_i,y_j)\n",
    "    int *= h_x * h_y\n",
    "    return int"
   ]
  },
  {
   "cell_type": "markdown",
   "metadata": {},
   "source": [
    "#### Question 2.a"
   ]
  },
  {
   "cell_type": "markdown",
   "metadata": {},
   "source": [
    "I'd like to choose a test $f(x,y) = x + y^3$, with $a = c = 0, b = d =1$ .\n",
    "\n",
    "Hand calculation:\n",
    "$$\n",
    "\\int_a^b\\int_c^d{f(x,y)}dydx  = 0.75\n",
    "$$\n",
    "Then we do it by using python."
   ]
  },
  {
   "cell_type": "code",
   "execution_count": 3,
   "metadata": {},
   "outputs": [],
   "source": [
    "# Define the test function\n",
    "def f(x,y):\n",
    "    return x + y ** (3)"
   ]
  },
  {
   "cell_type": "code",
   "execution_count": 4,
   "metadata": {},
   "outputs": [],
   "source": [
    "# Define the end points` values\n",
    "a = 0\n",
    "b = 1\n",
    "c = 0\n",
    "d = 1"
   ]
  },
  {
   "cell_type": "code",
   "execution_count": 5,
   "metadata": {},
   "outputs": [
    {
     "output_type": "stream",
     "name": "stdout",
     "text": "Integral = 0.7499998750000022\n"
    }
   ],
   "source": [
    "print(f'Integral = {double_integral(f,a,b,c,d)}')"
   ]
  },
  {
   "cell_type": "markdown",
   "metadata": {},
   "source": [
    "The answer is very close to the right soultion. This shows that the program we wrote is correct."
   ]
  },
  {
   "cell_type": "markdown",
   "metadata": {},
   "source": [
    "#### Question 2.b"
   ]
  },
  {
   "cell_type": "code",
   "execution_count": 6,
   "metadata": {},
   "outputs": [],
   "source": [
    "def f(x,y):\n",
    "    return 2 * x + y"
   ]
  },
  {
   "cell_type": "code",
   "execution_count": 7,
   "metadata": {},
   "outputs": [],
   "source": [
    "# Define the end points` values\n",
    "a = 0\n",
    "b = 2\n",
    "c = 2\n",
    "d = 3"
   ]
  },
  {
   "cell_type": "code",
   "execution_count": 8,
   "metadata": {},
   "outputs": [
    {
     "output_type": "stream",
     "name": "stdout",
     "text": "Integral = 9.0\n"
    }
   ],
   "source": [
    "print(f'Integral = {double_integral(f,a,b,c,d)}')"
   ]
  },
  {
   "cell_type": "markdown",
   "metadata": {},
   "source": [
    "Hence we solve the problem without numerical errors"
   ]
  },
  {
   "cell_type": "markdown",
   "metadata": {},
   "source": [
    "#### Question 2.c"
   ]
  },
  {
   "cell_type": "code",
   "execution_count": 9,
   "metadata": {},
   "outputs": [],
   "source": [
    "# Define the test function\n",
    "def f(x,y):\n",
    "    return x ** (2) + y ** (7)\n",
    "# Define the end points` values\n",
    "a = 0\n",
    "b = 1\n",
    "c = 0\n",
    "d = 1"
   ]
  },
  {
   "cell_type": "code",
   "execution_count": 10,
   "metadata": {},
   "outputs": [],
   "source": [
    "def con_rate_mid(f,a,b,c,d,N = 11):\n",
    "    n , n_pre = 0 , 0\n",
    "    e , e_pre = 1 , 1\n",
    "    int , int_pre = 0 , 0\n",
    "    r = 0\n",
    "    for i in range(N+1):\n",
    "        n_pre = n\n",
    "        n = 2 ** (i+1)\n",
    "        int_pre = int\n",
    "        int = double_integral(f,a,b,c,d,N = n + 1)\n",
    "        e_pre = e\n",
    "        e = abs(int - int_pre) \n",
    "        if i > 1:\n",
    "            r = -np.log(e / e_pre)/np.log(n / n_pre)\n",
    "    return r"
   ]
  },
  {
   "cell_type": "code",
   "execution_count": 11,
   "metadata": {},
   "outputs": [
    {
     "output_type": "stream",
     "name": "stdout",
     "text": "Convergence rate is 2.000049791334226\n"
    }
   ],
   "source": [
    "print(f'Convergence rate is {con_rate_mid(f,a,b,c,d)}')"
   ]
  },
  {
   "cell_type": "code",
   "execution_count": null,
   "metadata": {},
   "outputs": [],
   "source": []
  }
 ],
 "metadata": {
  "language_info": {
   "codemirror_mode": {
    "name": "ipython",
    "version": 3
   },
   "file_extension": ".py",
   "mimetype": "text/x-python",
   "name": "python",
   "nbconvert_exporter": "python",
   "pygments_lexer": "ipython3",
   "version": "3.7.4-final"
  },
  "orig_nbformat": 2,
  "kernelspec": {
   "name": "python3",
   "display_name": "Python 3"
  }
 },
 "nbformat": 4,
 "nbformat_minor": 2
}