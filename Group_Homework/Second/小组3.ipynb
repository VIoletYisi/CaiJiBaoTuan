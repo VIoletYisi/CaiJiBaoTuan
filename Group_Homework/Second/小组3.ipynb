{
 "cells": [
  {
   "cell_type": "markdown",
   "metadata": {},
   "source": [
    "<font size = 3 color = black face = \"Times New Roman\">When solving quadratic equations $ax^2 + bx + c = 0$ , computers can be very helpful, especially when the coefficients are not simple. Howver, when $b^2 \\gg 4ac$, the subtractive cancellation may cause errors. Here, we introduce three methods and then check their results with four equations which have complicated coefficients but simple solutions to find the most appropriate method. The methods and equations are listed as follows.\n",
    "\n",
    "\n",
    "<font size = 3 color = black face = \"Times New Roman\">Note: In the examples chosen, all the coefficients b are negative. Therefore, $-b - \\sqrt{b^2 - 4ac} $ actually causes a subtractive cancellation. Besides, assume $x_1 > x_2$\n"
   ]
  },
  {
   "cell_type": "markdown",
   "metadata": {},
   "source": [
    "|Method|$x_1$|$x_2$|\n",
    "|:--:|:--:|:--:|\n",
    "|1(qua_eq_sol_1)|<div style=\"width:300px\"></div>$x_1 = \\frac{-b - \\sqrt{b^2 - 4ac}}{2a}$| <div style=\"width:300px\"></div>$x_2 = \\frac{-b + \\sqrt{b^2 - 4ac}}{2a}$|\n",
    "|2(qua_eq_sol_2)|<div style=\"width:300px\"></div>$x_1 = \\frac{2c}{-b + \\sqrt{b^2 - 4ac}}$|<div style=\"width:300px\"></div>$x_2 = \\frac{2c}{-b - \\sqrt{b^2 - 4ac}}$|\n",
    "|3(qua_eq_sol_3)|<div style=\"width:300px\"></div>$x_1 = \\frac{2c}{-b + \\sqrt{b^2 - 4ac}}$|<div style=\"width:300px\"></div>$x_2 = \\frac{-b + \\sqrt{b^2 - 4ac}}{2a}$|\n"
   ]
  },
  {
   "cell_type": "markdown",
   "metadata": {},
   "source": [
    "||equation|$x_1$|$x_2$|\n",
    "|:--:|:--|:--|:--|\n",
    "|1|<div style=\"width:200px\"></div>$x^2 - 1000.001x + 1 = 0$|0.001|1000|\n",
    "|2|<div style=\"width:200px\"></div>$x^2 - 10000.0001x + 1 = 0$|0.0001|10000|\n",
    "|3|<div style=\"width:200px\"></div>$x^2 - 100000.00001x + 1 = 0$|0.00001|100000|\n",
    "|4|<div style=\"width:200px\"></div>$x^2 - 1000000.000001x + 1 = 0$|0.000001|1000000|"
   ]
  },
  {
   "cell_type": "markdown",
   "metadata": {},
   "source": [
    "<font size = 3 color = black face = \"Times New Roman\">(a)"
   ]
  },
  {
   "cell_type": "markdown",
   "metadata": {},
   "source": [
    "<font size = 3 color = black face = \"Times New Roman\">Firstly, three methods are defined as functions."
   ]
  },
  {
   "cell_type": "code",
   "execution_count": 1,
   "metadata": {},
   "outputs": [],
   "source": [
    "def qua_eq_sol_1(a, b, c): \n",
    "    delta = b **  2 - 4 * a * c\n",
    "    if delta >= 0:\n",
    "        x1 = (-b - delta ** 0.5 ) / (2 * a)\n",
    "        x2 = (-b + delta ** 0.5 ) / (2 * a)\n",
    "    else:\n",
    "        print(\"The quadratic equation doesn't have real solutions.\" ) \n",
    "        # This part is simplified since complex solutions are not considered in this program.\n",
    "    return x1, x2"
   ]
  },
  {
   "cell_type": "code",
   "execution_count": 2,
   "metadata": {},
   "outputs": [],
   "source": [
    "def qua_eq_sol_2(a, b, c): \n",
    "    delta = b **  2 - 4 * a * c\n",
    "    if delta >= 0:\n",
    "        x1 = (2 * c) / (-b + delta ** 0.5 )\n",
    "        x2 = (2 * c) / (-b - delta ** 0.5 )\n",
    "    else:\n",
    "        print(\"The quadratic equation doesn't have real solutions.\" ) \n",
    "    return x1, x2"
   ]
  },
  {
   "cell_type": "code",
   "execution_count": 3,
   "metadata": {},
   "outputs": [],
   "source": [
    "def qua_eq_sol_3(a, b, c):\n",
    "    delta = b **  2 - 4 * a * c\n",
    "    if delta >= 0:\n",
    "        x1 = (2 * c) / (-b + delta ** 0.5 )\n",
    "        x2 = (-b + delta ** 0.5 ) / (2 * a)\n",
    "    else:\n",
    "        print(\"The quadratic equation doesn't have real solutions.\" ) \n",
    "    return x1, x2"
   ]
  },
  {
   "cell_type": "markdown",
   "metadata": {},
   "source": [
    "<font size = 3 color = black face = \"Times New Roman\">Secondly, input the four quadratic equations."
   ]
  },
  {
   "cell_type": "code",
   "execution_count": 4,
   "metadata": {},
   "outputs": [],
   "source": [
    "equations = [[1, -1000.001, 1], [1, -10000.0001, 1], [1, -100000.00001, 1], [1, -1000000.000001, 1],]"
   ]
  },
  {
   "cell_type": "markdown",
   "metadata": {},
   "source": [
    "<font size = 3 color = black face = \"Times New Roman\">Thirdly, the results of the three methods are checked one by one."
   ]
  },
  {
   "cell_type": "markdown",
   "metadata": {},
   "source": [
    "<font size = 3 color = black face = \"Times New Roman\"> Method1:"
   ]
  },
  {
   "cell_type": "code",
   "execution_count": 5,
   "metadata": {},
   "outputs": [
    {
     "name": "stdout",
     "output_type": "stream",
     "text": [
      "Equations    x1                       x2            \n",
      "1            0.0009999999999763531    1000.0        \n",
      "2            0.00010000000020227162   10000.0       \n",
      "3            1.0000003385357559e-05   100000.0      \n",
      "4            1.00000761449337e-06     1000000.0     \n"
     ]
    }
   ],
   "source": [
    "print('{:<13}{:<25}{:<14}'.format('Equations', 'x1', 'x2'))\n",
    "for items in equations:\n",
    "    a, b, c = items\n",
    "    x1, x2 = qua_eq_sol_1(a, b, c)\n",
    "    print('{:<13}{:<25}{:<14}'.format(equations.index(items) + 1, x1, x2)) # Printing the order and the value of x1, x2."
   ]
  },
  {
   "cell_type": "markdown",
   "metadata": {},
   "source": [
    "Method2:"
   ]
  },
  {
   "cell_type": "code",
   "execution_count": 6,
   "metadata": {},
   "outputs": [
    {
     "name": "stdout",
     "output_type": "stream",
     "text": [
      "Equations    x1           x2            \n",
      "1            0.001        1000.0000000236469\n",
      "2            0.0001       9999.999979772838\n",
      "3            1e-05        99999.96614643588\n",
      "4            1e-06        999992.38556461\n"
     ]
    }
   ],
   "source": [
    "print('{:<13}{:<13}{:<14}'.format('Equations', 'x1', 'x2'))\n",
    "for items in equations:\n",
    "    a, b, c = items\n",
    "    x1, x2 = qua_eq_sol_2(a, b, c)\n",
    "    print('{:<13}{:<13}{:<14}'.format(equations.index(items) + 1, x1, x2))"
   ]
  },
  {
   "cell_type": "markdown",
   "metadata": {},
   "source": [
    "Method3:"
   ]
  },
  {
   "cell_type": "code",
   "execution_count": 7,
   "metadata": {},
   "outputs": [
    {
     "name": "stdout",
     "output_type": "stream",
     "text": [
      "Equations    x1           x2            \n",
      "1            0.001        1000.0        \n",
      "2            0.0001       10000.0       \n",
      "3            1e-05        100000.0      \n",
      "4            1e-06        1000000.0     \n"
     ]
    }
   ],
   "source": [
    "print('{:<13}{:<13}{:<14}'.format('Equations', 'x1', 'x2'))\n",
    "for items in equations:\n",
    "    a, b, c = items\n",
    "    x1, x2 = qua_eq_sol_3(a, b, c)\n",
    "    print('{:<13}{:<13}{:<14}'.format(equations.index(items) + 1, x1, x2))"
   ]
  },
  {
   "cell_type": "markdown",
   "metadata": {},
   "source": [
    "<font size = 3 color = black face = \"Times New Roman\">If we compare the three sets of results with the standard solutions in the talbe at the beginning, Both the first and the second method have one accurate solution, but the other solution has obvious error. Compared with the formula chosen, the solutions with errors both use the term $-b - \\sqrt{b^2 - 4ac}$ in their formula, which has **substractive cancellation when b is negative**. By contrast, method3  avoids the substractive cancellation by **using the addtion of large numbers in both calculation**."
   ]
  },
  {
   "cell_type": "markdown",
   "metadata": {},
   "source": [
    "<font size = 3 color = black face = \"Times New Roman\"> **As a result, method3 is the most appropriate method, and the result is exactly what is shown at the beginning.**"
   ]
  },
  {
   "cell_type": "markdown",
   "metadata": {},
   "source": [
    "||equation|$x_1$(method3)|$x_2$(method3)|\n",
    "|:--:|:--|:--|:--|\n",
    "|1|<div style=\"width:200px\"></div>$x^2 - 1000.001x + 1 = 0$|0.001|1000|\n",
    "|2|<div style=\"width:200px\"></div>$x^2 - 10000.0001x + 1 = 0$|0.0001|10000|\n",
    "|3|<div style=\"width:200px\"></div>$x^2 - 100000.00001x + 1 = 0$|0.00001|100000|\n",
    "|4|<div style=\"width:200px\"></div>$x^2 - 1000000.000001x + 1 = 0$|0.000001|1000000|"
   ]
  },
  {
   "cell_type": "markdown",
   "metadata": {},
   "source": [
    "<font size = 3 color = black face = \"Times New Roman\"> (b)"
   ]
  },
  {
   "cell_type": "markdown",
   "metadata": {},
   "source": [
    "<font size = 3 color = black face = \"Times New Roman\"> In this part the absolute error and relative error for each method will be calculated repectively. Here we assume both absolute error and relative error can be negative to show that the calculated result is less than the real value."
   ]
  },
  {
   "cell_type": "markdown",
   "metadata": {},
   "source": [
    "<font size = 3 color = black face = \"Times New Roman\"> Method1:"
   ]
  },
  {
   "cell_type": "code",
   "execution_count": 8,
   "metadata": {},
   "outputs": [
    {
     "name": "stdout",
     "output_type": "stream",
     "text": [
      "Equations x1(absolute error)       x1(relative error)  x2(absolute error)  x2(relative error)\n",
      "1         2.3646883062777846e-14   0.0000000024%       0.0                 0.000000%\n",
      "2         -2.0227161688212564e-13  -0.0000002023%      0.0                 0.000000%\n",
      "3         -3.385357557909234e-12   -0.0000338536%      0.0                 0.000000%\n",
      "4         -7.614493370101404e-12   -0.0007614493%      0.0                 0.000000%\n"
     ]
    }
   ],
   "source": [
    "print('{:<10}{:<25}{:<20}{:<20}{}'.format('Equations', 'x1(absolute error)','x1(relative error)','x2(absolute error)','x2(relative error)'))\n",
    "for items in equations:\n",
    "    a, b, c = items\n",
    "    x1, x2 = qua_eq_sol_1(a, b, c)\n",
    "    true_x1 = 10.**(-equations.index(items) - 3.)\n",
    "    true_x2 = 10.**(equations.index(items) + 3.)\n",
    "    ab_x1 = true_x1 - x1\n",
    "    rela_x1 = ab_x1 / true_x1\n",
    "    ab_x2 = true_x2 - x2\n",
    "    rela_x2 = ab_x2 / true_x2\n",
    "    print('{:<10}{:<25}{:<20.10%}{:<20}{:%}'.format(equations.index(items) + 1, ab_x1, rela_x1, ab_x2, rela_x2))"
   ]
  },
  {
   "cell_type": "markdown",
   "metadata": {},
   "source": [
    "<font size = 3 color = black face = \"Times New Roman\"> Method2:"
   ]
  },
  {
   "cell_type": "code",
   "execution_count": 9,
   "metadata": {},
   "outputs": [
    {
     "name": "stdout",
     "output_type": "stream",
     "text": [
      "Equations x1(absolute error)  x1(relative error)  x2(absolute error)       x2(relative error)\n",
      "1         0.0                 0.000000%           -2.3646862246096134e-08  -0.0000000024%\n",
      "2         0.0                 0.000000%           2.0227162167429924e-05   0.0000002023%\n",
      "3         0.0                 0.000000%           0.033853564120363444     0.0000338536%\n",
      "4         0.0                 0.000000%           7.614435389987193        0.0007614435%\n"
     ]
    }
   ],
   "source": [
    "print('{:<10}{:<20}{:<20}{:<25}{}'.format('Equations', 'x1(absolute error)','x1(relative error)','x2(absolute error)','x2(relative error)'))\n",
    "for items in equations:\n",
    "    a, b, c = items\n",
    "    x1, x2 = qua_eq_sol_2(a, b, c)\n",
    "    true_x1 = 10.**(-equations.index(items) - 3.)\n",
    "    true_x2 = 10.**(equations.index(items) + 3.)\n",
    "    ab_x1 = true_x1 - x1\n",
    "    rela_x1 = ab_x1 / true_x1\n",
    "    ab_x2 = true_x2 - x2\n",
    "    rela_x2 = ab_x2 / true_x2\n",
    "    print('{:<10}{:<20}{:<20%}{:<25}{:.10%}'.format(equations.index(items) + 1, ab_x1, rela_x1, ab_x2, rela_x2))"
   ]
  },
  {
   "cell_type": "markdown",
   "metadata": {},
   "source": [
    "<font size = 3 color = black face = \"Times New Roman\"> Method3:"
   ]
  },
  {
   "cell_type": "markdown",
   "metadata": {},
   "source": [
    "<font size = 3 color = black face = \"Times New Roman\">  For method3, it's obvious that all the errors are 0."
   ]
  }
 ],
 "metadata": {
  "kernelspec": {
   "display_name": "Python 3",
   "language": "python",
   "name": "python3"
  },
  "language_info": {
   "codemirror_mode": {
    "name": "ipython",
    "version": 3
   },
   "file_extension": ".py",
   "mimetype": "text/x-python",
   "name": "python",
   "nbconvert_exporter": "python",
   "pygments_lexer": "ipython3",
   "version": "3.7.4"
  }
 },
 "nbformat": 4,
 "nbformat_minor": 4
}
