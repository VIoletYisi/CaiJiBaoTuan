{
 "nbformat": 4,
 "nbformat_minor": 2,
 "metadata": {
  "language_info": {
   "name": "python",
   "codemirror_mode": {
    "name": "ipython",
    "version": 3
   },
   "version": "3.7.4-final"
  },
  "orig_nbformat": 2,
  "file_extension": ".py",
  "mimetype": "text/x-python",
  "name": "python",
  "npconvert_exporter": "python",
  "pygments_lexer": "ipython3",
  "version": 3,
  "kernelspec": {
   "name": "python3",
   "display_name": "Python 3"
  }
 },
 "cells": [
  {
   "cell_type": "code",
   "execution_count": 1,
   "metadata": {},
   "outputs": [],
   "source": [
    "import math\n",
    "import numpy as np\n",
    "esp = 10 ** (-10)"
   ]
  },
  {
   "cell_type": "markdown",
   "metadata": {},
   "source": [
    "中文说明：误差值为1E-10，n代表循环大概的循环次数 （实际的循环次数可能会小于n）（用于比较已经可以明显判断程序的优劣性了）第三种都是最优解  "
   ]
  },
  {
   "cell_type": "markdown",
   "metadata": {},
   "source": [
    "Introduction: \n",
    "\n",
    "Mathematical constants are widely used in calculation.So we need to make them more precise to make our calculations more precise. When using a program to obtain these constants, we need to consider the simplicity and efficiency of the program. Therefore, we use three methods to calculate the constants $\\pi$ and $e$ respectively. And choose a better method from these three."
   ]
  },
  {
   "cell_type": "markdown",
   "metadata": {},
   "source": [
    "### First method for pi and e"
   ]
  },
  {
   "cell_type": "code",
   "execution_count": 2,
   "metadata": {},
   "outputs": [
    {
     "output_type": "stream",
     "name": "stdout",
     "text": "4694.0\n3.141592419052349\n3.141592653589793\n"
    }
   ],
   "source": [
    "n = 3\n",
    "pi_last = 0\n",
    "pi = np.sin(math.pi / n) *n\n",
    "while abs(pi - pi_last) >= esp:\n",
    "    n += 1.\n",
    "    pi_last = pi\n",
    "    pi = np.sin(math.pi / n) *n\n",
    "print(n)\n",
    "print(pi)\n",
    "print(math.pi)"
   ]
  },
  {
   "cell_type": "markdown",
   "metadata": {},
   "source": [
    "The first way to get $\\pi$ comes from approximating $\\pi$ with the circumference of a regular polygon enclosed in a circle, just like we did for the homework problem last time. \n",
    "\n",
    "Here, $\\pi = n\\sin({\\frac{180^o}{n}})$"
   ]
  },
  {
   "cell_type": "code",
   "execution_count": 3,
   "metadata": {},
   "outputs": [
    {
     "output_type": "stream",
     "name": "stdout",
     "text": "94760.0\n2.7182674855879516\n2.718281828459045\n"
    }
   ],
   "source": [
    "n = 1\n",
    "e_last = 0\n",
    "e = (1 + 1 / n) ** n\n",
    "while abs(e - e_last) >= esp:\n",
    "    e_last = e\n",
    "    n += 1.\n",
    "    e = (1 + 1 / n) ** n\n",
    "print(n)\n",
    "print(e)\n",
    "print(np.e)"
   ]
  },
  {
   "cell_type": "markdown",
   "metadata": {},
   "source": [
    "We use a definition of $e$ to get the value of $e$. The definition is $e = \\lim_{n \\to \\infty}{(1+\\frac{1}{n})^n}$"
   ]
  },
  {
   "cell_type": "markdown",
   "metadata": {},
   "source": [
    "### Second method for pi and e"
   ]
  },
  {
   "cell_type": "code",
   "execution_count": 4,
   "metadata": {},
   "outputs": [
    {
     "output_type": "stream",
     "name": "stdout",
     "text": "5914.0\n3.1415929490954317\n3.141592653589793\n"
    }
   ],
   "source": [
    "n = 3\n",
    "pi_last = 0\n",
    "pi = np.tan(math.pi/n)*n\n",
    "while abs(pi - pi_last) >= esp:\n",
    "    n += 1.\n",
    "    pi_last = pi\n",
    "    pi = np.tan(math.pi/n)*n\n",
    "print(n)\n",
    "print(pi)\n",
    "print(math.pi)"
   ]
  },
  {
   "cell_type": "markdown",
   "metadata": {},
   "source": [
    "Here we use the outside regular polygon to approximate the circumference of the circle to get the $\\pi$, where $\\pi = n\\tan({\\frac{180^o}{n}})$"
   ]
  },
  {
   "cell_type": "code",
   "execution_count": 5,
   "metadata": {},
   "outputs": [
    {
     "output_type": "stream",
     "name": "stdout",
     "text": "14.0\n2.71828182845823\n2.718281828459045\n"
    }
   ],
   "source": [
    "n = 1\n",
    "e_last = 0\n",
    "n_fac = n\n",
    "e = 1 + 1 / n_fac\n",
    "while abs(e - e_last) >= esp:\n",
    "    e_last = e\n",
    "    n += 1.\n",
    "    n_fac *= n \n",
    "    e += 1 / n_fac \n",
    "print(n)\n",
    "print(e)\n",
    "print(np.e)"
   ]
  },
  {
   "cell_type": "markdown",
   "metadata": {},
   "source": [
    "This method uses Taylor formular to get $e$. We do Taylor`s expansion at $x = 1$.\n",
    "\n",
    "In this method, we can get $e = \\sum^{\\infty}_{n=0}{\\frac{1}{n!}}$ "
   ]
  },
  {
   "cell_type": "markdown",
   "metadata": {},
   "source": [
    "### Third method for pi and e"
   ]
  },
  {
   "cell_type": "code",
   "execution_count": 6,
   "metadata": {},
   "outputs": [
    {
     "output_type": "stream",
     "name": "stdout",
     "text": "175.0\n3.141592647808643\n3.141592653589793\n"
    }
   ],
   "source": [
    "m = 4\n",
    "n = 1\n",
    "pi_last = 0\n",
    "pi = 3 + 4 * (1 / ((m - 2) * (m - 1) * m) - 1 / (m * (m + 1) * (m + 2)))\n",
    "while abs(pi - pi_last) >= esp:\n",
    "    n += 1.\n",
    "    m = 4 * n\n",
    "    pi_last = pi\n",
    "    pi += 4 * (1 / ((m - 2) * (m - 1) * m) - 1 / (m * (m + 1) * (m + 2)))\n",
    "print(n)\n",
    "print(pi)\n",
    "print(math.pi)"
   ]
  },
  {
   "cell_type": "markdown",
   "metadata": {},
   "source": [
    "This method is an infinite series about $\\pi$ developed by Nilakasha, and it converges much faster than the previous two methods, which is a good method.\n",
    "\n",
    "Here, $\\pi = 3 + {\\frac{4}{2\\times3\\times4}} - {\\frac{4}{4\\times5\\times6}} + {\\frac{4}{6\\times7\\times8}} - {\\frac{4}{8\\times9\\times10}} + \\cdots$"
   ]
  },
  {
   "cell_type": "code",
   "execution_count": 7,
   "metadata": {},
   "outputs": [
    {
     "output_type": "error",
     "ename": "TypeError",
     "evalue": "'float' object cannot be interpreted as an integer",
     "traceback": [
      "\u001b[1;31m---------------------------------------------------------------------------\u001b[0m",
      "\u001b[1;31mTypeError\u001b[0m                                 Traceback (most recent call last)",
      "\u001b[1;32m<ipython-input-7-9585cf1cf315>\u001b[0m in \u001b[0;36m<module>\u001b[1;34m\u001b[0m\n\u001b[0;32m      9\u001b[0m     \u001b[0me_last\u001b[0m \u001b[1;33m=\u001b[0m \u001b[0me\u001b[0m\u001b[1;33m\u001b[0m\u001b[1;33m\u001b[0m\u001b[0m\n\u001b[0;32m     10\u001b[0m     \u001b[0mx\u001b[0m \u001b[1;33m=\u001b[0m \u001b[1;36m1\u001b[0m \u001b[1;33m/\u001b[0m \u001b[0mm\u001b[0m\u001b[1;33m\u001b[0m\u001b[1;33m\u001b[0m\u001b[0m\n\u001b[1;32m---> 11\u001b[1;33m     \u001b[1;32mfor\u001b[0m \u001b[0mi\u001b[0m \u001b[1;32min\u001b[0m \u001b[0mrange\u001b[0m\u001b[1;33m(\u001b[0m\u001b[0mm\u001b[0m \u001b[1;33m-\u001b[0m \u001b[1;36m4\u001b[0m\u001b[1;33m,\u001b[0m \u001b[1;36m5\u001b[0m\u001b[1;33m,\u001b[0m \u001b[1;33m-\u001b[0m\u001b[1;36m4\u001b[0m\u001b[1;33m)\u001b[0m\u001b[1;33m:\u001b[0m\u001b[1;33m\u001b[0m\u001b[1;33m\u001b[0m\u001b[0m\n\u001b[0m\u001b[0;32m     12\u001b[0m         \u001b[0mx\u001b[0m \u001b[1;33m=\u001b[0m \u001b[1;36m1.0\u001b[0m \u001b[1;33m/\u001b[0m \u001b[1;33m(\u001b[0m\u001b[0mi\u001b[0m \u001b[1;33m+\u001b[0m \u001b[0mx\u001b[0m\u001b[1;33m)\u001b[0m\u001b[1;33m\u001b[0m\u001b[1;33m\u001b[0m\u001b[0m\n\u001b[0;32m     13\u001b[0m     \u001b[0me\u001b[0m \u001b[1;33m=\u001b[0m \u001b[1;36m1\u001b[0m \u001b[1;33m+\u001b[0m \u001b[1;36m2\u001b[0m \u001b[1;33m/\u001b[0m \u001b[1;33m(\u001b[0m\u001b[1;36m1\u001b[0m \u001b[1;33m+\u001b[0m \u001b[0mx\u001b[0m\u001b[1;33m)\u001b[0m\u001b[1;33m\u001b[0m\u001b[1;33m\u001b[0m\u001b[0m\n",
      "\u001b[1;31mTypeError\u001b[0m: 'float' object cannot be interpreted as an integer"
     ]
    }
   ],
   "source": [
    "n = 1\n",
    "m = 2 + 4 * 1\n",
    "e_last = 0\n",
    "x = 1 / m\n",
    "e = 1 + 2 / (1 + x)\n",
    "while abs(e - e_last) >= esp:\n",
    "    n += 1.\n",
    "    m = 2 + 4 * n\n",
    "    e_last = e\n",
    "    x = 1 / m \n",
    "    for i in range(m - 4, 5, -4):\n",
    "        x = 1.0 / (i + x)\n",
    "    e = 1 + 2 / (1 + x)\n",
    "print(n)\n",
    "print(e)\n",
    "print(np.e)    "
   ]
  },
  {
   "cell_type": "markdown",
   "metadata": {},
   "source": [
    "This is a amazing method to get the constant. $e$ can be written as a continued fraction, actually, all Irrational Numbers can be expressed as a continuous fraction. \n",
    "\n",
    "\n",
    "In this method:$$e = 1 + {\\frac{2}{1+{\\frac{1}{1+{\\frac{1}{6+{\\frac{1}{10+\\cdots}}}}}}}}$$\n",
    "\n",
    "And it is a very quick way to get exact $e$"
   ]
  },
  {
   "cell_type": "markdown",
   "metadata": {},
   "source": [
    "### Reference"
   ]
  },
  {
   "cell_type": "markdown",
   "metadata": {},
   "source": [
    "[1] https://www.zhihu.com/question/24940378\n",
    "\n",
    "[2] https://zh.wikipedia.org/wiki/%E5%9C%93%E5%91%A8%E7%8E%87\n",
    "\n",
    "[3] https://en.wikipedia.org/wiki/E_(mathematical_constant)"
   ]
  }
 ]
}