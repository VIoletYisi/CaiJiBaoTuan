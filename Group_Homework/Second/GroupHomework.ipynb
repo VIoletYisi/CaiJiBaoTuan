{
 "nbformat": 4,
 "nbformat_minor": 2,
 "metadata": {
  "language_info": {
   "name": "python",
   "codemirror_mode": {
    "name": "ipython",
    "version": 3
   },
   "version": "3.7.4-final"
  },
  "orig_nbformat": 2,
  "file_extension": ".py",
  "mimetype": "text/x-python",
  "name": "python",
  "npconvert_exporter": "python",
  "pygments_lexer": "ipython3",
  "version": 3,
  "kernelspec": {
   "name": "python3",
   "display_name": "Python 3"
  }
 },
 "cells": [
  {
   "cell_type": "code",
   "execution_count": 5,
   "metadata": {},
   "outputs": [],
   "source": [
    "import math\n",
    "import numpy as np\n",
    "esp = 10 ** (-10)"
   ]
  },
  {
   "cell_type": "markdown",
   "metadata": {},
   "source": [
    "中文说明：误差值为1E-10，n代表循环大概的循环次数 （实际的循环次数可能会小于n）（用于比较已经可以明显判断程序的优劣性了）第三种都是最优解  "
   ]
  },
  {
   "cell_type": "markdown",
   "metadata": {},
   "source": [
    "### First method for pi and e"
   ]
  },
  {
   "cell_type": "code",
   "execution_count": 7,
   "metadata": {},
   "outputs": [
    {
     "output_type": "stream",
     "name": "stdout",
     "text": "227327\n3.141592653489794\n3.141592653589793\n"
    }
   ],
   "source": [
    "n = 1\n",
    "pi = np.sin(math.pi / n) *n\n",
    "while abs(pi - math.pi) >= esp:\n",
    "    n += 1\n",
    "    pi = np.sin(math.pi / n) *n\n",
    "print(n)\n",
    "print(pi)\n",
    "print(math.pi)"
   ]
  },
  {
   "cell_type": "markdown",
   "metadata": {},
   "source": [
    "The first way to get $\\pi$ comes from approximating $\\pi$ with the circumference of a regular polygon enclosed in a circle, just like we did for the homework problem last time. "
   ]
  },
  {
   "cell_type": "code",
   "execution_count": 9,
   "metadata": {},
   "outputs": [
    {
     "output_type": "stream",
     "name": "stdout",
     "text": "66953935.0\n2.7182818283597854\n2.718281828459045\n"
    }
   ],
   "source": [
    "n = 1\n",
    "e = (1 + 1 / n) ** n\n",
    "while abs(e - np.e) >= esp:\n",
    "    n += 1.\n",
    "    e = (1 + 1 / n) ** n\n",
    "print(n)\n",
    "print(e)\n",
    "print(np.e)"
   ]
  },
  {
   "cell_type": "markdown",
   "metadata": {},
   "source": [
    "We use a definition of $e$ to get the value of $e$. The definition is $e = \\lim_{n \\to \\infty}{(1+\\frac{1}{n})^n}$"
   ]
  },
  {
   "cell_type": "markdown",
   "metadata": {},
   "source": [
    "### Second method for pi and e"
   ]
  },
  {
   "cell_type": "code",
   "execution_count": 11,
   "metadata": {},
   "outputs": [
    {
     "output_type": "stream",
     "name": "stdout",
     "text": "321488.0\n3.1415926536897927\n3.141592653589793\n"
    }
   ],
   "source": [
    "n = 1\n",
    "pi = np.tan(math.pi/n)*n\n",
    "while abs(pi - math.pi) >= esp:\n",
    "    n += 1.\n",
    "    pi = np.tan(math.pi/n)*n\n",
    "print(n)\n",
    "print(pi)\n",
    "print(math.pi)"
   ]
  },
  {
   "cell_type": "markdown",
   "metadata": {},
   "source": [
    "Here we use the outside regular polygon to approximate the circumference of the circle to get the $\\pi$"
   ]
  },
  {
   "cell_type": "code",
   "execution_count": 13,
   "metadata": {},
   "outputs": [
    {
     "output_type": "stream",
     "name": "stdout",
     "text": "13\n2.7182818284467594\n2.718281828459045\n"
    }
   ],
   "source": [
    "n = 1\n",
    "n_fac = n\n",
    "e = 1 + 1 / n_fac\n",
    "while abs(e - np.e) >= esp:\n",
    "    n += 1\n",
    "    n_fac *= n \n",
    "    e += 1 / n_fac \n",
    "print(n)\n",
    "print(e)\n",
    "print(np.e)"
   ]
  },
  {
   "cell_type": "markdown",
   "metadata": {},
   "source": [
    "This method uses Taylor formular to get $e$. We do Taylor`s expansion at $x = 1$.\n",
    "\n",
    "In this method, we can get $e = \\sum^{\\infty}_{n=0}{\\frac{1}{n!}}$ "
   ]
  },
  {
   "cell_type": "markdown",
   "metadata": {},
   "source": [
    "### Third method for pi and e"
   ]
  },
  {
   "cell_type": "code",
   "execution_count": 14,
   "metadata": {},
   "outputs": [
    {
     "output_type": "stream",
     "name": "stdout",
     "text": "679\n3.1415926534901844\n3.141592653589793\n"
    }
   ],
   "source": [
    "m = 4\n",
    "n = 1\n",
    "pi = 3 + 4 * (1 / ((m - 2) * (m - 1) * m) - 1 / (m * (m + 1) * (m + 2)))\n",
    "while abs(pi - math.pi) >= esp:\n",
    "    n += 1\n",
    "    m = 4 * n\n",
    "    pi += 4 * (1 / ((m - 2) * (m - 1) * m) - 1 / (m * (m + 1) * (m + 2)))\n",
    "print(n)\n",
    "print(pi)\n",
    "print(math.pi)"
   ]
  },
  {
   "cell_type": "markdown",
   "metadata": {},
   "source": [
    "This method is an infinite series about $\\pi$ developed by Nilakasha, and it converges much faster than the previous two methods, which is a good method.\n",
    "\n",
    "Here, $\\pi = 3 + {\\frac{4}{2\\times3\\times4}} - {\\frac{4}{4\\times5\\times6}} + {\\frac{4}{6\\times7\\times8}} - {\\frac{4}{8\\times9\\times10}} + \\cdots$"
   ]
  },
  {
   "cell_type": "code",
   "execution_count": 15,
   "metadata": {},
   "outputs": [
    {
     "output_type": "stream",
     "name": "stdout",
     "text": "5\n2.7182818284585633\n2.718281828459045\n"
    }
   ],
   "source": [
    "n = 1\n",
    "m = 2 + 4 * 1\n",
    "x = 1 / m\n",
    "e = 1 + 2 / (1 + x)\n",
    "while abs(e - np.e) >= esp:\n",
    "    n += 1\n",
    "    m = 2 + 4 * n\n",
    "    x = 1 / m \n",
    "    for i in range(m - 4, 5, -4):\n",
    "        x = 1.0 / (i + x)\n",
    "    e = 1 + 2 / (1 + x)\n",
    "print(n)\n",
    "print(e)\n",
    "print(np.e)    "
   ]
  },
  {
   "cell_type": "markdown",
   "metadata": {},
   "source": [
    "This is a amazing method to get the constant. $e$ can be written as a continued fraction, actually, all Irrational Numbers can be expressed as a continuous fraction. \n",
    "\n",
    "\n",
    "In this method:$$e = 1 + {\\frac{2}{1+{\\frac{1}{1+{\\frac{1}{6+{\\frac{1}{10+\\cdots}}}}}}}}$$\n",
    "\n",
    "And it is a very quick way to get exact $e$"
   ]
  },
  {
   "cell_type": "markdown",
   "metadata": {},
   "source": [
    "### Reference"
   ]
  },
  {
   "cell_type": "markdown",
   "metadata": {},
   "source": [
    "[1] https://www.zhihu.com/question/24940378\n",
    "\n",
    "[2] https://zh.wikipedia.org/wiki/%E5%9C%93%E5%91%A8%E7%8E%87\n",
    "\n",
    "[3] https://en.wikipedia.org/wiki/E_(mathematical_constant)"
   ]
  }
 ]
}