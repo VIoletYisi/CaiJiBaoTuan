{
 "cells": [
  {
   "cell_type": "markdown",
   "metadata": {},
   "source": [
    "# Group Assignment for Week3"
   ]
  },
  {
   "cell_type": "markdown",
   "metadata": {},
   "source": [
    "## <font size = 5 color = black face = \"Times New Roman\">Problem 1"
   ]
  },
  {
   "cell_type": "markdown",
   "metadata": {},
   "source": [
    "<font size = 5 color = black face = \"Times New Roman\">1. Introduction"
   ]
  },
  {
   "cell_type": "markdown",
   "metadata": {},
   "source": [
    "<font size = 3 color = black face = \"Times New Roman\">When solving quadratic equations $ax^2 + bx + c = 0$ , computers can be very helpful, especially when the coefficients are not simple. However, when $b^2 \\gg 4ac$, the subtractive cancellation may cause errors. Here, we introduce three methods and then check their results with four equations which have complicated coefficients but simple solutions to find the most appropriate method. The methods and equations are listed as follows.\n",
    "\n",
    "\n",
    "<font size = 3 color = black face = \"Times New Roman\">Note: In the examples chosen, all the coefficients $b$ are negative. Therefore, $-b - \\sqrt{b^2 - 4ac} $ actually causes a subtractive cancellation. Besides, assume $x_1 < x_2$"
   ]
  },
  {
   "cell_type": "markdown",
   "metadata": {},
   "source": [
    "|Method|$x_1$|$x_2$|\n",
    "|:--:|:--:|:--:|\n",
    "|1(qua_eq_sol_1)|<div style=\"width:300px\"></div>$x_1 = \\frac{-b - \\sqrt{b^2 - 4ac}}{2a}$| <div style=\"width:300px\"></div>$x_2 = \\frac{-b + \\sqrt{b^2 - 4ac}}{2a}$|\n",
    "|2(qua_eq_sol_2)|<div style=\"width:300px\"></div>$x_1 = \\frac{2c}{-b + \\sqrt{b^2 - 4ac}}$|<div style=\"width:300px\"></div>$x_2 = \\frac{2c}{-b - \\sqrt{b^2 - 4ac}}$|\n",
    "|3(qua_eq_sol_3)|<div style=\"width:300px\"></div>$x_1 = \\frac{2c}{-b + \\sqrt{b^2 - 4ac}}$|<div style=\"width:300px\"></div>$x_2 = \\frac{-b + \\sqrt{b^2 - 4ac}}{2a}$|\n"
   ]
  },
  {
   "cell_type": "markdown",
   "metadata": {},
   "source": [
    "||equation|$x_1$|$x_2$|\n",
    "|:--:|:--|:--|:--|\n",
    "|$1$|<div style=\"width:200px\"></div>$x^2 - 1000.001x + 1 = 0$|$0.001$|$1000$|\n",
    "|$2$|<div style=\"width:200px\"></div>$x^2 - 10000.0001x + 1 = 0$|$0.0001$|$10000$|\n",
    "|$3$|<div style=\"width:200px\"></div>$x^2 - 100000.00001x + 1 = 0$|$0.00001$|$100000$|\n",
    "|$4$|<div style=\"width:200px\"></div>$x^2 - 1000000.000001x + 1 = 0$|$0.000001$|$1000000$|"
   ]
  },
  {
   "cell_type": "markdown",
   "metadata": {},
   "source": [
    "---"
   ]
  },
  {
   "cell_type": "markdown",
   "metadata": {},
   "source": [
    "<font size = 5 color = black face = \"Times New Roman\">2. Codes and Explainations of the Problem"
   ]
  },
  {
   "cell_type": "markdown",
   "metadata": {},
   "source": [
    "<font size = 3 color = black face = \"Times New Roman\">(a)"
   ]
  },
  {
   "cell_type": "markdown",
   "metadata": {},
   "source": [
    "<font size = 3 color = black face = \"Times New Roman\">Firstly, three methods are defined as functions. For this particular problem, we just consider the real solutions to the quation."
   ]
  },
  {
   "cell_type": "code",
   "execution_count": 1,
   "metadata": {},
   "outputs": [],
   "source": [
    "def qua_eq_sol_1(a, b, c): \n",
    "    delta = b ** 2 - 4 * a * c\n",
    "    if delta >= 0:\n",
    "        x1 = (-b - delta ** 0.5 ) / (2 * a)\n",
    "        x2 = (-b + delta ** 0.5 ) / (2 * a)\n",
    "    else:\n",
    "        print(\"The quadratic equation doesn't have real solutions.\" ) \n",
    "    return x1, x2"
   ]
  },
  {
   "cell_type": "code",
   "execution_count": 2,
   "metadata": {},
   "outputs": [],
   "source": [
    "def qua_eq_sol_2(a, b, c): \n",
    "    delta = b **  2 - 4 * a * c\n",
    "    if delta >= 0:\n",
    "        x1 = (2 * c) / (-b + delta ** 0.5 )\n",
    "        x2 = (2 * c) / (-b - delta ** 0.5 )\n",
    "    else:\n",
    "        print(\"The quadratic equation doesn't have real solutions.\" ) \n",
    "    return x1, x2"
   ]
  },
  {
   "cell_type": "code",
   "execution_count": 3,
   "metadata": {},
   "outputs": [],
   "source": [
    "def qua_eq_sol_3(a, b, c):\n",
    "    delta = b **  2 - 4 * a * c\n",
    "    if delta >= 0:\n",
    "        x1 = (2 * c) / (-b + delta ** 0.5 )\n",
    "        x2 = (-b + delta ** 0.5 ) / (2 * a)\n",
    "    else:\n",
    "        print(\"The quadratic equation doesn't have real solutions.\" ) \n",
    "    return x1, x2"
   ]
  },
  {
   "cell_type": "markdown",
   "metadata": {},
   "source": [
    "<font size = 3 color = black face = \"Times New Roman\">Secondly, input the four quadratic equations."
   ]
  },
  {
   "cell_type": "code",
   "execution_count": 4,
   "metadata": {},
   "outputs": [],
   "source": [
    "equations = [[1, -1000.001, 1], [1, -10000.0001, 1], [1, -100000.00001, 1], [1, -1000000.000001, 1],]"
   ]
  },
  {
   "cell_type": "markdown",
   "metadata": {},
   "source": [
    "<font size = 3 color = black face = \"Times New Roman\">Thirdly, the results of the three methods are checked one by one."
   ]
  },
  {
   "cell_type": "markdown",
   "metadata": {},
   "source": [
    "<font size = 3 color = black face = \"Times New Roman\"> Method 1:"
   ]
  },
  {
   "cell_type": "code",
   "execution_count": 5,
   "metadata": {},
   "outputs": [
    {
     "name": "stdout",
     "output_type": "stream",
     "text": [
      "Equations    x1                       x2            \n",
      "1            0.0009999999999763531    1000.0        \n",
      "2            0.00010000000020227162   10000.0       \n",
      "3            1.0000003385357559e-05   100000.0      \n",
      "4            1.00000761449337e-06     1000000.0     \n"
     ]
    }
   ],
   "source": [
    "print('{:<13}{:<25}{:<14}'.format('Equations', 'x1', 'x2'))\n",
    "for items in equations:\n",
    "    a, b, c = items\n",
    "    x1, x2 = qua_eq_sol_1(a, b, c)\n",
    "    print('{:<13}{:<25}{:<14}'.format(equations.index(items) + 1, x1, x2)) # Printing the order and the value of x1, x2."
   ]
  },
  {
   "cell_type": "markdown",
   "metadata": {},
   "source": [
    "<font size = 3 color = black face = \"Times New Roman\"> Method 2:"
   ]
  },
  {
   "cell_type": "code",
   "execution_count": 6,
   "metadata": {},
   "outputs": [
    {
     "name": "stdout",
     "output_type": "stream",
     "text": [
      "Equations    x1           x2            \n",
      "1            0.001        1000.0000000236469\n",
      "2            0.0001       9999.999979772838\n",
      "3            1e-05        99999.96614643588\n",
      "4            1e-06        999992.38556461\n"
     ]
    }
   ],
   "source": [
    "print('{:<13}{:<13}{:<14}'.format('Equations', 'x1', 'x2'))\n",
    "for items in equations:\n",
    "    a, b, c = items\n",
    "    x1, x2 = qua_eq_sol_2(a, b, c)\n",
    "    print('{:<13}{:<13}{:<14}'.format(equations.index(items) + 1, x1, x2))"
   ]
  },
  {
   "cell_type": "markdown",
   "metadata": {},
   "source": [
    "<font size = 3 color = black face = \"Times New Roman\"> Method 3:"
   ]
  },
  {
   "cell_type": "code",
   "execution_count": 7,
   "metadata": {},
   "outputs": [
    {
     "name": "stdout",
     "output_type": "stream",
     "text": [
      "Equations    x1           x2            \n",
      "1            0.001        1000.0        \n",
      "2            0.0001       10000.0       \n",
      "3            1e-05        100000.0      \n",
      "4            1e-06        1000000.0     \n"
     ]
    }
   ],
   "source": [
    "print('{:<13}{:<13}{:<14}'.format('Equations', 'x1', 'x2'))\n",
    "for items in equations:\n",
    "    a, b, c = items\n",
    "    x1, x2 = qua_eq_sol_3(a, b, c)\n",
    "    print('{:<13}{:<13}{:<14}'.format(equations.index(items) + 1, x1, x2))"
   ]
  },
  {
   "cell_type": "markdown",
   "metadata": {},
   "source": [
    "<font size = 3 color = black face = \"Times New Roman\">If we compare the three sets of results with the standard solutions in the table at the beginning, both the first and the second method have one accurate solution, but the other solution has obvious error. Compared with the formula chosen, the solutions with errors both use the term $-b - \\sqrt{b^2 - 4ac}$ in their formula, which has **substractive cancellation when $b$ is negative**. By contrast, method 3 avoids the substractive cancellation by **using the addtion of large numbers in both calculation**."
   ]
  },
  {
   "cell_type": "markdown",
   "metadata": {},
   "source": [
    "<font size = 3 color = black face = \"Times New Roman\"> **As a result, method 3 is the most appropriate method, and the result is exactly what is shown at the beginning.**"
   ]
  },
  {
   "cell_type": "markdown",
   "metadata": {},
   "source": [
    "||equation|$x_1$(method3)|$x_2$(method3)|\n",
    "|:--:|:--|:--|:--|\n",
    "|$1$|<div style=\"width:200px\"></div>$x^2 - 1000.001x + 1 = 0$|$0.001$|$1000$|\n",
    "|$2$|<div style=\"width:200px\"></div>$x^2 - 10000.0001x + 1 = 0$|$0.0001$|$10000$|\n",
    "|$3$|<div style=\"width:200px\"></div>$x^2 - 100000.00001x + 1 = 0$|$0.00001$|$100000$|\n",
    "|$4$|<div style=\"width:200px\"></div>$x^2 - 1000000.000001x + 1 = 0$|$0.000001$|$1000000$|"
   ]
  },
  {
   "cell_type": "markdown",
   "metadata": {},
   "source": [
    "---"
   ]
  },
  {
   "cell_type": "markdown",
   "metadata": {},
   "source": [
    "<font size = 3 color = black face = \"Times New Roman\"> (b)"
   ]
  },
  {
   "cell_type": "markdown",
   "metadata": {},
   "source": [
    "<font size = 3 color = black face = \"Times New Roman\"> In this part the absolute error and relative error for each method will be calculated repectively. Here we assume both absolute error and relative error can be negative to show that the calculated result is less than the real value."
   ]
  },
  {
   "cell_type": "markdown",
   "metadata": {},
   "source": [
    "<font size = 3 color = black face = \"Times New Roman\"> Method 1:"
   ]
  },
  {
   "cell_type": "code",
   "execution_count": 8,
   "metadata": {},
   "outputs": [
    {
     "name": "stdout",
     "output_type": "stream",
     "text": [
      "Equations x1(absolute error)       x1(relative error)  x2(absolute error)  x2(relative error)\n",
      "1         2.3646883062777846e-14   0.0000000024%       0.0                 0.000000%\n",
      "2         -2.0227161688212564e-13  -0.0000002023%      0.0                 0.000000%\n",
      "3         -3.385357557909234e-12   -0.0000338536%      0.0                 0.000000%\n",
      "4         -7.614493370101404e-12   -0.0007614493%      0.0                 0.000000%\n"
     ]
    }
   ],
   "source": [
    "print('{:<10}{:<25}{:<20}{:<20}{}'.format('Equations', 'x1(absolute error)','x1(relative error)','x2(absolute error)','x2(relative error)'))\n",
    "for items in equations:\n",
    "    a, b, c = items\n",
    "    x1, x2 = qua_eq_sol_1(a, b, c)\n",
    "    true_x1 = 10.**(-equations.index(items) - 3.)\n",
    "    true_x2 = 10.**(equations.index(items) + 3.)\n",
    "    ab_x1 = true_x1 - x1\n",
    "    rela_x1 = ab_x1 / true_x1\n",
    "    ab_x2 = true_x2 - x2\n",
    "    rela_x2 = ab_x2 / true_x2\n",
    "    print('{:<10}{:<25}{:<20.10%}{:<20}{:%}'.format(equations.index(items) + 1, ab_x1, rela_x1, ab_x2, rela_x2))"
   ]
  },
  {
   "cell_type": "markdown",
   "metadata": {},
   "source": [
    "<font size = 3 color = black face = \"Times New Roman\"> Method 2:"
   ]
  },
  {
   "cell_type": "code",
   "execution_count": 9,
   "metadata": {},
   "outputs": [
    {
     "name": "stdout",
     "output_type": "stream",
     "text": [
      "Equations x1(absolute error)  x1(relative error)  x2(absolute error)       x2(relative error)\n",
      "1         0.0                 0.000000%           -2.3646862246096134e-08  -0.0000000024%\n",
      "2         0.0                 0.000000%           2.0227162167429924e-05   0.0000002023%\n",
      "3         0.0                 0.000000%           0.033853564120363444     0.0000338536%\n",
      "4         0.0                 0.000000%           7.614435389987193        0.0007614435%\n"
     ]
    }
   ],
   "source": [
    "print('{:<10}{:<20}{:<20}{:<25}{}'.format('Equations', 'x1(absolute error)','x1(relative error)','x2(absolute error)','x2(relative error)'))\n",
    "for items in equations:\n",
    "    a, b, c = items\n",
    "    x1, x2 = qua_eq_sol_2(a, b, c)\n",
    "    true_x1 = 10.**(-equations.index(items) - 3.)\n",
    "    true_x2 = 10.**(equations.index(items) + 3.)\n",
    "    ab_x1 = true_x1 - x1\n",
    "    rela_x1 = ab_x1 / true_x1\n",
    "    ab_x2 = true_x2 - x2\n",
    "    rela_x2 = ab_x2 / true_x2\n",
    "    print('{:<10}{:<20}{:<20%}{:<25}{:.10%}'.format(equations.index(items) + 1, ab_x1, rela_x1, ab_x2, rela_x2))"
   ]
  },
  {
   "cell_type": "markdown",
   "metadata": {},
   "source": [
    "<font size = 3 color = black face = \"Times New Roman\"> Method 3:"
   ]
  },
  {
   "cell_type": "markdown",
   "metadata": {},
   "source": [
    "<font size = 3 color = black face = \"Times New Roman\">  For method 3, it's obvious that all the errors are 0."
   ]
  },
  {
   "cell_type": "markdown",
   "metadata": {},
   "source": [
    "--------"
   ]
  },
  {
   "cell_type": "markdown",
   "metadata": {},
   "source": [
    "## <font size = 5 color = black face = \"Times New Roman\"> Problem 2"
   ]
  },
  {
   "cell_type": "markdown",
   "metadata": {},
   "source": [
    "## <font size = 5 color = black face = \"Times New Roman\"> 1. Introduction"
   ]
  },
  {
   "cell_type": "markdown",
   "metadata": {},
   "source": [
    "<font size = 3 color = black face = \"Times New Roman\">In physics and math, some special constants are very common and significant. Therefore, it's necessary to approximate them as closer as possible in advance so that we can easily apply them to our calculation when they're needed. $\\pi$, $e$ and the Euler constant $\\gamma$ are three of them. Here we introduce three different methods to calculate them, and recommend the best method after considering language specifications, numerical accuracy and efficiency. To make the comparison more clearly, method 3 is always the best solution."
   ]
  },
  {
   "cell_type": "code",
   "execution_count": 25,
   "metadata": {},
   "outputs": [],
   "source": [
    "import math\n",
    "import numpy as np\n",
    "esp = 10 ** (-10)\n",
    "## Here we set the precision to 1E-10, that's accurate enough."
   ]
  },
  {
   "cell_type": "markdown",
   "metadata": {},
   "source": [
    "<font size = 5 color = black face = \"Times New Roman\">2. Codes and Explainations of the Problem"
   ]
  },
  {
   "cell_type": "markdown",
   "metadata": {},
   "source": [
    "<font size = 3 color = black face = \"Times New Roman\">(a) $\\pi$"
   ]
  },
  {
   "cell_type": "markdown",
   "metadata": {},
   "source": [
    "<font size = 3 color = black face = \"Times New Roman\">Method 1  \n",
    "\n",
    "<font size = 3 color = black face = \"Times New Roman\">The first way to get $\\pi$ comes from approximating $\\pi$ with the circumference of a regular polygon enclosed in a circle, just like we did for the homework problem last time. \n",
    "\n",
    "<font size = 3 color = black face = \"Times New Roman\">Here, $\\pi = n\\sin({\\frac{180^o}{n}})$"
   ]
  },
  {
   "cell_type": "code",
   "execution_count": 12,
   "metadata": {},
   "outputs": [
    {
     "name": "stdout",
     "output_type": "stream",
     "text": [
      "n = 4694.0\n",
      "pi = 3.141592419052349\n",
      "pi(accurate) = 3.141592653589793\n"
     ]
    }
   ],
   "source": [
    "n = 3\n",
    "pi_last = 0\n",
    "pi = np.sin(math.pi / n) *n\n",
    "while abs(pi - pi_last) >= esp:\n",
    "    n += 1.\n",
    "    pi_last = pi\n",
    "    pi = np.sin(math.pi / n) *n\n",
    "print('n =',n)\n",
    "print('pi =',pi)\n",
    "print('pi(accurate) =',math.pi)"
   ]
  },
  {
   "cell_type": "markdown",
   "metadata": {},
   "source": [
    "<font size = 3 color = black face = \"Times New Roman\">Method 2\n",
    "\n",
    "<font size = 3 color = black face = \"Times New Roman\">Here we use the outside regular polygon to approximate the circumference of the circle to get the $\\pi$, where $\\pi = n\\tan({\\frac{180^o}{n}})$"
   ]
  },
  {
   "cell_type": "code",
   "execution_count": 13,
   "metadata": {},
   "outputs": [
    {
     "name": "stdout",
     "output_type": "stream",
     "text": [
      "n = 5914.0\n",
      "pi = 3.1415929490954317\n",
      "pi(accurate) = 3.141592653589793\n"
     ]
    }
   ],
   "source": [
    "n = 3\n",
    "pi_last = 0\n",
    "pi = np.tan(math.pi/n)*n\n",
    "while abs(pi - pi_last) >= esp:\n",
    "    n += 1.\n",
    "    pi_last = pi\n",
    "    pi = np.tan(math.pi/n)*n\n",
    "print('n =',n)\n",
    "print('pi =',pi)\n",
    "print('pi(accurate) =',math.pi)"
   ]
  },
  {
   "cell_type": "markdown",
   "metadata": {},
   "source": [
    "<font size = 3 color = black face = \"Times New Roman\">Method 3\n",
    "\n",
    "<font size = 3 color = black face = \"Times New Roman\">This method is an infinite series about $\\pi$ developed by Nilakasha, and it converges much faster than the previous two methods, which is a good method.\n",
    "\n",
    "<font size = 3 color = black face = \"Times New Roman\">Here, $\\pi = 3 + {\\frac{4}{2\\times3\\times4}} - {\\frac{4}{4\\times5\\times6}} + {\\frac{4}{6\\times7\\times8}} - {\\frac{4}{8\\times9\\times10}} + \\cdots$"
   ]
  },
  {
   "cell_type": "code",
   "execution_count": 24,
   "metadata": {},
   "outputs": [
    {
     "name": "stdout",
     "output_type": "stream",
     "text": [
      "n = 175.0\n",
      "pi = 3.141592647808643\n",
      "pi(accurate) = 3.141592653589793\n"
     ]
    }
   ],
   "source": [
    "m = 4\n",
    "n = 1\n",
    "pi_last = 0\n",
    "pi = 3 + 4 * (1 / ((m - 2) * (m - 1) * m) - 1 / (m * (m + 1) * (m + 2)))\n",
    "while abs(pi - pi_last) >= esp:\n",
    "    n += 1.\n",
    "    m = 4 * n\n",
    "    pi_last = pi\n",
    "    pi += 4 * (1 / ((m - 2) * (m - 1) * m) - 1 / (m * (m + 1) * (m + 2)))\n",
    "print('n =',n)\n",
    "print('pi =',pi)\n",
    "print('pi(accurate) =',math.pi)"
   ]
  },
  {
   "cell_type": "markdown",
   "metadata": {},
   "source": [
    "--------"
   ]
  },
  {
   "cell_type": "markdown",
   "metadata": {},
   "source": [
    "<font size = 3 color = black face = \"Times New Roman\"> (b) $e$"
   ]
  },
  {
   "cell_type": "markdown",
   "metadata": {},
   "source": [
    "<font size = 3 color = black face = \"Times New Roman\">Method 1\n",
    "\n",
    "<font size = 3 color = black face = \"Times New Roman\">We use the definition of $e$ to get the value of $e$. The definition is $e = \\lim_{n \\to \\infty}{(1+\\frac{1}{n})^n}$"
   ]
  },
  {
   "cell_type": "code",
   "execution_count": 23,
   "metadata": {},
   "outputs": [
    {
     "name": "stdout",
     "output_type": "stream",
     "text": [
      "94760.0\n",
      "2.7182674855879516\n",
      "2.718281828459045\n"
     ]
    }
   ],
   "source": [
    "n = 1\n",
    "e_last = 0\n",
    "e = (1 + 1 / n) ** n\n",
    "while abs(e - e_last) >= esp:\n",
    "    e_last = e\n",
    "    n += 1.\n",
    "    e = (1 + 1 / n) ** n\n",
    "print(n)\n",
    "print(e)\n",
    "print(np.e)"
   ]
  },
  {
   "cell_type": "markdown",
   "metadata": {},
   "source": [
    "<font size = 3 color = black face = \"Times New Roman\">Method 2\n",
    "\n",
    "<font size = 3 color = black face = \"Times New Roman\">This method uses Taylor formular to get $e$. We do Taylor`s expansion at $x = 1$.\n",
    "\n",
    "<font size = 3 color = black face = \"Times New Roman\">In this method, we can get $e = \\sum^{\\infty}_{n=0}{\\frac{1}{n!}}$ "
   ]
  },
  {
   "cell_type": "code",
   "execution_count": 22,
   "metadata": {},
   "outputs": [
    {
     "name": "stdout",
     "output_type": "stream",
     "text": [
      "14.0\n",
      "2.71828182845823\n",
      "2.718281828459045\n"
     ]
    }
   ],
   "source": [
    "n = 1\n",
    "e_last = 0\n",
    "n_fac = n\n",
    "e = 1 + 1 / n_fac\n",
    "while abs(e - e_last) >= esp:\n",
    "    e_last = e\n",
    "    n += 1.\n",
    "    n_fac *= n \n",
    "    e += 1 / n_fac \n",
    "print(n)\n",
    "print(e)\n",
    "print(np.e)"
   ]
  },
  {
   "cell_type": "markdown",
   "metadata": {},
   "source": [
    "<font size = 3 color = black face = \"Times New Roman\">Method 3:\n",
    "\n",
    "<font size = 3 color = black face = \"Times New Roman\">This is a amazing method to get the constant. $e$ can be written as a continued fraction, actually, all Irrational Numbers can be expressed as a continuous fraction. \n",
    "\n",
    "<font size = 3 color = black face = \"Times New Roman\">In this method:$$e = 1 + {\\frac{2}{1+{\\frac{1}{1+{\\frac{1}{6+{\\frac{1}{10+\\cdots}}}}}}}}$$\n",
    "\n",
    "<font size = 3 color = black face = \"Times New Roman\">And it is a very quick way to get exact $e$"
   ]
  },
  {
   "cell_type": "code",
   "execution_count": 21,
   "metadata": {},
   "outputs": [
    {
     "name": "stdout",
     "output_type": "stream",
     "text": [
      "6.0\n",
      "2.7182818284590455\n",
      "2.718281828459045\n"
     ]
    }
   ],
   "source": [
    "n = 1\n",
    "m = 2 + 4 * 1\n",
    "e_last = 0\n",
    "x = 1 / m\n",
    "e = 1 + 2 / (1 + x)\n",
    "while abs(e - e_last) >= esp:\n",
    "    n += 1.\n",
    "    m = 2 + 4 * n\n",
    "    e_last = e\n",
    "    x = 1 / m \n",
    "    for i in range(int(m - 4), 5, -4):\n",
    "        x = 1.0 / (i + x)\n",
    "    e = 1 + 2 / (1 + x)\n",
    "print(n)\n",
    "print(e)\n",
    "print(np.e) "
   ]
  },
  {
   "cell_type": "markdown",
   "metadata": {},
   "source": [
    "------"
   ]
  },
  {
   "cell_type": "markdown",
   "metadata": {},
   "source": [
    "(c) $\\gamma$"
   ]
  },
  {
   "cell_type": "code",
   "execution_count": 15,
   "metadata": {},
   "outputs": [],
   "source": [
    "import numpy as np\n",
    "import sys\n",
    "import math\n",
    "from math import gamma"
   ]
  },
  {
   "cell_type": "markdown",
   "metadata": {},
   "source": [
    "<font size = 3 color = black face = \"Times New Roman\">Method 1\n",
    "\n",
    "<font size = 3 color = black face = \"Times New Roman\">We directly use the definition of $\\gamma$\n",
    "\n",
    "<font size = 3 color = black face = \"Times New Roman\">$\\gamma = \\lim_\\limits{x\\to \\infty}$$\\sum_{k=1}^{n}\\frac{1}{k} - \\ln n$\n",
    "\n",
    "<font size = 3 color = black face = \"Times New Roman\">and improve its accuracy by increasing n."
   ]
  },
  {
   "cell_type": "code",
   "execution_count": 19,
   "metadata": {},
   "outputs": [
    {
     "name": "stdout",
     "output_type": "stream",
     "text": [
      "gamma = 0.5772210370191537\n",
      "n = 93074\n",
      "error = 9.999490503794141e-11\n"
     ]
    }
   ],
   "source": [
    "esp = 10 ** (-10)\n",
    "euler1 = [0]\n",
    "first_item = 0 \n",
    "second_item = 0\n",
    "epsilon_a = 1\n",
    "n = 1\n",
    "while epsilon_a > esp:\n",
    "    first_item = first_item + 1/n #the sum of 1/n\n",
    "    second_item = math.log(n) #ln n\n",
    "    euler1.append(first_item - second_item)\n",
    "    epsilon_a = np.absolute(euler1[-1] - euler1[-2])/euler1[-1]\n",
    "    n = n + 1\n",
    "print('gamma =', euler1[-1])\n",
    "print('n =', n)\n",
    "print('error =', epsilon_a)"
   ]
  },
  {
   "cell_type": "markdown",
   "metadata": {},
   "source": [
    "<font size = 3 color = black face = \"Times New Roman\">Method 2\n",
    "\n",
    "<font size = 3 color = black face = \"Times New Roman\">This time we will use its expansion series:\n",
    "    \n",
    "<font size = 3 color = black face = \"Times New Roman\">$\\gamma = \\sum_{k=1}^{\\infty}[\\frac{1}{k} - \\ln (1+\\frac{1}{k})]$"
   ]
  },
  {
   "cell_type": "code",
   "execution_count": 17,
   "metadata": {},
   "outputs": [
    {
     "name": "stdout",
     "output_type": "stream",
     "text": [
      "gamma = 0.5772102927647114\n",
      "n = 93073\n",
      "error = 9.999888212576977e-11\n"
     ]
    }
   ],
   "source": [
    "euler2 = [0]\n",
    "epsilon_a = 1\n",
    "n = 1\n",
    "while epsilon_a > esp:\n",
    "    euler2.append(euler2[-1] + 1/n - math.log(1 + 1/n))\n",
    "    epsilon_a = np.absolute((euler2[-2] - euler2[-1])) / euler2[-1]\n",
    "    n = n + 1\n",
    "print('gamma =', euler2[-1])\n",
    "print('n =', n)\n",
    "print('error =', epsilon_a)"
   ]
  },
  {
   "cell_type": "markdown",
   "metadata": {},
   "source": [
    "<font size = 3 color = black face = \"Times New Roman\">Method 3\n",
    "\n",
    "<font size = 3 color = black face = \"Times New Roman\">In this method, we use t\n",
    "<font size = 3 color = black face = \"Times New Roman\">he relation between $\\varGamma(x)$ and $\\gamma$ \n",
    "\n",
    "<font size = 3 color = black face = \"Times New Roman\">$\\gamma = \\lim_\\limits{x\\to \\infty}(x-\\varGamma(\\frac{1}{x}))$"
   ]
  },
  {
   "cell_type": "code",
   "execution_count": 18,
   "metadata": {},
   "outputs": [
    {
     "name": "stdout",
     "output_type": "stream",
     "text": [
      "gamma = 0.5772054988192394\n",
      "n = 97290\n",
      "error = 7.563293449976645e-11\n"
     ]
    }
   ],
   "source": [
    "euler3 = [0]\n",
    "epsilon_a = 1\n",
    "n = 2 # when n = 2, the left side is 0, so we begin from n = 2\n",
    "while epsilon_a > esp:\n",
    "    euler3.append(n - gamma(1/n))\n",
    "    epsilon_a = np.absolute((euler3[-2] - euler3[-1])) / euler3[-1]\n",
    "    n = n + 1\n",
    "print('gamma =', euler3[-1])\n",
    "print('n =', n)\n",
    "print('error =', epsilon_a)"
   ]
  },
  {
   "cell_type": "markdown",
   "metadata": {},
   "source": [
    "<font size = 3 color = black face = \"Times New Roman\">As for the problem whether to create a constant every time we use it or store it under a varible and just access it when we need it, I think what matters most is **the precision required**. We always have an expected precision for every constant we created. Sure, we can create a constant in advance with a precision satisfying most needs and most tasks can be finished by accessing this value. However, once the precision doesn't meet the requirement, another creation is necessary."
   ]
  }
 ],
 "metadata": {
  "kernelspec": {
   "display_name": "Python 3",
   "language": "python",
   "name": "python3"
  },
  "language_info": {
   "codemirror_mode": {
    "name": "ipython",
    "version": 3
   },
   "file_extension": ".py",
   "mimetype": "text/x-python",
   "name": "python",
   "nbconvert_exporter": "python",
   "pygments_lexer": "ipython3",
   "version": "3.7.4"
  }
 },
 "nbformat": 4,
 "nbformat_minor": 4
}
