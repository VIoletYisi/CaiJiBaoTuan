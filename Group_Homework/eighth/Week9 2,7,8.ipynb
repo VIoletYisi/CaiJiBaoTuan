{
 "cells": [
  {
   "cell_type": "code",
   "execution_count": 3,
   "metadata": {},
   "outputs": [],
   "source": [
    "import numpy as np\n",
    "from matplotlib import pyplot as plt"
   ]
  },
  {
   "cell_type": "markdown",
   "metadata": {},
   "source": [
    "### Problem 2"
   ]
  },
  {
   "cell_type": "markdown",
   "metadata": {},
   "source": [
    "<font size = 4 color = black face = \"Times New Roman\">\n",
    "\n",
    "$f(x)=sinx$ on the interval $[0,1]$\n",
    "\n",
    "The maximum error is bounded by\n",
    "$$\\begin{aligned}\n",
    "&\\left\\vert \\Delta f\\left(  x\\right)  \\right\\vert    \\leq\\frac{\\gamma%\n",
    "}{4 (n+1)  }h^{n+1}\\\\\n",
    "&\\gamma   =\\max\\left\\vert f^{\\left( n+1\\right)  }\\left(  x\\right)\n",
    "\\right\\vert, \\;h   =\\max\\left(  x_{i+1}-x_{i}\\right)\n",
    "\\end{aligned}$$\n",
    "    \n",
    "$$\\begin{aligned}\n",
    "\\left\\vert f^{\\left(  2\\right)  }\\left(  x\\right)  \\right\\vert  & =\\left\\vert\n",
    "-\\sin x\\right\\vert \\leq\\left\\vert -\\sin\\left(  1.0\\right)  \\right\\vert\n",
    "=0.841471=M_{2},\\\\\n",
    "\\left\\vert f^{\\left(  3\\right)  }\\left(  x\\right)  \\right\\vert  & =\\left\\vert\n",
    "-\\cos x\\right\\vert \\leq\\left\\vert -\\cos\\left(  0.0\\right)  \\right\\vert\n",
    "=1.000000=M_{3},\\\\\n",
    "\\left\\vert f^{\\left(  4\\right)  }\\left(  x\\right)  \\right\\vert  & =\\left\\vert\n",
    "\\sin x\\right\\vert \\leq\\left\\vert \\sin\\left(  1.0\\right)  \\right\\vert\n",
    "=0.841471=M_{4}.\n",
    "\\end{aligned}$$"
   ]
  },
  {
   "cell_type": "code",
   "execution_count": 4,
   "metadata": {},
   "outputs": [
    {
     "data": {
      "text/plain": [
       "0.8414709848078965"
      ]
     },
     "execution_count": 4,
     "metadata": {},
     "output_type": "execute_result"
    }
   ],
   "source": [
    "np.sin(1)"
   ]
  },
  {
   "cell_type": "markdown",
   "metadata": {},
   "source": [
    "<font size = 4 color = black face = \"Times New Roman\">\n",
    "(1)linear Lagrange interpolation has an accuracy of $10^{-6}$$, \\left\\vert \\Delta f_{1}\\left(  x\\right)  \\right\\vert<5\\times10^{-7}$\n",
    "$$\n",
    "{\\vert \\Delta f_1(x) \\vert} \\leq \\dfrac{{M_2}h^2}{8} \\\\\n",
    " \\dfrac{{M_2}h^2}{8} < 5\\times10^{-7} \\\\\n",
    " h < \\sqrt{\\dfrac{8\\times 5\\times10^{-7}}{M_2}} \\approx 0.00218\n",
    "$$"
   ]
  },
  {
   "cell_type": "code",
   "execution_count": 5,
   "metadata": {},
   "outputs": [
    {
     "data": {
      "text/plain": [
       "0.0021802707224362035"
      ]
     },
     "execution_count": 5,
     "metadata": {},
     "output_type": "execute_result"
    }
   ],
   "source": [
    "pow(8*5e-7/np.sin(1), 1/2)"
   ]
  },
  {
   "cell_type": "markdown",
   "metadata": {},
   "source": [
    "<font size = 4 color = black face = \"Times New Roman\">\n",
    "(2) quadratic Lagrange interpolation has an accuracy of $10^{-6}, \\left\\vert \\Delta {f_2}\\left(  x\\right)  \\right\\vert<5\\times10^{-7}$\n",
    "$$\n",
    "{\\vert \\Delta f_2(x) \\vert} \\leq \\dfrac{{M_3}h^3}{12} \\\\\n",
    " \\dfrac{{M_3}h^3}{12} < 5\\times10^{-7} \\\\\n",
    " h < \\sqrt[3]{\\dfrac{12\\times 5\\times10^{-7}}{M_3}} \\approx 0.01817\n",
    "$$"
   ]
  },
  {
   "cell_type": "code",
   "execution_count": 6,
   "metadata": {},
   "outputs": [
    {
     "data": {
      "text/plain": [
       "0.0181712059283214"
      ]
     },
     "execution_count": 6,
     "metadata": {},
     "output_type": "execute_result"
    }
   ],
   "source": [
    "pow(12*5e-7/1., 1/3)"
   ]
  },
  {
   "cell_type": "markdown",
   "metadata": {},
   "source": [
    "<font size = 4 color = black face = \"Times New Roman\">\n",
    "(3)cubicLagrange interpolation has an accuracy of $10^{-6}$$, \\left\\vert \\Delta f_{3}\\left(  x\\right)  \\right\\vert<5\\times10^{-7}$\n",
    "$$\n",
    "{\\vert \\Delta f_3(x) \\vert} \\leq \\dfrac{{M_4}h^4}{16} \\\\\n",
    " \\dfrac{{M_4}h^4}{16} < 5\\times10^{-7} \\\\\n",
    " h < \\sqrt[4]{\\dfrac{16\\times 5\\times10^{-7}}{M_4}} \\approx 0.05553\n",
    "$$"
   ]
  },
  {
   "cell_type": "code",
   "execution_count": 7,
   "metadata": {},
   "outputs": [
    {
     "data": {
      "text/plain": [
       "0.0555280868148207"
      ]
     },
     "execution_count": 7,
     "metadata": {},
     "output_type": "execute_result"
    }
   ],
   "source": [
    "pow(16*5e-7/np.sin(1), 1/4)"
   ]
  },
  {
   "cell_type": "markdown",
   "metadata": {},
   "source": [
    "### Problem 7"
   ]
  },
  {
   "cell_type": "markdown",
   "metadata": {},
   "source": [
    "<font size = 4 color = black face = \"Times New Roman\">Since in this problem we have to do the differentiation for separated data. Firstly, we have to do the interpolation for the data. Here we choose Newton's ploynomial to do this. In this problem, the values for year is so large that they may make the interpolation more difficult. As a result, we use the **year - average(year)** instead. This is just a translation and won't change any character of the data."
   ]
  },
  {
   "cell_type": "markdown",
   "metadata": {},
   "source": [
    "| Year | Population (millions) |\n",
    "| ---- | ----|\n",
    "| 1960 | 17.9|\n",
    "| 1970 | 21.3|\n",
    "| 1980 | 24.6|\n",
    "| 1990 | 27.8|\n",
    "| 2000 | 30.8|\n",
    "| 2010 | 34.1|"
   ]
  },
  {
   "cell_type": "code",
   "execution_count": 8,
   "metadata": {},
   "outputs": [
    {
     "data": {
      "text/plain": [
       "array([-25., -15.,  -5.,   5.,  15.,  25.])"
      ]
     },
     "execution_count": 8,
     "metadata": {},
     "output_type": "execute_result"
    }
   ],
   "source": [
    "year = np.arange(1960,2020,10)\n",
    "year_norm = year - year.mean() # Use year-average(year) instead.\n",
    "population = np.array([17.9, 21.3, 24.6, 27.8, 30.8, 34.1])\n",
    "year_norm"
   ]
  },
  {
   "cell_type": "markdown",
   "metadata": {},
   "source": [
    "<font size = 4 color = black face = \"Times New Roman\"> Now, we do the interpolation for these data by Newton interpolation."
   ]
  },
  {
   "cell_type": "code",
   "execution_count": 9,
   "metadata": {},
   "outputs": [],
   "source": [
    "def newton_coeff(xData, yData): # Use the data points to determine the coefficients of Newton polynomial.\n",
    "    coeff = yData.copy() # Set the initial values of the coefficients to be the value of yData, then change them gradually.\n",
    "    m = len(xData) # m is the number of data points. We have n_th order Newton polynomial, m = n + 1.\n",
    "    for k in range(1,m): # k is the column in the coefficient table.\n",
    "        for i in range(k,m): # i stands for the row is the coefficient table.\n",
    "            coeff[i] = (coeff[i] - coeff[k-1])/(xData[i] - xData[k-1])\n",
    "    # Use interation to renew the data in coeff so that we can compute the coefficient in the next column until all the value are what we want\n",
    "    return coeff \n",
    "\n",
    "def newton_eval(coeff,xData, x): # Use the coefficient computed to contstruct the polynomial and calculate the value at x.\n",
    "    m = len(xData)\n",
    "    n = m - 1\n",
    "    p = coeff[n] # coeff[0] is just f0.\n",
    "    for k in range(1,m):\n",
    "        p = coeff[n-k] + (x - xData[n-k])*p\n",
    "    return p"
   ]
  },
  {
   "cell_type": "code",
   "execution_count": 10,
   "metadata": {},
   "outputs": [
    {
     "data": {
      "image/png": "[encoded data removed]",
      "text/plain": [
       "<Figure size 432x288 with 1 Axes>"
      ]
     },
     "metadata": {
      "needs_background": "light"
     },
     "output_type": "display_data"
    }
   ],
   "source": [
    "coeff =  newton_coeff(year_norm, population)   \n",
    "x = np.linspace(min(year_norm), max(year_norm), 100, endpoint = True)\n",
    "y = newton_eval(coeff, year_norm, x)\n",
    "plt.plot(year_norm, population,'o')\n",
    "plt.plot(x,y)\n",
    "plt.legend(['Data','Newton Interpolation'])\n",
    "plt.show()"
   ]
  },
  {
   "cell_type": "markdown",
   "metadata": {},
   "source": [
    "<font size = 4 color = black face = \"Times New Roman\">(a) We define a function to do the backward formula\n",
    "$$\n",
    "\\dfrac{df(x)}{dx}=\\dfrac{f(x)-f(x-h)}{h}\n",
    "$$"
   ]
  },
  {
   "cell_type": "code",
   "execution_count": 11,
   "metadata": {},
   "outputs": [],
   "source": [
    "def backward(f, x, h): # f is the function of x, h the step size, x is where the differentation is calculated.\n",
    "    dx = (f(x_a) - f(x_a-h))/h\n",
    "    return dx"
   ]
  },
  {
   "cell_type": "code",
   "execution_count": 12,
   "metadata": {},
   "outputs": [
    {
     "name": "stdout",
     "output_type": "stream",
     "text": [
      "0.38970436667248975\n",
      "0.39057004374214443\n",
      "0.39065700043749985\n",
      "0.3906657000385394\n",
      "0.3906665703823364\n",
      "0.39066665635800746\n",
      "0.3906666989905716\n",
      "0.3906670542619395\n",
      "0.3906635015482607\n",
      "0.3906563961209031\n"
     ]
    }
   ],
   "source": [
    "def p_5(x):\n",
    "    return newton_eval(coeff, year_norm, x)\n",
    "\n",
    "x_a = 25. # After the translation 25 corresponds to 2010\n",
    "h_set = [0.1, 0.01, 0.001, 1e-4, 1e-5, 1e-6, 1e-7, 1e-8, 1e-9, 1e-10]\n",
    "for h in h_set:\n",
    "    print(backward(p_5, x_a,h))"
   ]
  },
  {
   "cell_type": "markdown",
   "metadata": {},
   "source": [
    "<font size = 4 color = black face = \"Times New Roman\">Since when h is too small substracitve cancellation may occur, the rate of population growth in 2010 should be around 39.06667%"
   ]
  },
  {
   "cell_type": "markdown",
   "metadata": {},
   "source": [
    "<font size = 4 color = black face = \"Times New Roman\">(b) Combine the result from a and apply the central point formula\n",
    "$$\n",
    "\\dfrac{df(x)}{dx}=\\dfrac{f(x+h/2)-f(x-h/2)}{h}\n",
    "$$"
   ]
  },
  {
   "cell_type": "code",
   "execution_count": 13,
   "metadata": {},
   "outputs": [
    {
     "name": "stdout",
     "output_type": "stream",
     "text": [
      "The poplulation in 2020 should be 38.6(million)\n"
     ]
    }
   ],
   "source": [
    "x_b = 25. # 2010 corresponds to 25, 2020 corresponds t0 35\n",
    "h = 20\n",
    "f_2020 = backward(p_5,x_a,1e-7)*h+p_5(x_b-h/2) # Step size 1e-7 is chosen from (a)\n",
    "print('The poplulation in 2020 should be {:2.1f}(million)'.format(f_2020))"
   ]
  },
  {
   "cell_type": "markdown",
   "metadata": {},
   "source": [
    "### Problem 8"
   ]
  },
  {
   "cell_type": "markdown",
   "metadata": {},
   "source": [
    "<font size = 4 color = black face = \"Times New Roman\">Firstly, we define the calculation for the approximation of the first order partial derivative for x and y."
   ]
  },
  {
   "cell_type": "code",
   "execution_count": 14,
   "metadata": {},
   "outputs": [],
   "source": [
    "def partial_x(f, x, y, h): # f is a funtion of x and y, x and y are the values where the differentiation is calculated, h is the step size.\n",
    "    p_x = (f(x+h, y) - f(x-h, y))/(2*h)\n",
    "    return p_x\n",
    "\n",
    "def partial_y(f, x, y, h): # f is a funtion of x and y, x and y are the values where the differentiation is calculated, h is the step size.\n",
    "    p_y = (f(x, y+h) - f(x, y-h))/(2*h)\n",
    "    return p_y"
   ]
  },
  {
   "cell_type": "markdown",
   "metadata": {},
   "source": [
    "<font size = 4 color = black face = \"Times New Roman\">Then we use the data given to caculate the partial derivative for a specific funtion."
   ]
  },
  {
   "cell_type": "code",
   "execution_count": 15,
   "metadata": {},
   "outputs": [],
   "source": [
    "def f(x,y): # Define the function.\n",
    "    return (x*y)/(x+y)\n",
    "h_set =  [0.1, 0.01, 0.001]\n",
    "x,y = 2,3"
   ]
  },
  {
   "cell_type": "code",
   "execution_count": 16,
   "metadata": {},
   "outputs": [
    {
     "name": "stdout",
     "output_type": "stream",
     "text": [
      "h       partial_x              partial_y              \n",
      "0.1     0.3601440576230519     0.1600640256102448     \n",
      "0.01    0.36000144000575274    0.16000064000255554    \n",
      "0.001   0.3600000144001747     0.16000000640004064    \n"
     ]
    }
   ],
   "source": [
    "print('{:<8}{:<23}{:<23}'.format('h','partial_x','partial_y'))\n",
    "for h in h_set:  \n",
    "    p_x = partial_x(f, x, y, h)\n",
    "    p_y = partial_y(f, x, y, h)\n",
    "    print('{:<8}{:<23}{:<23}'.format(h, p_x, p_y))\n"
   ]
  },
  {
   "cell_type": "markdown",
   "metadata": {},
   "source": [
    "<font size = 4 color = black face = \"Times New Roman\">Finally, we calulate the theoretical value by directly doing the partial differentiation.\n",
    "$$\\dfrac{{\\partial}f}{{\\partial}x} = \\dfrac{y(x+y)-xy}{(x+y)}^2 = \\dfrac{y^2}{(x+y)^2}$$ \n",
    "$$\\dfrac{{\\partial}f}{{\\partial}y} = \\dfrac{x(x+y)-xy}{(x+y)}^2 = \\dfrac{x^2}{(x+y)^2}$$     \n",
    "<font size = 4 color = black face> As a result$f_x(2,3) = 0.36$ and $f_y(2,3) = 0.16$.\n",
    "Compared with the calculated results, for the given h, their results are very close the exact value and the samller the h is , the more accurate the result will be. However, when h becomes much smaller, substractive cancellation may occur."
   ]
  },
  {
   "cell_type": "code",
   "execution_count": null,
   "metadata": {},
   "outputs": [],
   "source": []
  },
  {
   "cell_type": "code",
   "execution_count": null,
   "metadata": {},
   "outputs": [],
   "source": []
  },
  {
   "cell_type": "code",
   "execution_count": null,
   "metadata": {},
   "outputs": [],
   "source": []
  }
 ],
 "metadata": {
  "kernelspec": {
   "display_name": "Python 3",
   "language": "python",
   "name": "python3"
  },
  "language_info": {
   "codemirror_mode": {
    "name": "ipython",
    "version": 3
   },
   "file_extension": ".py",
   "mimetype": "text/x-python",
   "name": "python",
   "nbconvert_exporter": "python",
   "pygments_lexer": "ipython3",
   "version": "3.7.4"
  }
 },
 "nbformat": 4,
 "nbformat_minor": 4
}
