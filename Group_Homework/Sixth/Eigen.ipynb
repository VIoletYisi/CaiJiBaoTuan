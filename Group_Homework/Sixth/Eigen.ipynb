{
 "cells": [
  {
   "cell_type": "markdown",
   "metadata": {},
   "source": [
    "Ref: Rubin Landau, Computational Physics-Problem Solving with Python,   \n",
    "Section 6.5.1 NumPy’s linalg Package, p. 132-134  \n",
    "![Landau_linalg.png](http://ww1.sinaimg.cn/large/006ApISSgy1gdtn1swua9j30ul0h7jvn.jpg)"
   ]
  },
  {
   "cell_type": "code",
   "execution_count": 2,
   "metadata": {},
   "outputs": [],
   "source": [
    "from numpy import *\n",
    "from numpy.linalg import eig"
   ]
  },
  {
   "cell_type": "code",
   "execution_count": 9,
   "metadata": {},
   "outputs": [
    {
     "name": "stdout",
     "output_type": "stream",
     "text": [
      "I =\n",
      " [[ 0.66666667 -0.25      ]\n",
      " [-0.25        0.66666667]]\n"
     ]
    }
   ],
   "source": [
    "I = array([[2./3, -1./4], [-1./4, 2./3]])\n",
    "print ('I =\\n', I)"
   ]
  },
  {
   "cell_type": "code",
   "execution_count": 12,
   "metadata": {},
   "outputs": [
    {
     "name": "stdout",
     "output_type": "stream",
     "text": [
      "Eigenvalues = [0.91666667 0.41666667]\n",
      "Eigenvector Matrix =[[ 0.70710678  0.70710678]\n",
      " [-0.70710678  0.70710678]]\n"
     ]
    }
   ],
   "source": [
    "Es, evectors = eig(I) # Solves eigenvalue problem\n",
    "# There are other eigenvalue problem solvers!\n",
    "print('Eigenvalues = {:}\\nEigenvector Matrix = {:}'.format(Es, evectors))"
   ]
  },
  {
   "cell_type": "code",
   "execution_count": 14,
   "metadata": {},
   "outputs": [
    {
     "name": "stdout",
     "output_type": "stream",
     "text": [
      "LHS - RHS = [ 1.11022302e-16 -1.11022302e-16]\n"
     ]
    }
   ],
   "source": [
    "Vec = array([evectors[0, 0] , evectors[1, 0]])\n",
    "LHS = dot(I, Vec ) # Matrix x vector 15\n",
    "RHS = Es[0] * Vec # Scalar mult\n",
    "print('LHS - RHS =', LHS - RHS) # Test for zero"
   ]
  },
  {
   "cell_type": "code",
   "execution_count": null,
   "metadata": {},
   "outputs": [],
   "source": []
  }
 ],
 "metadata": {
  "kernelspec": {
   "display_name": "Python 3",
   "language": "python",
   "name": "python3"
  },
  "language_info": {
   "codemirror_mode": {
    "name": "ipython",
    "version": 3
   },
   "file_extension": ".py",
   "mimetype": "text/x-python",
   "name": "python",
   "nbconvert_exporter": "python",
   "pygments_lexer": "ipython3",
   "version": "3.7.4"
  }
 },
 "nbformat": 4,
 "nbformat_minor": 4
}
