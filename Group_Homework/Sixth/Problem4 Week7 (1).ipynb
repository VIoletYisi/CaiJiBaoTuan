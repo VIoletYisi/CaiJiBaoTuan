{
 "cells": [
  {
   "cell_type": "markdown",
   "metadata": {},
   "source": [
    "<font size = 3 color = black face = \"Times New Roman\">Introduction: We will use two method in this problem, direct fitting and fitting with weighs, to explore Hubble's law. At the end of the problem, we will compare this two methods."
   ]
  },
  {
   "cell_type": "code",
   "execution_count": 121,
   "metadata": {},
   "outputs": [],
   "source": [
    "import numpy as np\n",
    "import matplotlib.pyplot as plt"
   ]
  },
  {
   "cell_type": "code",
   "execution_count": 122,
   "metadata": {},
   "outputs": [],
   "source": [
    "r = np.array([0.032, 0.9, 0.9, 0.275, 1.1, \n",
    "            0.9, 0.214, 0.263, 1.1, 0.45,\n",
    "            0.034, 2.0, 1.0, 0.275,1.4, \n",
    "            0.5, 2.0, 0.8, 1.7, 0.63,\n",
    "            2.0, 0.5, 2.0, 0.9])\n",
    "v = np.array([170, 150, 500, -185, 500,\n",
    "             650, -130, -70, 450, 200,\n",
    "             290, 1090, 920, -220, 500,\n",
    "             290, 500, 300, 960, 200,\n",
    "             800, 270, 850, -30])"
   ]
  },
  {
   "cell_type": "markdown",
   "metadata": {},
   "source": [
    "<font size = 3 color = black face = \"Times New Roman\">Method 1: direct fitting"
   ]
  },
  {
   "cell_type": "markdown",
   "metadata": {},
   "source": [
    "<font size = 3 color = black face = \"Times New Roman\"> (1)"
   ]
  },
  {
   "cell_type": "code",
   "execution_count": 123,
   "metadata": {},
   "outputs": [
    {
     "data": {
      "text/plain": [
       "Text(0.5, 1.0, 'v-r')"
      ]
     },
     "execution_count": 123,
     "metadata": {},
     "output_type": "execute_result"
    },
    {
     "data": {
      "image/png": "[encoded data removed]",
      "text/plain": [
       "<Figure size 432x288 with 1 Axes>"
      ]
     },
     "metadata": {
      "needs_background": "light"
     },
     "output_type": "display_data"
    }
   ],
   "source": [
    "plt.scatter(r, v)\n",
    "plt.ylabel('v')\n",
    "plt.xlabel('r')\n",
    "plt.title('v-r')"
   ]
  },
  {
   "cell_type": "markdown",
   "metadata": {},
   "source": [
    "<font size = 3 color = black face = \"Times New Roman\"> Although the points in the diagram are scattered, we can find that most points are distributed around a straight line."
   ]
  },
  {
   "cell_type": "markdown",
   "metadata": {},
   "source": [
    "<font size = 3 color = black face = \"Times New Roman\"> (2)"
   ]
  },
  {
   "cell_type": "markdown",
   "metadata": {},
   "source": [
    "<font size = 3 color = black face = \"Times New Roman\"> Here we use 10% of the data as the error."
   ]
  },
  {
   "cell_type": "code",
   "execution_count": 124,
   "metadata": {},
   "outputs": [
    {
     "data": {
      "text/plain": [
       "array([ 17. ,  15. ,  50. , -18.5,  50. ,  65. , -13. ,  -7. ,  45. ,\n",
       "        20. ,  29. , 109. ,  92. , -22. ,  50. ,  29. ,  50. ,  30. ,\n",
       "        96. ,  20. ,  80. ,  27. ,  85. ,  -3. ])"
      ]
     },
     "execution_count": 124,
     "metadata": {},
     "output_type": "execute_result"
    }
   ],
   "source": [
    "error = 0.1 * v\n",
    "error"
   ]
  },
  {
   "cell_type": "markdown",
   "metadata": {},
   "source": [
    "<font size = 3 color = black face = \"Times New Roman\"> (3)"
   ]
  },
  {
   "cell_type": "code",
   "execution_count": 125,
   "metadata": {},
   "outputs": [],
   "source": [
    "def lineFit1(x, y):\n",
    "    xavg = x.mean()\n",
    "    slope = (y * (x-xavg)).sum()/(x * (x-xavg)).sum()\n",
    "    yint = y.mean() - slope*xavg\n",
    "    return slope, yint, xavg"
   ]
  },
  {
   "cell_type": "code",
   "execution_count": 126,
   "metadata": {},
   "outputs": [
    {
     "name": "stdout",
     "output_type": "stream",
     "text": [
      "454.1584409226284 -40.783649095860426\n"
     ]
    }
   ],
   "source": [
    "H, a, r_avg = lineFit1(r, v)\n",
    "print(H, a)"
   ]
  },
  {
   "cell_type": "markdown",
   "metadata": {},
   "source": [
    "<font size = 3 color = black face = \"Times New Roman\"> We get $H = 454.15$ and $a = -40.78$. But this value is far from the right value. Recent observed value of $H$ is about 80."
   ]
  },
  {
   "cell_type": "markdown",
   "metadata": {},
   "source": [
    "<font size = 3 color = black face = \"Times New Roman\"> (4)"
   ]
  },
  {
   "cell_type": "code",
   "execution_count": 127,
   "metadata": {},
   "outputs": [],
   "source": [
    "def f(r):\n",
    "    return H*r - a"
   ]
  },
  {
   "cell_type": "code",
   "execution_count": 128,
   "metadata": {},
   "outputs": [
    {
     "data": {
      "text/plain": [
       "Text(0.5, 1.0, 'v-r')"
      ]
     },
     "execution_count": 128,
     "metadata": {},
     "output_type": "execute_result"
    },
    {
     "data": {
      "image/png": "[encoded data removed]",
      "text/plain": [
       "<Figure size 432x288 with 1 Axes>"
      ]
     },
     "metadata": {
      "needs_background": "light"
     },
     "output_type": "display_data"
    }
   ],
   "source": [
    "v_fit = f(r)\n",
    "plt.plot(r, v_fit)\n",
    "plt.scatter(r, v)\n",
    "plt.ylabel('v')\n",
    "plt.xlabel('r')\n",
    "plt.title('v-r')"
   ]
  },
  {
   "cell_type": "markdown",
   "metadata": {},
   "source": [
    "<font size = 3 color = black face = \"Times New Roman\">This picture looks pretty reasonable."
   ]
  },
  {
   "cell_type": "markdown",
   "metadata": {},
   "source": [
    "<font size = 3 color = black face = \"Times New Roman\"> (5)"
   ]
  },
  {
   "cell_type": "code",
   "execution_count": 129,
   "metadata": {},
   "outputs": [
    {
     "name": "stdout",
     "output_type": "stream",
     "text": [
      "248.00290921087552\n"
     ]
    }
   ],
   "source": [
    "S = ((f(r) - v)**2).sum()\n",
    "sigma = (S/22)**(0.5)\n",
    "print(sigma)"
   ]
  },
  {
   "cell_type": "markdown",
   "metadata": {},
   "source": [
    "<font size = 3 color = black face = \"Times New Roman\">Here we get $\\sigma = 248$."
   ]
  },
  {
   "cell_type": "code",
   "execution_count": 130,
   "metadata": {},
   "outputs": [
    {
     "data": {
      "text/plain": [
       "Text(0.5, 1.0, 'v-r')"
      ]
     },
     "execution_count": 130,
     "metadata": {},
     "output_type": "execute_result"
    },
    {
     "data": {
      "image/png": "[encoded data removed]",
      "text/plain": [
       "<Figure size 432x288 with 1 Axes>"
      ]
     },
     "metadata": {
      "needs_background": "light"
     },
     "output_type": "display_data"
    }
   ],
   "source": [
    "v_fit = f(r)\n",
    "plt.plot(r, v_fit)\n",
    "plt.plot(r, v_fit + sigma)\n",
    "plt.plot(r, v_fit - sigma)\n",
    "plt.scatter(r, v)\n",
    "plt.ylabel('v')\n",
    "plt.xlabel('r')\n",
    "plt.title('v-r')"
   ]
  },
  {
   "cell_type": "markdown",
   "metadata": {},
   "source": [
    "<font size = 3 color = black face = \"Times New Roman\"> We can see about 7(about a third) points miss the error band. This is in line with our expectations."
   ]
  },
  {
   "cell_type": "markdown",
   "metadata": {},
   "source": [
    "<font size = 3 color = black face = \"Times New Roman\"> (6)"
   ]
  },
  {
   "cell_type": "code",
   "execution_count": 131,
   "metadata": {},
   "outputs": [
    {
     "name": "stdout",
     "output_type": "stream",
     "text": [
      "28428.556282508023\n"
     ]
    }
   ],
   "source": [
    "x_2 = ((f(r) - v)**2/error**2).sum()\n",
    "print(x_2)"
   ]
  },
  {
   "cell_type": "markdown",
   "metadata": {},
   "source": [
    "<font size = 3 color = black face = \"Times New Roman\">We get $\\chi^2 = 28428$."
   ]
  },
  {
   "cell_type": "markdown",
   "metadata": {},
   "source": [
    "<font size = 3 color = black face = \"Times New Roman\"> This is much larger than our expected value, because we're taking 10% of v as the error, which leads to the fact that the smaller the absolute value of v, the smaller the error, and the more dominant the calculation.For example, the error of point (0.9, -30) is only -3 compared with other points, which plays a big role in the calculation. However, although the point (2.0, 1090) is very accurate, because the value of the function v is too large, its role in the calculation is very small."
   ]
  },
  {
   "cell_type": "markdown",
   "metadata": {},
   "source": [
    "------------"
   ]
  },
  {
   "cell_type": "markdown",
   "metadata": {},
   "source": [
    "<font size = 3 color = black face = \"Times New Roman\">Method 2: fitting with weighs "
   ]
  },
  {
   "cell_type": "markdown",
   "metadata": {},
   "source": [
    "<font size = 3 color = black face = \"Times New Roman\">Problem (1) and (2) are same with method 1, here we don't do that once again."
   ]
  },
  {
   "cell_type": "markdown",
   "metadata": {},
   "source": [
    "<font size = 3 color = black face = \"Times New Roman\">(3)"
   ]
  },
  {
   "cell_type": "code",
   "execution_count": 141,
   "metadata": {},
   "outputs": [],
   "source": [
    "def lineFit2(x, y, error):\n",
    "    xavg = ( (x / error**2).sum() ) / ( (1 / (error**2)).sum() )\n",
    "    yavg = ( (y / error**2).sum() ) / ( (1 / (error**2)).sum() )\n",
    "    a1 = ( ((x - xavg)*y/error**2).sum() ) / ( ((x - xavg)*x/error**2).sum() )\n",
    "    a0 = yavg - xavg * a1\n",
    "    return a1, a0, xavg, yavg"
   ]
  },
  {
   "cell_type": "code",
   "execution_count": 142,
   "metadata": {},
   "outputs": [
    {
     "name": "stdout",
     "output_type": "stream",
     "text": [
      "85.43587291492658 -70.45211155377314\n"
     ]
    }
   ],
   "source": [
    "H, a, r_avg, v_avg = lineFit2(r, v, error)\n",
    "print(H, a)"
   ]
  },
  {
   "cell_type": "markdown",
   "metadata": {},
   "source": [
    "<font size = 3 color = black face = \"Times New Roman\">We get $H = 85.44$ and $a = -70.45$."
   ]
  },
  {
   "cell_type": "markdown",
   "metadata": {},
   "source": [
    "<font size = 3 color = black face = \"Times New Roman\">This result is very amazing as this number is very close to the modern observed value of $H$."
   ]
  },
  {
   "cell_type": "markdown",
   "metadata": {},
   "source": [
    "<font size = 3 color = black face = \"Times New Roman\">(4)"
   ]
  },
  {
   "cell_type": "code",
   "execution_count": 134,
   "metadata": {},
   "outputs": [],
   "source": [
    "def f(r):\n",
    "    return H*r - a"
   ]
  },
  {
   "cell_type": "code",
   "execution_count": 135,
   "metadata": {},
   "outputs": [
    {
     "name": "stdout",
     "output_type": "stream",
     "text": [
      "85.43587291492658 -70.45211155377314\n"
     ]
    },
    {
     "data": {
      "text/plain": [
       "Text(0.5, 1.0, 'v-r')"
      ]
     },
     "execution_count": 135,
     "metadata": {},
     "output_type": "execute_result"
    },
    {
     "data": {
      "image/png": "[encoded data removed]",
      "text/plain": [
       "<Figure size 432x288 with 1 Axes>"
      ]
     },
     "metadata": {
      "needs_background": "light"
     },
     "output_type": "display_data"
    }
   ],
   "source": [
    "v_fit = f(r)\n",
    "plt.plot(r, v_fit)\n",
    "plt.scatter(r, v)\n",
    "print(H,a)\n",
    "plt.ylabel('v')\n",
    "plt.xlabel('r')\n",
    "plt.title('v-r')"
   ]
  },
  {
   "cell_type": "markdown",
   "metadata": {},
   "source": [
    "<font size = 3 color = black face = \"Times New Roman\">This picture doesn't looks very good. It seems that the little values of v dominate this fitting. That's because we're taking 10% of v as the error, which leads to the fact that the smaller the absolute value of v, the smaller the error, and the more dominant the calculation."
   ]
  },
  {
   "cell_type": "markdown",
   "metadata": {},
   "source": [
    "<font size = 3 color = black face = \"Times New Roman\">(5)"
   ]
  },
  {
   "cell_type": "code",
   "execution_count": 145,
   "metadata": {},
   "outputs": [
    {
     "name": "stdout",
     "output_type": "stream",
     "text": [
      "410.6141113044426\n",
      "8.251567403207645 6.602587168956392\n"
     ]
    }
   ],
   "source": [
    "S = ((f(r) - v)**2).sum()\n",
    "sigma = (S/22)**(0.5)\n",
    "print(sigma)\n",
    "sigma_H = np.sqrt(1 / ((r - r_avg)*r/error**2).sum() )\n",
    "sigma_a = sigma_H * np.sqrt( (r**2/error**2).sum() / (1/error**2).sum() )\n",
    "print(sigma_H, sigma_a)"
   ]
  },
  {
   "cell_type": "markdown",
   "metadata": {},
   "source": [
    "<font size = 3 color = black face = \"Times New Roman\">We get $\\sigma = 410.61$."
   ]
  },
  {
   "cell_type": "code",
   "execution_count": 137,
   "metadata": {},
   "outputs": [
    {
     "data": {
      "text/plain": [
       "Text(0.5, 1.0, 'v-r')"
      ]
     },
     "execution_count": 137,
     "metadata": {},
     "output_type": "execute_result"
    },
    {
     "data": {
      "image/png": "[encoded data removed]",
      "text/plain": [
       "<Figure size 432x288 with 1 Axes>"
      ]
     },
     "metadata": {
      "needs_background": "light"
     },
     "output_type": "display_data"
    }
   ],
   "source": [
    "v_fit = f(r)\n",
    "plt.plot(r, v_fit)\n",
    "plt.plot(r, v_fit + sigma)\n",
    "plt.plot(r, v_fit - sigma)\n",
    "plt.scatter(r, v)\n",
    "plt.ylabel('v')\n",
    "plt.xlabel('r')\n",
    "plt.title('v-r')"
   ]
  },
  {
   "cell_type": "markdown",
   "metadata": {},
   "source": [
    "<font size = 3 color = black face = \"Times New Roman\"> We can see about 6(about a third) points miss the error band. This is in line with our expectations."
   ]
  },
  {
   "cell_type": "markdown",
   "metadata": {},
   "source": [
    "<font size = 3 color = black face = \"Times New Roman\"> (6)"
   ]
  },
  {
   "cell_type": "code",
   "execution_count": 138,
   "metadata": {},
   "outputs": [
    {
     "name": "stdout",
     "output_type": "stream",
     "text": [
      "5523.327896730666\n"
     ]
    }
   ],
   "source": [
    "x_2 = ((f(r) - v)**2/error**2).sum()\n",
    "print(x_2)"
   ]
  },
  {
   "cell_type": "markdown",
   "metadata": {},
   "source": [
    "<font size = 3 color = black face = \"Times New Roman\">We get $\\chi^2 = 5523$. It means that we get a better fitting, but this is also very large. That's because the error of the points is much large in fact."
   ]
  },
  {
   "cell_type": "markdown",
   "metadata": {},
   "source": [
    "<font size = 3 color = black face = \"Times New Roman\">Conslusion: Using method 1, we can get a relatively pretty picture, but the data we calculate is really awful. While using method 2, we can get an surprising value of $H$ and a lower $\\chi^2$, which means we get a better fitting, but the picture is not very good. Here one explain we can get of that is in Hubble's period, the error of the data is a little big, and the larger the $r$ is, the larger error $\\sigma$ the $v$ has. So when fitting with weighs, the effect of the larger v is small, so we get an accurate $H$."
   ]
  }
 ],
 "metadata": {
  "kernelspec": {
   "display_name": "Python 3",
   "language": "python",
   "name": "python3"
  },
  "language_info": {
   "codemirror_mode": {
    "name": "ipython",
    "version": 3
   },
   "file_extension": ".py",
   "mimetype": "text/x-python",
   "name": "python",
   "nbconvert_exporter": "python",
   "pygments_lexer": "ipython3",
   "version": "3.7.4"
  }
 },
 "nbformat": 4,
 "nbformat_minor": 4
}
