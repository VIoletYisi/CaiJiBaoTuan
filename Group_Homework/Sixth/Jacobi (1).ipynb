{
 "cells": [
  {
   "cell_type": "markdown",
   "metadata": {},
   "source": [
    "样本程序："
   ]
  },
  {
   "cell_type": "markdown",
   "metadata": {},
   "source": [
    "Reference: https://www.quantstart.com/articles/Jacobi-Method-in-Python-and-NumPy/"
   ]
  },
  {
   "cell_type": "code",
   "execution_count": 7,
   "metadata": {},
   "outputs": [],
   "source": [
    "from pprint import pprint\n",
    "from numpy import array, zeros, diag, diagflat, dot\n",
    "\n",
    "\n",
    "def jacobi(A, b, N=25, x=None):                                                                                                                                                          \n",
    "    if x is None:\n",
    "        x = zeros(len(A[0]))\n",
    "\n",
    "    # Create a vector of the diagonal elements of A                                                                                                                                                \n",
    "    # and subtract them from A                                                                                                                                                                     \n",
    "    D = diag(A)\n",
    "    R = A - diagflat(D)\n",
    "    # Iterate for N times                                                                                                                                                                          \n",
    "    for i in range(N):\n",
    "        x = (b - dot(R,x)) / D\n",
    "    return x\n",
    "\n",
    "\n",
    "def test_jacobi():\n",
    "    A = array([[2.0,1.0],[5.0,7.0]])\n",
    "    b = array([11.0,13.0])\n",
    "    guess = array([1.0,1.0])\n",
    "\n",
    "    sol = jacobi(A,b,N=25,x=guess)\n",
    "\n",
    "    print('A:'); pprint(A)\n",
    "    \n",
    "    print(\"b:\"); pprint(b)\n",
    "\n",
    "    print(\"x:\"); pprint(sol)"
   ]
  },
  {
   "cell_type": "code",
   "execution_count": 8,
   "metadata": {},
   "outputs": [
    {
     "name": "stdout",
     "output_type": "stream",
     "text": [
      "A:\n",
      "array([[2., 1.],\n",
      "       [5., 7.]])\n",
      "b:\n",
      "array([11., 13.])\n",
      "x:\n",
      "array([ 7.11110202, -3.22220342])\n"
     ]
    }
   ],
   "source": [
    "if __name__ == '__main__':\n",
    "    test_jacobi()"
   ]
  },
  {
   "cell_type": "markdown",
   "metadata": {},
   "source": [
    "--------"
   ]
  },
  {
   "cell_type": "markdown",
   "metadata": {},
   "source": [
    "个人程序（算法不同，增加了计算循环次数）"
   ]
  },
  {
   "cell_type": "code",
   "execution_count": 1,
   "metadata": {},
   "outputs": [],
   "source": [
    "def jacobi(A, b, x_init, epsilon = 1e-10, max_iterations = 10000):\n",
    "    D = np.diag(np.diag(A))\n",
    "    LU = A - D\n",
    "    x = x_init\n",
    "    for i in range(max_iterations):\n",
    "        D_inv = np.diag(1/np.diag(D))\n",
    "        x_new = np.dot(D_inv, b - np.dot(LU, x))\n",
    "        if np.linalg.norm(x_new - x) < epsilon:\n",
    "            break\n",
    "        x = x_new\n",
    "    return x_new, i"
   ]
  },
  {
   "cell_type": "code",
   "execution_count": null,
   "metadata": {},
   "outputs": [],
   "source": []
  }
 ],
 "metadata": {
  "kernelspec": {
   "display_name": "",
   "name": ""
  },
  "language_info": {
   "codemirror_mode": {
    "name": "ipython",
    "version": 3
   },
   "file_extension": ".py",
   "mimetype": "text/x-python",
   "name": "python",
   "nbconvert_exporter": "python",
   "pygments_lexer": "ipython3",
   "version": "3.7.4"
  }
 },
 "nbformat": 4,
 "nbformat_minor": 4
}
