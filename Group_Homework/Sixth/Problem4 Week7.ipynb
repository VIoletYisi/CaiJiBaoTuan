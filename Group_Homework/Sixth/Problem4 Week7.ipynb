{
 "cells": [
  {
   "cell_type": "code",
   "execution_count": 1,
   "metadata": {},
   "outputs": [],
   "source": [
    "import numpy as np\n",
    "import matplotlib.pyplot as plt"
   ]
  },
  {
   "cell_type": "code",
   "execution_count": 2,
   "metadata": {},
   "outputs": [],
   "source": [
    "r = np.array([0.032, 0.9, 0.9, 0.275, 1.1, \n",
    "            0.9, 0.214, 0.263, 1.1, 0.45,\n",
    "            0.034, 2.0, 1.0, 0.275,1.4, \n",
    "            0.5, 2.0, 0.8, 1.7, 0.63,\n",
    "            2.0, 0.5, 2.0, 0.9])\n",
    "v = np.array([170, 150, 500, -185, 500,\n",
    "             650, -130, -70, 450, 200,\n",
    "             290, 1090, 920, -220, 500,\n",
    "             290, 500, 300, 960, 200,\n",
    "             800, 270, 850, -30])"
   ]
  },
  {
   "cell_type": "markdown",
   "metadata": {},
   "source": [
    "(a)"
   ]
  },
  {
   "cell_type": "code",
   "execution_count": 4,
   "metadata": {},
   "outputs": [
    {
     "data": {
      "text/plain": [
       "Text(0.5, 1.0, 'v-r')"
      ]
     },
     "execution_count": 4,
     "metadata": {},
     "output_type": "execute_result"
    },
    {
     "data": {
      "image/png": "[encoded data removed]",
      "text/plain": [
       "<Figure size 432x288 with 1 Axes>"
      ]
     },
     "metadata": {
      "needs_background": "light"
     },
     "output_type": "display_data"
    }
   ],
   "source": [
    "plt.scatter(r, v)\n",
    "plt.ylabel('v')\n",
    "plt.xlabel('r')\n",
    "plt.title('v-r')"
   ]
  },
  {
   "cell_type": "markdown",
   "metadata": {},
   "source": [
    "Although the points in the diagram are scattered, we can find that most points are distributed around a straight line."
   ]
  },
  {
   "cell_type": "markdown",
   "metadata": {},
   "source": [
    "(b)"
   ]
  },
  {
   "cell_type": "markdown",
   "metadata": {},
   "source": [
    "Here we use 10% of the data as the error."
   ]
  },
  {
   "cell_type": "code",
   "execution_count": 5,
   "metadata": {},
   "outputs": [
    {
     "data": {
      "text/plain": [
       "array([ 17. ,  15. ,  50. , -18.5,  50. ,  65. , -13. ,  -7. ,  45. ,\n",
       "        20. ,  29. , 109. ,  92. , -22. ,  50. ,  29. ,  50. ,  30. ,\n",
       "        96. ,  20. ,  80. ,  27. ,  85. ,  -3. ])"
      ]
     },
     "execution_count": 5,
     "metadata": {},
     "output_type": "execute_result"
    }
   ],
   "source": [
    "error = 0.1 * v\n",
    "error"
   ]
  },
  {
   "cell_type": "markdown",
   "metadata": {},
   "source": [
    "(c) and (d)"
   ]
  },
  {
   "cell_type": "code",
   "execution_count": 6,
   "metadata": {},
   "outputs": [],
   "source": [
    "def lineFit1(x, y):\n",
    "    xavg = x.mean()\n",
    "    slope = (y * (x-xavg)).sum()/(x * (x-xavg)).sum()\n",
    "    yint = y.mean() - slope*xavg\n",
    "    return slope, yint"
   ]
  },
  {
   "cell_type": "code",
   "execution_count": 7,
   "metadata": {},
   "outputs": [
    {
     "name": "stdout",
     "output_type": "stream",
     "text": [
      "454.1584409226284 -40.783649095860426\n"
     ]
    }
   ],
   "source": [
    "H, a = lineFit1(r, v)\n",
    "print(H, a)"
   ]
  },
  {
   "cell_type": "code",
   "execution_count": 8,
   "metadata": {},
   "outputs": [],
   "source": [
    "def f(r):\n",
    "    return H*r - a"
   ]
  },
  {
   "cell_type": "code",
   "execution_count": 10,
   "metadata": {},
   "outputs": [
    {
     "name": "stdout",
     "output_type": "stream",
     "text": [
      "454.1584409226284 -40.783649095860426\n"
     ]
    },
    {
     "data": {
      "text/plain": [
       "Text(0.5, 1.0, 'v-r')"
      ]
     },
     "execution_count": 10,
     "metadata": {},
     "output_type": "execute_result"
    },
    {
     "data": {
      "image/png": "[encoded data removed]",
      "text/plain": [
       "<Figure size 432x288 with 1 Axes>"
      ]
     },
     "metadata": {
      "needs_background": "light"
     },
     "output_type": "display_data"
    }
   ],
   "source": [
    "v_fit = f(r)\n",
    "plt.plot(r, v_fit)\n",
    "plt.scatter(r, v)\n",
    "print(H,a)\n",
    "plt.ylabel('v')\n",
    "plt.xlabel('r')\n",
    "plt.title('v-r')"
   ]
  },
  {
   "cell_type": "markdown",
   "metadata": {},
   "source": [
    "(d)"
   ]
  },
  {
   "cell_type": "code",
   "execution_count": 11,
   "metadata": {},
   "outputs": [
    {
     "name": "stdout",
     "output_type": "stream",
     "text": [
      "1353119.7454952712 248.00290921087554\n"
     ]
    }
   ],
   "source": [
    "S = 0\n",
    "for i in range(len(r)):\n",
    "    S = S + (f(r[i]) - v[i])**2\n",
    "delta = (S/22)**(0.5)\n",
    "print(S, delta)"
   ]
  },
  {
   "cell_type": "code",
   "execution_count": 12,
   "metadata": {},
   "outputs": [
    {
     "name": "stdout",
     "output_type": "stream",
     "text": [
      "454.1584409226284 -40.783649095860426\n"
     ]
    },
    {
     "data": {
      "image/png": "[encoded data removed]",
      "text/plain": [
       "<Figure size 432x288 with 1 Axes>"
      ]
     },
     "metadata": {
      "needs_background": "light"
     },
     "output_type": "display_data"
    }
   ],
   "source": [
    "v_fit = f(r)\n",
    "plt.plot(r, v_fit)\n",
    "plt.plot(r, v_fit + delta)\n",
    "plt.plot(r, v_fit - delta)\n",
    "plt.scatter(r, v)\n",
    "print(H,a)"
   ]
  },
  {
   "cell_type": "markdown",
   "metadata": {},
   "source": [
    "We can see about 7(about a third) points miss the error band."
   ]
  },
  {
   "cell_type": "markdown",
   "metadata": {},
   "source": [
    "(e)"
   ]
  },
  {
   "cell_type": "code",
   "execution_count": 128,
   "metadata": {},
   "outputs": [
    {
     "name": "stdout",
     "output_type": "stream",
     "text": [
      "28428.556282508027\n"
     ]
    }
   ],
   "source": [
    "x_2 = 0\n",
    "for i in range(len(r)):\n",
    "    x_2 = x_2 + (f(r[i]) - v[i])**2/error[i]**2\n",
    "print(x_2)"
   ]
  },
  {
   "cell_type": "markdown",
   "metadata": {},
   "source": [
    "这个值远大于我们的期望值，因为我们采用v的10%作为误差，这导致了v的绝对值越小，它的误差就越小，在计算中越占主导地位。比如点（0.9，-30），相较于其他点，它的误差只有-3，在计算中的作用很大，但实际它的误差远大于-3，而（2.0，1090），尽管它已经十分准确，却因为函数值v太大，其在计算中的作用非常小。"
   ]
  }
 ],
 "metadata": {
  "kernelspec": {
   "display_name": "Python 3",
   "language": "python",
   "name": "python3"
  },
  "language_info": {
   "codemirror_mode": {
    "name": "ipython",
    "version": 3
   },
   "file_extension": ".py",
   "mimetype": "text/x-python",
   "name": "python",
   "nbconvert_exporter": "python",
   "pygments_lexer": "ipython3",
   "version": "3.7.4"
  }
 },
 "nbformat": 4,
 "nbformat_minor": 4
}
