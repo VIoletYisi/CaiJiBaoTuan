{
 "nbformat": 4,
 "nbformat_minor": 2,
 "metadata": {
  "language_info": {
   "name": "python",
   "codemirror_mode": {
    "name": "ipython",
    "version": 3
   },
   "version": "3.7.4-final"
  },
  "orig_nbformat": 2,
  "file_extension": ".py",
  "mimetype": "text/x-python",
  "name": "python",
  "npconvert_exporter": "python",
  "pygments_lexer": "ipython3",
  "version": 3,
  "kernelspec": {
   "name": "python3",
   "display_name": "Python 3"
  }
 },
 "cells": [
  {
   "cell_type": "markdown",
   "metadata": {},
   "source": [
    "### string, lists, array\n",
    "\n",
    "#### Strings\n",
    "Strings are lists of characters. \n",
    "\n",
    "Strings can be assigned variable names like:\n",
    "\n",
    "a = \"My dog's name is\"\n",
    "\n",
    "b = 'Alpha'\n",
    "\n",
    "Strings can be concatenated using the “+” operator:\n",
    "\n",
    "c = a +' '+ b\n",
    "\n",
    "Output of c is \"My dog's name is Alpha\"\n",
    "\n",
    "Strings are used for for different purposes: labeling data in data files, labeling axes in plots, formatting numerical output, requesting input for your programs, as arguments in functions, etc.\n",
    "\n",
    "#### Lists\n",
    "In python we use square brackets to represent lists and commas to separate the elements."
   ]
  },
  {
   "cell_type": "code",
   "execution_count": null,
   "metadata": {},
   "outputs": [],
   "source": []
  }
 ]
}