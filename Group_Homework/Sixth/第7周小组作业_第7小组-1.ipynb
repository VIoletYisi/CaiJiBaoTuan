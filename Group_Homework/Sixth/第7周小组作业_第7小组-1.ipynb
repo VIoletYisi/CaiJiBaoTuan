{
 "cells": [
  {
   "cell_type": "markdown",
   "metadata": {},
   "source": [
    "### Group Assignment Week 7"
   ]
  },
  {
   "cell_type": "code",
   "execution_count": 204,
   "metadata": {},
   "outputs": [],
   "source": [
    "import numpy as np\n",
    "from matplotlib import pyplot as plt\n",
    "from numpy.linalg import eig"
   ]
  },
  {
   "cell_type": "markdown",
   "metadata": {},
   "source": [
    "#### **Problem 1**"
   ]
  },
  {
   "cell_type": "markdown",
   "metadata": {},
   "source": [
    "<font size = 4 color = black face = \"Times New Roman\">(1)First, we define the matrix A"
   ]
  },
  {
   "cell_type": "code",
   "execution_count": 205,
   "metadata": {},
   "outputs": [],
   "source": [
    "matrix_A =np.array([[-2,2,-3],\n",
    "                   [2,1,-6],\n",
    "                   [-1,-2,0]])"
   ]
  },
  {
   "cell_type": "code",
   "execution_count": 206,
   "metadata": {},
   "outputs": [
    {
     "name": "stdout",
     "output_type": "stream",
     "text": [
      "Eigenvalues are  [-3.  5. -3.]\n",
      "Eigenvectors are \n",
      " [[-0.95257934  0.40824829 -0.02296692]\n",
      " [ 0.27216553  0.81649658  0.83534731]\n",
      " [-0.13608276 -0.40824829  0.54924256]]\n"
     ]
    }
   ],
   "source": [
    "Es,Ev = eig(matrix_A)\n",
    "print('Eigenvalues are ',Es)\n",
    "print('Eigenvectors are \\n',Ev)"
   ]
  },
  {
   "cell_type": "markdown",
   "metadata": {},
   "source": [
    "<font size = 4 color = black face = \"Times New Roman\">Here, we verify that we obtain the eigenvalues $\\lambda_1 = 5$, $\\lambda_2 = \\lambda_3 = −3$."
   ]
  },
  {
   "cell_type": "markdown",
   "metadata": {},
   "source": [
    "<font size = 4 color = black face = \"Times New Roman\">(2)"
   ]
  },
  {
   "cell_type": "code",
   "execution_count": 207,
   "metadata": {},
   "outputs": [
    {
     "name": "stdout",
     "output_type": "stream",
     "text": [
      "[[-0.40824829]\n",
      " [-0.81649658]\n",
      " [ 0.40824829]]\n"
     ]
    }
   ],
   "source": [
    "# Define the test vector.\n",
    "x1 = np.array([[-1 / np.sqrt(6)],[-2 / np.sqrt(6)],[1 / np.sqrt(6)]])\n",
    "print(x1)"
   ]
  },
  {
   "cell_type": "code",
   "execution_count": 208,
   "metadata": {},
   "outputs": [
    {
     "name": "stdout",
     "output_type": "stream",
     "text": [
      "[[ True]\n",
      " [ True]\n",
      " [ True]]\n"
     ]
    }
   ],
   "source": [
    "print(np.dot(matrix_A,x1) == 5 * x1) # Test whether x1 is an eigenvector."
   ]
  },
  {
   "cell_type": "markdown",
   "metadata": {},
   "source": [
    "<font size = 4 color = black face = \"Times New Roman\">Obviously, the eigenvector for $λ_1 = 5$ is proportional to\n",
    "$$\n",
    "x_1 = \\frac{1}{\\sqrt{6}}\\begin{pmatrix}\n",
    "−1 \\\\ −2 \\\\+1\\end{pmatrix}\n",
    "$$"
   ]
  },
  {
   "cell_type": "markdown",
   "metadata": {},
   "source": [
    "<font size = 4 color = black face = \"Times New Roman\">(3)"
   ]
  },
  {
   "cell_type": "markdown",
   "metadata": {},
   "source": [
    "<font size = 4 color = black face = \"Times New Roman\">The eigenvectors are\n",
    "$$\n",
    "x_1 = \\frac{1}{\\sqrt{6}}\\begin{pmatrix}\n",
    "−1 \\\\ −2 \\\\+1\\end{pmatrix},\\quad\n",
    "x_2 = \\frac{1}{\\sqrt{5}}\\begin{pmatrix}\n",
    "−2\\\\ +1\\\\0\\end{pmatrix},\\quad\n",
    "x_3 = \\frac{1}{\\sqrt{10}}\\begin{pmatrix}\n",
    "3\\\\ 0\\\\1\\end{pmatrix}\n",
    "$$\n",
    "<font size = 4 color = black face = \"Times New Roman\">Suppose here is a matrix B, where\n",
    "$$\n",
    "B = \\begin{pmatrix}\n",
    "x_2 & x_1 & x_3\\end{pmatrix}\n",
    "$$\n",
    "T<font size = 4 color = black face = \"Times New Roman\">hen the eigenvector matrix ($Ev$) that we got before can be describled as $Ev = BC$ The values of the vectors in the C matrix are the coefficients of the linear combinations.\n",
    "\n",
    "\n",
    "<font size = 4 color = black face = \"Times New Roman\">Hence $C = B^{-1}Ev$"
   ]
  },
  {
   "cell_type": "code",
   "execution_count": 209,
   "metadata": {},
   "outputs": [],
   "source": [
    "# Define matrix B\n",
    "matrix_B = np.array([[-2 / np.sqrt(5),-1 / np.sqrt(6),3 / np.sqrt(10)],\n",
    "                     [1 / np.sqrt(5),-2 / np.sqrt(6),0],\n",
    "                     [0,1 / np.sqrt(6),1 / np.sqrt(10)]])"
   ]
  },
  {
   "cell_type": "code",
   "execution_count": 210,
   "metadata": {},
   "outputs": [
    {
     "name": "stdout",
     "output_type": "stream",
     "text": [
      "[[ 6.08580619e-01 -4.36232184e-16  1.86789337e+00]\n",
      " [-4.01880650e-17 -1.00000000e+00  4.43399771e-18]\n",
      " [-4.30331483e-01 -2.27092718e-16  1.73685749e+00]]\n"
     ]
    }
   ],
   "source": [
    "C = np.dot(np.linalg.inv(matrix_B),Ev)\n",
    "print(C)"
   ]
  },
  {
   "cell_type": "markdown",
   "metadata": {},
   "source": [
    "<font size = 4 color = black face = \"Times New Roman\">Because of the machine precision error in the process of using the program to calculate, some elements which should be zero in the matrix are not zero, but some very small values.\n",
    "Such as -4.01880650e-17, actually, it should be zero.\n",
    "    \n",
    "<font size = 4 color = black face = \"Times New Roman\">Suppose the two eigenvectors we get for eigenvalue $\\lambda_2 = \\lambda_3 = −3$ is $a$ and $b$.\n",
    "\n",
    "<font size = 4 color = black face = \"Times New Roman\">Then \n",
    "$$\n",
    "a = 0.608580619x_2 - 0.430331483x_3\\\\\n",
    "b = 1.86789337x_2 + 1.73685749x_3\n",
    "$$"
   ]
  },
  {
   "cell_type": "markdown",
   "metadata": {},
   "source": [
    "#### **Problem 2**"
   ]
  },
  {
   "cell_type": "markdown",
   "metadata": {},
   "source": [
    "<font size = 4 color = black face = \"Times New Roman\">In this problem we're going to  fit the Millikan data shown in the table below directly to a linear function\n",
    "    $$\n",
    "    q_k=ke\\pm\\Delta q_k\n",
    "    $$\n",
    "Assume that<br>\n",
    "(1) the error bars $\\Delta {q_k}$ in the experimental measurements is a constant as $\\Delta q$<br>\n",
    "(2) Different $\\Delta {q_k}$ with $\\left\\vert\\Delta {q_k}\\right\\vert= 0.05q_k$"
   ]
  },
  {
   "cell_type": "markdown",
   "metadata": {},
   "source": [
    "|  |  |  |  |  | | |  |  |\n",
    "| ----- | ----- | ----- | ----- | ----- | ----- | ----- | ----- | ----- |\n",
    "| $k$   | 4     | 5     | 6     | 7     | 8     | 9     | 10    | 11    |\n",
    "| $q_k$ | 6.558 | 8.206 | 9.880 | 11.50 | 13.14 | 14.82 | 16.40 | 18.04 |\n",
    "| $k$   | 12    | 13    | 14    | 15    | 16    | 17    | 18    |       |\n",
    "| $q_k$ | 19.68 | 21.32 | 22.96 | 24.60 | 26.24 | 27.88 | 29.52 |       |"
   ]
  },
  {
   "cell_type": "markdown",
   "metadata": {},
   "source": [
    "<font size = 4 color = black face = \"Times New Roman\"> Since the error bars $\\Delta {q_k}$ has the relation that $\\left\\vert\\Delta {q_k}\\right\\vert= 0.05q_k$, we should actually treat $\\Delta {q_k}$ as **the uncertainty for the data $q_k$**. Therefore, the linear funtion should be written in the form \n",
    "    $$\n",
    "    q_k\\pm\\Delta q_k=ke\n",
    "    $$\n",
    "First of all, let's enter the data as well as their uncertainty."
   ]
  },
  {
   "cell_type": "code",
   "execution_count": 211,
   "metadata": {},
   "outputs": [],
   "source": [
    "k = np.arange(4,19) # data k\n",
    "q_k = np.array([6.588, 8.206, 9.880, 11.5, 13.14, 14.82, 16.40, 18.04, 19.68, 21.32, 22.96, 24.60, 26.24, 27.88, 29.52]) # data q_k\n",
    "delta_q_k = np.array([0.05 * q_k for q_k in q_k]) # Uncertainty for q_k"
   ]
  },
  {
   "cell_type": "markdown",
   "metadata": {},
   "source": [
    "<font size = 4 color = black face = \"Times New Roman\">Then we define a function to fit data with uncertainty."
   ]
  },
  {
   "cell_type": "code",
   "execution_count": 212,
   "metadata": {},
   "outputs": [],
   "source": [
    "def lineFit_with_uncertainty(x, y, uncertainty):\n",
    "    xavg = (x/(uncertainty**2)).sum()/(1/(uncertainty**2)).sum() # The average for x with uncertainty.\n",
    "    yavg = (y/(uncertainty**2)).sum()/(1/(uncertainty**2)).sum() # The average for y with uncertainty.\n",
    "    slope = (y * (x-xavg)/(uncertainty**2)).sum()/(x * (x-xavg)/(uncertainty**2)).sum()\n",
    "    yint = yavg - slope*xavg\n",
    "    # The uncertainty for slope and y intercept.\n",
    "    uncert_slope = 1/(x * (x-xavg)/(uncertainty**2)).sum()\n",
    "    uncert_yint = uncert_slope**2 * (x**2/(uncertainty**2)).sum()/(1/(uncertainty**2)).sum()\n",
    "    return slope, yint, uncert_slope, uncert_yint# yint is the y-intercept"
   ]
  },
  {
   "cell_type": "markdown",
   "metadata": {},
   "source": [
    "<font size = 4 color = black face = \"Times New Roman\">After that, we start our linear fit. From  $q_k\\pm\\Delta q_k=ke$, it's clear that the **intercept is 0**, so we directly use this result instead of the intercept calculated."
   ]
  },
  {
   "cell_type": "code",
   "execution_count": 213,
   "metadata": {},
   "outputs": [
    {
     "data": {
      "image/png": "[encoded data removed]",
      "text/plain": [
       "<Figure size 432x288 with 1 Axes>"
      ]
     },
     "metadata": {
      "needs_background": "light"
     },
     "output_type": "display_data"
    }
   ],
   "source": [
    "intercept = 0 # Set the inercept 0.\n",
    "slope = lineFit_with_uncertainty(k, q_k, delta_q_k)[0] # Calculate the slope.\n",
    "x = np.linspace(0,20,1000)\n",
    "y = intercept + slope * x\n",
    "plt.title('Fitting for the Milikan data')\n",
    "plt.xlabel('$k$')\n",
    "plt.ylabel('r$q_k$')\n",
    "plt.plot(x, y) \n",
    "plt.xlim(0,20)\n",
    "plt.ylim(0,40)\n",
    "plt.scatter(k, q_k, alpha=0.6, color='red')\n",
    "plt.legend(['linear fitting','point'] )\n",
    "plt.errorbar(k, q_k, yerr=delta_q_k, fmt=\":o\", ecolor=\"y\", elinewidth=1,\n",
    "             ms=1,mfc=\"c\", mec=\"r\", capsize=4, capthick=3)\n",
    "plt.show()"
   ]
  },
  {
   "cell_type": "markdown",
   "metadata": {},
   "source": [
    "<font size = 4 color = black face = \"Times New Roman\"> Directly from the figure above, it seems that the linear fitting is quite good, then we will analyze the accuracy of the approximation in detal."
   ]
  },
  {
   "cell_type": "code",
   "execution_count": 214,
   "metadata": {},
   "outputs": [
    {
     "name": "stdout",
     "output_type": "stream",
     "text": [
      "The sum of the square of the residuals: S = 0.0206150833\n",
      "The standard deviation:0.0398217985\n",
      "Chi square:0.0482963240\n",
      "\n"
     ]
    }
   ],
   "source": [
    "# Calculate the sum of the square of the residuals, the standard deviation and the chi square.\n",
    "S = ((q_k - slope *k) **2).sum()\n",
    "sigma = np.sqrt(S/(15-2))\n",
    "chi_square = (((q_k - slope *k)/delta_q_k) **2).sum()\n",
    "print('''The sum of the square of the residuals: S = {:1.10f}\n",
    "The standard deviation:{:1.10f}\n",
    "Chi square:{:1.10f}\n",
    "'''.format(S, sigma, chi_square))"
   ]
  },
  {
   "cell_type": "code",
   "execution_count": 215,
   "metadata": {},
   "outputs": [
    {
     "name": "stdout",
     "output_type": "stream",
     "text": [
      "e:1.6379517547e-10 \n",
      "delta e:0.0022597268e-10\n"
     ]
    }
   ],
   "source": [
    "# Calculate the elementary charge e from the data\n",
    "e = slope\n",
    "delta_e = lineFit_with_uncertainty(k, q_k, delta_q_k)[2]\n",
    "print('''e:{:1.10f}e-10 \n",
    "delta e:{:1.10f}e-10'''.format(e,delta_e))"
   ]
  },
  {
   "cell_type": "markdown",
   "metadata": {},
   "source": [
    "<font size = 4 color = black face = \"Times New Roman\"> From the calculation above, we can find:<br>\n",
    "1.The sum of the square of the residuals $S \\approx 0.0206150833$<br>\n",
    "2.The standard deviation:$\\sigma \\approx 0.0206150833$<br>\n",
    "3.$\\chi^2 \\approx 0.0482963240$ <br>\n",
    "4.The elementary charge $e = (1.6379517547 \\pm 0.0022597268) \\times 10^{-10}$<br>\n",
    "\n",
    "<font size = 4 color = black face = \"Times New Roman\"> $S$, $\\sigma$ and $\\chi^2$ are all very small. Besides, the elementary charge calculated is quite close the the standard value $1.60217663410 \\times 10^{-10}$. These can all show that the approximation is accurate.   "
   ]
  },
  {
   "cell_type": "markdown",
   "metadata": {},
   "source": [
    "#### **Problem 3**"
   ]
  },
  {
   "cell_type": "markdown",
   "metadata": {},
   "source": [
    "<font size = 4 color = black face = \"Times New Roman\">\n",
    "Derive the linearization form for each of the following functions:\n",
    "$$\n",
    "    \\begin{array}{llll}\n",
    "    (1) &y=\\dfrac{A}{x}+B  &    (2) &y=\\dfrac{D}{x+C}\\\\\n",
    "    (3) &y=\\dfrac{1}{Ax+B} &    (4) &y=\\dfrac{x}{A+Bx}\\\\\n",
    "    (5) &y=A\\ln x+B &      (6)& y=Cx^{A}\\\\\n",
    "    (7) &y=\\left( Ax+B\\right) ^{-2} &   (8) & y=Cxe^{-Dx}\n",
    "    \\end{array}\n",
    "    $$"
   ]
  },
  {
   "cell_type": "markdown",
   "metadata": {},
   "source": [
    "<font size = 4 color = black face = \"Times New Roman\">\n",
    "(1)$y=\\dfrac{A}{x}+B$ <br>\n",
    "Data linearization: introduce the change of variables:\n",
    "$$\n",
    "Y = y,\\; X = \\dfrac{1}{x}\\\\\n",
    "(x_{i},y_{i})\\rightarrow(X_{i},Y_{i})\\\\\n",
    "Y = AX +B\n",
    "$$\n",
    "<br> \n",
    "(2)$y=\\dfrac{D}{x+C}$<br>\n",
    "Take the reciprocal on both sides:\n",
    "$$\n",
    "\\dfrac{1}{y} = \\dfrac{1}{D}x + \\dfrac{C}{D}\n",
    "$$\n",
    "Data linearization: introduce the change of variables:\n",
    "$$\n",
    "Y = \\dfrac{1}{y},\\; X = x\\\\\n",
    "(x_{i},y_{i})\\rightarrow(X_{i},Y_{i})\\\\\n",
    "Y= \\dfrac{1}{D}X + \\dfrac{C}{D}\n",
    "$$\n",
    "<br>\n",
    "(3)$y=\\dfrac{1}{Ax+B}$<br>\n",
    "Take the reciprocal on both sides:\n",
    "$$\n",
    "\\dfrac{1}{y} = Ax + B\n",
    "$$\n",
    "Data linearization: introduce the change of variables:\n",
    "$$\n",
    "Y = \\dfrac{1}{y},\\; X = x\\\\\n",
    "(x_{i},y_{i})\\rightarrow(X_{i},Y_{i})\\\\\n",
    "Y= AX + B\n",
    "$$\n",
    "<br>\n",
    "(4)$y=\\dfrac{x}{A+Bx}$<br>\n",
    "Take the reciprocal on both sides:\n",
    "$$\n",
    "\\dfrac{1}{y} = \\dfrac{A}{x} + B\n",
    "$$\n",
    "Data linearization: introduce the change of variables:\n",
    "$$\n",
    "Y = \\dfrac{1}{y},\\; X = \\dfrac{1}{x}\\\\\n",
    "(x_{i},y_{i})\\rightarrow(X_{i},Y_{i})\\\\\n",
    "Y= AX + B\n",
    "$$\n",
    "<br>\n",
    "(5)$y=A\\ln x+B$<br>\n",
    "Data linearization: introduce the change of variables:\n",
    "$$\n",
    "Y = y,\\; X = lnx\\\\\n",
    "(x_{i},y_{i})\\rightarrow(X_{i},Y_{i})\\\\\n",
    "Y= AX + B\n",
    "$$\n",
    "<br>\n",
    "(6)$y=Cx^{A}$<br>\n",
    "Take the logarithm on both sides:\n",
    "$$\n",
    "lny = Alnx+lnC\n",
    "$$   \n",
    "Data linearization: introduce the change of variables:\n",
    "$$\n",
    "Y = lny,\\; X = lnx\\\\\n",
    "(x_{i},y_{i})\\rightarrow(X_{i},Y_{i})\\\\\n",
    "Y= AX + lnC\n",
    "$$\n",
    "<br>\n",
    "(7)$y=\\left( Ax+B\\right) ^{-2}$<br>\n",
    "First, take the reciprocal on both sides:\n",
    "$$\n",
    "\\dfrac{1}{y} = (Ax +B) ^{2}\n",
    "$$   \n",
    "Then, take the square root on both sides:\n",
    "$$\n",
    "\\pm\\sqrt{\\dfrac{1}{y}} = Ax +B\n",
    "$$   \n",
    "Data linearization: introduce the change of variables:\n",
    "$$\n",
    "Y = \\sqrt{\\dfrac{1}{y}},\\; X = lnx\\\\\n",
    "(x_{i},y_{i})\\rightarrow(X_{i},Y_{i})\\\\\n",
    "Y= \n",
    "\\begin{cases}\n",
    "AX + B & if Ax +b > 0 \\\\\n",
    "-AX - B & if Ax +b < 0\n",
    "\\end{cases}\n",
    "$$\n",
    "<br>\n",
    "(8)$y=Cxe^{-Dx}$<br>\n",
    "Take the logarithm on both sides:\n",
    "$$\n",
    "lny = lnx+lnC-Dx \\\\\n",
    "ln(\\dfrac{y}{x}) = -Dx +lnC\n",
    "$$   \n",
    "Data linearization: introduce the change of variables:\n",
    "$$\n",
    "Y = ln(\\dfrac{y}{x}),\\; X = x\\\\\n",
    "(x_{i},y_{i})\\rightarrow(X_{i},Y_{i})\\\\\n",
    "Y= -DX + lnC\n",
    "$$"
   ]
  },
  {
   "cell_type": "markdown",
   "metadata": {},
   "source": [
    "#### **Problem 4**"
   ]
  },
  {
   "cell_type": "markdown",
   "metadata": {},
   "source": [
    "<font size = 4 color = black face = \"Times New Roman\">Introduction: We will use two method in this problem, direct fitting and fitting with weighs, to explore Hubble's law. At the end of the problem, we will compare this two methods."
   ]
  },
  {
   "cell_type": "code",
   "execution_count": 216,
   "metadata": {},
   "outputs": [],
   "source": [
    "r = np.array([0.032, 0.9, 0.9, 0.275, 1.1, \n",
    "            0.9, 0.214, 0.263, 1.1, 0.45,\n",
    "            0.034, 2.0, 1.0, 0.275,1.4, \n",
    "            0.5, 2.0, 0.8, 1.7, 0.63,\n",
    "            2.0, 0.5, 2.0, 0.9])\n",
    "v = np.array([170, 150, 500, -185, 500,\n",
    "             650, -130, -70, 450, 200,\n",
    "             290, 1090, 920, -220, 500,\n",
    "             290, 500, 300, 960, 200,\n",
    "             800, 270, 850, -30])"
   ]
  },
  {
   "cell_type": "markdown",
   "metadata": {},
   "source": [
    "<font size = 4 color = black face = \"Times New Roman\">Method 1: direct fitting"
   ]
  },
  {
   "cell_type": "markdown",
   "metadata": {},
   "source": [
    "<font size = 3 color = black face = \"Times New Roman\"> (1)"
   ]
  },
  {
   "cell_type": "code",
   "execution_count": 217,
   "metadata": {},
   "outputs": [
    {
     "data": {
      "image/png": "[encoded data removed]",
      "text/plain": [
       "<Figure size 432x288 with 1 Axes>"
      ]
     },
     "metadata": {
      "needs_background": "light"
     },
     "output_type": "display_data"
    }
   ],
   "source": [
    "plt.scatter(r, v)\n",
    "plt.ylabel('v')\n",
    "plt.xlabel('r')\n",
    "plt.title('v-r')\n",
    "plt.show()"
   ]
  },
  {
   "cell_type": "markdown",
   "metadata": {},
   "source": [
    "<font size = 4 color = black face = \"Times New Roman\"> Although the points in the diagram are scattered, we can find that most points are distributed around a straight line."
   ]
  },
  {
   "cell_type": "markdown",
   "metadata": {},
   "source": [
    "<font size = 4 color = black face = \"Times New Roman\"> (2)"
   ]
  },
  {
   "cell_type": "markdown",
   "metadata": {},
   "source": [
    "<font size = 4 color = black face = \"Times New Roman\"> Here we use 10% of the data as the error."
   ]
  },
  {
   "cell_type": "code",
   "execution_count": 218,
   "metadata": {},
   "outputs": [
    {
     "data": {
      "text/plain": [
       "array([ 17. ,  15. ,  50. , -18.5,  50. ,  65. , -13. ,  -7. ,  45. ,\n",
       "        20. ,  29. , 109. ,  92. , -22. ,  50. ,  29. ,  50. ,  30. ,\n",
       "        96. ,  20. ,  80. ,  27. ,  85. ,  -3. ])"
      ]
     },
     "execution_count": 218,
     "metadata": {},
     "output_type": "execute_result"
    }
   ],
   "source": [
    "error = 0.1 * v\n",
    "error"
   ]
  },
  {
   "cell_type": "markdown",
   "metadata": {},
   "source": [
    "<font size = 4 color = black face = \"Times New Roman\"> (3)"
   ]
  },
  {
   "cell_type": "code",
   "execution_count": 219,
   "metadata": {},
   "outputs": [],
   "source": [
    "def lineFit1(x, y):\n",
    "    xavg = x.mean()\n",
    "    slope = (y * (x-xavg)).sum()/(x * (x-xavg)).sum()\n",
    "    yint = y.mean() - slope*xavg\n",
    "    return slope, yint, xavg"
   ]
  },
  {
   "cell_type": "code",
   "execution_count": 220,
   "metadata": {},
   "outputs": [
    {
     "name": "stdout",
     "output_type": "stream",
     "text": [
      "454.1584409226284 -40.783649095860426\n"
     ]
    }
   ],
   "source": [
    "H, a, r_avg = lineFit1(r, v)\n",
    "print(H, a)"
   ]
  },
  {
   "cell_type": "markdown",
   "metadata": {},
   "source": [
    "<font size = 4 color = black face = \"Times New Roman\"> We get $H = 454.15$ and $a = -40.78$. But this value is far from the right value. Recent observed value of $H$ is about 80."
   ]
  },
  {
   "cell_type": "markdown",
   "metadata": {},
   "source": [
    "<font size = 4 color = black face = \"Times New Roman\"> (4)"
   ]
  },
  {
   "cell_type": "code",
   "execution_count": 221,
   "metadata": {},
   "outputs": [],
   "source": [
    "def f(r):\n",
    "    return H*r - a"
   ]
  },
  {
   "cell_type": "code",
   "execution_count": 222,
   "metadata": {},
   "outputs": [
    {
     "data": {
      "image/png": "[encoded data removed]",
      "text/plain": [
       "<Figure size 432x288 with 1 Axes>"
      ]
     },
     "metadata": {
      "needs_background": "light"
     },
     "output_type": "display_data"
    }
   ],
   "source": [
    "v_fit = f(r)\n",
    "plt.plot(r, v_fit)\n",
    "plt.scatter(r, v)\n",
    "plt.ylabel('v')\n",
    "plt.xlabel('r')\n",
    "plt.title('v-r')\n",
    "plt.show()"
   ]
  },
  {
   "cell_type": "markdown",
   "metadata": {},
   "source": [
    "<font size = 4 color = black face = \"Times New Roman\">This picture looks pretty reasonable."
   ]
  },
  {
   "cell_type": "markdown",
   "metadata": {},
   "source": [
    "<font size = 3 color = black face = \"Times New Roman\"> (5)"
   ]
  },
  {
   "cell_type": "code",
   "execution_count": 223,
   "metadata": {},
   "outputs": [
    {
     "name": "stdout",
     "output_type": "stream",
     "text": [
      "61505.44297705776\n",
      "248.00290921087552\n"
     ]
    }
   ],
   "source": [
    "S = ((f(r) - v)**2).sum()\n",
    "sigma = (S/22)**(0.5)\n",
    "variance = sigma ** 2\n",
    "print(variance)\n",
    "print(sigma)"
   ]
  },
  {
   "cell_type": "markdown",
   "metadata": {},
   "source": [
    "<font size = 4 color = black face = \"Times New Roman\">Here we get variance 61505 and the standard deviation $\\sigma = 248$."
   ]
  },
  {
   "cell_type": "code",
   "execution_count": 224,
   "metadata": {},
   "outputs": [
    {
     "data": {
      "image/png": "[encoded data removed]",
      "text/plain": [
       "<Figure size 432x288 with 1 Axes>"
      ]
     },
     "metadata": {
      "needs_background": "light"
     },
     "output_type": "display_data"
    }
   ],
   "source": [
    "v_fit = f(r)\n",
    "plt.plot(r, v_fit, label = 'r-v')\n",
    "plt.plot(r, v_fit + sigma, label = 'r-v+$\\sigma$')\n",
    "plt.plot(r, v_fit - sigma, label = 'r-v-$\\sigma$')\n",
    "plt.scatter(r, v)\n",
    "plt.ylabel('v')\n",
    "plt.xlabel('r')\n",
    "plt.title('v-r')\n",
    "plt.legend(loc=0,ncol=1)\n",
    "plt.show()"
   ]
  },
  {
   "cell_type": "markdown",
   "metadata": {},
   "source": [
    "<font size = 4 color = black face = \"Times New Roman\"> We can see about 7(about a third) points miss the error band. This is in line with our expectations."
   ]
  },
  {
   "cell_type": "markdown",
   "metadata": {},
   "source": [
    "<font size = 4 color = black face = \"Times New Roman\"> (6)"
   ]
  },
  {
   "cell_type": "code",
   "execution_count": 225,
   "metadata": {},
   "outputs": [
    {
     "name": "stdout",
     "output_type": "stream",
     "text": [
      "28428.556282508023\n"
     ]
    }
   ],
   "source": [
    "x_2 = ((f(r) - v)**2/error**2).sum()\n",
    "print(x_2)"
   ]
  },
  {
   "cell_type": "markdown",
   "metadata": {},
   "source": [
    "<font size = 4 color = black face = \"Times New Roman\">We get $\\chi^2 = 28428$."
   ]
  },
  {
   "cell_type": "markdown",
   "metadata": {},
   "source": [
    "<font size = 4 color = black face = \"Times New Roman\"> This is much larger than our expected value, because we're taking 10% of v as the error, which leads to the fact that the smaller the absolute value of v, the smaller the error, and the more dominant the calculation.For example, the error of point (0.9, -30) is only -3 compared with other points, which plays a big role in the calculation. However, although the point (2.0, 1090) is very accurate, because the value of the function v is too large, its role in the calculation is very small."
   ]
  },
  {
   "cell_type": "markdown",
   "metadata": {},
   "source": [
    "------------"
   ]
  },
  {
   "cell_type": "markdown",
   "metadata": {},
   "source": [
    "<font size = 4 color = black face = \"Times New Roman\">Method 2: fitting with weighs "
   ]
  },
  {
   "cell_type": "markdown",
   "metadata": {},
   "source": [
    "<font size = 4 color = black face = \"Times New Roman\">Problem (1) and (2) are same with method 1, here we don't do that once again."
   ]
  },
  {
   "cell_type": "markdown",
   "metadata": {},
   "source": [
    "<font size = 4 color = black face = \"Times New Roman\">(3)"
   ]
  },
  {
   "cell_type": "code",
   "execution_count": 226,
   "metadata": {},
   "outputs": [],
   "source": [
    "def lineFit2(x, y, error):\n",
    "    xavg = ( (x / error**2).sum() ) / ( (1 / (error**2)).sum() )\n",
    "    yavg = ( (y / error**2).sum() ) / ( (1 / (error**2)).sum() )\n",
    "    a1 = ( ((x - xavg)*y/error**2).sum() ) / ( ((x - xavg)*x/error**2).sum() )\n",
    "    a0 = yavg - xavg * a1\n",
    "    return a1, a0, xavg, yavg"
   ]
  },
  {
   "cell_type": "code",
   "execution_count": 227,
   "metadata": {},
   "outputs": [
    {
     "name": "stdout",
     "output_type": "stream",
     "text": [
      "85.43587291492658 -70.45211155377314\n"
     ]
    }
   ],
   "source": [
    "H, a, r_avg, v_avg = lineFit2(r, v, error)\n",
    "print(H, a)"
   ]
  },
  {
   "cell_type": "markdown",
   "metadata": {},
   "source": [
    "<font size = 4 color = black face = \"Times New Roman\">We get $H = 85.44$ and $a = -70.45$."
   ]
  },
  {
   "cell_type": "markdown",
   "metadata": {},
   "source": [
    "<font size = 4 color = black face = \"Times New Roman\">This result is very amazing as this number is very close to the modern observed value of $H$."
   ]
  },
  {
   "cell_type": "markdown",
   "metadata": {},
   "source": [
    "<font size = 4 color = black face = \"Times New Roman\">(4)"
   ]
  },
  {
   "cell_type": "code",
   "execution_count": 228,
   "metadata": {},
   "outputs": [],
   "source": [
    "def f(r):\n",
    "    return H*r - a"
   ]
  },
  {
   "cell_type": "code",
   "execution_count": 229,
   "metadata": {},
   "outputs": [
    {
     "name": "stdout",
     "output_type": "stream",
     "text": [
      "85.43587291492658 -70.45211155377314\n"
     ]
    },
    {
     "data": {
      "image/png": "[encoded data removed]",
      "text/plain": [
       "<Figure size 432x288 with 1 Axes>"
      ]
     },
     "metadata": {
      "needs_background": "light"
     },
     "output_type": "display_data"
    }
   ],
   "source": [
    "v_fit = f(r)\n",
    "plt.plot(r, v_fit)\n",
    "plt.scatter(r, v)\n",
    "print(H,a)\n",
    "plt.ylabel('v')\n",
    "plt.xlabel('r')\n",
    "plt.title('v-r')\n",
    "plt.show()"
   ]
  },
  {
   "cell_type": "markdown",
   "metadata": {},
   "source": [
    "<font size = 4 color = black face = \"Times New Roman\">This picture doesn't looks very good. It seems that the little values of v dominate this fitting. That's because we're taking 10% of v as the error, which leads to the fact that the smaller the absolute value of v, the smaller the error, and the more dominant the calculation."
   ]
  },
  {
   "cell_type": "markdown",
   "metadata": {},
   "source": [
    "<font size = 4 color = black face = \"Times New Roman\">(5)"
   ]
  },
  {
   "cell_type": "code",
   "execution_count": 230,
   "metadata": {},
   "outputs": [
    {
     "name": "stdout",
     "output_type": "stream",
     "text": [
      "168603.94840233718\n",
      "410.6141113044426\n",
      "8.251567403207645 6.602587168956392\n"
     ]
    }
   ],
   "source": [
    "S = ((f(r) - v)**2).sum()\n",
    "sigma = (S/22)**(0.5)\n",
    "variance = sigma ** 2\n",
    "print(variance)\n",
    "print(sigma)\n",
    "sigma_H = np.sqrt(1 / ((r - r_avg)*r/error**2).sum() )\n",
    "sigma_a = sigma_H * np.sqrt( (r**2/error**2).sum() / (1/error**2).sum() )\n",
    "print(sigma_H, sigma_a)"
   ]
  },
  {
   "cell_type": "markdown",
   "metadata": {},
   "source": [
    "<font size = 4 color = black face = \"Times New Roman\">We get the variance:168604, the standard deviation $\\sigma = 410.61$, $\\sigma_H = 8.25$ and $\\sigma_a = 6.6$. It seems a good solution."
   ]
  },
  {
   "cell_type": "code",
   "execution_count": 231,
   "metadata": {},
   "outputs": [
    {
     "data": {
      "image/png": "[encoded data removed]",
      "text/plain": [
       "<Figure size 432x288 with 1 Axes>"
      ]
     },
     "metadata": {
      "needs_background": "light"
     },
     "output_type": "display_data"
    }
   ],
   "source": [
    "v_fit = f(r)\n",
    "plt.plot(r, v_fit, label = 'r-v')\n",
    "plt.plot(r, v_fit + sigma, label = 'r-v+$\\sigma$')\n",
    "plt.plot(r, v_fit - sigma, label = 'r-v-$\\sigma$')\n",
    "plt.scatter(r, v)\n",
    "plt.ylabel('v')\n",
    "plt.xlabel('r')\n",
    "plt.title('v-r')\n",
    "plt.legend(loc=0,ncol=1)\n",
    "plt.show()"
   ]
  },
  {
   "cell_type": "markdown",
   "metadata": {},
   "source": [
    "<font size = 4 color = black face = \"Times New Roman\"> We can see about 6(about a third) points miss the error band. This is in line with our expectations."
   ]
  },
  {
   "cell_type": "markdown",
   "metadata": {},
   "source": [
    "<font size = 4 color = black face = \"Times New Roman\"> (6)"
   ]
  },
  {
   "cell_type": "code",
   "execution_count": 232,
   "metadata": {},
   "outputs": [
    {
     "name": "stdout",
     "output_type": "stream",
     "text": [
      "5523.327896730666\n"
     ]
    }
   ],
   "source": [
    "x_2 = ((f(r) - v)**2/error**2).sum()\n",
    "print(x_2)"
   ]
  },
  {
   "cell_type": "markdown",
   "metadata": {},
   "source": [
    "<font size = 4 color = black face = \"Times New Roman\">We get $\\chi^2 = 5523$. It means that we get a better fitting, but this is also very large. That's because the error of the points is much large in fact."
   ]
  },
  {
   "cell_type": "markdown",
   "metadata": {},
   "source": [
    "<font size = 4 color = black face = \"Times New Roman\">Conslusion: Using method 1, we can get a relatively pretty picture, but the data we calculate is really awful. While using method 2, we can get an surprising value of $H$ and a lower $\\chi^2$, which means we get a better fitting, but the picture is not very good. Here one explain we can get of that is in Hubble's period, the error of the data is a little big, and the larger the $r$ is, the larger error $\\sigma$ the $v$ has. So when fitting with weighs, the effect of the larger v is small, so we get an accurate $H$."
   ]
  },
  {
   "cell_type": "markdown",
   "metadata": {},
   "source": [
    "<font color=red size=5> Not very reasonable"
   ]
  },
  {
   "cell_type": "markdown",
   "metadata": {},
   "source": [
    "#### **Problem 5**"
   ]
  },
  {
   "cell_type": "code",
   "execution_count": 233,
   "metadata": {},
   "outputs": [],
   "source": [
    "# Define data points.\n",
    "T = np.array([50,100,150,200,400,600,800,1000])\n",
    "k = np.array([28,9.1,4.0,2.7,1.1,0.6,0.4,0.3]) # The data for kappa"
   ]
  },
  {
   "cell_type": "code",
   "execution_count": 234,
   "metadata": {},
   "outputs": [],
   "source": [
    "# Define the linear fitting function\n",
    "def linear_fitting(A,B):\n",
    "    n = len(A)\n",
    "    A_average = np.mean(A)\n",
    "    B_average = np.mean(B)\n",
    "    a_1 = sum((A[i] - A_average) * B[i] for i in range(n)) / sum((A[i] - A_average) * A[i] for i in range(n))\n",
    "    a_0 = B_average - a_1 * A_average\n",
    "    def f(x):\n",
    "        return a_0 + a_1 * x\n",
    "    # The sum of the squares of the residuals\n",
    "    res = sum((B[i] - f(A[i])) ** 2 for i in range(n))\n",
    "    # The standard deviation\n",
    "    s = np.sqrt(res / (n - 2))\n",
    "    return a_0, a_1, res, s"
   ]
  },
  {
   "cell_type": "markdown",
   "metadata": {},
   "source": [
    "#### Power function\n"
   ]
  },
  {
   "cell_type": "markdown",
   "metadata": {},
   "source": [
    "<font size = 4 color = black face = \"Times New Roman\">In this case, $\\kappa = f(T) = aT^b$ thus $ln\\kappa = ln a + blnT.$"
   ]
  },
  {
   "cell_type": "code",
   "execution_count": 235,
   "metadata": {},
   "outputs": [],
   "source": [
    "lnT = np.log(T)\n",
    "lnk = np.log(k)"
   ]
  },
  {
   "cell_type": "code",
   "execution_count": 236,
   "metadata": {},
   "outputs": [
    {
     "name": "stdout",
     "output_type": "stream",
     "text": [
      "8441.641522899785 -1.4940377457085166\n"
     ]
    }
   ],
   "source": [
    "a,b,res,s = linear_fitting(lnT,lnk)\n",
    "print(np.exp(a),b)"
   ]
  },
  {
   "cell_type": "code",
   "execution_count": 237,
   "metadata": {},
   "outputs": [
    {
     "name": "stdout",
     "output_type": "stream",
     "text": [
      "[24.44002188  8.67663672  4.73439432  3.08035832  1.09358127  0.59671104\n",
      "  0.38824054  0.27817216]\n"
     ]
    }
   ],
   "source": [
    "fitting_value_P = np.exp(a) * T ** b\n",
    "print(fitting_value_P)"
   ]
  },
  {
   "cell_type": "code",
   "execution_count": 238,
   "metadata": {},
   "outputs": [
    {
     "data": {
      "image/png": "[encoded data removed]",
      "text/plain": [
       "<Figure size 432x288 with 1 Axes>"
      ]
     },
     "metadata": {
      "needs_background": "light"
     },
     "output_type": "display_data"
    }
   ],
   "source": [
    "x = np.arange(3.5,7.5,0.1)\n",
    "y = a + b * x\n",
    "plt.title('power function method')\n",
    "plt.xlabel(r'$\\ln\\,T$')\n",
    "plt.ylabel(r'$\\ln\\,\\kappa$')\n",
    "plt.plot(x, y) \n",
    "plt.scatter(lnT, lnk, alpha=0.6, color='red')\n",
    "plt.legend(['linear fitting','data'] )\n",
    "plt.show()"
   ]
  },
  {
   "cell_type": "markdown",
   "metadata": {},
   "source": [
    "<font size = 4 color = black face = \"Times New Roman\">Hence $\\kappa = 8441.6T^{-1.5} $ "
   ]
  },
  {
   "cell_type": "markdown",
   "metadata": {},
   "source": [
    "#### Exponential function"
   ]
  },
  {
   "cell_type": "markdown",
   "metadata": {},
   "source": [
    "<font size = 4 color = black face = \"Times New Roman\">In this case, $\\kappa = f(T) = ae^{bT}$ thus $ln\\kappa = ln a + bT.$"
   ]
  },
  {
   "cell_type": "code",
   "execution_count": 239,
   "metadata": {},
   "outputs": [],
   "source": [
    "lnk = np.log(k)"
   ]
  },
  {
   "cell_type": "code",
   "execution_count": 240,
   "metadata": {},
   "outputs": [
    {
     "name": "stdout",
     "output_type": "stream",
     "text": [
      "10.89029722611228 -0.0041571914432840555\n"
     ]
    }
   ],
   "source": [
    "a,b,res,s = linear_fitting(T,lnk)\n",
    "print(np.exp(a),b)"
   ]
  },
  {
   "cell_type": "code",
   "execution_count": 241,
   "metadata": {},
   "outputs": [
    {
     "name": "stdout",
     "output_type": "stream",
     "text": [
      "[8.84641824 7.1861322  5.83744682 4.74188123 2.06472212 0.89902662\n",
      " 0.39145648 0.17044899]\n"
     ]
    }
   ],
   "source": [
    "fitting_value_E = np.exp(a) * np.exp(T * b)\n",
    "print(fitting_value_E)"
   ]
  },
  {
   "cell_type": "code",
   "execution_count": 242,
   "metadata": {},
   "outputs": [
    {
     "data": {
      "image/png": "[encoded data removed]",
      "text/plain": [
       "<Figure size 432x288 with 1 Axes>"
      ]
     },
     "metadata": {
      "needs_background": "light"
     },
     "output_type": "display_data"
    }
   ],
   "source": [
    "x = np.arange(20,1000,0.1)\n",
    "y = a + b * x\n",
    "plt.title('exponential function method')\n",
    "plt.xlabel('$T$')\n",
    "plt.ylabel(r'$\\ln\\,\\kappa$')\n",
    "plt.plot(x, y) \n",
    "plt.scatter(T, lnk, alpha=0.6, color='red')\n",
    "plt.legend(['linear fitting','data'] )\n",
    "plt.show()"
   ]
  },
  {
   "cell_type": "markdown",
   "metadata": {},
   "source": [
    "<font size = 4 color = black face = \"Times New Roman\">Hence $\\kappa = 10.890e^{-0.04T}$"
   ]
  },
  {
   "cell_type": "markdown",
   "metadata": {},
   "source": [
    "#### Saturation function method"
   ]
  },
  {
   "cell_type": "markdown",
   "metadata": {},
   "source": [
    "<font size = 4 color = black face = \"Times New Roman\">In this case, $\\kappa = f(T) = \\dfrac{T}{aT+b}$ thus $\\dfrac{1}{\\kappa} = a + b\\dfrac{1}{T}$."
   ]
  },
  {
   "cell_type": "code",
   "execution_count": 243,
   "metadata": {},
   "outputs": [],
   "source": [
    "one_T = 1. / T\n",
    "one_k = 1. / k"
   ]
  },
  {
   "cell_type": "code",
   "execution_count": 244,
   "metadata": {},
   "outputs": [
    {
     "name": "stdout",
     "output_type": "stream",
     "text": [
      "1.9352560475373126 -131.1677512353447\n"
     ]
    }
   ],
   "source": [
    "a,b,res,s = linear_fitting(one_T,one_k)\n",
    "print(a,b)"
   ]
  },
  {
   "cell_type": "code",
   "execution_count": 245,
   "metadata": {},
   "outputs": [
    {
     "name": "stdout",
     "output_type": "stream",
     "text": [
      "[-1.4532793   1.60364725  0.94268088  0.78160582  0.62214719  0.58253226\n",
      "  0.56455827  0.5542966 ]\n"
     ]
    }
   ],
   "source": [
    "fitting_value_S = T / (a * T + b)\n",
    "print(fitting_value_S)"
   ]
  },
  {
   "cell_type": "code",
   "execution_count": 246,
   "metadata": {},
   "outputs": [
    {
     "data": {
      "image/png": "[encoded data removed]",
      "text/plain": [
       "<Figure size 432x288 with 1 Axes>"
      ]
     },
     "metadata": {
      "needs_background": "light"
     },
     "output_type": "display_data"
    }
   ],
   "source": [
    "x = np.arange(0,0.02,0.0001)\n",
    "y = a + b * x\n",
    "plt.title('saturation function method')\n",
    "plt.xlabel('$1/T$')\n",
    "plt.ylabel('$1/k$')\n",
    "plt.plot(x, y) \n",
    "plt.scatter(one_T, one_k, alpha=0.6, color='red')\n",
    "plt.legend(['linear fitting','data'] )\n",
    "plt.show()"
   ]
  },
  {
   "cell_type": "markdown",
   "metadata": {},
   "source": [
    "<font size = 4 color = black face = \"Times New Roman\">Hence $\\kappa = \\dfrac{T}{1.9 T -131.2 }$"
   ]
  },
  {
   "cell_type": "markdown",
   "metadata": {},
   "source": [
    "#### Conclusion"
   ]
  },
  {
   "cell_type": "code",
   "execution_count": 247,
   "metadata": {},
   "outputs": [
    {
     "name": "stdout",
     "output_type": "stream",
     "text": [
      "T\t\tk\t\tpower\t\texponential\t\tsaturation\n",
      "----------------------------------------------------------------------------------------------------\n",
      "50\t\t28.0\t\t24.440022\t8.846418\t\t-1.453279\n",
      "100\t\t9.1\t\t8.676637\t7.186132\t\t1.603647\n",
      "150\t\t4.0\t\t4.734394\t5.837447\t\t0.942681\n",
      "200\t\t2.7\t\t3.080358\t4.741881\t\t0.781606\n",
      "400\t\t1.1\t\t1.093581\t2.064722\t\t0.622147\n",
      "600\t\t0.6\t\t0.596711\t0.899027\t\t0.582532\n",
      "800\t\t0.4\t\t0.388241\t0.391456\t\t0.564558\n",
      "1000\t\t0.3\t\t0.278172\t0.170449\t\t0.554297\n"
     ]
    }
   ],
   "source": [
    "print('T\\t\\tk\\t\\tpower\\t\\texponential\\t\\tsaturation')\n",
    "print(100 * '-')\n",
    "for i in range(len(T)):\n",
    "    print(f'{T[i]:<.0f}\\t\\t{k[i]}\\t\\t{fitting_value_P[i]:<5f}\\t{fitting_value_E[i]:<5f}\\t\\t{fitting_value_S[i]:<5f}')"
   ]
  },
  {
   "cell_type": "markdown",
   "metadata": {},
   "source": [
    "<font size = 4 color = black face = \"Times New Roman\">From the plot and figures, we are easy to know that power function can best fit the data. Thus $\\kappa = 8441.6T^{-1.5}$"
   ]
  },
  {
   "cell_type": "markdown",
   "metadata": {},
   "source": [
    "<font color=red size=5> 9 points"
   ]
  },
  {
   "cell_type": "markdown",
   "metadata": {},
   "source": [
    "<font color=red size=5> 阅"
   ]
  },
  {
   "cell_type": "code",
   "execution_count": null,
   "metadata": {},
   "outputs": [],
   "source": []
  }
 ],
 "metadata": {
  "kernelspec": {
   "display_name": "Python 3",
   "language": "python",
   "name": "python3"
  },
  "language_info": {
   "codemirror_mode": {
    "name": "ipython",
    "version": 3
   },
   "file_extension": ".py",
   "mimetype": "text/x-python",
   "name": "python",
   "nbconvert_exporter": "python",
   "pygments_lexer": "ipython3",
   "version": "3.7.4"
  }
 },
 "nbformat": 4,
 "nbformat_minor": 4
}
