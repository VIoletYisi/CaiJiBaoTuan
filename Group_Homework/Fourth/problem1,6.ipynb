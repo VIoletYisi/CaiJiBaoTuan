{
 "cells": [
  {
   "cell_type": "code",
   "execution_count": 7,
   "metadata": {},
   "outputs": [],
   "source": [
    "import sys\n",
    "import matplotlib.pyplot as plt\n",
    "import numpy as np\n",
    "import math\n",
    "import scipy.linalg"
   ]
  },
  {
   "cell_type": "markdown",
   "metadata": {},
   "source": [
    "<font size = 3 color = black face = \"Times New Roman\">Problem 1"
   ]
  },
  {
   "cell_type": "markdown",
   "metadata": {},
   "source": [
    "$x_{n + 1} = g(x_n)$  \n",
    "$g(x) = {{1}\\over{2}}(x + {{a^2}\\over{x}})$  \n",
    "$x_{n+1} = {{1}\\over{2}}(x_n+{{a^2}\\over{x_n}})\\geq{a}$  \n",
    "<font size = 3 color = black face = \"Times New Roman\">so no matter what ${x_1}$ we choose, $x_2, x_3$... must be larger than $a$  \n",
    "$g^{'}(x) = {{1}\\over{2}}(1 - {{a^2}\\over{x^2}})$   \n",
    "<font size = 3 color = black face = \"Times New Roman\">so if $x_n>a$, we can deduce that $g^{'}(x_n)<{{1}\\over{2}}$ and $a<x_{n+1}<x_n$  \n",
    "${x_{n+1}-x^*}\\over{x_n-x^*}$ $=$ ${g'({\\xi_n})(x_n-x^*)}\\over{x_n-x^*} $$= g'({\\xi_n})$  \n",
    "<font size = 3 color = black face = \"Times New Roman\">easy to get ${x_{n}-x^*} < ({{1}\\over{2}})^{n-2}(x_2-x^*)$  \n",
    "$\\lim_\\limits{n\\to \\infty}{x_{n}-x^*} = 0$  \n",
    "$\\lim_\\limits{n\\to \\infty}x_n = x^* = a$  \n",
    "until now, we have proved that $x_n$ must converge to $a$"
   ]
  },
  {
   "cell_type": "markdown",
   "metadata": {},
   "source": [
    "<font size = 3 color = black face = \"Times New Roman\">now let's prove the convergence is quadratic  \n",
    "${g'({x^*}) = g'(a) = {{1}\\over{2}}(a - a) = 0 } $  \n",
    "$g''(x) = {{a^2}\\over{x^3}}$ and $g''(x^*) = {{1}\\over{a}} \\neq 0$  \n",
    "so the convergence is quadratic"
   ]
  },
  {
   "cell_type": "markdown",
   "metadata": {},
   "source": [
    "<font size = 3 color = black face = \"Times New Roman\">Problem 6"
   ]
  },
  {
   "cell_type": "code",
   "execution_count": 8,
   "metadata": {},
   "outputs": [],
   "source": [
    "n = 3\n",
    "A = np.ones((n,n))\n",
    "for i in range(n):\n",
    "    for j in range(n):\n",
    "        if i == j:\n",
    "            A[i][j] = i+1\n",
    "b = np.zeros((n,1))\n",
    "for i in range(n):\n",
    "    for j in range(n):\n",
    "        b[i] = b[i] + A[i][j] * (j + 1)"
   ]
  },
  {
   "cell_type": "code",
   "execution_count": 9,
   "metadata": {},
   "outputs": [
    {
     "data": {
      "text/plain": [
       "array([[1.],\n",
       "       [2.],\n",
       "       [3.]])"
      ]
     },
     "execution_count": 9,
     "metadata": {},
     "output_type": "execute_result"
    }
   ],
   "source": [
    "lu, piv = scipy.linalg.lu_factor(A)\n",
    "x = scipy.linalg.lu_solve((lu,piv), b)\n",
    "x"
   ]
  },
  {
   "cell_type": "code",
   "execution_count": 16,
   "metadata": {},
   "outputs": [
    {
     "data": {
      "text/plain": [
       "array([[1.],\n",
       "       [2.],\n",
       "       [3.]])"
      ]
     },
     "execution_count": 16,
     "metadata": {},
     "output_type": "execute_result"
    }
   ],
   "source": [
    "L = np.linalg.cholesky(A)\n",
    "y = scipy.linalg.solve(L, b)\n",
    "x = scipy.linalg.solve(L.T, y)\n",
    "x"
   ]
  },
  {
   "cell_type": "code",
   "execution_count": null,
   "metadata": {},
   "outputs": [],
   "source": []
  }
 ],
 "metadata": {
  "kernelspec": {
   "display_name": "Python 3",
   "language": "python",
   "name": "python3"
  },
  "language_info": {
   "codemirror_mode": {
    "name": "ipython",
    "version": 3
   },
   "file_extension": ".py",
   "mimetype": "text/x-python",
   "name": "python",
   "nbconvert_exporter": "python",
   "pygments_lexer": "ipython3",
   "version": "3.7.4"
  }
 },
 "nbformat": 4,
 "nbformat_minor": 4
}