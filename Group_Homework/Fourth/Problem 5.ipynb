{
 "nbformat": 4,
 "nbformat_minor": 2,
 "metadata": {
  "language_info": {
   "name": "python",
   "codemirror_mode": {
    "name": "ipython",
    "version": 3
   },
   "version": "3.7.4-final"
  },
  "orig_nbformat": 2,
  "file_extension": ".py",
  "mimetype": "text/x-python",
  "name": "python",
  "npconvert_exporter": "python",
  "pygments_lexer": "ipython3",
  "version": 3,
  "kernelspec": {
   "name": "python3",
   "display_name": "Python 3"
  }
 },
 "cells": [
  {
   "cell_type": "markdown",
   "metadata": {},
   "source": [
    "### Problem 5\n"
   ]
  },
  {
   "cell_type": "markdown",
   "metadata": {},
   "source": [
    "5. Consider a linear $2\\times 2$ system (with unknowns $x_1$ and $x_2$) described by its augmented matrix \n",
    "    $$\n",
    "    \\begin{bmatrix}\n",
    "    \\left.\\begin{matrix}\\varepsilon & 1\\\\\n",
    "    1 & 1\n",
    "    \\end{matrix}\\right\\vert\n",
    "    \\begin{matrix}\n",
    "    2\\\\\n",
    "    1\n",
    "    \\end{matrix}\\end{bmatrix}\n",
    "    $$\n",
    "    where $\\epsilon > 0$ is a very small constant.\n",
    "\n",
    "    a) Solve by Gauss elimination without partial pivoting.\n",
    "\n",
    "    b) Solve by Gauss elimination with partial pivoting. Compare the results and discuss their validity."
   ]
  },
  {
   "cell_type": "markdown",
   "metadata": {},
   "source": [
    "#### Question a"
   ]
  },
  {
   "cell_type": "markdown",
   "metadata": {},
   "source": [
    "Here we have \n",
    "$$\n",
    "\\epsilon x_1 + x_2 = 2\\\\\n",
    "x_1 + x_2 = 1\n",
    "$$\n",
    "Then we can get\n",
    "$$\n",
    "(1 - \\frac{1}{\\epsilon})x_2 = 1 - \\frac{2}{\\epsilon}\\\\\n",
    "x_2 = 1 + \\frac{1}{1 - \\epsilon}\\\\\n",
    "x_1 = \\frac{2 - x_2}{\\epsilon}\n",
    "$$\n",
    "Then we will use code to test the answer."
   ]
  },
  {
   "cell_type": "code",
   "execution_count": 1,
   "metadata": {},
   "outputs": [],
   "source": [
    "import numpy as np"
   ]
  },
  {
   "cell_type": "code",
   "execution_count": 2,
   "metadata": {},
   "outputs": [
    {
     "output_type": "stream",
     "name": "stdout",
     "text": "[1.e-01 1.e-02 1.e-03 1.e-04 1.e-05 1.e-06 1.e-07 1.e-08 1.e-09 1.e-10]\n"
    }
   ],
   "source": [
    "# define the test values (for epsilon)\n",
    "test_values = np.ones((10,))\n",
    "for i in range(10):\n",
    "    test_values[i] = 1. * 10 ** (-i - 1)"
   ]
  },
  {
   "cell_type": "code",
   "execution_count": 4,
   "metadata": {},
   "outputs": [
    {
     "output_type": "stream",
     "name": "stdout",
     "text": "x1\t\t\tx2\n-1.1111111111111116 \t2.111111111111111   \n-1.0101010101010388 \t2.0101010101010104  \n-1.0010010010010895 \t2.001001001001001   \n-1.0001000099979507 \t2.000100010001      \n-1.0000100000961964 \t2.000010000100001   \n-1.0000010002286785 \t2.0000010000010002  \n-1.0000001005039394 \t2.00000010000001    \n-0.999999993922529  \t2.00000001          \n-1.000000082740371  \t2.000000001         \n-1.000000082740371  \t2.0000000001        \n"
    }
   ],
   "source": [
    "x1 = np.ones((10,))\n",
    "x2 = np.ones((10,))\n",
    "print('x1\\t\\t\\tx2')\n",
    "for i in range(10):\n",
    "    x2[i] = 1 + 1 / (1 - test_values[i])\n",
    "    x1[i] = (2 - x2[i]) / test_values[i]\n",
    "    print(f'{x1[i]:<20}\\t{x2[i]:<20}')"
   ]
  },
  {
   "cell_type": "markdown",
   "metadata": {},
   "source": [
    "#### <font size = 4 color = black face = \"Times New Roman\">Question b"
   ]
  },
  {
   "cell_type": "markdown",
   "metadata": {},
   "source": [
    "<font size = 4 color = black face = \"Times New Roman\">Here we have \n",
    "$$\n",
    "x_1 + x_2 = 1\n",
    "\\epsilon x_1 + x_2 = 2\\\\\n",
    "$$\n",
    "Then we can get\n",
    "$$\n",
    "(1 - \\epsilon)x_2 = 2 - \\epsilon\\\\\n",
    "x_2 = 1 + \\frac{1}{1 - \\epsilon}\\\\\n",
    "x_1 = 1 - x_2\n",
    "$$\n",
    "<font size = 4 color = black face = \"Times New Roman\">Then we will use code to test the answer."
   ]
  },
  {
   "cell_type": "code",
   "execution_count": 5,
   "metadata": {},
   "outputs": [
    {
     "output_type": "stream",
     "name": "stdout",
     "text": "-1.1111111111111112 \t2.111111111111111   \n-1.0101010101010104 \t2.0101010101010104  \n-1.001001001001001  \t2.001001001001001   \n-1.0001000100009998 \t2.000100010001      \n-1.000010000100001  \t2.000010000100001   \n-1.0000010000010002 \t2.0000010000010002  \n-1.00000010000001   \t2.00000010000001    \n-1.00000001         \t2.00000001          \n-1.000000001        \t2.000000001         \n-1.0000000001       \t2.0000000001        \n"
    }
   ],
   "source": [
    "for i in range(10):\n",
    "    x2[i] = 1 + 1 / (1 - test_values[i])\n",
    "    x1[i] = 1 - x2[i]\n",
    "    print(f'{x1[i]:<20}\\t{x2[i]:<20}')"
   ]
  },
  {
   "cell_type": "markdown",
   "metadata": {},
   "source": [
    "<font size = 4 color = black face = \"Times New Roman\">Comparing the two methods, it is not difficult to see that the results of the second method are more accurate. In addition, the use of the second method can avoid the error caused by the very small value of epsilon. Because it doesn't have to divide into epsilon in the calculation."
   ]
  }
 ]
}