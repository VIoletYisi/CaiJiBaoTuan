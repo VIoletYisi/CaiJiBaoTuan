{
 "cells": [
  {
   "cell_type": "markdown",
   "metadata": {},
   "source": [
    "### Problem 3"
   ]
  },
  {
   "cell_type": "markdown",
   "metadata": {},
   "source": [
    "<font size = 3 color = black face = \"Times New Roman\">Our problem is to find the bond length of the diatomic molecule NaCl (sodium chloride) from the interaction potential between the two ions.  The bond length $r_{\\text{eq}}$ is the equilibrium distance when $V\\left(  r\\right)$ is at its minimum. \n",
    "    \n",
    "<font size = 3 color = black face = \"Times New Roman\">We have the potential model $V(r)=-\\dfrac{e^2}{r}+V_0e^{-r/r_0}$ and related parameters $e^2=14.4$ $\\text{Å}\\cdot eV$, $V_0=1.09\\times 10^3 \\text{ eV}$, $r_0=0.330\\text{ Å}$. "
   ]
  },
  {
   "cell_type": "code",
   "execution_count": 4,
   "metadata": {},
   "outputs": [],
   "source": [
    "# Enter related parameters.\n",
    "e_e = 14.4 # Å.eV\n",
    "V_0 = 1.09 * 10 ** 3 # eV\n",
    "r_0 = 0.330 # Å"
   ]
  },
  {
   "cell_type": "markdown",
   "metadata": {},
   "source": [
    "<font size = 3 color = black face = \"Times New Roman\"> To get the minimum of $V(r)$, it's actual solving the equation $V'(r) = 0$. Here we choose Newton's method to solve this equation, and therefore, we requires the first and second order derivative for $V(r)$. Let $f(r) = V'(r)$, then $f'(r) = V''(r)$. Firstly, let's get $f(r)$ and $f'(r)$ by direct mathematical calculation.\n",
    "$$\n",
    "f(r) = V'(r) = \\dfrac{e^2}{r^2}-\\dfrac{V_0}{r_0}e^{-r/r_0}\n",
    "$$\n",
    "As a result,\n",
    "$$\n",
    "f(r) = V'(r) = -\\dfrac{2e^2}{r^3}+ \\dfrac{V_0}{{r_0}^2}e^{-r/r_0}\n",
    "$$"
   ]
  },
  {
   "cell_type": "code",
   "execution_count": 2,
   "metadata": {},
   "outputs": [],
   "source": [
    "# Entering the original function and its first and second order derivative.\n",
    "import numpy as np\n",
    "def V(r): # Original function\n",
    "    return - e_e / r + V_0 * np.exp(- r / r_0)\n",
    "\n",
    "def f(r): # First order derivative\n",
    "    return e_e / r**2 - (V_0 * np.exp(- r / r_0)) / r_0\n",
    "\n",
    "def dfdr(r): # Second order derivative\n",
    "    return -2 * e_e / r**3 + (V_0 * np.exp(- r / r_0)) / (r_0 ** 2)"
   ]
  },
  {
   "cell_type": "markdown",
   "metadata": {},
   "source": [
    "<font size = 3 color = black face = \"Times New Roman\"> Since we assume when $V(r)$ is at its minimum, $r = r_{eq}$, so $f(r_{eq}) = 0$. Then,  let's plot the plot  $f(r)$ as a function of $r$ to have a general idea where $r_{\\text{eq}}$, the zero point for $f(r)$, locates."
   ]
  },
  {
   "cell_type": "code",
   "execution_count": 13,
   "metadata": {},
   "outputs": [
    {
     "data": {
      "image/png": "[encoded data removed]",
      "text/plain": [
       "<Figure size 432x288 with 1 Axes>"
      ]
     },
     "metadata": {
      "needs_background": "light"
     },
     "output_type": "display_data"
    }
   ],
   "source": [
    "r = np.linspace(0.05, 10, 1000)\n",
    "plt.plot(r, f(r))\n",
    "plt.title('Plot of f(r) as a function of r')\n",
    "plt.xlabel('r(Å)')\n",
    "plt.ylabel('f(r)')\n",
    "plt.ylim([-1,1]) # Limit the range of y to have a better look at the zero points.\n",
    "plt.axhline(y=0)\n",
    "plt.show()"
   ]
  },
  {
   "cell_type": "markdown",
   "metadata": {},
   "source": [
    "<font size = 3 color = black face = \"Times New Roman\">There seems to exist more than zero points. Since for the first zero point $f(r)>0$ before it goes to zero, it actually indicates a maximum point. On the other hand, for the second one $f(r)<0$ before it goes to zero, so it corresponds to the minimum point. Clearly, the second one is what we actually want. As a result we limit the section chosen to $[2,4]$ and do another plotting."
   ]
  },
  {
   "cell_type": "code",
   "execution_count": 146,
   "metadata": {},
   "outputs": [
    {
     "data": {
      "image/png": "[encoded data removed]",
      "text/plain": [
       "<Figure size 432x288 with 1 Axes>"
      ]
     },
     "metadata": {
      "needs_background": "light"
     },
     "output_type": "display_data"
    }
   ],
   "source": [
    "r = np.linspace(2, 4, 1000)\n",
    "plt.plot(r, f(r))\n",
    "plt.title('Plot of V(r) as a function of r')\n",
    "plt.xlabel('r(Å)')\n",
    "plt.ylabel('V(r)')\n",
    "plt.ylim([-1,1]) # Limit the range of y to have a better look at the zero points.\n",
    "plt.axhline(y=0)\n",
    "plt.show()"
   ]
  },
  {
   "cell_type": "markdown",
   "metadata": {},
   "source": [
    "<font size = 3 color = black face = \"Times New Roman\">From the plotting above we can find $r_{eq}$ is in the section $[2,2.5]$.\n",
    "    \n",
    "<font size = 3 color = black face = \"Times New Roman\"> **Here we use the stragety given in the lecture note: Newton Raphson Algorithm**"
   ]
  },
  {
   "cell_type": "code",
   "execution_count": 181,
   "metadata": {},
   "outputs": [],
   "source": [
    "import sys\n",
    "def minimum_finder(g, f, dfdx, x, eps): \n",
    "    g_value = g(x) \n",
    "    f_value = f(x)\n",
    "    temp_g = g(x) + 1 \n",
    "    iteration_counter = 0\n",
    "    temp_x = x - 1 # Set an initial value for temp_x.\n",
    "\n",
    "    while abs(x - temp_x) > eps and iteration_counter < 100:\n",
    "        try:\n",
    "            temp_x = x # Store the previous value for x.\n",
    "            delta_x = - f_value/dfdx(x)\n",
    "            if g(x + delta_x) > g(x): # Test whether the operation makes g(x) larger.\n",
    "                delta_x = -delta_x # Inverse the sign for delta_X if it makes x farther from the solution.\n",
    "            x = x + delta_x\n",
    "        except ZeroDivisionError: # Dealing with the zerodivision error.\n",
    "            print('Error! - derivative zero for x = {:g}'.format(x))\n",
    "            sys.exit(1) \n",
    "        f_value = f(x)\n",
    "        iteration_counter += 1\n",
    "        \n",
    "    if abs(x - temp_x) > eps: # Not convergent.\n",
    "        iteration_counter = -1  \n",
    "    return x, iteration_counter"
   ]
  },
  {
   "cell_type": "code",
   "execution_count": 196,
   "metadata": {},
   "outputs": [
    {
     "name": "stdout",
     "output_type": "stream",
     "text": [
      "(2.3605384841577854, 11)\n",
      "(2.3605384841577943, 11)\n",
      "(2.3605384841577943, 7)\n",
      "(2.3605384841577943, 6)\n",
      "(2.3605384841577943, 11)\n"
     ]
    }
   ],
   "source": [
    "eps = 10 ** (-10) # Set the tolerance epsilon. \n",
    "print(minimum_finder(V, f, dfdr, x = 0.2, eps = 10 **(-10)))  \n",
    "print(minimum_finder(V, f, dfdr, x = 0.5, eps = 10 **(-10)))  \n",
    "print(minimum_finder(V, f, dfdr, x = 2, eps = 10 **(-10)))\n",
    "print(minimum_finder(V, f, dfdr, x = 2.5, eps = 10 **(-10))) \n",
    "print(minimum_finder(V, f, dfdr, x = 15, eps = 10 **(-10)))  "
   ]
  },
  {
   "cell_type": "markdown",
   "metadata": {},
   "source": [
    "<font size = 3 color = black face = \"Times New Roman\">Now,we get the result we want: $r_{eq} \\approx 2.3605384841577943Å$. However, we can find that the solution can be affected by the initial points chosen. Therefore, though this program can find the solution even though x is not very close to the point, we should still be careful when choosing the initial point, for instance, x = 0.1 may fail to get the correct answer."
   ]
  },
  {
   "cell_type": "markdown",
   "metadata": {},
   "source": [
    "<font size = 3 color = black face = \"Times New Roman\">Finally, let's compare the result with the results from Python package `scipy.optimize`"
   ]
  },
  {
   "cell_type": "code",
   "execution_count": 206,
   "metadata": {},
   "outputs": [
    {
     "name": "stdout",
     "output_type": "stream",
     "text": [
      "      fun: -5.247489118539933\n",
      " hess_inv: array([[0.17640446]])\n",
      "      jac: array([-2.32458115e-06])\n",
      "  message: 'Optimization terminated successfully.'\n",
      "     nfev: 36\n",
      "      nit: 11\n",
      "     njev: 12\n",
      "   status: 0\n",
      "  success: True\n",
      "        x: array([2.36053806])\n",
      "\n",
      "      fun: -5.24748911853978\n",
      " hess_inv: array([[0.17610372]])\n",
      "      jac: array([2.74181366e-06])\n",
      "  message: 'Optimization terminated successfully.'\n",
      "     nfev: 36\n",
      "      nit: 7\n",
      "     njev: 12\n",
      "   status: 0\n",
      "  success: True\n",
      "        x: array([2.36053897])\n",
      "\n",
      "      fun: -5.247489118540433\n",
      " hess_inv: array([[0.1773858]])\n",
      "      jac: array([0.])\n",
      "  message: 'Optimization terminated successfully.'\n",
      "     nfev: 18\n",
      "      nit: 4\n",
      "     njev: 6\n",
      "   status: 0\n",
      "  success: True\n",
      "        x: array([2.36053848])\n",
      "\n",
      "      fun: -5.247489118537127\n",
      " hess_inv: array([[0.17581081]])\n",
      "      jac: array([6.19888306e-06])\n",
      "  message: 'Optimization terminated successfully.'\n",
      "     nfev: 18\n",
      "      nit: 4\n",
      "     njev: 6\n",
      "   status: 0\n",
      "  success: True\n",
      "        x: array([2.36053957])\n",
      "\n",
      "      fun: -5.2474891185404315\n",
      " hess_inv: array([[0.17751944]])\n",
      "      jac: array([1.78813934e-07])\n",
      "  message: 'Optimization terminated successfully.'\n",
      "     nfev: 63\n",
      "      nit: 4\n",
      "     njev: 21\n",
      "   status: 0\n",
      "  success: True\n",
      "        x: array([2.36053851])\n",
      "\n"
     ]
    }
   ],
   "source": [
    "from scipy import optimize\n",
    "for r in [0.5, 2, 2.3, 2.5, 15]:\n",
    "    sol_scipy = optimize.minimize(V, r)\n",
    "    print('{}\\n'.format(sol_scipy))"
   ]
  },
  {
   "cell_type": "markdown",
   "metadata": {},
   "source": [
    "<font size = 3 color = black face = \"Times New Roman\"> We can see the results is in line with our solutions for the first several significant numbers. But this solution can is not stable if I choose different initial guess.The initial guess closest to the final results gives rise to the result almost the same with our result, but still not so accurate. **In a word, our result is correst, and  $r_{eq} \\approx 2.3605384841577943Å$.**"
   ]
  },
  {
   "cell_type": "markdown",
   "metadata": {},
   "source": [
    "### Problem 4"
   ]
  },
  {
   "cell_type": "markdown",
   "metadata": {},
   "source": [
    "#### a)"
   ]
  },
  {
   "cell_type": "markdown",
   "metadata": {},
   "source": [
    "<font size = 3 color = black face = \"Times New Roman\">Since the nonlinear system is  \n",
    "$$\n",
    "\\begin{cases}\n",
    "2e^x+y=0\\\\\n",
    "3x^2+4y^2=8\n",
    "\\end{cases}\n",
    "$$\n",
    "We do two plottings and check their crossing point to locate the root graphically. Firstly, we need to convert two equations into two functions. For the first equation:$$y_1 = -2e^x$$\n",
    "From the first equation we can find that the crossing points can only occur for when $y<0$ since $y_1$ is always smaller than 0. Therefor, for the second equation, when $y<0$\n",
    "$$\n",
    "y_2 = -\\dfrac{\\sqrt{8 - 3x^2}}{2}\n",
    "$$\n",
    "From $y_2$ we can find x is constrained in $[-\\dfrac{2\\sqrt{6}}{3}, \\dfrac{2\\sqrt{6}}{3}]$"
   ]
  },
  {
   "cell_type": "code",
   "execution_count": 272,
   "metadata": {},
   "outputs": [
    {
     "data": {
      "image/png": "[encoded data removed]",
      "text/plain": [
       "<Figure size 432x288 with 1 Axes>"
      ]
     },
     "metadata": {
      "needs_background": "light"
     },
     "output_type": "display_data"
    }
   ],
   "source": [
    "import numpy as np\n",
    "x = np.linspace(- 2*np.sqrt(6)/3, 2*np.sqrt(6)/3)\n",
    "y1 = -2*np.exp(x)\n",
    "y2 = - (8-3*x**2)**(1/2)/2\n",
    "plt.plot(x, y1, color = 'r')\n",
    "plt.plot(x, y2, color = 'b')\n",
    "plt.title(r'Plot of $y_1,y_2$ as a function of x')\n",
    "plt.xlabel('x')\n",
    "plt.ylabel('y')\n",
    "plt.ylim([-1.5, 1])\n",
    "plt.legend([r'$y_1$',r'$y_2$'])\n",
    "plt.show()"
   ]
  },
  {
   "cell_type": "markdown",
   "metadata": {},
   "source": [
    "<font size = 3 color = black face = \"Times New Roman\"> From the figure, we can find that the crossing points are between $[-2, -1.5]$ and $[-0.5, 0]$ respectively. "
   ]
  },
  {
   "cell_type": "markdown",
   "metadata": {},
   "source": [
    "#### b)"
   ]
  },
  {
   "cell_type": "markdown",
   "metadata": {},
   "source": [
    "<font size = 3 color = black face = \"Times New Roman\"> To solve this set of nonlinear equations, we still use Newton's method. First, we need to determine the original matrix F and its corresponding Jacobi matrix J. Since the matrix is not so difficult, we calculate it directly."
   ]
  },
  {
   "cell_type": "markdown",
   "metadata": {},
   "source": [
    "<font size = 3 color = black face = \"Times New Roman\"> The original matrix\n",
    "    $$F = \\left( \\begin{matrix} f_1 \\\\ f_2 \\end{matrix} \\right) = \\left( \\begin{matrix} 2e^x+y \\\\ 3x^2+4y^2-8 \\end{matrix} \\right) $$\n",
    "The Jacobian matrix\n",
    "     $$J = \\left( \\begin{matrix} \\dfrac{\\partial f_1}{\\partial x} & \\dfrac{\\partial f_1}{\\partial y} \\\\ \\dfrac{\\partial f_2}{\\partial x} & \\dfrac{\\partial f_2}{\\partial y} \\end{matrix} \\right) = \\left( \\begin{matrix} 2e^x & 1 \\\\ 6x & 8y \\end{matrix} \\right)$$"
   ]
  },
  {
   "cell_type": "code",
   "execution_count": 5,
   "metadata": {},
   "outputs": [],
   "source": [
    "# Entering F and J\n",
    "def F(x):\n",
    "    return np.array(\n",
    "        [2*np.exp(x[0]) + x[1],\n",
    "         3*x[0]**2 + 4*x[1]**2 - 8])\n",
    "def J(x):\n",
    "    return np.array(\n",
    "        [[2*np.exp(x[0]), 1],\n",
    "        [6*x[0], 8*x[1]]])"
   ]
  },
  {
   "cell_type": "code",
   "execution_count": 25,
   "metadata": {},
   "outputs": [],
   "source": [
    "import numpy as np\n",
    "def Newton_system(F, J, x, eps):\n",
    "    F_value = F(x)\n",
    "    F_norm = np.linalg.norm(F_value, ord=2) # l2 norm of vector\n",
    "    iteration_counter = 0\n",
    "    \n",
    "    while abs(F_norm) > eps and iteration_counter < 100: # Use the norm to judge to accuracy.\n",
    "        delta_x = np.linalg.solve(J(x), -F_value) #Solve delta_x from F_value + J(x)*delta_x = 0\n",
    "        x = x + delta_x\n",
    "        F_value = F(x)\n",
    "        F_norm = np.linalg.norm(F_value, ord=2)\n",
    "        iteration_counter = iteration_counter + 1\n",
    "        \n",
    "    if abs(F_norm) > eps: # Not convergent.\n",
    "        iteration_counter = -1\n",
    "    return x, iteration_counter"
   ]
  },
  {
   "cell_type": "code",
   "execution_count": 16,
   "metadata": {},
   "outputs": [
    {
     "name": "stdout",
     "output_type": "stream",
     "text": [
      "(array([-1.55907909, -0.42065935]), 5)\n",
      "(array([-1.55907909, -0.42065935]), 3)\n",
      "(array([-0.37342874, -1.37674007]), 4)\n",
      "(array([-0.37342874, -1.37674007]), 4)\n"
     ]
    }
   ],
   "source": [
    "# Try multiple initial values and set the accuracy 10e-8\n",
    "print(Newton_system(F, J, x=np.array([-3, -0.5]), eps=10**(-8))) \n",
    "print(Newton_system(F, J, x=np.array([-1.5, -0.5]), eps=10**(-8)))\n",
    "print(Newton_system(F, J, x=np.array([-0.5, -1.2]), eps=10**(-8)))\n",
    "print(Newton_system(F, J, x=np.array([-0, -1.5]), eps=10**(-8)))"
   ]
  },
  {
   "cell_type": "markdown",
   "metadata": {},
   "source": [
    "<font size = 3 color = black face = \"Times New Roman\"> Finally, we get the two sets of solutions:\n",
    "$$\n",
    "\\begin{cases}\n",
    "x_1 = -1.55907909\\\\\n",
    "y_1 =-0.42065935\n",
    "\\end{cases}\n",
    "\\begin{cases}\n",
    "x_2 = -0.37342874\\\\\n",
    "y_2 =-1.376740075\n",
    "\\end{cases}\n",
    "$$"
   ]
  },
  {
   "cell_type": "markdown",
   "metadata": {},
   "source": [
    "<font size = 3 color = black face = \"Times New Roman\">Finally, let's compare the result with the results from Python package `scipy.optimize`"
   ]
  },
  {
   "cell_type": "code",
   "execution_count": 24,
   "metadata": {},
   "outputs": [
    {
     "name": "stdout",
     "output_type": "stream",
     "text": [
      "[-1.55907909 -0.42065935]\n",
      "[-0.37342874 -1.37674007]\n"
     ]
    }
   ],
   "source": [
    "from scipy.optimize import fsolve\n",
    "import numpy as np\n",
    "import math\n",
    "print(fsolve(F, [-1.5, -0.5] ))\n",
    "print(fsolve(F, [-0.5, -1.2] ))"
   ]
  },
  {
   "cell_type": "markdown",
   "metadata": {},
   "source": [
    "<font size = 3 color = black face = \"Times New Roman\">We can find that these results are in line with our results. It proves that our results are accurate."
   ]
  },
  {
   "cell_type": "code",
   "execution_count": null,
   "metadata": {},
   "outputs": [],
   "source": []
  }
 ],
 "metadata": {
  "kernelspec": {
   "display_name": "Python 3",
   "language": "python",
   "name": "python3"
  },
  "language_info": {
   "codemirror_mode": {
    "name": "ipython",
    "version": 3
   },
   "file_extension": ".py",
   "mimetype": "text/x-python",
   "name": "python",
   "nbconvert_exporter": "python",
   "pygments_lexer": "ipython3",
   "version": "3.7.4"
  }
 },
 "nbformat": 4,
 "nbformat_minor": 4
}
