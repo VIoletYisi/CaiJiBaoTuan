{
 "cells": [
  {
   "cell_type": "markdown",
   "metadata": {},
   "source": [
    "## Group Assignment Week 8"
   ]
  },
  {
   "cell_type": "code",
   "execution_count": 1,
   "metadata": {},
   "outputs": [],
   "source": [
    "import numpy as np\n",
    "import math"
   ]
  },
  {
   "cell_type": "markdown",
   "metadata": {},
   "source": [
    "#### Problem 1"
   ]
  },
  {
   "cell_type": "code",
   "execution_count": 2,
   "metadata": {},
   "outputs": [],
   "source": [
    "# Define the data\n",
    "year = np.arange(1994,2010,1)\n",
    "year_norm = year - year.mean() \n",
    "ppm = np.array([356.8,358.2,360.3,361.8,364.0,365.7,366.7,368.2,370.5,372.2,374.9,376.7,378.7,381.0,382.9,384.7])"
   ]
  },
  {
   "cell_type": "code",
   "execution_count": 3,
   "metadata": {},
   "outputs": [],
   "source": [
    "# Define the linear fitting function\n",
    "def lineFit(x, y):\n",
    "    xavg = x.mean()\n",
    "    slope = (y * (x-xavg)).sum()/(x * (x-xavg)).sum()\n",
    "    yint = y.mean() - slope*xavg\n",
    "    return slope, yint, xavg"
   ]
  },
  {
   "cell_type": "code",
   "execution_count": 4,
   "metadata": {},
   "outputs": [
    {
     "output_type": "stream",
     "name": "stdout",
     "text": "a = 1.872205882352939\nb = 370.20624999999995\n"
    }
   ],
   "source": [
    "a, b, c =lineFit(year_norm,ppm)\n",
    "print(f'a = {a}\\nb = {b}')"
   ]
  },
  {
   "cell_type": "markdown",
   "metadata": {},
   "source": [
    "<font size = 3 color = black face = \"Times New Roman\">The average increase of the concentration per year is 1.872205882352939 "
   ]
  },
  {
   "cell_type": "markdown",
   "metadata": {},
   "source": [
    "#### Problem 2"
   ]
  },
  {
   "cell_type": "markdown",
   "metadata": {},
   "source": [
    "<font size = 3 color = black face = \"Times New Roman\">We can think this problem as $f(x) = a_0f_0(x)+a_1f_1(x)$"
   ]
  },
  {
   "cell_type": "code",
   "execution_count": 5,
   "metadata": {},
   "outputs": [],
   "source": [
    "# Define the data.\n",
    "x = np.array([-0.5,-0.19,0.02,0.20,0.35,0.50])\n",
    "y = np.array([-3.558,-2.874,-1.995,-1.040,-0.068,0.677])\n",
    "f_0 = np.sin(math.pi * x / 2 )\n",
    "f_1 = np.cos(math.pi * x / 2 )"
   ]
  },
  {
   "cell_type": "markdown",
   "metadata": {},
   "source": [
    "#### Normal equation method."
   ]
  },
  {
   "cell_type": "code",
   "execution_count": 6,
   "metadata": {},
   "outputs": [],
   "source": [
    "# Defin two matrixs.\n",
    "A = np.array([[(f_0 * f_0).sum(), (f_0 * f_1).sum()],[(f_0 * f_1).sum(), (f_1 * f_1).sum()]])\n",
    "b_matrix = np.array([(f_0 * y).sum(), (f_1 * y).sum()])"
   ]
  },
  {
   "cell_type": "code",
   "execution_count": 7,
   "metadata": {},
   "outputs": [
    {
     "output_type": "stream",
     "name": "stdout",
     "text": "a = [263.83782136 -28.43591508]\nb = [-28.43591508  84.53518306]\n"
    }
   ],
   "source": [
    "a_matrix =  np.dot(np.linalg.inv(A),b)\n",
    "print(f'a = {a_matrix[0]}\\nb = {a_matrix[1]}')"
   ]
  },
  {
   "cell_type": "markdown",
   "metadata": {},
   "source": [
    "#### QR method."
   ]
  },
  {
   "cell_type": "code",
   "execution_count": 8,
   "metadata": {},
   "outputs": [],
   "source": [
    "# Define two matrices.\n",
    "A = np.zeros((6,2))\n",
    "for i in range (6):\n",
    "    A[i][0] = f_0[i]\n",
    "    A[i][1] = f_1[i]\n",
    "b_matrix = y.copy()"
   ]
  },
  {
   "cell_type": "code",
   "execution_count": 9,
   "metadata": {},
   "outputs": [
    {
     "output_type": "stream",
     "name": "stdout",
     "text": "a = 3.038490530950666\nb = -2.0495596632192274\n"
    }
   ],
   "source": [
    "q,r = np.linalg.qr(A)\n",
    "p = np.dot(q.T , b_matrix)\n",
    "a_matrix = np.dot(np.linalg.inv(r),p)\n",
    "print(f'a = {a_matrix[0]}\\nb = {a_matrix[1]}')"
   ]
  },
  {
   "cell_type": "markdown",
   "metadata": {},
   "source": [
    "<font size = 3 color = black face = \"Times New Roman\">We can see that the results of these two methods are almost exactly the same, with only a small error, so these two methods can solve the problem well and get a good result."
   ]
  },
  {
   "cell_type": "markdown",
   "metadata": {},
   "source": [
    "#### Problem 3\n"
   ]
  },
  {
   "cell_type": "markdown",
   "metadata": {},
   "source": [
    "#### Question 1"
   ]
  },
  {
   "cell_type": "markdown",
   "metadata": {},
   "source": [
    "$f(x,y)= a + bx + cy$\n",
    "\n",
    "<font size = 3 color = black face = \"Times New Roman\">Then the minimizing $S$ yields is:\n",
    "$$\n",
    "S = \\sum[z_i - (a + bx_i+cy_i)]^2\\\\\n",
    "\\frac{\\partial S}{\\partial a}= - 2 \\sum[z_i - (a + bx_i+cy_i)] = 0\\\\\n",
    "\\frac{\\partial S}{\\partial b}= - 2 \\sum[z_i - (a + bx_i+cy_i)] x_i = 0\\\\\n",
    "\\frac{\\partial S}{\\partial c}= - 2 \\sum[z_i - (a + bx_i+cy_i)] y_i= 0\n",
    "$$\n",
    "<font size = 3 color = black face = \"Times New Roman\">Hence we are easy to know that\n",
    "$$\n",
    "\\begin{pmatrix}\n",
    "n && \\sum x_i && \\sum y_i\\\\\n",
    "\\sum x_i && \\sum x_i^2 && \\sum x_i y_i\\\\\n",
    "\\sum y_i && \\sum x_i y_i && \\sum y_i^2\\\\\n",
    "\\end{pmatrix}\n",
    "\\begin{pmatrix}\n",
    "a\\\\\n",
    "b\\\\\n",
    "c\\\\\n",
    "\\end{pmatrix}\n",
    "=\n",
    "\\begin{pmatrix}\n",
    "\\sum z_i\\\\\n",
    "\\sum x_i z_i\\\\\n",
    "\\sum y_i z_i\\\\\n",
    "\\end{pmatrix}\n",
    "$$"
   ]
  },
  {
   "cell_type": "markdown",
   "metadata": {},
   "source": [
    "#### Question 2\n"
   ]
  },
  {
   "cell_type": "markdown",
   "metadata": {},
   "source": [
    "<font size = 3 color = black face = \"Times New Roman\">Solve the problem as $Ax = b$"
   ]
  },
  {
   "cell_type": "code",
   "execution_count": 10,
   "metadata": {},
   "outputs": [],
   "source": [
    "# Define the data\n",
    "x = np.array([0,0,1,2,2,2])\n",
    "y = np.array([0,1,0,0,1,2])\n",
    "z = np.array([1.42,1.85,0.78,0.18,0.60,1.05])"
   ]
  },
  {
   "cell_type": "code",
   "execution_count": 11,
   "metadata": {},
   "outputs": [],
   "source": [
    "# Define matrix A.\n",
    "A = np.zeros((3,3))\n",
    "A[0][0] = len(x)\n",
    "A[1][1] = (x**2).sum()\n",
    "A[2][2] = (y**2).sum()\n",
    "A[0][1] = A[1][0] = x.sum()\n",
    "A[0][2] = A[2][0] = y.sum()\n",
    "A[1][2] = A[2][1] = (x*y).sum()"
   ]
  },
  {
   "cell_type": "code",
   "execution_count": 12,
   "metadata": {},
   "outputs": [],
   "source": [
    "# Define matrix b\n",
    "b_matrix = np.array([z.sum(), (x*z).sum(), (y*z).sum()])"
   ]
  },
  {
   "cell_type": "code",
   "execution_count": 13,
   "metadata": {},
   "outputs": [
    {
     "output_type": "stream",
     "name": "stdout",
     "text": "a = 1.4132558139534885\nb = 1.4132558139534885\nc = -0.6213953488372095\n"
    }
   ],
   "source": [
    "a_matrix = np.dot(np.linalg.inv(A),b_matrix)\n",
    "print(f'a = {a_matrix[0]}\\nb = {a_matrix[0]}\\nc = {a_matrix[1]}')"
   ]
  },
  {
   "cell_type": "markdown",
   "metadata": {},
   "source": [
    "<font size = 3 color = black face = \"Times New Roman\">Hence we have determined a,b,c."
   ]
  }
 ],
 "metadata": {
  "language_info": {
   "codemirror_mode": {
    "name": "ipython",
    "version": 3
   },
   "file_extension": ".py",
   "mimetype": "text/x-python",
   "name": "python",
   "nbconvert_exporter": "python",
   "pygments_lexer": "ipython3",
   "version": "3.7.4-final"
  },
  "orig_nbformat": 2,
  "kernelspec": {
   "name": "python3",
   "display_name": "Python 3"
  }
 },
 "nbformat": 4,
 "nbformat_minor": 2
}